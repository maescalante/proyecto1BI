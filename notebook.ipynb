{
 "cells": [
  {
   "cell_type": "markdown",
   "metadata": {},
   "source": [
    "# Importación de librerías \n",
    "\n",
    "En las siguientes líneas de código se importan las librerías y herramientas necesarias para desarrollar el caso de uso."
   ]
  },
  {
   "cell_type": "code",
   "execution_count": null,
   "metadata": {},
   "outputs": [],
   "source": [
    "!pip install nltk\n",
    "!pip install langdetect"
   ]
  },
  {
   "cell_type": "code",
   "execution_count": 1,
   "metadata": {},
   "outputs": [],
   "source": [
    "# Librerías para manejo de datos\n",
    "import pandas as pd\n",
    "pd.set_option('display.max_columns', 25) # Número máximo de columnas a mostrar\n",
    "pd.set_option('display.max_rows', 50) # Numero máximo de filas a mostar\n",
    "import numpy as np\n",
    "np.random.seed(3301)\n",
    "import re\n",
    "\n",
    "# visualizacion de resultados\n",
    "import seaborn as sns   \n",
    "from matplotlib import pyplot as plt\n",
    "\n",
    "# NLP\n",
    "import nltk\n",
    "from nltk.corpus import stopwords\n",
    "from nltk.stem import WordNetLemmatizer\n",
    "from langdetect import detect  #detects what language is written\n",
    "\n",
    "from sklearn.feature_extraction.text import CountVectorizer\n",
    "from sklearn.feature_extraction import text\n",
    "from sklearn.model_selection import GridSearchCV, train_test_split\n",
    "\n",
    "# modelos \n",
    "from sklearn.linear_model import LogisticRegression\n",
    "from sklearn.naive_bayes import GaussianNB\n",
    "from sklearn.neighbors import KNeighborsClassifier\n",
    "from sklearn.svm import SVC\n",
    "\n",
    "# Para evaluar el modelo\n",
    "from sklearn.metrics import precision_recall_fscore_support as score\n",
    "from sklearn.metrics import confusion_matrix, classification_report, precision_score, recall_score, f1_score, accuracy_score\n",
    "from sklearn.metrics import plot_confusion_matrix, recall_score \n",
    "\n",
    "import gc\n",
    "import warnings\n",
    "warnings.filterwarnings(\"ignore\")"
   ]
  },
  {
   "cell_type": "code",
   "execution_count": 2,
   "metadata": {},
   "outputs": [
    {
     "name": "stderr",
     "output_type": "stream",
     "text": [
      "[nltk_data] Downloading package stopwords to /home/juan/nltk_data...\n",
      "[nltk_data]   Package stopwords is already up-to-date!\n",
      "[nltk_data] Downloading package wordnet to /home/juan/nltk_data...\n",
      "[nltk_data]   Package wordnet is already up-to-date!\n"
     ]
    },
    {
     "data": {
      "text/plain": [
       "True"
      ]
     },
     "execution_count": 2,
     "metadata": {},
     "output_type": "execute_result"
    }
   ],
   "source": [
    "nltk.download('stopwords')\n",
    "nltk.download('wordnet')"
   ]
  },
  {
   "cell_type": "markdown",
   "metadata": {},
   "source": [
    "# Carga de los datos\n",
    "A través de la librería **pandas** podemos realizar la carga de datos desde diferentes fuentes de información, en este caso se realizará la carga de un archivo plano csv, mque contiene la informacion de los sentimientos relacionados con un tweet"
   ]
  },
  {
   "cell_type": "markdown",
   "metadata": {},
   "source": [
    "## Dataset tweets"
   ]
  },
  {
   "cell_type": "code",
   "execution_count": 3,
   "metadata": {
    "tags": []
   },
   "outputs": [],
   "source": [
    "# Se cargan los datos. \n",
    "df_tweets=pd.read_csv('./data/mbsa.csv', sep=',', encoding = 'utf-8', header=0)"
   ]
  },
  {
   "cell_type": "code",
   "execution_count": 4,
   "metadata": {},
   "outputs": [
    {
     "data": {
      "text/plain": [
       "(19344048, 3)"
      ]
     },
     "execution_count": 4,
     "metadata": {},
     "output_type": "execute_result"
    }
   ],
   "source": [
    "# Cantidad de datos y número de variables\n",
    "df_tweets.shape"
   ]
  },
  {
   "cell_type": "code",
   "execution_count": 5,
   "metadata": {},
   "outputs": [
    {
     "data": {
      "text/html": [
       "<div>\n",
       "<style scoped>\n",
       "    .dataframe tbody tr th:only-of-type {\n",
       "        vertical-align: middle;\n",
       "    }\n",
       "\n",
       "    .dataframe tbody tr th {\n",
       "        vertical-align: top;\n",
       "    }\n",
       "\n",
       "    .dataframe thead th {\n",
       "        text-align: right;\n",
       "    }\n",
       "</style>\n",
       "<table border=\"1\" class=\"dataframe\">\n",
       "  <thead>\n",
       "    <tr style=\"text-align: right;\">\n",
       "      <th></th>\n",
       "      <th>Date</th>\n",
       "      <th>text</th>\n",
       "      <th>Sentiment</th>\n",
       "    </tr>\n",
       "  </thead>\n",
       "  <tbody>\n",
       "    <tr>\n",
       "      <th>0</th>\n",
       "      <td>2019-05-27</td>\n",
       "      <td>È appena uscito un nuovo video! LES CRYPTOMONN...</td>\n",
       "      <td>Positive</td>\n",
       "    </tr>\n",
       "    <tr>\n",
       "      <th>1</th>\n",
       "      <td>2019-05-27</td>\n",
       "      <td>Cardano: Digitize Currencies; EOS https://t.co...</td>\n",
       "      <td>Positive</td>\n",
       "    </tr>\n",
       "    <tr>\n",
       "      <th>2</th>\n",
       "      <td>2019-05-27</td>\n",
       "      <td>Another Test tweet that wasn't caught in the s...</td>\n",
       "      <td>Positive</td>\n",
       "    </tr>\n",
       "    <tr>\n",
       "      <th>3</th>\n",
       "      <td>2019-05-27</td>\n",
       "      <td>Current Crypto Prices! \\n\\nBTC: $8721.99 USD\\n...</td>\n",
       "      <td>Positive</td>\n",
       "    </tr>\n",
       "    <tr>\n",
       "      <th>4</th>\n",
       "      <td>2019-05-27</td>\n",
       "      <td>Spiv (Nosar Baz): BITCOIN Is An Asset &amp;amp; NO...</td>\n",
       "      <td>Positive</td>\n",
       "    </tr>\n",
       "  </tbody>\n",
       "</table>\n",
       "</div>"
      ],
      "text/plain": [
       "         Date                                               text Sentiment\n",
       "0  2019-05-27  È appena uscito un nuovo video! LES CRYPTOMONN...  Positive\n",
       "1  2019-05-27  Cardano: Digitize Currencies; EOS https://t.co...  Positive\n",
       "2  2019-05-27  Another Test tweet that wasn't caught in the s...  Positive\n",
       "3  2019-05-27  Current Crypto Prices! \\n\\nBTC: $8721.99 USD\\n...  Positive\n",
       "4  2019-05-27  Spiv (Nosar Baz): BITCOIN Is An Asset &amp; NO...  Positive"
      ]
     },
     "execution_count": 5,
     "metadata": {},
     "output_type": "execute_result"
    }
   ],
   "source": [
    "# Mostrar los datos\n",
    "df_tweets.head()"
   ]
  },
  {
   "cell_type": "code",
   "execution_count": 6,
   "metadata": {},
   "outputs": [
    {
     "data": {
      "text/plain": [
       "Date         object\n",
       "text         object\n",
       "Sentiment    object\n",
       "dtype: object"
      ]
     },
     "execution_count": 6,
     "metadata": {},
     "output_type": "execute_result"
    }
   ],
   "source": [
    "# Podemos ver los tipos de todas la variables.\n",
    "df_tweets.dtypes"
   ]
  },
  {
   "cell_type": "code",
   "execution_count": 7,
   "metadata": {},
   "outputs": [
    {
     "data": {
      "text/plain": [
       "Negative    9729297\n",
       "Positive    8723207\n",
       "Neutral         400\n",
       "Name: Sentiment, dtype: int64"
      ]
     },
     "execution_count": 7,
     "metadata": {},
     "output_type": "execute_result"
    }
   ],
   "source": [
    "df_tweets[\"Sentiment\"].value_counts()"
   ]
  },
  {
   "cell_type": "markdown",
   "metadata": {},
   "source": [
    "## Dataset Precios Bitcoin\n",
    "dado que hay muy pocas muestras nuetrales, decidimos usar el dataset de precios de bitcoin para poder definir cuando hay un cambio positivo, cuando negativo y cuando neutral"
   ]
  },
  {
   "cell_type": "code",
   "execution_count": 8,
   "metadata": {},
   "outputs": [],
   "source": [
    "# Se cargan los datos. \n",
    "df_precios=pd.read_csv('./data/coin_Bitcoin.csv', sep=',', encoding = 'utf-8', header=0)"
   ]
  },
  {
   "cell_type": "code",
   "execution_count": 9,
   "metadata": {},
   "outputs": [
    {
     "data": {
      "text/plain": [
       "(2991, 10)"
      ]
     },
     "execution_count": 9,
     "metadata": {},
     "output_type": "execute_result"
    }
   ],
   "source": [
    "# Cantidad de datos y número de variables\n",
    "df_precios.shape"
   ]
  },
  {
   "cell_type": "code",
   "execution_count": 10,
   "metadata": {},
   "outputs": [
    {
     "data": {
      "text/html": [
       "<div>\n",
       "<style scoped>\n",
       "    .dataframe tbody tr th:only-of-type {\n",
       "        vertical-align: middle;\n",
       "    }\n",
       "\n",
       "    .dataframe tbody tr th {\n",
       "        vertical-align: top;\n",
       "    }\n",
       "\n",
       "    .dataframe thead th {\n",
       "        text-align: right;\n",
       "    }\n",
       "</style>\n",
       "<table border=\"1\" class=\"dataframe\">\n",
       "  <thead>\n",
       "    <tr style=\"text-align: right;\">\n",
       "      <th></th>\n",
       "      <th>SNo</th>\n",
       "      <th>Name</th>\n",
       "      <th>Symbol</th>\n",
       "      <th>Date</th>\n",
       "      <th>High</th>\n",
       "      <th>Low</th>\n",
       "      <th>Open</th>\n",
       "      <th>Close</th>\n",
       "      <th>Volume</th>\n",
       "      <th>Marketcap</th>\n",
       "    </tr>\n",
       "  </thead>\n",
       "  <tbody>\n",
       "    <tr>\n",
       "      <th>0</th>\n",
       "      <td>1</td>\n",
       "      <td>Bitcoin</td>\n",
       "      <td>BTC</td>\n",
       "      <td>2013-04-29 23:59:59</td>\n",
       "      <td>147.488007</td>\n",
       "      <td>134.000000</td>\n",
       "      <td>134.444000</td>\n",
       "      <td>144.539993</td>\n",
       "      <td>0.0</td>\n",
       "      <td>1.603769e+09</td>\n",
       "    </tr>\n",
       "    <tr>\n",
       "      <th>1</th>\n",
       "      <td>2</td>\n",
       "      <td>Bitcoin</td>\n",
       "      <td>BTC</td>\n",
       "      <td>2013-04-30 23:59:59</td>\n",
       "      <td>146.929993</td>\n",
       "      <td>134.050003</td>\n",
       "      <td>144.000000</td>\n",
       "      <td>139.000000</td>\n",
       "      <td>0.0</td>\n",
       "      <td>1.542813e+09</td>\n",
       "    </tr>\n",
       "    <tr>\n",
       "      <th>2</th>\n",
       "      <td>3</td>\n",
       "      <td>Bitcoin</td>\n",
       "      <td>BTC</td>\n",
       "      <td>2013-05-01 23:59:59</td>\n",
       "      <td>139.889999</td>\n",
       "      <td>107.720001</td>\n",
       "      <td>139.000000</td>\n",
       "      <td>116.989998</td>\n",
       "      <td>0.0</td>\n",
       "      <td>1.298955e+09</td>\n",
       "    </tr>\n",
       "    <tr>\n",
       "      <th>3</th>\n",
       "      <td>4</td>\n",
       "      <td>Bitcoin</td>\n",
       "      <td>BTC</td>\n",
       "      <td>2013-05-02 23:59:59</td>\n",
       "      <td>125.599998</td>\n",
       "      <td>92.281898</td>\n",
       "      <td>116.379997</td>\n",
       "      <td>105.209999</td>\n",
       "      <td>0.0</td>\n",
       "      <td>1.168517e+09</td>\n",
       "    </tr>\n",
       "    <tr>\n",
       "      <th>4</th>\n",
       "      <td>5</td>\n",
       "      <td>Bitcoin</td>\n",
       "      <td>BTC</td>\n",
       "      <td>2013-05-03 23:59:59</td>\n",
       "      <td>108.127998</td>\n",
       "      <td>79.099998</td>\n",
       "      <td>106.250000</td>\n",
       "      <td>97.750000</td>\n",
       "      <td>0.0</td>\n",
       "      <td>1.085995e+09</td>\n",
       "    </tr>\n",
       "  </tbody>\n",
       "</table>\n",
       "</div>"
      ],
      "text/plain": [
       "   SNo     Name Symbol                 Date        High         Low  \\\n",
       "0    1  Bitcoin    BTC  2013-04-29 23:59:59  147.488007  134.000000   \n",
       "1    2  Bitcoin    BTC  2013-04-30 23:59:59  146.929993  134.050003   \n",
       "2    3  Bitcoin    BTC  2013-05-01 23:59:59  139.889999  107.720001   \n",
       "3    4  Bitcoin    BTC  2013-05-02 23:59:59  125.599998   92.281898   \n",
       "4    5  Bitcoin    BTC  2013-05-03 23:59:59  108.127998   79.099998   \n",
       "\n",
       "         Open       Close  Volume     Marketcap  \n",
       "0  134.444000  144.539993     0.0  1.603769e+09  \n",
       "1  144.000000  139.000000     0.0  1.542813e+09  \n",
       "2  139.000000  116.989998     0.0  1.298955e+09  \n",
       "3  116.379997  105.209999     0.0  1.168517e+09  \n",
       "4  106.250000   97.750000     0.0  1.085995e+09  "
      ]
     },
     "execution_count": 10,
     "metadata": {},
     "output_type": "execute_result"
    }
   ],
   "source": [
    "# Mostrar los datos\n",
    "df_precios.head()"
   ]
  },
  {
   "cell_type": "code",
   "execution_count": 11,
   "metadata": {},
   "outputs": [
    {
     "data": {
      "text/plain": [
       "SNo            int64\n",
       "Name          object\n",
       "Symbol        object\n",
       "Date          object\n",
       "High         float64\n",
       "Low          float64\n",
       "Open         float64\n",
       "Close        float64\n",
       "Volume       float64\n",
       "Marketcap    float64\n",
       "dtype: object"
      ]
     },
     "execution_count": 11,
     "metadata": {},
     "output_type": "execute_result"
    }
   ],
   "source": [
    "# Podemos ver los tipos de todas la variables.\n",
    "df_precios.dtypes"
   ]
  },
  {
   "cell_type": "markdown",
   "metadata": {},
   "source": [
    "# Limpieza y preparación de los datos\n",
    "\n",
    "Primero vamos a ejecutar los pasos de limpieza de los datos, relacionados el tratamiento de ausencias y registros duplicados."
   ]
  },
  {
   "cell_type": "markdown",
   "metadata": {},
   "source": [
    "## Tweets"
   ]
  },
  {
   "cell_type": "code",
   "execution_count": 12,
   "metadata": {},
   "outputs": [],
   "source": [
    "# Es recomendable que todos los pasos de limpieza y preparación se realicen sobre otro archivo.\n",
    "df_tweets_l = df_tweets"
   ]
  },
  {
   "cell_type": "code",
   "execution_count": 13,
   "metadata": {},
   "outputs": [
    {
     "data": {
      "text/plain": [
       "Date              0\n",
       "text             16\n",
       "Sentiment    891144\n",
       "dtype: int64"
      ]
     },
     "execution_count": 13,
     "metadata": {},
     "output_type": "execute_result"
    }
   ],
   "source": [
    "# Se observa la cantidad de ausencias en los datos\n",
    "df_tweets_l.isnull().sum()"
   ]
  },
  {
   "cell_type": "code",
   "execution_count": 14,
   "metadata": {},
   "outputs": [],
   "source": [
    "# Eliminación registros con ausencias\n",
    "df_tweets_l = df_tweets_l.dropna()\n",
    "# Eliminación de registros duplicados.\n",
    "df_tweets_l = df_tweets_l.drop_duplicates()"
   ]
  },
  {
   "cell_type": "code",
   "execution_count": 15,
   "metadata": {},
   "outputs": [
    {
     "data": {
      "text/plain": [
       "(15803216, 3)"
      ]
     },
     "execution_count": 15,
     "metadata": {},
     "output_type": "execute_result"
    }
   ],
   "source": [
    "# Cantidad de datos y número de variables\n",
    "df_tweets_l.shape"
   ]
  },
  {
   "cell_type": "code",
   "execution_count": 16,
   "metadata": {},
   "outputs": [
    {
     "data": {
      "text/plain": [
       "Negative    8013795\n",
       "Positive    7789126\n",
       "Neutral         295\n",
       "Name: Sentiment, dtype: int64"
      ]
     },
     "execution_count": 16,
     "metadata": {},
     "output_type": "execute_result"
    }
   ],
   "source": [
    "df_tweets_l[\"Sentiment\"].value_counts()"
   ]
  },
  {
   "cell_type": "code",
   "execution_count": 17,
   "metadata": {},
   "outputs": [],
   "source": [
    "# Se realiza un procesamiento sobre el campo de la fecha, para que esta se encuentre en el formato correcto\n",
    "df_tweets_l[\"Date\"]=pd.to_datetime(df_tweets_l[\"Date\"], format='%Y-%m-%d', errors='coerce')"
   ]
  },
  {
   "cell_type": "code",
   "execution_count": 18,
   "metadata": {},
   "outputs": [
    {
     "data": {
      "text/plain": [
       "count                15803216\n",
       "unique                   1893\n",
       "top       2019-07-26 00:00:00\n",
       "freq                   174149\n",
       "first     2014-09-18 00:00:00\n",
       "last      2019-11-23 00:00:00\n",
       "Name: Date, dtype: object"
      ]
     },
     "execution_count": 18,
     "metadata": {},
     "output_type": "execute_result"
    }
   ],
   "source": [
    "df_tweets_l[\"Date\"].describe()"
   ]
  },
  {
   "cell_type": "code",
   "execution_count": 19,
   "metadata": {},
   "outputs": [],
   "source": [
    "df_tweets_l[\"text\"] = df_tweets_l['text'].str.normalize('NFKD').str.encode('ascii', errors='ignore').str.decode('utf-8')"
   ]
  },
  {
   "cell_type": "code",
   "execution_count": 20,
   "metadata": {},
   "outputs": [],
   "source": [
    "# se remueven los tweets que no tengan caracteres y se remplazan los links por la palabra link\n",
    "df_tweets_l = df_tweets_l[df_tweets_l.text.str.contains(r'^(?=.*[a-zA-Z])')]\n",
    "df_tweets_l[\"text\"] = df_tweets_l[\"text\"].str.replace('http[s]?://(?:[a-zA-Z]|[0-9]|[$-_@.&+]|[!*\\(\\),]|(?:%[0-9a-fA-F][0-9a-fA-F]))+', 'link', case=False)\n",
    "df_tweets_l[\"text\"] = df_tweets_l[\"text\"].str.replace('@[a-zA-Z]|[0-9]+', 'mentions ', case=False)\n",
    "\n",
    "df_tweets_l.drop(df_tweets_l[df_tweets_l.text==''].index, inplace=True)"
   ]
  },
  {
   "cell_type": "code",
   "execution_count": 21,
   "metadata": {},
   "outputs": [
    {
     "data": {
      "text/plain": [
       "(15216931, 3)"
      ]
     },
     "execution_count": 21,
     "metadata": {},
     "output_type": "execute_result"
    }
   ],
   "source": [
    "df_tweets_l.shape"
   ]
  },
  {
   "cell_type": "code",
   "execution_count": 22,
   "metadata": {},
   "outputs": [
    {
     "data": {
      "text/html": [
       "<div>\n",
       "<style scoped>\n",
       "    .dataframe tbody tr th:only-of-type {\n",
       "        vertical-align: middle;\n",
       "    }\n",
       "\n",
       "    .dataframe tbody tr th {\n",
       "        vertical-align: top;\n",
       "    }\n",
       "\n",
       "    .dataframe thead th {\n",
       "        text-align: right;\n",
       "    }\n",
       "</style>\n",
       "<table border=\"1\" class=\"dataframe\">\n",
       "  <thead>\n",
       "    <tr style=\"text-align: right;\">\n",
       "      <th></th>\n",
       "      <th>Date</th>\n",
       "      <th>text</th>\n",
       "      <th>Sentiment</th>\n",
       "    </tr>\n",
       "  </thead>\n",
       "  <tbody>\n",
       "    <tr>\n",
       "      <th>0</th>\n",
       "      <td>2019-05-27</td>\n",
       "      <td>E appena uscito un nuovo video! LES CRYPTOMONN...</td>\n",
       "      <td>Positive</td>\n",
       "    </tr>\n",
       "    <tr>\n",
       "      <th>1</th>\n",
       "      <td>2019-05-27</td>\n",
       "      <td>Cardano: Digitize Currencies; EOS link mention...</td>\n",
       "      <td>Positive</td>\n",
       "    </tr>\n",
       "    <tr>\n",
       "      <th>2</th>\n",
       "      <td>2019-05-27</td>\n",
       "      <td>Another Test tweet that wasn't caught in the s...</td>\n",
       "      <td>Positive</td>\n",
       "    </tr>\n",
       "    <tr>\n",
       "      <th>3</th>\n",
       "      <td>2019-05-27</td>\n",
       "      <td>Current Crypto Prices! \\n\\nBTC: $mentions .men...</td>\n",
       "      <td>Positive</td>\n",
       "    </tr>\n",
       "    <tr>\n",
       "      <th>4</th>\n",
       "      <td>2019-05-27</td>\n",
       "      <td>Spiv (Nosar Baz): BITCOIN Is An Asset &amp;amp; NO...</td>\n",
       "      <td>Positive</td>\n",
       "    </tr>\n",
       "    <tr>\n",
       "      <th>...</th>\n",
       "      <td>...</td>\n",
       "      <td>...</td>\n",
       "      <td>...</td>\n",
       "    </tr>\n",
       "    <tr>\n",
       "      <th>19344043</th>\n",
       "      <td>2019-11-23</td>\n",
       "      <td>Happy #FibonacciDay \\n\\nA while back I created...</td>\n",
       "      <td>Positive</td>\n",
       "    </tr>\n",
       "    <tr>\n",
       "      <th>19344044</th>\n",
       "      <td>2019-11-23</td>\n",
       "      <td>Bitcoin Suisse Certificates :) link</td>\n",
       "      <td>Positive</td>\n",
       "    </tr>\n",
       "    <tr>\n",
       "      <th>19344045</th>\n",
       "      <td>2019-11-23</td>\n",
       "      <td>Register now for the early access of the Codug...</td>\n",
       "      <td>Positive</td>\n",
       "    </tr>\n",
       "    <tr>\n",
       "      <th>19344046</th>\n",
       "      <td>2019-11-23</td>\n",
       "      <td>mentions tc \\nmentions tc \\nDo you know that B...</td>\n",
       "      <td>Positive</td>\n",
       "    </tr>\n",
       "    <tr>\n",
       "      <th>19344047</th>\n",
       "      <td>2019-11-23</td>\n",
       "      <td>$BTC - an update on the longer term view for B...</td>\n",
       "      <td>Positive</td>\n",
       "    </tr>\n",
       "  </tbody>\n",
       "</table>\n",
       "<p>15216931 rows × 3 columns</p>\n",
       "</div>"
      ],
      "text/plain": [
       "               Date                                               text  \\\n",
       "0        2019-05-27  E appena uscito un nuovo video! LES CRYPTOMONN...   \n",
       "1        2019-05-27  Cardano: Digitize Currencies; EOS link mention...   \n",
       "2        2019-05-27  Another Test tweet that wasn't caught in the s...   \n",
       "3        2019-05-27  Current Crypto Prices! \\n\\nBTC: $mentions .men...   \n",
       "4        2019-05-27  Spiv (Nosar Baz): BITCOIN Is An Asset &amp; NO...   \n",
       "...             ...                                                ...   \n",
       "19344043 2019-11-23  Happy #FibonacciDay \\n\\nA while back I created...   \n",
       "19344044 2019-11-23                Bitcoin Suisse Certificates :) link   \n",
       "19344045 2019-11-23  Register now for the early access of the Codug...   \n",
       "19344046 2019-11-23  mentions tc \\nmentions tc \\nDo you know that B...   \n",
       "19344047 2019-11-23  $BTC - an update on the longer term view for B...   \n",
       "\n",
       "         Sentiment  \n",
       "0         Positive  \n",
       "1         Positive  \n",
       "2         Positive  \n",
       "3         Positive  \n",
       "4         Positive  \n",
       "...            ...  \n",
       "19344043  Positive  \n",
       "19344044  Positive  \n",
       "19344045  Positive  \n",
       "19344046  Positive  \n",
       "19344047  Positive  \n",
       "\n",
       "[15216931 rows x 3 columns]"
      ]
     },
     "execution_count": 22,
     "metadata": {},
     "output_type": "execute_result"
    }
   ],
   "source": [
    "df_tweets_l"
   ]
  },
  {
   "cell_type": "markdown",
   "metadata": {},
   "source": [
    "## Precios"
   ]
  },
  {
   "cell_type": "code",
   "execution_count": 23,
   "metadata": {},
   "outputs": [],
   "source": [
    "# Es recomendable que todos los pasos de limpieza y preparación se realicen sobre otro archivo.\n",
    "df_precios_l = df_precios"
   ]
  },
  {
   "cell_type": "code",
   "execution_count": 24,
   "metadata": {},
   "outputs": [
    {
     "data": {
      "text/plain": [
       "SNo          0\n",
       "Name         0\n",
       "Symbol       0\n",
       "Date         0\n",
       "High         0\n",
       "Low          0\n",
       "Open         0\n",
       "Close        0\n",
       "Volume       0\n",
       "Marketcap    0\n",
       "dtype: int64"
      ]
     },
     "execution_count": 24,
     "metadata": {},
     "output_type": "execute_result"
    }
   ],
   "source": [
    "# Se observa la cantidad de ausencias en los datos\n",
    "df_precios_l.isnull().sum()"
   ]
  },
  {
   "cell_type": "code",
   "execution_count": 25,
   "metadata": {},
   "outputs": [],
   "source": [
    "# Se realiza un procesamiento sobre el campo de la fecha, para que esta se encuentre en el formato correcto\n",
    "df_precios_l[\"Date\"]=pd.to_datetime(df_precios_l[\"Date\"], format='%Y-%m-%d', errors='coerce').dt.date\n",
    "df_precios_l[\"Date\"]=pd.to_datetime(df_precios_l[\"Date\"], format='%Y-%m-%d', errors='coerce')"
   ]
  },
  {
   "cell_type": "code",
   "execution_count": 26,
   "metadata": {},
   "outputs": [
    {
     "data": {
      "text/plain": [
       "count                    2991\n",
       "unique                   2991\n",
       "top       2013-04-29 00:00:00\n",
       "freq                        1\n",
       "first     2013-04-29 00:00:00\n",
       "last      2021-07-06 00:00:00\n",
       "Name: Date, dtype: object"
      ]
     },
     "execution_count": 26,
     "metadata": {},
     "output_type": "execute_result"
    }
   ],
   "source": [
    "df_precios_l[\"Date\"].describe()"
   ]
  },
  {
   "cell_type": "code",
   "execution_count": 27,
   "metadata": {},
   "outputs": [],
   "source": [
    "# Se calcula la variación del día\n",
    "df_precios_l[\"Variacion\"]= df_precios_l[\"Close\"]-df_precios_l[\"Open\"]"
   ]
  },
  {
   "cell_type": "code",
   "execution_count": 28,
   "metadata": {},
   "outputs": [],
   "source": [
    "# Se eliminan las columnas que no son de interes para el modelo\n",
    "df_precios_l.drop([\"SNo\", \"Name\", \"Symbol\", \"High\", \"Low\", \"Open\", \"Close\", \"Volume\", \"Marketcap\"], axis=1,inplace=True)"
   ]
  },
  {
   "cell_type": "code",
   "execution_count": 29,
   "metadata": {},
   "outputs": [
    {
     "data": {
      "text/plain": [
       "Date         datetime64[ns]\n",
       "Variacion           float64\n",
       "dtype: object"
      ]
     },
     "execution_count": 29,
     "metadata": {},
     "output_type": "execute_result"
    }
   ],
   "source": [
    "df_precios_l.dtypes"
   ]
  },
  {
   "cell_type": "code",
   "execution_count": 30,
   "metadata": {},
   "outputs": [
    {
     "data": {
      "text/html": [
       "<div>\n",
       "<style scoped>\n",
       "    .dataframe tbody tr th:only-of-type {\n",
       "        vertical-align: middle;\n",
       "    }\n",
       "\n",
       "    .dataframe tbody tr th {\n",
       "        vertical-align: top;\n",
       "    }\n",
       "\n",
       "    .dataframe thead th {\n",
       "        text-align: right;\n",
       "    }\n",
       "</style>\n",
       "<table border=\"1\" class=\"dataframe\">\n",
       "  <thead>\n",
       "    <tr style=\"text-align: right;\">\n",
       "      <th></th>\n",
       "      <th>Date</th>\n",
       "      <th>Variacion</th>\n",
       "    </tr>\n",
       "  </thead>\n",
       "  <tbody>\n",
       "    <tr>\n",
       "      <th>0</th>\n",
       "      <td>2013-04-29</td>\n",
       "      <td>10.095993</td>\n",
       "    </tr>\n",
       "    <tr>\n",
       "      <th>1</th>\n",
       "      <td>2013-04-30</td>\n",
       "      <td>-5.000000</td>\n",
       "    </tr>\n",
       "    <tr>\n",
       "      <th>2</th>\n",
       "      <td>2013-05-01</td>\n",
       "      <td>-22.010002</td>\n",
       "    </tr>\n",
       "    <tr>\n",
       "      <th>3</th>\n",
       "      <td>2013-05-02</td>\n",
       "      <td>-11.169998</td>\n",
       "    </tr>\n",
       "    <tr>\n",
       "      <th>4</th>\n",
       "      <td>2013-05-03</td>\n",
       "      <td>-8.500000</td>\n",
       "    </tr>\n",
       "    <tr>\n",
       "      <th>...</th>\n",
       "      <td>...</td>\n",
       "      <td>...</td>\n",
       "    </tr>\n",
       "    <tr>\n",
       "      <th>2986</th>\n",
       "      <td>2021-07-02</td>\n",
       "      <td>347.448412</td>\n",
       "    </tr>\n",
       "    <tr>\n",
       "      <th>2987</th>\n",
       "      <td>2021-07-03</td>\n",
       "      <td>814.127040</td>\n",
       "    </tr>\n",
       "    <tr>\n",
       "      <th>2988</th>\n",
       "      <td>2021-07-04</td>\n",
       "      <td>622.214900</td>\n",
       "    </tr>\n",
       "    <tr>\n",
       "      <th>2989</th>\n",
       "      <td>2021-07-05</td>\n",
       "      <td>-1538.341974</td>\n",
       "    </tr>\n",
       "    <tr>\n",
       "      <th>2990</th>\n",
       "      <td>2021-07-06</td>\n",
       "      <td>511.683796</td>\n",
       "    </tr>\n",
       "  </tbody>\n",
       "</table>\n",
       "<p>2991 rows × 2 columns</p>\n",
       "</div>"
      ],
      "text/plain": [
       "           Date    Variacion\n",
       "0    2013-04-29    10.095993\n",
       "1    2013-04-30    -5.000000\n",
       "2    2013-05-01   -22.010002\n",
       "3    2013-05-02   -11.169998\n",
       "4    2013-05-03    -8.500000\n",
       "...         ...          ...\n",
       "2986 2021-07-02   347.448412\n",
       "2987 2021-07-03   814.127040\n",
       "2988 2021-07-04   622.214900\n",
       "2989 2021-07-05 -1538.341974\n",
       "2990 2021-07-06   511.683796\n",
       "\n",
       "[2991 rows x 2 columns]"
      ]
     },
     "execution_count": 30,
     "metadata": {},
     "output_type": "execute_result"
    }
   ],
   "source": [
    "df_precios_l"
   ]
  },
  {
   "cell_type": "markdown",
   "metadata": {},
   "source": [
    "## Union de datasets\n",
    "\n",
    "Ahora para la construcción de los datos de entrada se unen los 2 dataset utilizados con el objetivo de tener 3 muestras una para los tweets con efecto positivo otro con los tweets de efecto negativo, y finalmente una categoria con los tweets que no tuvieron influencia"
   ]
  },
  {
   "cell_type": "code",
   "execution_count": 31,
   "metadata": {},
   "outputs": [],
   "source": [
    "df_datos=df_tweets_l.merge(df_precios_l, left_on='Date', right_on='Date', how=\"left\")"
   ]
  },
  {
   "cell_type": "code",
   "execution_count": 32,
   "metadata": {},
   "outputs": [
    {
     "data": {
      "text/html": [
       "<div>\n",
       "<style scoped>\n",
       "    .dataframe tbody tr th:only-of-type {\n",
       "        vertical-align: middle;\n",
       "    }\n",
       "\n",
       "    .dataframe tbody tr th {\n",
       "        vertical-align: top;\n",
       "    }\n",
       "\n",
       "    .dataframe thead th {\n",
       "        text-align: right;\n",
       "    }\n",
       "</style>\n",
       "<table border=\"1\" class=\"dataframe\">\n",
       "  <thead>\n",
       "    <tr style=\"text-align: right;\">\n",
       "      <th></th>\n",
       "      <th>Date</th>\n",
       "      <th>text</th>\n",
       "      <th>Sentiment</th>\n",
       "      <th>Variacion</th>\n",
       "    </tr>\n",
       "  </thead>\n",
       "  <tbody>\n",
       "    <tr>\n",
       "      <th>0</th>\n",
       "      <td>2019-05-27</td>\n",
       "      <td>E appena uscito un nuovo video! LES CRYPTOMONN...</td>\n",
       "      <td>Positive</td>\n",
       "      <td>131.705973</td>\n",
       "    </tr>\n",
       "    <tr>\n",
       "      <th>1</th>\n",
       "      <td>2019-05-27</td>\n",
       "      <td>Cardano: Digitize Currencies; EOS link mention...</td>\n",
       "      <td>Positive</td>\n",
       "      <td>131.705973</td>\n",
       "    </tr>\n",
       "    <tr>\n",
       "      <th>2</th>\n",
       "      <td>2019-05-27</td>\n",
       "      <td>Another Test tweet that wasn't caught in the s...</td>\n",
       "      <td>Positive</td>\n",
       "      <td>131.705973</td>\n",
       "    </tr>\n",
       "    <tr>\n",
       "      <th>3</th>\n",
       "      <td>2019-05-27</td>\n",
       "      <td>Current Crypto Prices! \\n\\nBTC: $mentions .men...</td>\n",
       "      <td>Positive</td>\n",
       "      <td>131.705973</td>\n",
       "    </tr>\n",
       "    <tr>\n",
       "      <th>4</th>\n",
       "      <td>2019-05-27</td>\n",
       "      <td>Spiv (Nosar Baz): BITCOIN Is An Asset &amp;amp; NO...</td>\n",
       "      <td>Positive</td>\n",
       "      <td>131.705973</td>\n",
       "    </tr>\n",
       "  </tbody>\n",
       "</table>\n",
       "</div>"
      ],
      "text/plain": [
       "        Date                                               text Sentiment  \\\n",
       "0 2019-05-27  E appena uscito un nuovo video! LES CRYPTOMONN...  Positive   \n",
       "1 2019-05-27  Cardano: Digitize Currencies; EOS link mention...  Positive   \n",
       "2 2019-05-27  Another Test tweet that wasn't caught in the s...  Positive   \n",
       "3 2019-05-27  Current Crypto Prices! \\n\\nBTC: $mentions .men...  Positive   \n",
       "4 2019-05-27  Spiv (Nosar Baz): BITCOIN Is An Asset &amp; NO...  Positive   \n",
       "\n",
       "    Variacion  \n",
       "0  131.705973  \n",
       "1  131.705973  \n",
       "2  131.705973  \n",
       "3  131.705973  \n",
       "4  131.705973  "
      ]
     },
     "execution_count": 32,
     "metadata": {},
     "output_type": "execute_result"
    }
   ],
   "source": [
    "df_datos.head()"
   ]
  },
  {
   "cell_type": "code",
   "execution_count": 33,
   "metadata": {},
   "outputs": [
    {
     "data": {
      "text/html": [
       "<div>\n",
       "<style scoped>\n",
       "    .dataframe tbody tr th:only-of-type {\n",
       "        vertical-align: middle;\n",
       "    }\n",
       "\n",
       "    .dataframe tbody tr th {\n",
       "        vertical-align: top;\n",
       "    }\n",
       "\n",
       "    .dataframe thead th {\n",
       "        text-align: right;\n",
       "    }\n",
       "</style>\n",
       "<table border=\"1\" class=\"dataframe\">\n",
       "  <thead>\n",
       "    <tr style=\"text-align: right;\">\n",
       "      <th></th>\n",
       "      <th>Variacion</th>\n",
       "    </tr>\n",
       "  </thead>\n",
       "  <tbody>\n",
       "    <tr>\n",
       "      <th>count</th>\n",
       "      <td>1.521693e+07</td>\n",
       "    </tr>\n",
       "    <tr>\n",
       "      <th>mean</th>\n",
       "      <td>2.079974e+00</td>\n",
       "    </tr>\n",
       "    <tr>\n",
       "      <th>std</th>\n",
       "      <td>4.530644e+02</td>\n",
       "    </tr>\n",
       "    <tr>\n",
       "      <th>min</th>\n",
       "      <td>-2.345600e+03</td>\n",
       "    </tr>\n",
       "    <tr>\n",
       "      <th>25%</th>\n",
       "      <td>-1.763449e+02</td>\n",
       "    </tr>\n",
       "    <tr>\n",
       "      <th>50%</th>\n",
       "      <td>8.769989e-01</td>\n",
       "    </tr>\n",
       "    <tr>\n",
       "      <th>75%</th>\n",
       "      <td>1.896414e+02</td>\n",
       "    </tr>\n",
       "    <tr>\n",
       "      <th>max</th>\n",
       "      <td>3.633600e+03</td>\n",
       "    </tr>\n",
       "  </tbody>\n",
       "</table>\n",
       "</div>"
      ],
      "text/plain": [
       "          Variacion\n",
       "count  1.521693e+07\n",
       "mean   2.079974e+00\n",
       "std    4.530644e+02\n",
       "min   -2.345600e+03\n",
       "25%   -1.763449e+02\n",
       "50%    8.769989e-01\n",
       "75%    1.896414e+02\n",
       "max    3.633600e+03"
      ]
     },
     "execution_count": 33,
     "metadata": {},
     "output_type": "execute_result"
    }
   ],
   "source": [
    "df_datos.describe()"
   ]
  },
  {
   "cell_type": "code",
   "execution_count": 34,
   "metadata": {},
   "outputs": [],
   "source": [
    "percentile_positive=df_datos[\"Variacion\"].quantile(0.66)\n",
    "percentile_negative=df_datos[\"Variacion\"].quantile(0.33)"
   ]
  },
  {
   "cell_type": "code",
   "execution_count": 35,
   "metadata": {},
   "outputs": [],
   "source": [
    "df_datos.loc[df_datos[\"Variacion\"]>0, \"Influencia\"]= 1\n",
    "df_datos.loc[df_datos[\"Variacion\"]<=0, \"Influencia\"]= 0\n",
    "\n",
    "df_datos.loc[df_datos[\"Variacion\"]>percentile_positive, \"Influencia2\"]= 1\n",
    "df_datos.loc[df_datos[\"Variacion\"]<percentile_negative, \"Influencia2\"]= -1\n",
    "df_datos.loc[(df_datos[\"Variacion\"]>=percentile_negative) & (df_datos[\"Variacion\"]<=percentile_positive), \"Influencia2\"]= 0"
   ]
  },
  {
   "cell_type": "code",
   "execution_count": 36,
   "metadata": {},
   "outputs": [
    {
     "data": {
      "text/plain": [
       "1.0    7635326\n",
       "0.0    7581605\n",
       "Name: Influencia, dtype: int64"
      ]
     },
     "execution_count": 36,
     "metadata": {},
     "output_type": "execute_result"
    }
   ],
   "source": [
    "df_datos[\"Influencia\"].value_counts()"
   ]
  },
  {
   "cell_type": "code",
   "execution_count": 37,
   "metadata": {},
   "outputs": [
    {
     "data": {
      "image/png": "[encoded data removed]",
      "text/plain": [
       "<Figure size 720x360 with 1 Axes>"
      ]
     },
     "metadata": {
      "needs_background": "light"
     },
     "output_type": "display_data"
    }
   ],
   "source": [
    "data = [\"Influecia positiva\", \"Influencia negativa\"]\n",
    "values = [7635326, 7581605]\n",
    "\n",
    "fig = plt.figure(figsize = (10, 5))\n",
    " \n",
    "# creating the bar plot\n",
    "plt.bar(data, values, color ='maroon',width = 0.4)\n",
    " \n",
    "plt.title(\"Distribución datos\")\n",
    "plt.show()"
   ]
  },
  {
   "cell_type": "code",
   "execution_count": 38,
   "metadata": {},
   "outputs": [
    {
     "data": {
      "text/plain": [
       " 1.0    5117937\n",
       " 0.0    5080636\n",
       "-1.0    5018358\n",
       "Name: Influencia2, dtype: int64"
      ]
     },
     "execution_count": 38,
     "metadata": {},
     "output_type": "execute_result"
    }
   ],
   "source": [
    "df_datos[\"Influencia2\"].value_counts()"
   ]
  },
  {
   "cell_type": "code",
   "execution_count": 39,
   "metadata": {},
   "outputs": [
    {
     "data": {
      "image/png": "[encoded data removed]",
      "text/plain": [
       "<Figure size 720x360 with 1 Axes>"
      ]
     },
     "metadata": {
      "needs_background": "light"
     },
     "output_type": "display_data"
    }
   ],
   "source": [
    "data = [\"Influecia positiva\", \"Influencia nula\", \"Influencia negativa\"]\n",
    "values = [5117937, 5080636, 5018358]\n",
    "\n",
    "fig = plt.figure(figsize = (10, 5))\n",
    " \n",
    "# creating the bar plot\n",
    "plt.bar(data, values, color ='maroon',width = 0.4)\n",
    " \n",
    "plt.title(\"Distribución datos\")\n",
    "plt.show()"
   ]
  },
  {
   "cell_type": "code",
   "execution_count": 40,
   "metadata": {},
   "outputs": [],
   "source": [
    "df_datos.drop( [\"Date\",\"Sentiment\", \"Variacion\"],axis=1,inplace=True)"
   ]
  },
  {
   "cell_type": "code",
   "execution_count": 41,
   "metadata": {},
   "outputs": [
    {
     "data": {
      "text/html": [
       "<div>\n",
       "<style scoped>\n",
       "    .dataframe tbody tr th:only-of-type {\n",
       "        vertical-align: middle;\n",
       "    }\n",
       "\n",
       "    .dataframe tbody tr th {\n",
       "        vertical-align: top;\n",
       "    }\n",
       "\n",
       "    .dataframe thead th {\n",
       "        text-align: right;\n",
       "    }\n",
       "</style>\n",
       "<table border=\"1\" class=\"dataframe\">\n",
       "  <thead>\n",
       "    <tr style=\"text-align: right;\">\n",
       "      <th></th>\n",
       "      <th>text</th>\n",
       "      <th>Influencia</th>\n",
       "      <th>Influencia2</th>\n",
       "    </tr>\n",
       "  </thead>\n",
       "  <tbody>\n",
       "    <tr>\n",
       "      <th>0</th>\n",
       "      <td>E appena uscito un nuovo video! LES CRYPTOMONN...</td>\n",
       "      <td>1.0</td>\n",
       "      <td>1.0</td>\n",
       "    </tr>\n",
       "    <tr>\n",
       "      <th>1</th>\n",
       "      <td>Cardano: Digitize Currencies; EOS link mention...</td>\n",
       "      <td>1.0</td>\n",
       "      <td>1.0</td>\n",
       "    </tr>\n",
       "    <tr>\n",
       "      <th>2</th>\n",
       "      <td>Another Test tweet that wasn't caught in the s...</td>\n",
       "      <td>1.0</td>\n",
       "      <td>1.0</td>\n",
       "    </tr>\n",
       "    <tr>\n",
       "      <th>3</th>\n",
       "      <td>Current Crypto Prices! \\n\\nBTC: $mentions .men...</td>\n",
       "      <td>1.0</td>\n",
       "      <td>1.0</td>\n",
       "    </tr>\n",
       "    <tr>\n",
       "      <th>4</th>\n",
       "      <td>Spiv (Nosar Baz): BITCOIN Is An Asset &amp;amp; NO...</td>\n",
       "      <td>1.0</td>\n",
       "      <td>1.0</td>\n",
       "    </tr>\n",
       "  </tbody>\n",
       "</table>\n",
       "</div>"
      ],
      "text/plain": [
       "                                                text  Influencia  Influencia2\n",
       "0  E appena uscito un nuovo video! LES CRYPTOMONN...         1.0          1.0\n",
       "1  Cardano: Digitize Currencies; EOS link mention...         1.0          1.0\n",
       "2  Another Test tweet that wasn't caught in the s...         1.0          1.0\n",
       "3  Current Crypto Prices! \\n\\nBTC: $mentions .men...         1.0          1.0\n",
       "4  Spiv (Nosar Baz): BITCOIN Is An Asset &amp; NO...         1.0          1.0"
      ]
     },
     "execution_count": 41,
     "metadata": {},
     "output_type": "execute_result"
    }
   ],
   "source": [
    "df_datos.head()"
   ]
  },
  {
   "cell_type": "code",
   "execution_count": 43,
   "metadata": {},
   "outputs": [],
   "source": [
    "df_datos.to_csv('./data/df_datos.csv', index=False)"
   ]
  },
  {
   "cell_type": "code",
   "execution_count": 44,
   "metadata": {},
   "outputs": [],
   "source": [
    "# Se borran todos los dataframes creados anteriormente\n",
    "del df_tweets\n",
    "del df_tweets_l\n",
    "del df_precios\n",
    "del df_precios_l\n",
    "gc.collect()\n",
    "df_tweets=pd.DataFrame()\n",
    "df_tweets_l=pd.DataFrame()\n",
    "df_precios=pd.DataFrame()\n",
    "df_precios_l=pd.DataFrame()"
   ]
  },
  {
   "cell_type": "markdown",
   "metadata": {},
   "source": [
    "## preparación de los datos\n",
    "\n",
    "Dado que se tiene un modelo de NLP y que se está trabajando con tweets es una buena practica realizar un buen preparamiento de los datos que va a usar el modelo, primero se  se selecciona una muestra del conjunto de datos, esto dada la gran cantidad de datos con los que se cuenta en el dataset, es importante separar una muestra para realizar el entrenamiento dadas las capacidades fisicas de la maquina (Memoria RAM). Para un modelo de producción se tomarian todos los datos y se entrenarian en un entorno cloud."
   ]
  },
  {
   "cell_type": "code",
   "execution_count": 3,
   "metadata": {},
   "outputs": [],
   "source": [
    "# Se cargan los datos. \n",
    "df_datos=pd.read_csv('./data/df_datos.csv', sep=',', encoding = 'utf-8', header=0)"
   ]
  },
  {
   "cell_type": "code",
   "execution_count": 4,
   "metadata": {},
   "outputs": [],
   "source": [
    "# debido a la gran cantidad de datos para reducir tiempos de entrenamiento se toma una muestra significativa del total de datos\n",
    "df_datos_sample = df_datos.sample(20000)"
   ]
  },
  {
   "cell_type": "code",
   "execution_count": 5,
   "metadata": {},
   "outputs": [],
   "source": [
    "# se remueven los tweets que no estén en ingles\n",
    "df_datos_sample = df_datos_sample[df_datos_sample['text'].apply(lambda x: detect(x) == 'en')]"
   ]
  },
  {
   "cell_type": "code",
   "execution_count": 6,
   "metadata": {},
   "outputs": [
    {
     "data": {
      "text/plain": [
       "(14651, 3)"
      ]
     },
     "execution_count": 6,
     "metadata": {},
     "output_type": "execute_result"
    }
   ],
   "source": [
    "df_datos_sample.shape"
   ]
  },
  {
   "cell_type": "code",
   "execution_count": 7,
   "metadata": {},
   "outputs": [
    {
     "data": {
      "text/html": [
       "<div>\n",
       "<style scoped>\n",
       "    .dataframe tbody tr th:only-of-type {\n",
       "        vertical-align: middle;\n",
       "    }\n",
       "\n",
       "    .dataframe tbody tr th {\n",
       "        vertical-align: top;\n",
       "    }\n",
       "\n",
       "    .dataframe thead th {\n",
       "        text-align: right;\n",
       "    }\n",
       "</style>\n",
       "<table border=\"1\" class=\"dataframe\">\n",
       "  <thead>\n",
       "    <tr style=\"text-align: right;\">\n",
       "      <th></th>\n",
       "      <th>text</th>\n",
       "      <th>Influencia</th>\n",
       "      <th>Influencia2</th>\n",
       "    </tr>\n",
       "  </thead>\n",
       "  <tbody>\n",
       "    <tr>\n",
       "      <th>11771296</th>\n",
       "      <td>mentions ryptomanran mentions % decline in btc...</td>\n",
       "      <td>0.0</td>\n",
       "      <td>-1.0</td>\n",
       "    </tr>\n",
       "    <tr>\n",
       "      <th>10772412</th>\n",
       "      <td>mentions ointiplyFaucet WIN A MILLION Coins! T...</td>\n",
       "      <td>0.0</td>\n",
       "      <td>0.0</td>\n",
       "    </tr>\n",
       "    <tr>\n",
       "      <th>12682275</th>\n",
       "      <td>SwapZilla is a mass service, which includes re...</td>\n",
       "      <td>1.0</td>\n",
       "      <td>1.0</td>\n",
       "    </tr>\n",
       "    <tr>\n",
       "      <th>15086910</th>\n",
       "      <td>mentions izzyMsZ I dont know. The only profit ...</td>\n",
       "      <td>0.0</td>\n",
       "      <td>-1.0</td>\n",
       "    </tr>\n",
       "    <tr>\n",
       "      <th>3863596</th>\n",
       "      <td>#bitcoin Why Bitcoin's Bubble Matters  Wall St...</td>\n",
       "      <td>1.0</td>\n",
       "      <td>0.0</td>\n",
       "    </tr>\n",
       "    <tr>\n",
       "      <th>...</th>\n",
       "      <td>...</td>\n",
       "      <td>...</td>\n",
       "      <td>...</td>\n",
       "    </tr>\n",
       "    <tr>\n",
       "      <th>8963773</th>\n",
       "      <td>Hi! I've been using Coinbase which makes it re...</td>\n",
       "      <td>0.0</td>\n",
       "      <td>-1.0</td>\n",
       "    </tr>\n",
       "    <tr>\n",
       "      <th>4924365</th>\n",
       "      <td>Real Time Assurance and Disclosure for Digital...</td>\n",
       "      <td>1.0</td>\n",
       "      <td>1.0</td>\n",
       "    </tr>\n",
       "    <tr>\n",
       "      <th>6072306</th>\n",
       "      <td>$BNB has been very quiet lately.\\n\\nBTC pumps-...</td>\n",
       "      <td>0.0</td>\n",
       "      <td>-1.0</td>\n",
       "    </tr>\n",
       "    <tr>\n",
       "      <th>14235810</th>\n",
       "      <td>Awesome!\\n. &amp;gt;\\n. &amp;gt;\\n. &amp;gt;\\n#Lionheart #...</td>\n",
       "      <td>0.0</td>\n",
       "      <td>0.0</td>\n",
       "    </tr>\n",
       "    <tr>\n",
       "      <th>9778492</th>\n",
       "      <td>@_Kevin_Pham Yeah. Im curious to see what Szab...</td>\n",
       "      <td>0.0</td>\n",
       "      <td>-1.0</td>\n",
       "    </tr>\n",
       "  </tbody>\n",
       "</table>\n",
       "<p>14651 rows × 3 columns</p>\n",
       "</div>"
      ],
      "text/plain": [
       "                                                       text  Influencia  \\\n",
       "11771296  mentions ryptomanran mentions % decline in btc...         0.0   \n",
       "10772412  mentions ointiplyFaucet WIN A MILLION Coins! T...         0.0   \n",
       "12682275  SwapZilla is a mass service, which includes re...         1.0   \n",
       "15086910  mentions izzyMsZ I dont know. The only profit ...         0.0   \n",
       "3863596   #bitcoin Why Bitcoin's Bubble Matters  Wall St...         1.0   \n",
       "...                                                     ...         ...   \n",
       "8963773   Hi! I've been using Coinbase which makes it re...         0.0   \n",
       "4924365   Real Time Assurance and Disclosure for Digital...         1.0   \n",
       "6072306   $BNB has been very quiet lately.\\n\\nBTC pumps-...         0.0   \n",
       "14235810  Awesome!\\n. &gt;\\n. &gt;\\n. &gt;\\n#Lionheart #...         0.0   \n",
       "9778492   @_Kevin_Pham Yeah. Im curious to see what Szab...         0.0   \n",
       "\n",
       "          Influencia2  \n",
       "11771296         -1.0  \n",
       "10772412          0.0  \n",
       "12682275          1.0  \n",
       "15086910         -1.0  \n",
       "3863596           0.0  \n",
       "...               ...  \n",
       "8963773          -1.0  \n",
       "4924365           1.0  \n",
       "6072306          -1.0  \n",
       "14235810          0.0  \n",
       "9778492          -1.0  \n",
       "\n",
       "[14651 rows x 3 columns]"
      ]
     },
     "execution_count": 7,
     "metadata": {},
     "output_type": "execute_result"
    }
   ],
   "source": [
    "df_datos_sample"
   ]
  },
  {
   "cell_type": "code",
   "execution_count": 8,
   "metadata": {},
   "outputs": [],
   "source": [
    "df_datos_sample.to_csv('./data/df_datos_sample.csv', index=False)"
   ]
  },
  {
   "cell_type": "code",
   "execution_count": 9,
   "metadata": {},
   "outputs": [],
   "source": [
    "# Se borran todos los dataframes creados anteriormente\n",
    "del df_datos\n",
    "gc.collect()\n",
    "df_datos=pd.DataFrame()"
   ]
  },
  {
   "cell_type": "code",
   "execution_count": 10,
   "metadata": {},
   "outputs": [
    {
     "data": {
      "text/plain": [
       "1.0    7336\n",
       "0.0    7315\n",
       "Name: Influencia, dtype: int64"
      ]
     },
     "execution_count": 10,
     "metadata": {},
     "output_type": "execute_result"
    }
   ],
   "source": [
    "df_datos_sample[\"Influencia\"].value_counts()"
   ]
  },
  {
   "cell_type": "code",
   "execution_count": 11,
   "metadata": {},
   "outputs": [
    {
     "data": {
      "text/plain": [
       "-1.0    4973\n",
       " 1.0    4954\n",
       " 0.0    4724\n",
       "Name: Influencia2, dtype: int64"
      ]
     },
     "execution_count": 11,
     "metadata": {},
     "output_type": "execute_result"
    }
   ],
   "source": [
    "df_datos_sample[\"Influencia2\"].value_counts()"
   ]
  },
  {
   "cell_type": "code",
   "execution_count": 12,
   "metadata": {},
   "outputs": [],
   "source": [
    "# A list of contractions from http://stackoverflow.com/questions/19790188/expanding-english-language-contractions-in-python\n",
    "contractions = { \n",
    "\"ain't\": \"am not\",\n",
    "\"aren't\": \"are not\",\n",
    "\"can't\": \"cannot\",\n",
    "\"can't've\": \"cannot have\",\n",
    "\"'cause\": \"because\",\n",
    "\"could've\": \"could have\",\n",
    "\"couldn't\": \"could not\",\n",
    "\"couldn't've\": \"could not have\",\n",
    "\"didn't\": \"did not\",\n",
    "\"doesn't\": \"does not\",\n",
    "\"don't\": \"do not\",\n",
    "\"hadn't\": \"had not\",\n",
    "\"hadn't've\": \"had not have\",\n",
    "\"hasn't\": \"has not\",\n",
    "\"haven't\": \"have not\",\n",
    "\"he'd\": \"he would\",\n",
    "\"he'd've\": \"he would have\",\n",
    "\"he'll\": \"he will\",\n",
    "\"he's\": \"he is\",\n",
    "\"how'd\": \"how did\",\n",
    "\"how'll\": \"how will\",\n",
    "\"how's\": \"how is\",\n",
    "\"i'd\": \"i would\",\n",
    "\"i'll\": \"i will\",\n",
    "\"i'm\": \"i am\",\n",
    "\"i've\": \"i have\",\n",
    "\"isn't\": \"is not\",\n",
    "\"it'd\": \"it would\",\n",
    "\"it'll\": \"it will\",\n",
    "\"it's\": \"it is\",\n",
    "\"let's\": \"let us\",\n",
    "\"ma'am\": \"madam\",\n",
    "\"mayn't\": \"may not\",\n",
    "\"might've\": \"might have\",\n",
    "\"mightn't\": \"might not\",\n",
    "\"must've\": \"must have\",\n",
    "\"mustn't\": \"must not\",\n",
    "\"needn't\": \"need not\",\n",
    "\"oughtn't\": \"ought not\",\n",
    "\"shan't\": \"shall not\",\n",
    "\"sha'n't\": \"shall not\",\n",
    "\"she'd\": \"she would\",\n",
    "\"she'll\": \"she will\",\n",
    "\"she's\": \"she is\",\n",
    "\"should've\": \"should have\",\n",
    "\"shouldn't\": \"should not\",\n",
    "\"that'd\": \"that would\",\n",
    "\"that's\": \"that is\",\n",
    "\"there'd\": \"there had\",\n",
    "\"there's\": \"there is\",\n",
    "\"they'd\": \"they would\",\n",
    "\"they'll\": \"they will\",\n",
    "\"they're\": \"they are\",\n",
    "\"they've\": \"they have\",\n",
    "\"wasn't\": \"was not\",\n",
    "\"we'd\": \"we would\",\n",
    "\"we'll\": \"we will\",\n",
    "\"we're\": \"we are\",\n",
    "\"we've\": \"we have\",\n",
    "\"weren't\": \"were not\",\n",
    "\"what'll\": \"what will\",\n",
    "\"what're\": \"what are\",\n",
    "\"what's\": \"what is\",\n",
    "\"what've\": \"what have\",\n",
    "\"where'd\": \"where did\",\n",
    "\"where's\": \"where is\",\n",
    "\"who'll\": \"who will\",\n",
    "\"who's\": \"who is\",\n",
    "\"won't\": \"will not\",\n",
    "\"wouldn't\": \"would not\",\n",
    "\"you'd\": \"you would\",\n",
    "\"you'll\": \"you will\",\n",
    "\"you're\": \"you are\"\n",
    "}"
   ]
  },
  {
   "cell_type": "markdown",
   "metadata": {},
   "source": [
    "### Limpieza de texto\n",
    "\n",
    "Luego de tener seleccionada la muestra de los datos se pasa a realizar una limpieza de los textos, en esta limpieza se eliminan caracteres no deseados y se formatea el texto para crear menos word embeddings, luego el texto limpio se pasa a tokenizar."
   ]
  },
  {
   "cell_type": "code",
   "execution_count": 13,
   "metadata": {},
   "outputs": [],
   "source": [
    "def clean_text(text_p, remove_stopwords = True):\n",
    "    \"\"\"\n",
    "    Remove unwanted characters, stopwords, and format the text to create fewer nulls word embeddings\n",
    "    \"\"\"\n",
    "    \n",
    "    # Convert words to lower case\n",
    "    cleaned_t = text_p.lower()\n",
    "    \n",
    "    # Replace contractions with their longer forms \n",
    "    if True:\n",
    "        cleaned_t = cleaned_t.split()\n",
    "        new_text = []\n",
    "        for word in cleaned_t:\n",
    "            if word in contractions:\n",
    "                new_text.append(contractions[word])\n",
    "            else:\n",
    "                new_text.append(word)\n",
    "        cleaned_t = \" \".join(new_text)\n",
    "    \n",
    "    # Format words and remove unwanted characters\n",
    "    cleaned_t = re.sub(r'https?:\\/\\/.*[\\r\\n]*', '', cleaned_t, flags=re.MULTILINE)\n",
    "    cleaned_t = re.sub(r'\\<a href', ' ', cleaned_t)\n",
    "    cleaned_t = re.sub(r'&amp;', '', cleaned_t) \n",
    "    cleaned_t = re.sub(r'[_\"\\-;%()|+&=*%.,!?:#$@\\[\\]/]', ' ', cleaned_t)\n",
    "    cleaned_t = re.sub(r'<br />', ' ', cleaned_t)\n",
    "    cleaned_t = re.sub(r'\\'', ' ', cleaned_t)\n",
    "    \n",
    "    # remove stop words\n",
    "    if remove_stopwords:\n",
    "        cleaned_t = cleaned_t.split()\n",
    "        stops = set(stopwords.words(\"english\"))\n",
    "        cleaned_t = [w for w in cleaned_t if not w in stops]\n",
    "        cleaned_t = \" \".join(cleaned_t)\n",
    "\n",
    "    # Tokenize each word\n",
    "    cleaned_t =  nltk.WordPunctTokenizer().tokenize(cleaned_t)\n",
    "        \n",
    "    return cleaned_t"
   ]
  },
  {
   "cell_type": "code",
   "execution_count": 14,
   "metadata": {},
   "outputs": [],
   "source": [
    "df_datos_sample['text_cleaned'] = list(map(clean_text, df_datos_sample.text))"
   ]
  },
  {
   "cell_type": "code",
   "execution_count": 15,
   "metadata": {},
   "outputs": [
    {
     "data": {
      "text/html": [
       "<div>\n",
       "<style scoped>\n",
       "    .dataframe tbody tr th:only-of-type {\n",
       "        vertical-align: middle;\n",
       "    }\n",
       "\n",
       "    .dataframe tbody tr th {\n",
       "        vertical-align: top;\n",
       "    }\n",
       "\n",
       "    .dataframe thead th {\n",
       "        text-align: right;\n",
       "    }\n",
       "</style>\n",
       "<table border=\"1\" class=\"dataframe\">\n",
       "  <thead>\n",
       "    <tr style=\"text-align: right;\">\n",
       "      <th></th>\n",
       "      <th>text</th>\n",
       "      <th>Influencia</th>\n",
       "      <th>Influencia2</th>\n",
       "      <th>text_cleaned</th>\n",
       "    </tr>\n",
       "  </thead>\n",
       "  <tbody>\n",
       "    <tr>\n",
       "      <th>7848469</th>\n",
       "      <td>Earn $Ftm (July mentions  - mentions  August)\\n\\nhurry !\\n\\nlink\\n\\n$btc $eth $xlm $xrp $bch link</td>\n",
       "      <td>0.0</td>\n",
       "      <td>-1.0</td>\n",
       "      <td>[earn, ftm, july, mentions, mentions, august, hurry, link, btc, eth, xlm, xrp, bch, link]</td>\n",
       "    </tr>\n",
       "    <tr>\n",
       "      <th>13468041</th>\n",
       "      <td>mentions elevantPeter #bitcoin today. Bring it on. Ill keep stacking all the way down and back up again. No problem  link</td>\n",
       "      <td>0.0</td>\n",
       "      <td>-1.0</td>\n",
       "      <td>[mentions, elevantpeter, bitcoin, today, bring, ill, keep, stacking, way, back, problem, link]</td>\n",
       "    </tr>\n",
       "    <tr>\n",
       "      <th>13930698</th>\n",
       "      <td>mentions eterMcCormack Twitter is a private company.... they can do what they like. Bitcoin solves this</td>\n",
       "      <td>0.0</td>\n",
       "      <td>0.0</td>\n",
       "      <td>[mentions, etermccormack, twitter, private, company, like, bitcoin, solves]</td>\n",
       "    </tr>\n",
       "  </tbody>\n",
       "</table>\n",
       "</div>"
      ],
      "text/plain": [
       "                                                                                                                               text  \\\n",
       "7848469                           Earn $Ftm (July mentions  - mentions  August)\\n\\nhurry !\\n\\nlink\\n\\n$btc $eth $xlm $xrp $bch link   \n",
       "13468041  mentions elevantPeter #bitcoin today. Bring it on. Ill keep stacking all the way down and back up again. No problem  link   \n",
       "13930698                    mentions eterMcCormack Twitter is a private company.... they can do what they like. Bitcoin solves this   \n",
       "\n",
       "          Influencia  Influencia2  \\\n",
       "7848469          0.0         -1.0   \n",
       "13468041         0.0         -1.0   \n",
       "13930698         0.0          0.0   \n",
       "\n",
       "                                                                                            text_cleaned  \n",
       "7848469        [earn, ftm, july, mentions, mentions, august, hurry, link, btc, eth, xlm, xrp, bch, link]  \n",
       "13468041  [mentions, elevantpeter, bitcoin, today, bring, ill, keep, stacking, way, back, problem, link]  \n",
       "13930698                     [mentions, etermccormack, twitter, private, company, like, bitcoin, solves]  "
      ]
     },
     "execution_count": 15,
     "metadata": {},
     "output_type": "execute_result"
    }
   ],
   "source": [
    "pd.set_option('max_colwidth', 500)\n",
    "df_datos_sample.sample(3)"
   ]
  },
  {
   "cell_type": "markdown",
   "metadata": {},
   "source": [
    "### Feature encoding \n",
    "\n",
    "Finalmente como paso final de la preparación de los datos es necesario transformar los textos a numeros para que estos textos puedan ser interpretados por nuestro modelo."
   ]
  },
  {
   "cell_type": "code",
   "execution_count": 16,
   "metadata": {},
   "outputs": [],
   "source": [
    "training_data, test_data = train_test_split(df_datos_sample, train_size = 0.7, random_state=42)"
   ]
  },
  {
   "cell_type": "code",
   "execution_count": 17,
   "metadata": {},
   "outputs": [],
   "source": [
    "y_tr = training_data['Influencia']\n",
    "y_te = test_data['Influencia']"
   ]
  },
  {
   "cell_type": "code",
   "execution_count": 18,
   "metadata": {},
   "outputs": [
    {
     "name": "stdout",
     "output_type": "stream",
     "text": [
      "(10255, 4)\n",
      "(4396, 4)\n"
     ]
    }
   ],
   "source": [
    "print(training_data.shape)\n",
    "print(test_data.shape)"
   ]
  },
  {
   "cell_type": "markdown",
   "metadata": {},
   "source": [
    "#### Bag of words\n",
    "\n",
    "Es una tecnica usada para representar las palabras, esta tecnica esta basada en las estadisticas relacionadas con la ocurrencia de cada palabra, dado que solo representa la palabra, la representación no tendra en cuenta el contexto. Para solucionar esto se usa una tecnica conocida como Bag of n-Grams que permite representar una secuencia de n tokens, logrando asi capturar parte del contexto en el que se encuentra la palabra "
   ]
  },
  {
   "cell_type": "code",
   "execution_count": 19,
   "metadata": {},
   "outputs": [],
   "source": [
    "bow_converter = CountVectorizer(tokenizer=lambda doc: doc, lowercase=False)\n",
    "x = bow_converter.fit_transform(df_datos_sample['text_cleaned'])\n",
    "words = bow_converter.get_feature_names()"
   ]
  },
  {
   "cell_type": "code",
   "execution_count": 20,
   "metadata": {},
   "outputs": [],
   "source": [
    "bigram_converter = CountVectorizer(tokenizer=lambda doc: doc, ngram_range=[2,2], lowercase=False) \n",
    "x2 = bigram_converter.fit_transform(df_datos_sample['text_cleaned'])\n",
    "bigrams = bigram_converter.get_feature_names()"
   ]
  },
  {
   "cell_type": "code",
   "execution_count": 21,
   "metadata": {},
   "outputs": [],
   "source": [
    "trigram_converter = CountVectorizer(tokenizer=lambda doc: doc, ngram_range=[3,3], lowercase=False) \n",
    "x3 = trigram_converter.fit_transform(df_datos_sample['text_cleaned'])\n",
    "trigrams = trigram_converter.get_feature_names()"
   ]
  },
  {
   "cell_type": "code",
   "execution_count": 22,
   "metadata": {},
   "outputs": [
    {
     "data": {
      "image/png": "[encoded data removed]",
      "text/plain": [
       "<Figure size 432x288 with 1 Axes>"
      ]
     },
     "metadata": {},
     "output_type": "display_data"
    }
   ],
   "source": [
    "sns.set_style(\"white\")\n",
    "counts = [len(words), len(bigrams), len(trigrams)]\n",
    "plt.plot(counts, color='blue')\n",
    "plt.plot(counts, 'bo')\n",
    "#plt.margins(0.1)\n",
    "plt.ticklabel_format(style = 'plain')\n",
    "plt.xticks(range(3), ['unigram', 'bigram', 'trigram'])\n",
    "plt.tick_params(labelsize=14)\n",
    "plt.title('Number of ngrams ', {'fontsize':16})\n",
    "plt.show()"
   ]
  },
  {
   "cell_type": "code",
   "execution_count": 23,
   "metadata": {},
   "outputs": [],
   "source": [
    "bow_transform = CountVectorizer(tokenizer=lambda doc: doc, ngram_range=[3,3], lowercase=False)"
   ]
  },
  {
   "cell_type": "code",
   "execution_count": 24,
   "metadata": {},
   "outputs": [],
   "source": [
    "X_tr_bow = bow_transform.fit_transform(training_data['text_cleaned'])"
   ]
  },
  {
   "cell_type": "code",
   "execution_count": 25,
   "metadata": {},
   "outputs": [
    {
     "data": {
      "text/plain": [
       "113422"
      ]
     },
     "execution_count": 25,
     "metadata": {},
     "output_type": "execute_result"
    }
   ],
   "source": [
    "len(bow_transform.vocabulary_)"
   ]
  },
  {
   "cell_type": "code",
   "execution_count": 26,
   "metadata": {},
   "outputs": [
    {
     "data": {
      "text/plain": [
       "(10255, 113422)"
      ]
     },
     "execution_count": 26,
     "metadata": {},
     "output_type": "execute_result"
    }
   ],
   "source": [
    "X_tr_bow.shape"
   ]
  },
  {
   "cell_type": "code",
   "execution_count": 27,
   "metadata": {},
   "outputs": [],
   "source": [
    "X_te_bow = bow_transform.transform(test_data['text_cleaned'])"
   ]
  },
  {
   "cell_type": "markdown",
   "metadata": {
    "tags": []
   },
   "source": [
    "#### Tf-Idf"
   ]
  },
  {
   "cell_type": "code",
   "execution_count": 28,
   "metadata": {},
   "outputs": [],
   "source": [
    "tfidf_transform = text.TfidfTransformer(norm=None)\n",
    "X_tr_tfidf = tfidf_transform.fit_transform(X_tr_bow)"
   ]
  },
  {
   "cell_type": "code",
   "execution_count": 29,
   "metadata": {},
   "outputs": [],
   "source": [
    "X_te_tfidf = tfidf_transform.transform(X_te_bow)"
   ]
  },
  {
   "cell_type": "markdown",
   "metadata": {},
   "source": [
    "# Modelo"
   ]
  },
  {
   "cell_type": "code",
   "execution_count": 47,
   "metadata": {},
   "outputs": [],
   "source": [
    "# se crea un dataframe en el que se guardan los resultados de los modelos\n",
    "df_results = pd.DataFrame()"
   ]
  },
  {
   "cell_type": "markdown",
   "metadata": {},
   "source": [
    "## knn"
   ]
  },
  {
   "cell_type": "code",
   "execution_count": 48,
   "metadata": {
    "tags": []
   },
   "outputs": [
    {
     "name": "stdout",
     "output_type": "stream",
     "text": [
      "Fitting 5 folds for each of 32 candidates, totalling 160 fits\n"
     ]
    },
    {
     "name": "stderr",
     "output_type": "stream",
     "text": [
      "/home/juan/.pyenv/versions/3.8.9/envs/universidad/lib/python3.8/site-packages/sklearn/neighbors/_base.py:501: UserWarning: cannot use tree with sparse input: using brute force\n",
      "  warnings.warn(\"cannot use tree with sparse input: using brute force\")\n",
      "/home/juan/.pyenv/versions/3.8.9/envs/universidad/lib/python3.8/site-packages/sklearn/neighbors/_base.py:501: UserWarning: cannot use tree with sparse input: using brute force\n",
      "  warnings.warn(\"cannot use tree with sparse input: using brute force\")\n",
      "/home/juan/.pyenv/versions/3.8.9/envs/universidad/lib/python3.8/site-packages/sklearn/neighbors/_base.py:501: UserWarning: cannot use tree with sparse input: using brute force\n",
      "  warnings.warn(\"cannot use tree with sparse input: using brute force\")\n",
      "/home/juan/.pyenv/versions/3.8.9/envs/universidad/lib/python3.8/site-packages/sklearn/neighbors/_base.py:501: UserWarning: cannot use tree with sparse input: using brute force\n",
      "  warnings.warn(\"cannot use tree with sparse input: using brute force\")\n",
      "/home/juan/.pyenv/versions/3.8.9/envs/universidad/lib/python3.8/site-packages/sklearn/neighbors/_base.py:501: UserWarning: cannot use tree with sparse input: using brute force\n",
      "  warnings.warn(\"cannot use tree with sparse input: using brute force\")\n",
      "/home/juan/.pyenv/versions/3.8.9/envs/universidad/lib/python3.8/site-packages/sklearn/neighbors/_base.py:501: UserWarning: cannot use tree with sparse input: using brute force\n",
      "  warnings.warn(\"cannot use tree with sparse input: using brute force\")\n",
      "/home/juan/.pyenv/versions/3.8.9/envs/universidad/lib/python3.8/site-packages/sklearn/neighbors/_base.py:501: UserWarning: cannot use tree with sparse input: using brute force\n",
      "  warnings.warn(\"cannot use tree with sparse input: using brute force\")\n",
      "/home/juan/.pyenv/versions/3.8.9/envs/universidad/lib/python3.8/site-packages/sklearn/neighbors/_base.py:501: UserWarning: cannot use tree with sparse input: using brute force\n",
      "  warnings.warn(\"cannot use tree with sparse input: using brute force\")\n",
      "/home/juan/.pyenv/versions/3.8.9/envs/universidad/lib/python3.8/site-packages/sklearn/neighbors/_base.py:501: UserWarning: cannot use tree with sparse input: using brute force\n",
      "  warnings.warn(\"cannot use tree with sparse input: using brute force\")\n",
      "/home/juan/.pyenv/versions/3.8.9/envs/universidad/lib/python3.8/site-packages/sklearn/neighbors/_base.py:501: UserWarning: cannot use tree with sparse input: using brute force\n",
      "  warnings.warn(\"cannot use tree with sparse input: using brute force\")\n",
      "/home/juan/.pyenv/versions/3.8.9/envs/universidad/lib/python3.8/site-packages/sklearn/neighbors/_base.py:501: UserWarning: cannot use tree with sparse input: using brute force\n",
      "  warnings.warn(\"cannot use tree with sparse input: using brute force\")\n",
      "/home/juan/.pyenv/versions/3.8.9/envs/universidad/lib/python3.8/site-packages/sklearn/neighbors/_base.py:501: UserWarning: cannot use tree with sparse input: using brute force\n",
      "  warnings.warn(\"cannot use tree with sparse input: using brute force\")\n",
      "/home/juan/.pyenv/versions/3.8.9/envs/universidad/lib/python3.8/site-packages/sklearn/neighbors/_base.py:501: UserWarning: cannot use tree with sparse input: using brute force\n",
      "  warnings.warn(\"cannot use tree with sparse input: using brute force\")\n",
      "/home/juan/.pyenv/versions/3.8.9/envs/universidad/lib/python3.8/site-packages/sklearn/neighbors/_base.py:501: UserWarning: cannot use tree with sparse input: using brute force\n",
      "  warnings.warn(\"cannot use tree with sparse input: using brute force\")\n",
      "/home/juan/.pyenv/versions/3.8.9/envs/universidad/lib/python3.8/site-packages/sklearn/neighbors/_base.py:501: UserWarning: cannot use tree with sparse input: using brute force\n",
      "  warnings.warn(\"cannot use tree with sparse input: using brute force\")\n",
      "/home/juan/.pyenv/versions/3.8.9/envs/universidad/lib/python3.8/site-packages/sklearn/neighbors/_base.py:501: UserWarning: cannot use tree with sparse input: using brute force\n",
      "  warnings.warn(\"cannot use tree with sparse input: using brute force\")\n",
      "/home/juan/.pyenv/versions/3.8.9/envs/universidad/lib/python3.8/site-packages/sklearn/neighbors/_base.py:501: UserWarning: cannot use tree with sparse input: using brute force\n",
      "  warnings.warn(\"cannot use tree with sparse input: using brute force\")\n",
      "/home/juan/.pyenv/versions/3.8.9/envs/universidad/lib/python3.8/site-packages/sklearn/neighbors/_base.py:501: UserWarning: cannot use tree with sparse input: using brute force\n",
      "  warnings.warn(\"cannot use tree with sparse input: using brute force\")\n",
      "/home/juan/.pyenv/versions/3.8.9/envs/universidad/lib/python3.8/site-packages/sklearn/neighbors/_base.py:501: UserWarning: cannot use tree with sparse input: using brute force\n",
      "  warnings.warn(\"cannot use tree with sparse input: using brute force\")\n",
      "/home/juan/.pyenv/versions/3.8.9/envs/universidad/lib/python3.8/site-packages/sklearn/neighbors/_base.py:501: UserWarning: cannot use tree with sparse input: using brute force\n",
      "  warnings.warn(\"cannot use tree with sparse input: using brute force\")\n",
      "/home/juan/.pyenv/versions/3.8.9/envs/universidad/lib/python3.8/site-packages/sklearn/neighbors/_base.py:501: UserWarning: cannot use tree with sparse input: using brute force\n",
      "  warnings.warn(\"cannot use tree with sparse input: using brute force\")\n",
      "/home/juan/.pyenv/versions/3.8.9/envs/universidad/lib/python3.8/site-packages/sklearn/neighbors/_base.py:501: UserWarning: cannot use tree with sparse input: using brute force\n",
      "  warnings.warn(\"cannot use tree with sparse input: using brute force\")\n",
      "/home/juan/.pyenv/versions/3.8.9/envs/universidad/lib/python3.8/site-packages/sklearn/neighbors/_base.py:501: UserWarning: cannot use tree with sparse input: using brute force\n",
      "  warnings.warn(\"cannot use tree with sparse input: using brute force\")\n",
      "/home/juan/.pyenv/versions/3.8.9/envs/universidad/lib/python3.8/site-packages/sklearn/neighbors/_base.py:501: UserWarning: cannot use tree with sparse input: using brute force\n",
      "  warnings.warn(\"cannot use tree with sparse input: using brute force\")\n",
      "/home/juan/.pyenv/versions/3.8.9/envs/universidad/lib/python3.8/site-packages/sklearn/neighbors/_base.py:501: UserWarning: cannot use tree with sparse input: using brute force\n",
      "  warnings.warn(\"cannot use tree with sparse input: using brute force\")\n",
      "/home/juan/.pyenv/versions/3.8.9/envs/universidad/lib/python3.8/site-packages/sklearn/neighbors/_base.py:501: UserWarning: cannot use tree with sparse input: using brute force\n",
      "  warnings.warn(\"cannot use tree with sparse input: using brute force\")\n",
      "/home/juan/.pyenv/versions/3.8.9/envs/universidad/lib/python3.8/site-packages/sklearn/neighbors/_base.py:501: UserWarning: cannot use tree with sparse input: using brute force\n",
      "  warnings.warn(\"cannot use tree with sparse input: using brute force\")\n",
      "/home/juan/.pyenv/versions/3.8.9/envs/universidad/lib/python3.8/site-packages/sklearn/neighbors/_base.py:501: UserWarning: cannot use tree with sparse input: using brute force\n",
      "  warnings.warn(\"cannot use tree with sparse input: using brute force\")\n",
      "/home/juan/.pyenv/versions/3.8.9/envs/universidad/lib/python3.8/site-packages/sklearn/neighbors/_base.py:501: UserWarning: cannot use tree with sparse input: using brute force\n",
      "  warnings.warn(\"cannot use tree with sparse input: using brute force\")\n",
      "/home/juan/.pyenv/versions/3.8.9/envs/universidad/lib/python3.8/site-packages/sklearn/neighbors/_base.py:501: UserWarning: cannot use tree with sparse input: using brute force\n",
      "  warnings.warn(\"cannot use tree with sparse input: using brute force\")\n",
      "/home/juan/.pyenv/versions/3.8.9/envs/universidad/lib/python3.8/site-packages/sklearn/neighbors/_base.py:501: UserWarning: cannot use tree with sparse input: using brute force\n",
      "  warnings.warn(\"cannot use tree with sparse input: using brute force\")\n",
      "/home/juan/.pyenv/versions/3.8.9/envs/universidad/lib/python3.8/site-packages/sklearn/neighbors/_base.py:501: UserWarning: cannot use tree with sparse input: using brute force\n",
      "  warnings.warn(\"cannot use tree with sparse input: using brute force\")\n",
      "/home/juan/.pyenv/versions/3.8.9/envs/universidad/lib/python3.8/site-packages/sklearn/neighbors/_base.py:501: UserWarning: cannot use tree with sparse input: using brute force\n",
      "  warnings.warn(\"cannot use tree with sparse input: using brute force\")\n",
      "/home/juan/.pyenv/versions/3.8.9/envs/universidad/lib/python3.8/site-packages/sklearn/neighbors/_base.py:501: UserWarning: cannot use tree with sparse input: using brute force\n",
      "  warnings.warn(\"cannot use tree with sparse input: using brute force\")\n",
      "/home/juan/.pyenv/versions/3.8.9/envs/universidad/lib/python3.8/site-packages/sklearn/neighbors/_base.py:501: UserWarning: cannot use tree with sparse input: using brute force\n",
      "  warnings.warn(\"cannot use tree with sparse input: using brute force\")\n",
      "/home/juan/.pyenv/versions/3.8.9/envs/universidad/lib/python3.8/site-packages/sklearn/neighbors/_base.py:501: UserWarning: cannot use tree with sparse input: using brute force\n",
      "  warnings.warn(\"cannot use tree with sparse input: using brute force\")\n",
      "/home/juan/.pyenv/versions/3.8.9/envs/universidad/lib/python3.8/site-packages/sklearn/neighbors/_base.py:501: UserWarning: cannot use tree with sparse input: using brute force\n",
      "  warnings.warn(\"cannot use tree with sparse input: using brute force\")\n",
      "/home/juan/.pyenv/versions/3.8.9/envs/universidad/lib/python3.8/site-packages/sklearn/neighbors/_base.py:501: UserWarning: cannot use tree with sparse input: using brute force\n",
      "  warnings.warn(\"cannot use tree with sparse input: using brute force\")\n",
      "/home/juan/.pyenv/versions/3.8.9/envs/universidad/lib/python3.8/site-packages/sklearn/neighbors/_base.py:501: UserWarning: cannot use tree with sparse input: using brute force\n",
      "  warnings.warn(\"cannot use tree with sparse input: using brute force\")\n",
      "/home/juan/.pyenv/versions/3.8.9/envs/universidad/lib/python3.8/site-packages/sklearn/neighbors/_base.py:501: UserWarning: cannot use tree with sparse input: using brute force\n",
      "  warnings.warn(\"cannot use tree with sparse input: using brute force\")\n",
      "/home/juan/.pyenv/versions/3.8.9/envs/universidad/lib/python3.8/site-packages/sklearn/neighbors/_base.py:501: UserWarning: cannot use tree with sparse input: using brute force\n",
      "  warnings.warn(\"cannot use tree with sparse input: using brute force\")\n",
      "/home/juan/.pyenv/versions/3.8.9/envs/universidad/lib/python3.8/site-packages/sklearn/neighbors/_base.py:501: UserWarning: cannot use tree with sparse input: using brute force\n",
      "  warnings.warn(\"cannot use tree with sparse input: using brute force\")\n",
      "/home/juan/.pyenv/versions/3.8.9/envs/universidad/lib/python3.8/site-packages/sklearn/neighbors/_base.py:501: UserWarning: cannot use tree with sparse input: using brute force\n",
      "  warnings.warn(\"cannot use tree with sparse input: using brute force\")\n",
      "/home/juan/.pyenv/versions/3.8.9/envs/universidad/lib/python3.8/site-packages/sklearn/neighbors/_base.py:501: UserWarning: cannot use tree with sparse input: using brute force\n",
      "  warnings.warn(\"cannot use tree with sparse input: using brute force\")\n",
      "/home/juan/.pyenv/versions/3.8.9/envs/universidad/lib/python3.8/site-packages/sklearn/neighbors/_base.py:501: UserWarning: cannot use tree with sparse input: using brute force\n",
      "  warnings.warn(\"cannot use tree with sparse input: using brute force\")\n",
      "/home/juan/.pyenv/versions/3.8.9/envs/universidad/lib/python3.8/site-packages/sklearn/neighbors/_base.py:501: UserWarning: cannot use tree with sparse input: using brute force\n",
      "  warnings.warn(\"cannot use tree with sparse input: using brute force\")\n",
      "/home/juan/.pyenv/versions/3.8.9/envs/universidad/lib/python3.8/site-packages/sklearn/neighbors/_base.py:501: UserWarning: cannot use tree with sparse input: using brute force\n",
      "  warnings.warn(\"cannot use tree with sparse input: using brute force\")\n",
      "/home/juan/.pyenv/versions/3.8.9/envs/universidad/lib/python3.8/site-packages/sklearn/neighbors/_base.py:501: UserWarning: cannot use tree with sparse input: using brute force\n",
      "  warnings.warn(\"cannot use tree with sparse input: using brute force\")\n",
      "/home/juan/.pyenv/versions/3.8.9/envs/universidad/lib/python3.8/site-packages/sklearn/neighbors/_base.py:501: UserWarning: cannot use tree with sparse input: using brute force\n",
      "  warnings.warn(\"cannot use tree with sparse input: using brute force\")\n",
      "/home/juan/.pyenv/versions/3.8.9/envs/universidad/lib/python3.8/site-packages/sklearn/neighbors/_base.py:501: UserWarning: cannot use tree with sparse input: using brute force\n",
      "  warnings.warn(\"cannot use tree with sparse input: using brute force\")\n",
      "/home/juan/.pyenv/versions/3.8.9/envs/universidad/lib/python3.8/site-packages/sklearn/neighbors/_base.py:501: UserWarning: cannot use tree with sparse input: using brute force\n",
      "  warnings.warn(\"cannot use tree with sparse input: using brute force\")\n",
      "/home/juan/.pyenv/versions/3.8.9/envs/universidad/lib/python3.8/site-packages/sklearn/neighbors/_base.py:501: UserWarning: cannot use tree with sparse input: using brute force\n",
      "  warnings.warn(\"cannot use tree with sparse input: using brute force\")\n",
      "/home/juan/.pyenv/versions/3.8.9/envs/universidad/lib/python3.8/site-packages/sklearn/neighbors/_base.py:501: UserWarning: cannot use tree with sparse input: using brute force\n",
      "  warnings.warn(\"cannot use tree with sparse input: using brute force\")\n",
      "/home/juan/.pyenv/versions/3.8.9/envs/universidad/lib/python3.8/site-packages/sklearn/neighbors/_base.py:501: UserWarning: cannot use tree with sparse input: using brute force\n",
      "  warnings.warn(\"cannot use tree with sparse input: using brute force\")\n",
      "/home/juan/.pyenv/versions/3.8.9/envs/universidad/lib/python3.8/site-packages/sklearn/neighbors/_base.py:501: UserWarning: cannot use tree with sparse input: using brute force\n",
      "  warnings.warn(\"cannot use tree with sparse input: using brute force\")\n",
      "/home/juan/.pyenv/versions/3.8.9/envs/universidad/lib/python3.8/site-packages/sklearn/neighbors/_base.py:501: UserWarning: cannot use tree with sparse input: using brute force\n",
      "  warnings.warn(\"cannot use tree with sparse input: using brute force\")\n",
      "/home/juan/.pyenv/versions/3.8.9/envs/universidad/lib/python3.8/site-packages/sklearn/neighbors/_base.py:501: UserWarning: cannot use tree with sparse input: using brute force\n",
      "  warnings.warn(\"cannot use tree with sparse input: using brute force\")\n",
      "/home/juan/.pyenv/versions/3.8.9/envs/universidad/lib/python3.8/site-packages/sklearn/neighbors/_base.py:501: UserWarning: cannot use tree with sparse input: using brute force\n",
      "  warnings.warn(\"cannot use tree with sparse input: using brute force\")\n",
      "/home/juan/.pyenv/versions/3.8.9/envs/universidad/lib/python3.8/site-packages/sklearn/neighbors/_base.py:501: UserWarning: cannot use tree with sparse input: using brute force\n",
      "  warnings.warn(\"cannot use tree with sparse input: using brute force\")\n",
      "/home/juan/.pyenv/versions/3.8.9/envs/universidad/lib/python3.8/site-packages/sklearn/neighbors/_base.py:501: UserWarning: cannot use tree with sparse input: using brute force\n",
      "  warnings.warn(\"cannot use tree with sparse input: using brute force\")\n",
      "/home/juan/.pyenv/versions/3.8.9/envs/universidad/lib/python3.8/site-packages/sklearn/neighbors/_base.py:501: UserWarning: cannot use tree with sparse input: using brute force\n",
      "  warnings.warn(\"cannot use tree with sparse input: using brute force\")\n",
      "/home/juan/.pyenv/versions/3.8.9/envs/universidad/lib/python3.8/site-packages/sklearn/neighbors/_base.py:501: UserWarning: cannot use tree with sparse input: using brute force\n",
      "  warnings.warn(\"cannot use tree with sparse input: using brute force\")\n",
      "/home/juan/.pyenv/versions/3.8.9/envs/universidad/lib/python3.8/site-packages/sklearn/neighbors/_base.py:501: UserWarning: cannot use tree with sparse input: using brute force\n",
      "  warnings.warn(\"cannot use tree with sparse input: using brute force\")\n",
      "/home/juan/.pyenv/versions/3.8.9/envs/universidad/lib/python3.8/site-packages/sklearn/neighbors/_base.py:501: UserWarning: cannot use tree with sparse input: using brute force\n",
      "  warnings.warn(\"cannot use tree with sparse input: using brute force\")\n",
      "/home/juan/.pyenv/versions/3.8.9/envs/universidad/lib/python3.8/site-packages/sklearn/neighbors/_base.py:501: UserWarning: cannot use tree with sparse input: using brute force\n",
      "  warnings.warn(\"cannot use tree with sparse input: using brute force\")\n",
      "/home/juan/.pyenv/versions/3.8.9/envs/universidad/lib/python3.8/site-packages/sklearn/neighbors/_base.py:501: UserWarning: cannot use tree with sparse input: using brute force\n",
      "  warnings.warn(\"cannot use tree with sparse input: using brute force\")\n",
      "/home/juan/.pyenv/versions/3.8.9/envs/universidad/lib/python3.8/site-packages/sklearn/neighbors/_base.py:501: UserWarning: cannot use tree with sparse input: using brute force\n",
      "  warnings.warn(\"cannot use tree with sparse input: using brute force\")\n",
      "/home/juan/.pyenv/versions/3.8.9/envs/universidad/lib/python3.8/site-packages/sklearn/neighbors/_base.py:501: UserWarning: cannot use tree with sparse input: using brute force\n",
      "  warnings.warn(\"cannot use tree with sparse input: using brute force\")\n",
      "/home/juan/.pyenv/versions/3.8.9/envs/universidad/lib/python3.8/site-packages/sklearn/neighbors/_base.py:501: UserWarning: cannot use tree with sparse input: using brute force\n",
      "  warnings.warn(\"cannot use tree with sparse input: using brute force\")\n",
      "/home/juan/.pyenv/versions/3.8.9/envs/universidad/lib/python3.8/site-packages/sklearn/neighbors/_base.py:501: UserWarning: cannot use tree with sparse input: using brute force\n",
      "  warnings.warn(\"cannot use tree with sparse input: using brute force\")\n",
      "/home/juan/.pyenv/versions/3.8.9/envs/universidad/lib/python3.8/site-packages/sklearn/neighbors/_base.py:501: UserWarning: cannot use tree with sparse input: using brute force\n",
      "  warnings.warn(\"cannot use tree with sparse input: using brute force\")\n",
      "/home/juan/.pyenv/versions/3.8.9/envs/universidad/lib/python3.8/site-packages/sklearn/neighbors/_base.py:501: UserWarning: cannot use tree with sparse input: using brute force\n",
      "  warnings.warn(\"cannot use tree with sparse input: using brute force\")\n",
      "/home/juan/.pyenv/versions/3.8.9/envs/universidad/lib/python3.8/site-packages/sklearn/neighbors/_base.py:501: UserWarning: cannot use tree with sparse input: using brute force\n",
      "  warnings.warn(\"cannot use tree with sparse input: using brute force\")\n",
      "/home/juan/.pyenv/versions/3.8.9/envs/universidad/lib/python3.8/site-packages/sklearn/neighbors/_base.py:501: UserWarning: cannot use tree with sparse input: using brute force\n",
      "  warnings.warn(\"cannot use tree with sparse input: using brute force\")\n",
      "/home/juan/.pyenv/versions/3.8.9/envs/universidad/lib/python3.8/site-packages/sklearn/neighbors/_base.py:501: UserWarning: cannot use tree with sparse input: using brute force\n",
      "  warnings.warn(\"cannot use tree with sparse input: using brute force\")\n",
      "/home/juan/.pyenv/versions/3.8.9/envs/universidad/lib/python3.8/site-packages/sklearn/neighbors/_base.py:501: UserWarning: cannot use tree with sparse input: using brute force\n",
      "  warnings.warn(\"cannot use tree with sparse input: using brute force\")\n",
      "/home/juan/.pyenv/versions/3.8.9/envs/universidad/lib/python3.8/site-packages/sklearn/neighbors/_base.py:501: UserWarning: cannot use tree with sparse input: using brute force\n",
      "  warnings.warn(\"cannot use tree with sparse input: using brute force\")\n",
      "/home/juan/.pyenv/versions/3.8.9/envs/universidad/lib/python3.8/site-packages/sklearn/neighbors/_base.py:501: UserWarning: cannot use tree with sparse input: using brute force\n",
      "  warnings.warn(\"cannot use tree with sparse input: using brute force\")\n",
      "/home/juan/.pyenv/versions/3.8.9/envs/universidad/lib/python3.8/site-packages/sklearn/neighbors/_base.py:501: UserWarning: cannot use tree with sparse input: using brute force\n",
      "  warnings.warn(\"cannot use tree with sparse input: using brute force\")\n",
      "/home/juan/.pyenv/versions/3.8.9/envs/universidad/lib/python3.8/site-packages/sklearn/neighbors/_base.py:501: UserWarning: cannot use tree with sparse input: using brute force\n",
      "  warnings.warn(\"cannot use tree with sparse input: using brute force\")\n",
      "/home/juan/.pyenv/versions/3.8.9/envs/universidad/lib/python3.8/site-packages/sklearn/neighbors/_base.py:501: UserWarning: cannot use tree with sparse input: using brute force\n",
      "  warnings.warn(\"cannot use tree with sparse input: using brute force\")\n",
      "/home/juan/.pyenv/versions/3.8.9/envs/universidad/lib/python3.8/site-packages/sklearn/neighbors/_base.py:501: UserWarning: cannot use tree with sparse input: using brute force\n",
      "  warnings.warn(\"cannot use tree with sparse input: using brute force\")\n",
      "/home/juan/.pyenv/versions/3.8.9/envs/universidad/lib/python3.8/site-packages/sklearn/neighbors/_base.py:501: UserWarning: cannot use tree with sparse input: using brute force\n",
      "  warnings.warn(\"cannot use tree with sparse input: using brute force\")\n",
      "/home/juan/.pyenv/versions/3.8.9/envs/universidad/lib/python3.8/site-packages/sklearn/neighbors/_base.py:501: UserWarning: cannot use tree with sparse input: using brute force\n",
      "  warnings.warn(\"cannot use tree with sparse input: using brute force\")\n",
      "/home/juan/.pyenv/versions/3.8.9/envs/universidad/lib/python3.8/site-packages/sklearn/neighbors/_base.py:501: UserWarning: cannot use tree with sparse input: using brute force\n",
      "  warnings.warn(\"cannot use tree with sparse input: using brute force\")\n",
      "/home/juan/.pyenv/versions/3.8.9/envs/universidad/lib/python3.8/site-packages/sklearn/neighbors/_base.py:501: UserWarning: cannot use tree with sparse input: using brute force\n",
      "  warnings.warn(\"cannot use tree with sparse input: using brute force\")\n",
      "/home/juan/.pyenv/versions/3.8.9/envs/universidad/lib/python3.8/site-packages/sklearn/neighbors/_base.py:501: UserWarning: cannot use tree with sparse input: using brute force\n",
      "  warnings.warn(\"cannot use tree with sparse input: using brute force\")\n",
      "/home/juan/.pyenv/versions/3.8.9/envs/universidad/lib/python3.8/site-packages/sklearn/neighbors/_base.py:501: UserWarning: cannot use tree with sparse input: using brute force\n",
      "  warnings.warn(\"cannot use tree with sparse input: using brute force\")\n",
      "/home/juan/.pyenv/versions/3.8.9/envs/universidad/lib/python3.8/site-packages/sklearn/neighbors/_base.py:501: UserWarning: cannot use tree with sparse input: using brute force\n",
      "  warnings.warn(\"cannot use tree with sparse input: using brute force\")\n",
      "/home/juan/.pyenv/versions/3.8.9/envs/universidad/lib/python3.8/site-packages/sklearn/neighbors/_base.py:501: UserWarning: cannot use tree with sparse input: using brute force\n",
      "  warnings.warn(\"cannot use tree with sparse input: using brute force\")\n",
      "/home/juan/.pyenv/versions/3.8.9/envs/universidad/lib/python3.8/site-packages/sklearn/neighbors/_base.py:501: UserWarning: cannot use tree with sparse input: using brute force\n",
      "  warnings.warn(\"cannot use tree with sparse input: using brute force\")\n",
      "/home/juan/.pyenv/versions/3.8.9/envs/universidad/lib/python3.8/site-packages/sklearn/neighbors/_base.py:501: UserWarning: cannot use tree with sparse input: using brute force\n",
      "  warnings.warn(\"cannot use tree with sparse input: using brute force\")\n",
      "/home/juan/.pyenv/versions/3.8.9/envs/universidad/lib/python3.8/site-packages/sklearn/neighbors/_base.py:501: UserWarning: cannot use tree with sparse input: using brute force\n",
      "  warnings.warn(\"cannot use tree with sparse input: using brute force\")\n",
      "/home/juan/.pyenv/versions/3.8.9/envs/universidad/lib/python3.8/site-packages/sklearn/neighbors/_base.py:501: UserWarning: cannot use tree with sparse input: using brute force\n",
      "  warnings.warn(\"cannot use tree with sparse input: using brute force\")\n",
      "/home/juan/.pyenv/versions/3.8.9/envs/universidad/lib/python3.8/site-packages/sklearn/neighbors/_base.py:501: UserWarning: cannot use tree with sparse input: using brute force\n",
      "  warnings.warn(\"cannot use tree with sparse input: using brute force\")\n",
      "/home/juan/.pyenv/versions/3.8.9/envs/universidad/lib/python3.8/site-packages/sklearn/neighbors/_base.py:501: UserWarning: cannot use tree with sparse input: using brute force\n",
      "  warnings.warn(\"cannot use tree with sparse input: using brute force\")\n",
      "/home/juan/.pyenv/versions/3.8.9/envs/universidad/lib/python3.8/site-packages/sklearn/neighbors/_base.py:501: UserWarning: cannot use tree with sparse input: using brute force\n",
      "  warnings.warn(\"cannot use tree with sparse input: using brute force\")\n",
      "/home/juan/.pyenv/versions/3.8.9/envs/universidad/lib/python3.8/site-packages/sklearn/neighbors/_base.py:501: UserWarning: cannot use tree with sparse input: using brute force\n",
      "  warnings.warn(\"cannot use tree with sparse input: using brute force\")\n",
      "/home/juan/.pyenv/versions/3.8.9/envs/universidad/lib/python3.8/site-packages/sklearn/neighbors/_base.py:501: UserWarning: cannot use tree with sparse input: using brute force\n",
      "  warnings.warn(\"cannot use tree with sparse input: using brute force\")\n",
      "/home/juan/.pyenv/versions/3.8.9/envs/universidad/lib/python3.8/site-packages/sklearn/neighbors/_base.py:501: UserWarning: cannot use tree with sparse input: using brute force\n",
      "  warnings.warn(\"cannot use tree with sparse input: using brute force\")\n",
      "/home/juan/.pyenv/versions/3.8.9/envs/universidad/lib/python3.8/site-packages/sklearn/neighbors/_base.py:501: UserWarning: cannot use tree with sparse input: using brute force\n",
      "  warnings.warn(\"cannot use tree with sparse input: using brute force\")\n",
      "/home/juan/.pyenv/versions/3.8.9/envs/universidad/lib/python3.8/site-packages/sklearn/neighbors/_base.py:501: UserWarning: cannot use tree with sparse input: using brute force\n",
      "  warnings.warn(\"cannot use tree with sparse input: using brute force\")\n",
      "/home/juan/.pyenv/versions/3.8.9/envs/universidad/lib/python3.8/site-packages/sklearn/neighbors/_base.py:501: UserWarning: cannot use tree with sparse input: using brute force\n",
      "  warnings.warn(\"cannot use tree with sparse input: using brute force\")\n",
      "/home/juan/.pyenv/versions/3.8.9/envs/universidad/lib/python3.8/site-packages/sklearn/neighbors/_base.py:501: UserWarning: cannot use tree with sparse input: using brute force\n",
      "  warnings.warn(\"cannot use tree with sparse input: using brute force\")\n",
      "/home/juan/.pyenv/versions/3.8.9/envs/universidad/lib/python3.8/site-packages/sklearn/neighbors/_base.py:501: UserWarning: cannot use tree with sparse input: using brute force\n",
      "  warnings.warn(\"cannot use tree with sparse input: using brute force\")\n",
      "/home/juan/.pyenv/versions/3.8.9/envs/universidad/lib/python3.8/site-packages/sklearn/neighbors/_base.py:501: UserWarning: cannot use tree with sparse input: using brute force\n",
      "  warnings.warn(\"cannot use tree with sparse input: using brute force\")\n",
      "/home/juan/.pyenv/versions/3.8.9/envs/universidad/lib/python3.8/site-packages/sklearn/neighbors/_base.py:501: UserWarning: cannot use tree with sparse input: using brute force\n",
      "  warnings.warn(\"cannot use tree with sparse input: using brute force\")\n",
      "/home/juan/.pyenv/versions/3.8.9/envs/universidad/lib/python3.8/site-packages/sklearn/neighbors/_base.py:501: UserWarning: cannot use tree with sparse input: using brute force\n",
      "  warnings.warn(\"cannot use tree with sparse input: using brute force\")\n",
      "/home/juan/.pyenv/versions/3.8.9/envs/universidad/lib/python3.8/site-packages/sklearn/neighbors/_base.py:501: UserWarning: cannot use tree with sparse input: using brute force\n",
      "  warnings.warn(\"cannot use tree with sparse input: using brute force\")\n",
      "/home/juan/.pyenv/versions/3.8.9/envs/universidad/lib/python3.8/site-packages/sklearn/neighbors/_base.py:501: UserWarning: cannot use tree with sparse input: using brute force\n",
      "  warnings.warn(\"cannot use tree with sparse input: using brute force\")\n",
      "/home/juan/.pyenv/versions/3.8.9/envs/universidad/lib/python3.8/site-packages/sklearn/neighbors/_base.py:501: UserWarning: cannot use tree with sparse input: using brute force\n",
      "  warnings.warn(\"cannot use tree with sparse input: using brute force\")\n",
      "/home/juan/.pyenv/versions/3.8.9/envs/universidad/lib/python3.8/site-packages/sklearn/neighbors/_base.py:501: UserWarning: cannot use tree with sparse input: using brute force\n",
      "  warnings.warn(\"cannot use tree with sparse input: using brute force\")\n",
      "/home/juan/.pyenv/versions/3.8.9/envs/universidad/lib/python3.8/site-packages/sklearn/neighbors/_base.py:501: UserWarning: cannot use tree with sparse input: using brute force\n",
      "  warnings.warn(\"cannot use tree with sparse input: using brute force\")\n",
      "/home/juan/.pyenv/versions/3.8.9/envs/universidad/lib/python3.8/site-packages/sklearn/neighbors/_base.py:501: UserWarning: cannot use tree with sparse input: using brute force\n",
      "  warnings.warn(\"cannot use tree with sparse input: using brute force\")\n",
      "/home/juan/.pyenv/versions/3.8.9/envs/universidad/lib/python3.8/site-packages/sklearn/neighbors/_base.py:501: UserWarning: cannot use tree with sparse input: using brute force\n",
      "  warnings.warn(\"cannot use tree with sparse input: using brute force\")\n",
      "/home/juan/.pyenv/versions/3.8.9/envs/universidad/lib/python3.8/site-packages/sklearn/neighbors/_base.py:501: UserWarning: cannot use tree with sparse input: using brute force\n",
      "  warnings.warn(\"cannot use tree with sparse input: using brute force\")\n",
      "/home/juan/.pyenv/versions/3.8.9/envs/universidad/lib/python3.8/site-packages/sklearn/neighbors/_base.py:501: UserWarning: cannot use tree with sparse input: using brute force\n",
      "  warnings.warn(\"cannot use tree with sparse input: using brute force\")\n",
      "/home/juan/.pyenv/versions/3.8.9/envs/universidad/lib/python3.8/site-packages/sklearn/neighbors/_base.py:501: UserWarning: cannot use tree with sparse input: using brute force\n",
      "  warnings.warn(\"cannot use tree with sparse input: using brute force\")\n",
      "/home/juan/.pyenv/versions/3.8.9/envs/universidad/lib/python3.8/site-packages/sklearn/neighbors/_base.py:501: UserWarning: cannot use tree with sparse input: using brute force\n",
      "  warnings.warn(\"cannot use tree with sparse input: using brute force\")\n",
      "/home/juan/.pyenv/versions/3.8.9/envs/universidad/lib/python3.8/site-packages/sklearn/neighbors/_base.py:501: UserWarning: cannot use tree with sparse input: using brute force\n",
      "  warnings.warn(\"cannot use tree with sparse input: using brute force\")\n",
      "/home/juan/.pyenv/versions/3.8.9/envs/universidad/lib/python3.8/site-packages/sklearn/neighbors/_base.py:501: UserWarning: cannot use tree with sparse input: using brute force\n",
      "  warnings.warn(\"cannot use tree with sparse input: using brute force\")\n",
      "/home/juan/.pyenv/versions/3.8.9/envs/universidad/lib/python3.8/site-packages/sklearn/neighbors/_base.py:501: UserWarning: cannot use tree with sparse input: using brute force\n",
      "  warnings.warn(\"cannot use tree with sparse input: using brute force\")\n",
      "/home/juan/.pyenv/versions/3.8.9/envs/universidad/lib/python3.8/site-packages/sklearn/neighbors/_base.py:501: UserWarning: cannot use tree with sparse input: using brute force\n",
      "  warnings.warn(\"cannot use tree with sparse input: using brute force\")\n",
      "/home/juan/.pyenv/versions/3.8.9/envs/universidad/lib/python3.8/site-packages/sklearn/neighbors/_base.py:501: UserWarning: cannot use tree with sparse input: using brute force\n",
      "  warnings.warn(\"cannot use tree with sparse input: using brute force\")\n",
      "/home/juan/.pyenv/versions/3.8.9/envs/universidad/lib/python3.8/site-packages/sklearn/neighbors/_base.py:501: UserWarning: cannot use tree with sparse input: using brute force\n",
      "  warnings.warn(\"cannot use tree with sparse input: using brute force\")\n",
      "/home/juan/.pyenv/versions/3.8.9/envs/universidad/lib/python3.8/site-packages/sklearn/neighbors/_base.py:501: UserWarning: cannot use tree with sparse input: using brute force\n",
      "  warnings.warn(\"cannot use tree with sparse input: using brute force\")\n",
      "/home/juan/.pyenv/versions/3.8.9/envs/universidad/lib/python3.8/site-packages/sklearn/neighbors/_base.py:501: UserWarning: cannot use tree with sparse input: using brute force\n",
      "  warnings.warn(\"cannot use tree with sparse input: using brute force\")\n",
      "/home/juan/.pyenv/versions/3.8.9/envs/universidad/lib/python3.8/site-packages/sklearn/neighbors/_base.py:501: UserWarning: cannot use tree with sparse input: using brute force\n",
      "  warnings.warn(\"cannot use tree with sparse input: using brute force\")\n",
      "/home/juan/.pyenv/versions/3.8.9/envs/universidad/lib/python3.8/site-packages/sklearn/neighbors/_base.py:501: UserWarning: cannot use tree with sparse input: using brute force\n",
      "  warnings.warn(\"cannot use tree with sparse input: using brute force\")\n",
      "/home/juan/.pyenv/versions/3.8.9/envs/universidad/lib/python3.8/site-packages/sklearn/neighbors/_base.py:501: UserWarning: cannot use tree with sparse input: using brute force\n",
      "  warnings.warn(\"cannot use tree with sparse input: using brute force\")\n",
      "/home/juan/.pyenv/versions/3.8.9/envs/universidad/lib/python3.8/site-packages/sklearn/neighbors/_base.py:501: UserWarning: cannot use tree with sparse input: using brute force\n",
      "  warnings.warn(\"cannot use tree with sparse input: using brute force\")\n",
      "/home/juan/.pyenv/versions/3.8.9/envs/universidad/lib/python3.8/site-packages/sklearn/neighbors/_base.py:501: UserWarning: cannot use tree with sparse input: using brute force\n",
      "  warnings.warn(\"cannot use tree with sparse input: using brute force\")\n"
     ]
    },
    {
     "name": "stdout",
     "output_type": "stream",
     "text": [
      "Fitting 5 folds for each of 32 candidates, totalling 160 fits\n"
     ]
    },
    {
     "name": "stderr",
     "output_type": "stream",
     "text": [
      "/home/juan/.pyenv/versions/3.8.9/envs/universidad/lib/python3.8/site-packages/sklearn/neighbors/_base.py:501: UserWarning: cannot use tree with sparse input: using brute force\n",
      "  warnings.warn(\"cannot use tree with sparse input: using brute force\")\n",
      "/home/juan/.pyenv/versions/3.8.9/envs/universidad/lib/python3.8/site-packages/sklearn/neighbors/_base.py:501: UserWarning: cannot use tree with sparse input: using brute force\n",
      "  warnings.warn(\"cannot use tree with sparse input: using brute force\")\n",
      "/home/juan/.pyenv/versions/3.8.9/envs/universidad/lib/python3.8/site-packages/sklearn/neighbors/_base.py:501: UserWarning: cannot use tree with sparse input: using brute force\n",
      "  warnings.warn(\"cannot use tree with sparse input: using brute force\")\n",
      "/home/juan/.pyenv/versions/3.8.9/envs/universidad/lib/python3.8/site-packages/sklearn/neighbors/_base.py:501: UserWarning: cannot use tree with sparse input: using brute force\n",
      "  warnings.warn(\"cannot use tree with sparse input: using brute force\")\n",
      "/home/juan/.pyenv/versions/3.8.9/envs/universidad/lib/python3.8/site-packages/sklearn/neighbors/_base.py:501: UserWarning: cannot use tree with sparse input: using brute force\n",
      "  warnings.warn(\"cannot use tree with sparse input: using brute force\")\n",
      "/home/juan/.pyenv/versions/3.8.9/envs/universidad/lib/python3.8/site-packages/sklearn/neighbors/_base.py:501: UserWarning: cannot use tree with sparse input: using brute force\n",
      "  warnings.warn(\"cannot use tree with sparse input: using brute force\")\n",
      "/home/juan/.pyenv/versions/3.8.9/envs/universidad/lib/python3.8/site-packages/sklearn/neighbors/_base.py:501: UserWarning: cannot use tree with sparse input: using brute force\n",
      "  warnings.warn(\"cannot use tree with sparse input: using brute force\")\n",
      "/home/juan/.pyenv/versions/3.8.9/envs/universidad/lib/python3.8/site-packages/sklearn/neighbors/_base.py:501: UserWarning: cannot use tree with sparse input: using brute force\n",
      "  warnings.warn(\"cannot use tree with sparse input: using brute force\")\n",
      "/home/juan/.pyenv/versions/3.8.9/envs/universidad/lib/python3.8/site-packages/sklearn/neighbors/_base.py:501: UserWarning: cannot use tree with sparse input: using brute force\n",
      "  warnings.warn(\"cannot use tree with sparse input: using brute force\")\n",
      "/home/juan/.pyenv/versions/3.8.9/envs/universidad/lib/python3.8/site-packages/sklearn/neighbors/_base.py:501: UserWarning: cannot use tree with sparse input: using brute force\n",
      "  warnings.warn(\"cannot use tree with sparse input: using brute force\")\n",
      "/home/juan/.pyenv/versions/3.8.9/envs/universidad/lib/python3.8/site-packages/sklearn/neighbors/_base.py:501: UserWarning: cannot use tree with sparse input: using brute force\n",
      "  warnings.warn(\"cannot use tree with sparse input: using brute force\")\n",
      "/home/juan/.pyenv/versions/3.8.9/envs/universidad/lib/python3.8/site-packages/sklearn/neighbors/_base.py:501: UserWarning: cannot use tree with sparse input: using brute force\n",
      "  warnings.warn(\"cannot use tree with sparse input: using brute force\")\n",
      "/home/juan/.pyenv/versions/3.8.9/envs/universidad/lib/python3.8/site-packages/sklearn/neighbors/_base.py:501: UserWarning: cannot use tree with sparse input: using brute force\n",
      "  warnings.warn(\"cannot use tree with sparse input: using brute force\")\n",
      "/home/juan/.pyenv/versions/3.8.9/envs/universidad/lib/python3.8/site-packages/sklearn/neighbors/_base.py:501: UserWarning: cannot use tree with sparse input: using brute force\n",
      "  warnings.warn(\"cannot use tree with sparse input: using brute force\")\n",
      "/home/juan/.pyenv/versions/3.8.9/envs/universidad/lib/python3.8/site-packages/sklearn/neighbors/_base.py:501: UserWarning: cannot use tree with sparse input: using brute force\n",
      "  warnings.warn(\"cannot use tree with sparse input: using brute force\")\n",
      "/home/juan/.pyenv/versions/3.8.9/envs/universidad/lib/python3.8/site-packages/sklearn/neighbors/_base.py:501: UserWarning: cannot use tree with sparse input: using brute force\n",
      "  warnings.warn(\"cannot use tree with sparse input: using brute force\")\n",
      "/home/juan/.pyenv/versions/3.8.9/envs/universidad/lib/python3.8/site-packages/sklearn/neighbors/_base.py:501: UserWarning: cannot use tree with sparse input: using brute force\n",
      "  warnings.warn(\"cannot use tree with sparse input: using brute force\")\n",
      "/home/juan/.pyenv/versions/3.8.9/envs/universidad/lib/python3.8/site-packages/sklearn/neighbors/_base.py:501: UserWarning: cannot use tree with sparse input: using brute force\n",
      "  warnings.warn(\"cannot use tree with sparse input: using brute force\")\n",
      "/home/juan/.pyenv/versions/3.8.9/envs/universidad/lib/python3.8/site-packages/sklearn/neighbors/_base.py:501: UserWarning: cannot use tree with sparse input: using brute force\n",
      "  warnings.warn(\"cannot use tree with sparse input: using brute force\")\n",
      "/home/juan/.pyenv/versions/3.8.9/envs/universidad/lib/python3.8/site-packages/sklearn/neighbors/_base.py:501: UserWarning: cannot use tree with sparse input: using brute force\n",
      "  warnings.warn(\"cannot use tree with sparse input: using brute force\")\n",
      "/home/juan/.pyenv/versions/3.8.9/envs/universidad/lib/python3.8/site-packages/sklearn/neighbors/_base.py:501: UserWarning: cannot use tree with sparse input: using brute force\n",
      "  warnings.warn(\"cannot use tree with sparse input: using brute force\")\n",
      "/home/juan/.pyenv/versions/3.8.9/envs/universidad/lib/python3.8/site-packages/sklearn/neighbors/_base.py:501: UserWarning: cannot use tree with sparse input: using brute force\n",
      "  warnings.warn(\"cannot use tree with sparse input: using brute force\")\n",
      "/home/juan/.pyenv/versions/3.8.9/envs/universidad/lib/python3.8/site-packages/sklearn/neighbors/_base.py:501: UserWarning: cannot use tree with sparse input: using brute force\n",
      "  warnings.warn(\"cannot use tree with sparse input: using brute force\")\n",
      "/home/juan/.pyenv/versions/3.8.9/envs/universidad/lib/python3.8/site-packages/sklearn/neighbors/_base.py:501: UserWarning: cannot use tree with sparse input: using brute force\n",
      "  warnings.warn(\"cannot use tree with sparse input: using brute force\")\n",
      "/home/juan/.pyenv/versions/3.8.9/envs/universidad/lib/python3.8/site-packages/sklearn/neighbors/_base.py:501: UserWarning: cannot use tree with sparse input: using brute force\n",
      "  warnings.warn(\"cannot use tree with sparse input: using brute force\")\n",
      "/home/juan/.pyenv/versions/3.8.9/envs/universidad/lib/python3.8/site-packages/sklearn/neighbors/_base.py:501: UserWarning: cannot use tree with sparse input: using brute force\n",
      "  warnings.warn(\"cannot use tree with sparse input: using brute force\")\n",
      "/home/juan/.pyenv/versions/3.8.9/envs/universidad/lib/python3.8/site-packages/sklearn/neighbors/_base.py:501: UserWarning: cannot use tree with sparse input: using brute force\n",
      "  warnings.warn(\"cannot use tree with sparse input: using brute force\")\n",
      "/home/juan/.pyenv/versions/3.8.9/envs/universidad/lib/python3.8/site-packages/sklearn/neighbors/_base.py:501: UserWarning: cannot use tree with sparse input: using brute force\n",
      "  warnings.warn(\"cannot use tree with sparse input: using brute force\")\n",
      "/home/juan/.pyenv/versions/3.8.9/envs/universidad/lib/python3.8/site-packages/sklearn/neighbors/_base.py:501: UserWarning: cannot use tree with sparse input: using brute force\n",
      "  warnings.warn(\"cannot use tree with sparse input: using brute force\")\n",
      "/home/juan/.pyenv/versions/3.8.9/envs/universidad/lib/python3.8/site-packages/sklearn/neighbors/_base.py:501: UserWarning: cannot use tree with sparse input: using brute force\n",
      "  warnings.warn(\"cannot use tree with sparse input: using brute force\")\n",
      "/home/juan/.pyenv/versions/3.8.9/envs/universidad/lib/python3.8/site-packages/sklearn/neighbors/_base.py:501: UserWarning: cannot use tree with sparse input: using brute force\n",
      "  warnings.warn(\"cannot use tree with sparse input: using brute force\")\n",
      "/home/juan/.pyenv/versions/3.8.9/envs/universidad/lib/python3.8/site-packages/sklearn/neighbors/_base.py:501: UserWarning: cannot use tree with sparse input: using brute force\n",
      "  warnings.warn(\"cannot use tree with sparse input: using brute force\")\n",
      "/home/juan/.pyenv/versions/3.8.9/envs/universidad/lib/python3.8/site-packages/sklearn/neighbors/_base.py:501: UserWarning: cannot use tree with sparse input: using brute force\n",
      "  warnings.warn(\"cannot use tree with sparse input: using brute force\")\n",
      "/home/juan/.pyenv/versions/3.8.9/envs/universidad/lib/python3.8/site-packages/sklearn/neighbors/_base.py:501: UserWarning: cannot use tree with sparse input: using brute force\n",
      "  warnings.warn(\"cannot use tree with sparse input: using brute force\")\n",
      "/home/juan/.pyenv/versions/3.8.9/envs/universidad/lib/python3.8/site-packages/sklearn/neighbors/_base.py:501: UserWarning: cannot use tree with sparse input: using brute force\n",
      "  warnings.warn(\"cannot use tree with sparse input: using brute force\")\n",
      "/home/juan/.pyenv/versions/3.8.9/envs/universidad/lib/python3.8/site-packages/sklearn/neighbors/_base.py:501: UserWarning: cannot use tree with sparse input: using brute force\n",
      "  warnings.warn(\"cannot use tree with sparse input: using brute force\")\n",
      "/home/juan/.pyenv/versions/3.8.9/envs/universidad/lib/python3.8/site-packages/sklearn/neighbors/_base.py:501: UserWarning: cannot use tree with sparse input: using brute force\n",
      "  warnings.warn(\"cannot use tree with sparse input: using brute force\")\n",
      "/home/juan/.pyenv/versions/3.8.9/envs/universidad/lib/python3.8/site-packages/sklearn/neighbors/_base.py:501: UserWarning: cannot use tree with sparse input: using brute force\n",
      "  warnings.warn(\"cannot use tree with sparse input: using brute force\")\n",
      "/home/juan/.pyenv/versions/3.8.9/envs/universidad/lib/python3.8/site-packages/sklearn/neighbors/_base.py:501: UserWarning: cannot use tree with sparse input: using brute force\n",
      "  warnings.warn(\"cannot use tree with sparse input: using brute force\")\n",
      "/home/juan/.pyenv/versions/3.8.9/envs/universidad/lib/python3.8/site-packages/sklearn/neighbors/_base.py:501: UserWarning: cannot use tree with sparse input: using brute force\n",
      "  warnings.warn(\"cannot use tree with sparse input: using brute force\")\n",
      "/home/juan/.pyenv/versions/3.8.9/envs/universidad/lib/python3.8/site-packages/sklearn/neighbors/_base.py:501: UserWarning: cannot use tree with sparse input: using brute force\n",
      "  warnings.warn(\"cannot use tree with sparse input: using brute force\")\n",
      "/home/juan/.pyenv/versions/3.8.9/envs/universidad/lib/python3.8/site-packages/sklearn/neighbors/_base.py:501: UserWarning: cannot use tree with sparse input: using brute force\n",
      "  warnings.warn(\"cannot use tree with sparse input: using brute force\")\n",
      "/home/juan/.pyenv/versions/3.8.9/envs/universidad/lib/python3.8/site-packages/sklearn/neighbors/_base.py:501: UserWarning: cannot use tree with sparse input: using brute force\n",
      "  warnings.warn(\"cannot use tree with sparse input: using brute force\")\n",
      "/home/juan/.pyenv/versions/3.8.9/envs/universidad/lib/python3.8/site-packages/sklearn/neighbors/_base.py:501: UserWarning: cannot use tree with sparse input: using brute force\n",
      "  warnings.warn(\"cannot use tree with sparse input: using brute force\")\n",
      "/home/juan/.pyenv/versions/3.8.9/envs/universidad/lib/python3.8/site-packages/sklearn/neighbors/_base.py:501: UserWarning: cannot use tree with sparse input: using brute force\n",
      "  warnings.warn(\"cannot use tree with sparse input: using brute force\")\n",
      "/home/juan/.pyenv/versions/3.8.9/envs/universidad/lib/python3.8/site-packages/sklearn/neighbors/_base.py:501: UserWarning: cannot use tree with sparse input: using brute force\n",
      "  warnings.warn(\"cannot use tree with sparse input: using brute force\")\n",
      "/home/juan/.pyenv/versions/3.8.9/envs/universidad/lib/python3.8/site-packages/sklearn/neighbors/_base.py:501: UserWarning: cannot use tree with sparse input: using brute force\n",
      "  warnings.warn(\"cannot use tree with sparse input: using brute force\")\n",
      "/home/juan/.pyenv/versions/3.8.9/envs/universidad/lib/python3.8/site-packages/sklearn/neighbors/_base.py:501: UserWarning: cannot use tree with sparse input: using brute force\n",
      "  warnings.warn(\"cannot use tree with sparse input: using brute force\")\n",
      "/home/juan/.pyenv/versions/3.8.9/envs/universidad/lib/python3.8/site-packages/sklearn/neighbors/_base.py:501: UserWarning: cannot use tree with sparse input: using brute force\n",
      "  warnings.warn(\"cannot use tree with sparse input: using brute force\")\n",
      "/home/juan/.pyenv/versions/3.8.9/envs/universidad/lib/python3.8/site-packages/sklearn/neighbors/_base.py:501: UserWarning: cannot use tree with sparse input: using brute force\n",
      "  warnings.warn(\"cannot use tree with sparse input: using brute force\")\n",
      "/home/juan/.pyenv/versions/3.8.9/envs/universidad/lib/python3.8/site-packages/sklearn/neighbors/_base.py:501: UserWarning: cannot use tree with sparse input: using brute force\n",
      "  warnings.warn(\"cannot use tree with sparse input: using brute force\")\n",
      "/home/juan/.pyenv/versions/3.8.9/envs/universidad/lib/python3.8/site-packages/sklearn/neighbors/_base.py:501: UserWarning: cannot use tree with sparse input: using brute force\n",
      "  warnings.warn(\"cannot use tree with sparse input: using brute force\")\n",
      "/home/juan/.pyenv/versions/3.8.9/envs/universidad/lib/python3.8/site-packages/sklearn/neighbors/_base.py:501: UserWarning: cannot use tree with sparse input: using brute force\n",
      "  warnings.warn(\"cannot use tree with sparse input: using brute force\")\n",
      "/home/juan/.pyenv/versions/3.8.9/envs/universidad/lib/python3.8/site-packages/sklearn/neighbors/_base.py:501: UserWarning: cannot use tree with sparse input: using brute force\n",
      "  warnings.warn(\"cannot use tree with sparse input: using brute force\")\n",
      "/home/juan/.pyenv/versions/3.8.9/envs/universidad/lib/python3.8/site-packages/sklearn/neighbors/_base.py:501: UserWarning: cannot use tree with sparse input: using brute force\n",
      "  warnings.warn(\"cannot use tree with sparse input: using brute force\")\n",
      "/home/juan/.pyenv/versions/3.8.9/envs/universidad/lib/python3.8/site-packages/sklearn/neighbors/_base.py:501: UserWarning: cannot use tree with sparse input: using brute force\n",
      "  warnings.warn(\"cannot use tree with sparse input: using brute force\")\n",
      "/home/juan/.pyenv/versions/3.8.9/envs/universidad/lib/python3.8/site-packages/sklearn/neighbors/_base.py:501: UserWarning: cannot use tree with sparse input: using brute force\n",
      "  warnings.warn(\"cannot use tree with sparse input: using brute force\")\n",
      "/home/juan/.pyenv/versions/3.8.9/envs/universidad/lib/python3.8/site-packages/sklearn/neighbors/_base.py:501: UserWarning: cannot use tree with sparse input: using brute force\n",
      "  warnings.warn(\"cannot use tree with sparse input: using brute force\")\n",
      "/home/juan/.pyenv/versions/3.8.9/envs/universidad/lib/python3.8/site-packages/sklearn/neighbors/_base.py:501: UserWarning: cannot use tree with sparse input: using brute force\n",
      "  warnings.warn(\"cannot use tree with sparse input: using brute force\")\n",
      "/home/juan/.pyenv/versions/3.8.9/envs/universidad/lib/python3.8/site-packages/sklearn/neighbors/_base.py:501: UserWarning: cannot use tree with sparse input: using brute force\n",
      "  warnings.warn(\"cannot use tree with sparse input: using brute force\")\n",
      "/home/juan/.pyenv/versions/3.8.9/envs/universidad/lib/python3.8/site-packages/sklearn/neighbors/_base.py:501: UserWarning: cannot use tree with sparse input: using brute force\n",
      "  warnings.warn(\"cannot use tree with sparse input: using brute force\")\n",
      "/home/juan/.pyenv/versions/3.8.9/envs/universidad/lib/python3.8/site-packages/sklearn/neighbors/_base.py:501: UserWarning: cannot use tree with sparse input: using brute force\n",
      "  warnings.warn(\"cannot use tree with sparse input: using brute force\")\n",
      "/home/juan/.pyenv/versions/3.8.9/envs/universidad/lib/python3.8/site-packages/sklearn/neighbors/_base.py:501: UserWarning: cannot use tree with sparse input: using brute force\n",
      "  warnings.warn(\"cannot use tree with sparse input: using brute force\")\n",
      "/home/juan/.pyenv/versions/3.8.9/envs/universidad/lib/python3.8/site-packages/sklearn/neighbors/_base.py:501: UserWarning: cannot use tree with sparse input: using brute force\n",
      "  warnings.warn(\"cannot use tree with sparse input: using brute force\")\n",
      "/home/juan/.pyenv/versions/3.8.9/envs/universidad/lib/python3.8/site-packages/sklearn/neighbors/_base.py:501: UserWarning: cannot use tree with sparse input: using brute force\n",
      "  warnings.warn(\"cannot use tree with sparse input: using brute force\")\n",
      "/home/juan/.pyenv/versions/3.8.9/envs/universidad/lib/python3.8/site-packages/sklearn/neighbors/_base.py:501: UserWarning: cannot use tree with sparse input: using brute force\n",
      "  warnings.warn(\"cannot use tree with sparse input: using brute force\")\n",
      "/home/juan/.pyenv/versions/3.8.9/envs/universidad/lib/python3.8/site-packages/sklearn/neighbors/_base.py:501: UserWarning: cannot use tree with sparse input: using brute force\n",
      "  warnings.warn(\"cannot use tree with sparse input: using brute force\")\n",
      "/home/juan/.pyenv/versions/3.8.9/envs/universidad/lib/python3.8/site-packages/sklearn/neighbors/_base.py:501: UserWarning: cannot use tree with sparse input: using brute force\n",
      "  warnings.warn(\"cannot use tree with sparse input: using brute force\")\n",
      "/home/juan/.pyenv/versions/3.8.9/envs/universidad/lib/python3.8/site-packages/sklearn/neighbors/_base.py:501: UserWarning: cannot use tree with sparse input: using brute force\n",
      "  warnings.warn(\"cannot use tree with sparse input: using brute force\")\n",
      "/home/juan/.pyenv/versions/3.8.9/envs/universidad/lib/python3.8/site-packages/sklearn/neighbors/_base.py:501: UserWarning: cannot use tree with sparse input: using brute force\n",
      "  warnings.warn(\"cannot use tree with sparse input: using brute force\")\n",
      "/home/juan/.pyenv/versions/3.8.9/envs/universidad/lib/python3.8/site-packages/sklearn/neighbors/_base.py:501: UserWarning: cannot use tree with sparse input: using brute force\n",
      "  warnings.warn(\"cannot use tree with sparse input: using brute force\")\n",
      "/home/juan/.pyenv/versions/3.8.9/envs/universidad/lib/python3.8/site-packages/sklearn/neighbors/_base.py:501: UserWarning: cannot use tree with sparse input: using brute force\n",
      "  warnings.warn(\"cannot use tree with sparse input: using brute force\")\n",
      "/home/juan/.pyenv/versions/3.8.9/envs/universidad/lib/python3.8/site-packages/sklearn/neighbors/_base.py:501: UserWarning: cannot use tree with sparse input: using brute force\n",
      "  warnings.warn(\"cannot use tree with sparse input: using brute force\")\n",
      "/home/juan/.pyenv/versions/3.8.9/envs/universidad/lib/python3.8/site-packages/sklearn/neighbors/_base.py:501: UserWarning: cannot use tree with sparse input: using brute force\n",
      "  warnings.warn(\"cannot use tree with sparse input: using brute force\")\n",
      "/home/juan/.pyenv/versions/3.8.9/envs/universidad/lib/python3.8/site-packages/sklearn/neighbors/_base.py:501: UserWarning: cannot use tree with sparse input: using brute force\n",
      "  warnings.warn(\"cannot use tree with sparse input: using brute force\")\n",
      "/home/juan/.pyenv/versions/3.8.9/envs/universidad/lib/python3.8/site-packages/sklearn/neighbors/_base.py:501: UserWarning: cannot use tree with sparse input: using brute force\n",
      "  warnings.warn(\"cannot use tree with sparse input: using brute force\")\n",
      "/home/juan/.pyenv/versions/3.8.9/envs/universidad/lib/python3.8/site-packages/sklearn/neighbors/_base.py:501: UserWarning: cannot use tree with sparse input: using brute force\n",
      "  warnings.warn(\"cannot use tree with sparse input: using brute force\")\n",
      "/home/juan/.pyenv/versions/3.8.9/envs/universidad/lib/python3.8/site-packages/sklearn/neighbors/_base.py:501: UserWarning: cannot use tree with sparse input: using brute force\n",
      "  warnings.warn(\"cannot use tree with sparse input: using brute force\")\n",
      "/home/juan/.pyenv/versions/3.8.9/envs/universidad/lib/python3.8/site-packages/sklearn/neighbors/_base.py:501: UserWarning: cannot use tree with sparse input: using brute force\n",
      "  warnings.warn(\"cannot use tree with sparse input: using brute force\")\n",
      "/home/juan/.pyenv/versions/3.8.9/envs/universidad/lib/python3.8/site-packages/sklearn/neighbors/_base.py:501: UserWarning: cannot use tree with sparse input: using brute force\n",
      "  warnings.warn(\"cannot use tree with sparse input: using brute force\")\n",
      "/home/juan/.pyenv/versions/3.8.9/envs/universidad/lib/python3.8/site-packages/sklearn/neighbors/_base.py:501: UserWarning: cannot use tree with sparse input: using brute force\n",
      "  warnings.warn(\"cannot use tree with sparse input: using brute force\")\n",
      "/home/juan/.pyenv/versions/3.8.9/envs/universidad/lib/python3.8/site-packages/sklearn/neighbors/_base.py:501: UserWarning: cannot use tree with sparse input: using brute force\n",
      "  warnings.warn(\"cannot use tree with sparse input: using brute force\")\n",
      "/home/juan/.pyenv/versions/3.8.9/envs/universidad/lib/python3.8/site-packages/sklearn/neighbors/_base.py:501: UserWarning: cannot use tree with sparse input: using brute force\n",
      "  warnings.warn(\"cannot use tree with sparse input: using brute force\")\n",
      "/home/juan/.pyenv/versions/3.8.9/envs/universidad/lib/python3.8/site-packages/sklearn/neighbors/_base.py:501: UserWarning: cannot use tree with sparse input: using brute force\n",
      "  warnings.warn(\"cannot use tree with sparse input: using brute force\")\n",
      "/home/juan/.pyenv/versions/3.8.9/envs/universidad/lib/python3.8/site-packages/sklearn/neighbors/_base.py:501: UserWarning: cannot use tree with sparse input: using brute force\n",
      "  warnings.warn(\"cannot use tree with sparse input: using brute force\")\n",
      "/home/juan/.pyenv/versions/3.8.9/envs/universidad/lib/python3.8/site-packages/sklearn/neighbors/_base.py:501: UserWarning: cannot use tree with sparse input: using brute force\n",
      "  warnings.warn(\"cannot use tree with sparse input: using brute force\")\n",
      "/home/juan/.pyenv/versions/3.8.9/envs/universidad/lib/python3.8/site-packages/sklearn/neighbors/_base.py:501: UserWarning: cannot use tree with sparse input: using brute force\n",
      "  warnings.warn(\"cannot use tree with sparse input: using brute force\")\n",
      "/home/juan/.pyenv/versions/3.8.9/envs/universidad/lib/python3.8/site-packages/sklearn/neighbors/_base.py:501: UserWarning: cannot use tree with sparse input: using brute force\n",
      "  warnings.warn(\"cannot use tree with sparse input: using brute force\")\n",
      "/home/juan/.pyenv/versions/3.8.9/envs/universidad/lib/python3.8/site-packages/sklearn/neighbors/_base.py:501: UserWarning: cannot use tree with sparse input: using brute force\n",
      "  warnings.warn(\"cannot use tree with sparse input: using brute force\")\n",
      "/home/juan/.pyenv/versions/3.8.9/envs/universidad/lib/python3.8/site-packages/sklearn/neighbors/_base.py:501: UserWarning: cannot use tree with sparse input: using brute force\n",
      "  warnings.warn(\"cannot use tree with sparse input: using brute force\")\n",
      "/home/juan/.pyenv/versions/3.8.9/envs/universidad/lib/python3.8/site-packages/sklearn/neighbors/_base.py:501: UserWarning: cannot use tree with sparse input: using brute force\n",
      "  warnings.warn(\"cannot use tree with sparse input: using brute force\")\n",
      "/home/juan/.pyenv/versions/3.8.9/envs/universidad/lib/python3.8/site-packages/sklearn/neighbors/_base.py:501: UserWarning: cannot use tree with sparse input: using brute force\n",
      "  warnings.warn(\"cannot use tree with sparse input: using brute force\")\n",
      "/home/juan/.pyenv/versions/3.8.9/envs/universidad/lib/python3.8/site-packages/sklearn/neighbors/_base.py:501: UserWarning: cannot use tree with sparse input: using brute force\n",
      "  warnings.warn(\"cannot use tree with sparse input: using brute force\")\n",
      "/home/juan/.pyenv/versions/3.8.9/envs/universidad/lib/python3.8/site-packages/sklearn/neighbors/_base.py:501: UserWarning: cannot use tree with sparse input: using brute force\n",
      "  warnings.warn(\"cannot use tree with sparse input: using brute force\")\n",
      "/home/juan/.pyenv/versions/3.8.9/envs/universidad/lib/python3.8/site-packages/sklearn/neighbors/_base.py:501: UserWarning: cannot use tree with sparse input: using brute force\n",
      "  warnings.warn(\"cannot use tree with sparse input: using brute force\")\n",
      "/home/juan/.pyenv/versions/3.8.9/envs/universidad/lib/python3.8/site-packages/sklearn/neighbors/_base.py:501: UserWarning: cannot use tree with sparse input: using brute force\n",
      "  warnings.warn(\"cannot use tree with sparse input: using brute force\")\n",
      "/home/juan/.pyenv/versions/3.8.9/envs/universidad/lib/python3.8/site-packages/sklearn/neighbors/_base.py:501: UserWarning: cannot use tree with sparse input: using brute force\n",
      "  warnings.warn(\"cannot use tree with sparse input: using brute force\")\n",
      "/home/juan/.pyenv/versions/3.8.9/envs/universidad/lib/python3.8/site-packages/sklearn/neighbors/_base.py:501: UserWarning: cannot use tree with sparse input: using brute force\n",
      "  warnings.warn(\"cannot use tree with sparse input: using brute force\")\n",
      "/home/juan/.pyenv/versions/3.8.9/envs/universidad/lib/python3.8/site-packages/sklearn/neighbors/_base.py:501: UserWarning: cannot use tree with sparse input: using brute force\n",
      "  warnings.warn(\"cannot use tree with sparse input: using brute force\")\n",
      "/home/juan/.pyenv/versions/3.8.9/envs/universidad/lib/python3.8/site-packages/sklearn/neighbors/_base.py:501: UserWarning: cannot use tree with sparse input: using brute force\n",
      "  warnings.warn(\"cannot use tree with sparse input: using brute force\")\n",
      "/home/juan/.pyenv/versions/3.8.9/envs/universidad/lib/python3.8/site-packages/sklearn/neighbors/_base.py:501: UserWarning: cannot use tree with sparse input: using brute force\n",
      "  warnings.warn(\"cannot use tree with sparse input: using brute force\")\n",
      "/home/juan/.pyenv/versions/3.8.9/envs/universidad/lib/python3.8/site-packages/sklearn/neighbors/_base.py:501: UserWarning: cannot use tree with sparse input: using brute force\n",
      "  warnings.warn(\"cannot use tree with sparse input: using brute force\")\n",
      "/home/juan/.pyenv/versions/3.8.9/envs/universidad/lib/python3.8/site-packages/sklearn/neighbors/_base.py:501: UserWarning: cannot use tree with sparse input: using brute force\n",
      "  warnings.warn(\"cannot use tree with sparse input: using brute force\")\n",
      "/home/juan/.pyenv/versions/3.8.9/envs/universidad/lib/python3.8/site-packages/sklearn/neighbors/_base.py:501: UserWarning: cannot use tree with sparse input: using brute force\n",
      "  warnings.warn(\"cannot use tree with sparse input: using brute force\")\n",
      "/home/juan/.pyenv/versions/3.8.9/envs/universidad/lib/python3.8/site-packages/sklearn/neighbors/_base.py:501: UserWarning: cannot use tree with sparse input: using brute force\n",
      "  warnings.warn(\"cannot use tree with sparse input: using brute force\")\n",
      "/home/juan/.pyenv/versions/3.8.9/envs/universidad/lib/python3.8/site-packages/sklearn/neighbors/_base.py:501: UserWarning: cannot use tree with sparse input: using brute force\n",
      "  warnings.warn(\"cannot use tree with sparse input: using brute force\")\n",
      "/home/juan/.pyenv/versions/3.8.9/envs/universidad/lib/python3.8/site-packages/sklearn/neighbors/_base.py:501: UserWarning: cannot use tree with sparse input: using brute force\n",
      "  warnings.warn(\"cannot use tree with sparse input: using brute force\")\n",
      "/home/juan/.pyenv/versions/3.8.9/envs/universidad/lib/python3.8/site-packages/sklearn/neighbors/_base.py:501: UserWarning: cannot use tree with sparse input: using brute force\n",
      "  warnings.warn(\"cannot use tree with sparse input: using brute force\")\n",
      "/home/juan/.pyenv/versions/3.8.9/envs/universidad/lib/python3.8/site-packages/sklearn/neighbors/_base.py:501: UserWarning: cannot use tree with sparse input: using brute force\n",
      "  warnings.warn(\"cannot use tree with sparse input: using brute force\")\n",
      "/home/juan/.pyenv/versions/3.8.9/envs/universidad/lib/python3.8/site-packages/sklearn/neighbors/_base.py:501: UserWarning: cannot use tree with sparse input: using brute force\n",
      "  warnings.warn(\"cannot use tree with sparse input: using brute force\")\n",
      "/home/juan/.pyenv/versions/3.8.9/envs/universidad/lib/python3.8/site-packages/sklearn/neighbors/_base.py:501: UserWarning: cannot use tree with sparse input: using brute force\n",
      "  warnings.warn(\"cannot use tree with sparse input: using brute force\")\n",
      "/home/juan/.pyenv/versions/3.8.9/envs/universidad/lib/python3.8/site-packages/sklearn/neighbors/_base.py:501: UserWarning: cannot use tree with sparse input: using brute force\n",
      "  warnings.warn(\"cannot use tree with sparse input: using brute force\")\n",
      "/home/juan/.pyenv/versions/3.8.9/envs/universidad/lib/python3.8/site-packages/sklearn/neighbors/_base.py:501: UserWarning: cannot use tree with sparse input: using brute force\n",
      "  warnings.warn(\"cannot use tree with sparse input: using brute force\")\n",
      "/home/juan/.pyenv/versions/3.8.9/envs/universidad/lib/python3.8/site-packages/sklearn/neighbors/_base.py:501: UserWarning: cannot use tree with sparse input: using brute force\n",
      "  warnings.warn(\"cannot use tree with sparse input: using brute force\")\n",
      "/home/juan/.pyenv/versions/3.8.9/envs/universidad/lib/python3.8/site-packages/sklearn/neighbors/_base.py:501: UserWarning: cannot use tree with sparse input: using brute force\n",
      "  warnings.warn(\"cannot use tree with sparse input: using brute force\")\n",
      "/home/juan/.pyenv/versions/3.8.9/envs/universidad/lib/python3.8/site-packages/sklearn/neighbors/_base.py:501: UserWarning: cannot use tree with sparse input: using brute force\n",
      "  warnings.warn(\"cannot use tree with sparse input: using brute force\")\n",
      "/home/juan/.pyenv/versions/3.8.9/envs/universidad/lib/python3.8/site-packages/sklearn/neighbors/_base.py:501: UserWarning: cannot use tree with sparse input: using brute force\n",
      "  warnings.warn(\"cannot use tree with sparse input: using brute force\")\n",
      "/home/juan/.pyenv/versions/3.8.9/envs/universidad/lib/python3.8/site-packages/sklearn/neighbors/_base.py:501: UserWarning: cannot use tree with sparse input: using brute force\n",
      "  warnings.warn(\"cannot use tree with sparse input: using brute force\")\n",
      "/home/juan/.pyenv/versions/3.8.9/envs/universidad/lib/python3.8/site-packages/sklearn/neighbors/_base.py:501: UserWarning: cannot use tree with sparse input: using brute force\n",
      "  warnings.warn(\"cannot use tree with sparse input: using brute force\")\n",
      "/home/juan/.pyenv/versions/3.8.9/envs/universidad/lib/python3.8/site-packages/sklearn/neighbors/_base.py:501: UserWarning: cannot use tree with sparse input: using brute force\n",
      "  warnings.warn(\"cannot use tree with sparse input: using brute force\")\n",
      "/home/juan/.pyenv/versions/3.8.9/envs/universidad/lib/python3.8/site-packages/sklearn/neighbors/_base.py:501: UserWarning: cannot use tree with sparse input: using brute force\n",
      "  warnings.warn(\"cannot use tree with sparse input: using brute force\")\n",
      "/home/juan/.pyenv/versions/3.8.9/envs/universidad/lib/python3.8/site-packages/sklearn/neighbors/_base.py:501: UserWarning: cannot use tree with sparse input: using brute force\n",
      "  warnings.warn(\"cannot use tree with sparse input: using brute force\")\n",
      "/home/juan/.pyenv/versions/3.8.9/envs/universidad/lib/python3.8/site-packages/sklearn/neighbors/_base.py:501: UserWarning: cannot use tree with sparse input: using brute force\n",
      "  warnings.warn(\"cannot use tree with sparse input: using brute force\")\n",
      "/home/juan/.pyenv/versions/3.8.9/envs/universidad/lib/python3.8/site-packages/sklearn/neighbors/_base.py:501: UserWarning: cannot use tree with sparse input: using brute force\n",
      "  warnings.warn(\"cannot use tree with sparse input: using brute force\")\n",
      "/home/juan/.pyenv/versions/3.8.9/envs/universidad/lib/python3.8/site-packages/sklearn/neighbors/_base.py:501: UserWarning: cannot use tree with sparse input: using brute force\n",
      "  warnings.warn(\"cannot use tree with sparse input: using brute force\")\n",
      "/home/juan/.pyenv/versions/3.8.9/envs/universidad/lib/python3.8/site-packages/sklearn/neighbors/_base.py:501: UserWarning: cannot use tree with sparse input: using brute force\n",
      "  warnings.warn(\"cannot use tree with sparse input: using brute force\")\n",
      "/home/juan/.pyenv/versions/3.8.9/envs/universidad/lib/python3.8/site-packages/sklearn/neighbors/_base.py:501: UserWarning: cannot use tree with sparse input: using brute force\n",
      "  warnings.warn(\"cannot use tree with sparse input: using brute force\")\n",
      "/home/juan/.pyenv/versions/3.8.9/envs/universidad/lib/python3.8/site-packages/sklearn/neighbors/_base.py:501: UserWarning: cannot use tree with sparse input: using brute force\n",
      "  warnings.warn(\"cannot use tree with sparse input: using brute force\")\n",
      "/home/juan/.pyenv/versions/3.8.9/envs/universidad/lib/python3.8/site-packages/sklearn/neighbors/_base.py:501: UserWarning: cannot use tree with sparse input: using brute force\n",
      "  warnings.warn(\"cannot use tree with sparse input: using brute force\")\n",
      "/home/juan/.pyenv/versions/3.8.9/envs/universidad/lib/python3.8/site-packages/sklearn/neighbors/_base.py:501: UserWarning: cannot use tree with sparse input: using brute force\n",
      "  warnings.warn(\"cannot use tree with sparse input: using brute force\")\n",
      "/home/juan/.pyenv/versions/3.8.9/envs/universidad/lib/python3.8/site-packages/sklearn/neighbors/_base.py:501: UserWarning: cannot use tree with sparse input: using brute force\n",
      "  warnings.warn(\"cannot use tree with sparse input: using brute force\")\n",
      "/home/juan/.pyenv/versions/3.8.9/envs/universidad/lib/python3.8/site-packages/sklearn/neighbors/_base.py:501: UserWarning: cannot use tree with sparse input: using brute force\n",
      "  warnings.warn(\"cannot use tree with sparse input: using brute force\")\n"
     ]
    },
    {
     "data": {
      "text/plain": [
       "GridSearchCV(cv=5, estimator=KNeighborsClassifier(), n_jobs=4,\n",
       "             param_grid={'algorithm': ['ball_tree', 'kd_tree'],\n",
       "                         'leaf_size': [10, 33, 100, 333],\n",
       "                         'n_neighbors': [10, 33, 100, 333]},\n",
       "             verbose=5)"
      ]
     },
     "execution_count": 48,
     "metadata": {},
     "output_type": "execute_result"
    }
   ],
   "source": [
    "param_grid_ = {\"algorithm\":[\"ball_tree\", \"kd_tree\"], \"leaf_size\":[10, 33, 100, 333], \"n_neighbors\":[10, 33, 100, 333]}\n",
    "neigh = KNeighborsClassifier()\n",
    "\n",
    "bow_search = GridSearchCV(neigh, cv=5, param_grid=param_grid_,  n_jobs = 4, verbose=5)\n",
    "tfidf_search = GridSearchCV(neigh, cv=5, param_grid=param_grid_,  n_jobs = 4, verbose=5)\n",
    "bow_search.fit(X_tr_bow, y_tr)\n",
    "tfidf_search.fit(X_tr_tfidf, y_tr)"
   ]
  },
  {
   "cell_type": "code",
   "execution_count": 49,
   "metadata": {},
   "outputs": [
    {
     "data": {
      "text/plain": [
       "{'algorithm': 'ball_tree', 'leaf_size': 10, 'n_neighbors': 100}"
      ]
     },
     "execution_count": 49,
     "metadata": {},
     "output_type": "execute_result"
    }
   ],
   "source": [
    "bow_search.best_params_"
   ]
  },
  {
   "cell_type": "code",
   "execution_count": 50,
   "metadata": {},
   "outputs": [
    {
     "data": {
      "text/plain": [
       "{'algorithm': 'ball_tree', 'leaf_size': 10, 'n_neighbors': 33}"
      ]
     },
     "execution_count": 50,
     "metadata": {},
     "output_type": "execute_result"
    }
   ],
   "source": [
    "tfidf_search.best_params_"
   ]
  },
  {
   "cell_type": "code",
   "execution_count": 51,
   "metadata": {},
   "outputs": [
    {
     "data": {
      "text/plain": [
       "KNeighborsClassifier(algorithm='ball_tree', leaf_size=10, n_neighbors=33)"
      ]
     },
     "execution_count": 51,
     "metadata": {},
     "output_type": "execute_result"
    }
   ],
   "source": [
    "knn_model_bow = KNeighborsClassifier(algorithm='ball_tree',\n",
    "                                     leaf_size=10,\n",
    "                                     n_neighbors=33)\n",
    "knn_model_bow.fit(X_tr_bow, y_tr)\n",
    "knn_model_tfidf = KNeighborsClassifier(algorithm='ball_tree',\n",
    "                                     leaf_size=10,\n",
    "                                     n_neighbors=33)\n",
    "knn_model_tfidf.fit(X_tr_tfidf, y_tr)"
   ]
  },
  {
   "cell_type": "code",
   "execution_count": 52,
   "metadata": {},
   "outputs": [
    {
     "name": "stdout",
     "output_type": "stream",
     "text": [
      "---------------- BOW ----------------\n",
      "Exactitud sobre entrenamiento: 0.46\n",
      "Exactitud sobre test: 0.35\n",
      "              precision    recall  f1-score   support\n",
      "\n",
      "        -1.0       0.34      0.72      0.46      1489\n",
      "         0.0       0.43      0.11      0.18      1445\n",
      "         1.0       0.33      0.20      0.25      1462\n",
      "\n",
      "    accuracy                           0.35      4396\n",
      "   macro avg       0.37      0.34      0.29      4396\n",
      "weighted avg       0.37      0.35      0.30      4396\n",
      "\n",
      "---------------- TFIDF ----------------\n",
      "Exactitud sobre entrenamiento: 0.47\n",
      "Exactitud sobre test: 0.35\n",
      "              precision    recall  f1-score   support\n",
      "\n",
      "        -1.0       0.34      0.74      0.47      1489\n",
      "         0.0       0.43      0.12      0.19      1445\n",
      "         1.0       0.33      0.17      0.23      1462\n",
      "\n",
      "    accuracy                           0.35      4396\n",
      "   macro avg       0.37      0.34      0.29      4396\n",
      "weighted avg       0.37      0.35      0.30      4396\n",
      "\n"
     ]
    }
   ],
   "source": [
    "y_pred_train = knn_model_bow.predict(X_tr_bow)\n",
    "y_pred_test = knn_model_bow.predict(X_te_bow)\n",
    "\n",
    "print(\"---------------- BOW ----------------\")\n",
    "print('Exactitud sobre entrenamiento: %.2f' % accuracy_score(y_tr, y_pred_train))\n",
    "print('Exactitud sobre test: %.2f' % accuracy_score(y_te, y_pred_test))\n",
    "print(classification_report(y_te, y_pred_test))\n",
    "\n",
    "precision, recall, fscore, _ = score(y_te, y_pred_test)\n",
    "\n",
    "new_data = pd.DataFrame({'Modelo': ['KNN BOW'],\n",
    "                         'label':  ['Negativo'],\n",
    "                         'F1 score': [fscore[0]],\n",
    "                         'precision': [precision[0]],\n",
    "                         'recall': [recall[0]],\n",
    "                        })\n",
    "df_results = pd.concat([df_results, new_data], ignore_index = True, axis = 0)\n",
    "new_data = pd.DataFrame({'Modelo': ['KNN BOW'],\n",
    "                         'label':  ['Positivo'],\n",
    "                         'F1 score': [fscore[1]],\n",
    "                         'precision': [precision[1]],\n",
    "                         'recall': [recall[1]],\n",
    "                        })\n",
    "df_results = pd.concat([df_results, new_data], ignore_index = True, axis = 0)\n",
    "\n",
    "y_pred_train = knn_model_tfidf.predict(X_tr_tfidf)\n",
    "y_pred_test = knn_model_tfidf.predict(X_te_tfidf)\n",
    "\n",
    "print(\"---------------- TFIDF ----------------\")\n",
    "print('Exactitud sobre entrenamiento: %.2f' % accuracy_score(y_tr, y_pred_train))\n",
    "print('Exactitud sobre test: %.2f' % accuracy_score(y_te, y_pred_test))\n",
    "print(classification_report(y_te, y_pred_test))\n",
    "\n",
    "precision, recall, fscore, _ = score(y_te, y_pred_test)\n",
    "\n",
    "new_data = pd.DataFrame({'Modelo': ['KNN TFIDF'],\n",
    "                         'label':  ['Negativo'],\n",
    "                         'F1 score': [fscore[0]],\n",
    "                         'precision': [precision[0]],\n",
    "                         'recall': [recall[0]],\n",
    "                        })\n",
    "df_results = pd.concat([df_results, new_data], ignore_index = True, axis = 0)\n",
    "new_data = pd.DataFrame({'Modelo': ['KNN TFIDF'],\n",
    "                         'label':  ['Positivo'],\n",
    "                         'F1 score': [fscore[1]],\n",
    "                         'precision': [precision[1]],\n",
    "                         'recall': [recall[1]],\n",
    "                        })\n",
    "df_results = pd.concat([df_results, new_data], ignore_index = True, axis = 0)"
   ]
  },
  {
   "cell_type": "code",
   "execution_count": 53,
   "metadata": {},
   "outputs": [
    {
     "data": {
      "image/png": "[encoded data removed]",
      "text/plain": [
       "<Figure size 432x288 with 2 Axes>"
      ]
     },
     "metadata": {},
     "output_type": "display_data"
    }
   ],
   "source": [
    "# Se puede visualizar la matriz de confusión\n",
    "confusion_matrix(y_te, y_pred_test)\n",
    "plot_confusion_matrix(knn_model_bow, X_te_bow, y_te)  \n",
    "plt.show()"
   ]
  },
  {
   "cell_type": "code",
   "execution_count": 54,
   "metadata": {},
   "outputs": [
    {
     "data": {
      "image/png": "[encoded data removed]",
      "text/plain": [
       "<Figure size 432x288 with 2 Axes>"
      ]
     },
     "metadata": {},
     "output_type": "display_data"
    }
   ],
   "source": [
    "# Se puede visualizar la matriz de confusión\n",
    "confusion_matrix(y_te, y_pred_test)\n",
    "plot_confusion_matrix(knn_model_tfidf, X_te_bow, y_te)  \n",
    "plt.show()"
   ]
  },
  {
   "cell_type": "markdown",
   "metadata": {
    "tags": []
   },
   "source": [
    "## Naive Bayes"
   ]
  },
  {
   "cell_type": "code",
   "execution_count": 55,
   "metadata": {
    "tags": []
   },
   "outputs": [
    {
     "data": {
      "text/plain": [
       "GaussianNB()"
      ]
     },
     "execution_count": 55,
     "metadata": {},
     "output_type": "execute_result"
    }
   ],
   "source": [
    "gnb_model_bow = GaussianNB()\n",
    "gnb_model_tfidf = GaussianNB()\n",
    "\n",
    "gnb_model_bow.fit(X_tr_bow.toarray(), y_tr)\n",
    "gnb_model_tfidf.fit(X_tr_tfidf.toarray(), y_tr)"
   ]
  },
  {
   "cell_type": "code",
   "execution_count": 56,
   "metadata": {},
   "outputs": [
    {
     "name": "stdout",
     "output_type": "stream",
     "text": [
      "---------------- BOW ----------------\n",
      "Exactitud sobre entrenamiento: 0.95\n",
      "Exactitud sobre test: 0.36\n",
      "              precision    recall  f1-score   support\n",
      "\n",
      "        -1.0       0.41      0.20      0.27      1489\n",
      "         0.0       0.34      0.75      0.47      1445\n",
      "         1.0       0.40      0.14      0.21      1462\n",
      "\n",
      "    accuracy                           0.36      4396\n",
      "   macro avg       0.38      0.36      0.32      4396\n",
      "weighted avg       0.38      0.36      0.32      4396\n",
      "\n",
      "---------------- TFIDF ----------------\n",
      "Exactitud sobre entrenamiento: 0.95\n",
      "Exactitud sobre test: 0.36\n",
      "              precision    recall  f1-score   support\n",
      "\n",
      "        -1.0       0.41      0.20      0.27      1489\n",
      "         0.0       0.34      0.74      0.47      1445\n",
      "         1.0       0.39      0.15      0.21      1462\n",
      "\n",
      "    accuracy                           0.36      4396\n",
      "   macro avg       0.38      0.36      0.32      4396\n",
      "weighted avg       0.38      0.36      0.32      4396\n",
      "\n"
     ]
    }
   ],
   "source": [
    "y_pred_train = gnb_model_bow.predict(X_tr_bow.toarray())\n",
    "y_pred_test = gnb_model_bow.predict(X_te_bow.toarray())\n",
    "\n",
    "print(\"---------------- BOW ----------------\")\n",
    "print('Exactitud sobre entrenamiento: %.2f' % accuracy_score(y_tr, y_pred_train))\n",
    "print('Exactitud sobre test: %.2f' % accuracy_score(y_te, y_pred_test))\n",
    "print(classification_report(y_te, y_pred_test))\n",
    "\n",
    "precision, recall, fscore, _ = score(y_te, y_pred_test)\n",
    "\n",
    "new_data = pd.DataFrame({'Modelo': ['GNB BOW'],\n",
    "                         'label':  ['Negativo'],\n",
    "                         'F1 score': [fscore[0]],\n",
    "                         'precision': [precision[0]],\n",
    "                         'recall': [recall[0]],\n",
    "                        })\n",
    "df_results = pd.concat([df_results, new_data], ignore_index = True, axis = 0)\n",
    "new_data = pd.DataFrame({'Modelo': ['GNB BOW'],\n",
    "                         'label':  ['Positivo'],\n",
    "                         'F1 score': [fscore[1]],\n",
    "                         'precision': [precision[1]],\n",
    "                         'recall': [recall[1]],\n",
    "                        })\n",
    "df_results = pd.concat([df_results, new_data], ignore_index = True, axis = 0)\n",
    "\n",
    "y_pred_train = gnb_model_tfidf.predict(X_tr_tfidf.toarray())\n",
    "y_pred_test = gnb_model_tfidf.predict(X_te_tfidf.toarray())\n",
    "\n",
    "print(\"---------------- TFIDF ----------------\")\n",
    "print('Exactitud sobre entrenamiento: %.2f' % accuracy_score(y_tr, y_pred_train))\n",
    "print('Exactitud sobre test: %.2f' % accuracy_score(y_te, y_pred_test))\n",
    "print(classification_report(y_te, y_pred_test))\n",
    "\n",
    "precision, recall, fscore, _ = score(y_te, y_pred_test)\n",
    "\n",
    "new_data = pd.DataFrame({'Modelo': ['GNB TFIDF'],\n",
    "                         'label':  ['Negativo'],\n",
    "                         'F1 score': [fscore[0]],\n",
    "                         'precision': [precision[0]],\n",
    "                         'recall': [recall[0]],\n",
    "                        })\n",
    "df_results = pd.concat([df_results, new_data], ignore_index = True, axis = 0)\n",
    "new_data = pd.DataFrame({'Modelo': ['GNB TFIDF'],\n",
    "                         'label':  ['Positivo'],\n",
    "                         'F1 score': [fscore[1]],\n",
    "                         'precision': [precision[1]],\n",
    "                         'recall': [recall[1]],\n",
    "                        })\n",
    "df_results = pd.concat([df_results, new_data], ignore_index = True, axis = 0)"
   ]
  },
  {
   "cell_type": "code",
   "execution_count": 57,
   "metadata": {},
   "outputs": [
    {
     "data": {
      "image/png": "[encoded data removed]",
      "text/plain": [
       "<Figure size 432x288 with 2 Axes>"
      ]
     },
     "metadata": {},
     "output_type": "display_data"
    }
   ],
   "source": [
    "# Se puede visualizar la matriz de confusión\n",
    "confusion_matrix(y_te, y_pred_test)\n",
    "plot_confusion_matrix(gnb_model_bow, X_te_bow.toarray(), y_te)  \n",
    "plt.show()"
   ]
  },
  {
   "cell_type": "code",
   "execution_count": 58,
   "metadata": {},
   "outputs": [
    {
     "data": {
      "image/png": "[encoded data removed]",
      "text/plain": [
       "<Figure size 432x288 with 2 Axes>"
      ]
     },
     "metadata": {},
     "output_type": "display_data"
    }
   ],
   "source": [
    "# Se puede visualizar la matriz de confusión\n",
    "confusion_matrix(y_te, y_pred_test)\n",
    "plot_confusion_matrix(gnb_model_tfidf, X_te_tfidf.toarray(), y_te)\n",
    "plt.show()"
   ]
  },
  {
   "cell_type": "markdown",
   "metadata": {},
   "source": [
    "## Regresión logistica"
   ]
  },
  {
   "cell_type": "code",
   "execution_count": 59,
   "metadata": {},
   "outputs": [],
   "source": [
    "def simple_logistic_classify(X_tr, y_tr, X_test, y_test, description, _C=1.0):\n",
    "    model = LogisticRegression(C=_C).fit(X_tr, y_tr)\n",
    "    score = model.score(X_test, y_test)\n",
    "    print('Test Score with', description, 'features', score)\n",
    "    return model"
   ]
  },
  {
   "cell_type": "code",
   "execution_count": 60,
   "metadata": {
    "tags": []
   },
   "outputs": [
    {
     "name": "stdout",
     "output_type": "stream",
     "text": [
      "[CV 3/5] END algorithm=ball_tree, leaf_size=10, n_neighbors=10;, score=0.331 total time=   0.4s\n",
      "[CV 2/5] END algorithm=ball_tree, leaf_size=10, n_neighbors=33;, score=0.358 total time=   0.4s\n",
      "[CV 1/5] END algorithm=ball_tree, leaf_size=10, n_neighbors=100;, score=0.349 total time=   0.3s\n",
      "[CV 3/5] END algorithm=ball_tree, leaf_size=10, n_neighbors=100;, score=0.348 total time=   0.4s\n",
      "[CV 3/5] END algorithm=ball_tree, leaf_size=10, n_neighbors=333;, score=0.348 total time=   0.5s\n",
      "[CV 2/5] END algorithm=ball_tree, leaf_size=33, n_neighbors=10;, score=0.329 total time=   0.3s\n",
      "[CV 1/5] END algorithm=ball_tree, leaf_size=33, n_neighbors=33;, score=0.360 total time=   0.3s\n",
      "[CV 4/5] END algorithm=ball_tree, leaf_size=33, n_neighbors=33;, score=0.354 total time=   0.5s\n",
      "[CV 5/5] END algorithm=ball_tree, leaf_size=33, n_neighbors=100;, score=0.348 total time=   0.4s\n",
      "[CV 3/5] END algorithm=ball_tree, leaf_size=33, n_neighbors=333;, score=0.348 total time=   0.4s\n",
      "[CV 2/5] END algorithm=ball_tree, leaf_size=100, n_neighbors=10;, score=0.329 total time=   0.3s\n",
      "[CV 1/5] END algorithm=ball_tree, leaf_size=100, n_neighbors=33;, score=0.360 total time=   0.3s\n",
      "[CV 5/5] END algorithm=ball_tree, leaf_size=100, n_neighbors=33;, score=0.312 total time=   0.4s\n",
      "[CV 3/5] END algorithm=ball_tree, leaf_size=100, n_neighbors=100;, score=0.348 total time=   0.4s\n",
      "[CV 2/5] END algorithm=ball_tree, leaf_size=100, n_neighbors=333;, score=0.343 total time=   0.4s\n",
      "[CV 1/5] END algorithm=ball_tree, leaf_size=333, n_neighbors=10;, score=0.332 total time=   0.3s\n",
      "[CV 4/5] END algorithm=ball_tree, leaf_size=333, n_neighbors=10;, score=0.353 total time=   0.5s\n",
      "[CV 5/5] END algorithm=ball_tree, leaf_size=333, n_neighbors=33;, score=0.312 total time=   0.4s\n",
      "[CV 5/5] END algorithm=ball_tree, leaf_size=333, n_neighbors=100;, score=0.348 total time=   0.4s\n",
      "[CV 3/5] END algorithm=ball_tree, leaf_size=333, n_neighbors=333;, score=0.348 total time=   0.4s\n",
      "[CV 2/5] END algorithm=kd_tree, leaf_size=10, n_neighbors=10;, score=0.329 total time=   0.3s\n",
      "[CV 5/5] END algorithm=kd_tree, leaf_size=10, n_neighbors=10;, score=0.321 total time=   0.4s\n",
      "[CV 5/5] END algorithm=kd_tree, leaf_size=10, n_neighbors=33;, score=0.312 total time=   0.4s\n",
      "[CV 4/5] END algorithm=kd_tree, leaf_size=10, n_neighbors=100;, score=0.344 total time=   0.5s\n",
      "[CV 3/5] END algorithm=kd_tree, leaf_size=10, n_neighbors=333;, score=0.348 total time=   0.4s\n",
      "[CV 2/5] END algorithm=kd_tree, leaf_size=33, n_neighbors=10;, score=0.329 total time=   0.3s\n",
      "[CV 1/5] END algorithm=kd_tree, leaf_size=33, n_neighbors=33;, score=0.360 total time=   0.4s\n",
      "[CV 5/5] END algorithm=kd_tree, leaf_size=33, n_neighbors=33;, score=0.312 total time=   0.5s\n",
      "[CV 4/5] END algorithm=kd_tree, leaf_size=33, n_neighbors=100;, score=0.344 total time=   0.5s\n",
      "[CV 4/5] END algorithm=kd_tree, leaf_size=33, n_neighbors=333;, score=0.351 total time=   0.5s\n",
      "[CV 3/5] END algorithm=kd_tree, leaf_size=100, n_neighbors=10;, score=0.331 total time=   0.4s\n",
      "[CV 2/5] END algorithm=kd_tree, leaf_size=100, n_neighbors=33;, score=0.358 total time=   0.4s\n",
      "[CV 1/5] END algorithm=kd_tree, leaf_size=100, n_neighbors=100;, score=0.349 total time=   0.3s\n",
      "[CV 4/5] END algorithm=kd_tree, leaf_size=100, n_neighbors=100;, score=0.344 total time=   0.5s\n",
      "[CV 4/5] END algorithm=kd_tree, leaf_size=100, n_neighbors=333;, score=0.351 total time=   0.6s\n",
      "[CV 5/5] END algorithm=kd_tree, leaf_size=333, n_neighbors=10;, score=0.321 total time=   0.4s\n",
      "[CV 5/5] END algorithm=kd_tree, leaf_size=333, n_neighbors=33;, score=0.312 total time=   0.4s\n",
      "[CV 3/5] END algorithm=kd_tree, leaf_size=333, n_neighbors=100;, score=0.348 total time=   0.4s\n",
      "[CV 2/5] END algorithm=kd_tree, leaf_size=333, n_neighbors=333;, score=0.343 total time=   0.4s\n",
      "[CV 5/5] END algorithm=kd_tree, leaf_size=333, n_neighbors=333;, score=0.341 total time=   0.4s\n",
      "[CV 4/5] END algorithm=ball_tree, leaf_size=10, n_neighbors=10;, score=0.341 total time=   0.4s\n",
      "[CV 2/5] END algorithm=ball_tree, leaf_size=10, n_neighbors=33;, score=0.355 total time=   0.4s\n",
      "[CV 5/5] END algorithm=ball_tree, leaf_size=10, n_neighbors=33;, score=0.342 total time=   0.5s\n",
      "[CV 5/5] END algorithm=ball_tree, leaf_size=10, n_neighbors=100;, score=0.348 total time=   0.4s\n",
      "[CV 4/5] END algorithm=ball_tree, leaf_size=10, n_neighbors=333;, score=0.346 total time=   0.4s\n",
      "[CV 3/5] END algorithm=ball_tree, leaf_size=33, n_neighbors=10;, score=0.333 total time=   0.4s\n",
      "[CV 2/5] END algorithm=ball_tree, leaf_size=33, n_neighbors=33;, score=0.355 total time=   0.3s\n",
      "[CV 1/5] END algorithm=ball_tree, leaf_size=33, n_neighbors=100;, score=0.344 total time=   0.3s\n",
      "[CV 5/5] END algorithm=ball_tree, leaf_size=33, n_neighbors=100;, score=0.348 total time=   0.4s\n",
      "[CV 4/5] END algorithm=ball_tree, leaf_size=33, n_neighbors=333;, score=0.346 total time=   0.4s\n",
      "[CV 3/5] END algorithm=ball_tree, leaf_size=100, n_neighbors=10;, score=0.333 total time=   0.4s\n",
      "[CV 2/5] END algorithm=ball_tree, leaf_size=100, n_neighbors=33;, score=0.355 total time=   0.3s\n",
      "[CV 1/5] END algorithm=ball_tree, leaf_size=100, n_neighbors=100;, score=0.344 total time=   0.3s\n",
      "[CV 5/5] END algorithm=ball_tree, leaf_size=100, n_neighbors=100;, score=0.348 total time=   0.4s\n",
      "[CV 4/5] END algorithm=ball_tree, leaf_size=100, n_neighbors=333;, score=0.346 total time=   0.4s\n",
      "[CV 3/5] END algorithm=ball_tree, leaf_size=333, n_neighbors=10;, score=0.333 total time=   0.5s\n",
      "[CV 2/5] END algorithm=ball_tree, leaf_size=333, n_neighbors=33;, score=0.355 total time=   0.4s\n",
      "[CV 1/5] END algorithm=ball_tree, leaf_size=333, n_neighbors=100;, score=0.344 total time=   0.3s\n",
      "[CV 5/5] END algorithm=ball_tree, leaf_size=333, n_neighbors=100;, score=0.348 total time=   0.4s\n",
      "[CV 5/5] END algorithm=ball_tree, leaf_size=333, n_neighbors=333;, score=0.344 total time=   0.5s\n",
      "[CV 5/5] END algorithm=kd_tree, leaf_size=10, n_neighbors=10;, score=0.345 total time=   0.4s\n",
      "[CV 4/5] END algorithm=kd_tree, leaf_size=10, n_neighbors=33;, score=0.346 total time=   0.4s\n",
      "[CV 3/5] END algorithm=kd_tree, leaf_size=10, n_neighbors=100;, score=0.346 total time=   0.4s\n",
      "[CV 2/5] END algorithm=kd_tree, leaf_size=10, n_neighbors=333;, score=0.342 total time=   0.4s\n",
      "[CV 1/5] END algorithm=kd_tree, leaf_size=33, n_neighbors=10;, score=0.331 total time=   0.4s\n",
      "[CV 4/5] END algorithm=kd_tree, leaf_size=33, n_neighbors=10;, score=0.341 total time=   0.4s\n",
      "[CV 3/5] END algorithm=kd_tree, leaf_size=33, n_neighbors=33;, score=0.346 total time=   0.4s\n",
      "[CV 2/5] END algorithm=kd_tree, leaf_size=33, n_neighbors=100;, score=0.357 total time=   0.5s\n",
      "[CV 1/5] END algorithm=kd_tree, leaf_size=33, n_neighbors=333;, score=0.344 total time=   0.4s\n",
      "[CV 5/5] END algorithm=kd_tree, leaf_size=33, n_neighbors=333;, score=0.344 total time=   0.5s\n",
      "[CV 5/5] END algorithm=kd_tree, leaf_size=100, n_neighbors=10;, score=0.345 total time=   0.4s\n",
      "[CV 5/5] END algorithm=kd_tree, leaf_size=100, n_neighbors=33;, score=0.342 total time=   0.4s\n",
      "[CV 4/5] END algorithm=kd_tree, leaf_size=100, n_neighbors=100;, score=0.344 total time=   0.4s\n",
      "[CV 3/5] END algorithm=kd_tree, leaf_size=100, n_neighbors=333;, score=0.346 total time=   0.4s\n",
      "[CV 2/5] END algorithm=kd_tree, leaf_size=333, n_neighbors=10;, score=0.356 total time=   0.3s\n",
      "[CV 1/5] END algorithm=kd_tree, leaf_size=333, n_neighbors=33;, score=0.352 total time=   0.3s\n",
      "[CV 4/5] END algorithm=kd_tree, leaf_size=333, n_neighbors=33;, score=0.346 total time=   0.4s\n",
      "[CV 3/5] END algorithm=kd_tree, leaf_size=333, n_neighbors=100;, score=0.346 total time=   0.4s\n",
      "[CV 2/5] END algorithm=kd_tree, leaf_size=333, n_neighbors=333;, score=0.342 total time=   0.4s\n",
      "[CV 1/5] END algorithm=ball_tree, leaf_size=10, n_neighbors=10;, score=0.332 total time=   0.4s\n",
      "[CV 1/5] END algorithm=ball_tree, leaf_size=10, n_neighbors=33;, score=0.360 total time=   0.4s\n",
      "[CV 5/5] END algorithm=ball_tree, leaf_size=10, n_neighbors=33;, score=0.312 total time=   0.4s\n",
      "[CV 4/5] END algorithm=ball_tree, leaf_size=10, n_neighbors=100;, score=0.344 total time=   0.4s\n",
      "[CV 4/5] END algorithm=ball_tree, leaf_size=10, n_neighbors=333;, score=0.351 total time=   0.5s\n",
      "[CV 4/5] END algorithm=ball_tree, leaf_size=33, n_neighbors=10;, score=0.353 total time=   0.4s\n",
      "[CV 3/5] END algorithm=ball_tree, leaf_size=33, n_neighbors=33;, score=0.358 total time=   0.4s\n",
      "[CV 2/5] END algorithm=ball_tree, leaf_size=33, n_neighbors=100;, score=0.353 total time=   0.4s\n",
      "[CV 1/5] END algorithm=ball_tree, leaf_size=33, n_neighbors=333;, score=0.326 total time=   0.3s\n",
      "[CV 4/5] END algorithm=ball_tree, leaf_size=33, n_neighbors=333;, score=0.351 total time=   0.5s\n",
      "[CV 3/5] END algorithm=ball_tree, leaf_size=100, n_neighbors=10;, score=0.331 total time=   0.4s\n",
      "[CV 2/5] END algorithm=ball_tree, leaf_size=100, n_neighbors=33;, score=0.358 total time=   0.3s\n",
      "[CV 1/5] END algorithm=ball_tree, leaf_size=100, n_neighbors=100;, score=0.349 total time=   0.3s\n",
      "[CV 5/5] END algorithm=ball_tree, leaf_size=100, n_neighbors=100;, score=0.348 total time=   0.4s\n",
      "[CV 4/5] END algorithm=ball_tree, leaf_size=100, n_neighbors=333;, score=0.351 total time=   0.5s\n",
      "[CV 3/5] END algorithm=ball_tree, leaf_size=333, n_neighbors=10;, score=0.331 total time=   0.3s\n",
      "[CV 2/5] END algorithm=ball_tree, leaf_size=333, n_neighbors=33;, score=0.358 total time=   0.3s\n",
      "[CV 1/5] END algorithm=ball_tree, leaf_size=333, n_neighbors=100;, score=0.349 total time=   0.3s\n",
      "[CV 4/5] END algorithm=ball_tree, leaf_size=333, n_neighbors=100;, score=0.344 total time=   0.4s\n",
      "[CV 4/5] END algorithm=ball_tree, leaf_size=333, n_neighbors=333;, score=0.351 total time=   0.5s\n",
      "[CV 3/5] END algorithm=kd_tree, leaf_size=10, n_neighbors=10;, score=0.331 total time=   0.3s\n",
      "[CV 2/5] END algorithm=kd_tree, leaf_size=10, n_neighbors=33;, score=0.358 total time=   0.3s\n",
      "[CV 1/5] END algorithm=kd_tree, leaf_size=10, n_neighbors=100;, score=0.349 total time=   0.3s\n",
      "[CV 3/5] END algorithm=kd_tree, leaf_size=10, n_neighbors=100;, score=0.348 total time=   0.4s\n",
      "[CV 2/5] END algorithm=kd_tree, leaf_size=10, n_neighbors=333;, score=0.343 total time=   0.4s\n",
      "[CV 1/5] END algorithm=kd_tree, leaf_size=33, n_neighbors=10;, score=0.332 total time=   0.3s\n",
      "[CV 4/5] END algorithm=kd_tree, leaf_size=33, n_neighbors=10;, score=0.353 total time=   0.4s\n",
      "[CV 3/5] END algorithm=kd_tree, leaf_size=33, n_neighbors=33;, score=0.358 total time=   0.4s\n",
      "[CV 2/5] END algorithm=kd_tree, leaf_size=33, n_neighbors=100;, score=0.353 total time=   0.4s\n",
      "[CV 1/5] END algorithm=kd_tree, leaf_size=33, n_neighbors=333;, score=0.326 total time=   0.5s\n",
      "[CV 5/5] END algorithm=kd_tree, leaf_size=33, n_neighbors=333;, score=0.341 total time=   0.5s\n",
      "[CV 5/5] END algorithm=kd_tree, leaf_size=100, n_neighbors=10;, score=0.321 total time=   0.4s\n",
      "[CV 5/5] END algorithm=kd_tree, leaf_size=100, n_neighbors=33;, score=0.312 total time=   0.4s\n",
      "[CV 3/5] END algorithm=kd_tree, leaf_size=100, n_neighbors=100;, score=0.348 total time=   0.4s\n",
      "[CV 2/5] END algorithm=kd_tree, leaf_size=100, n_neighbors=333;, score=0.343 total time=   0.4s\n",
      "[CV 1/5] END algorithm=kd_tree, leaf_size=333, n_neighbors=10;, score=0.332 total time=   0.3s\n",
      "[CV 4/5] END algorithm=kd_tree, leaf_size=333, n_neighbors=10;, score=0.353 total time=   0.5s\n",
      "[CV 4/5] END algorithm=kd_tree, leaf_size=333, n_neighbors=33;, score=0.354 total time=   0.4s\n",
      "[CV 4/5] END algorithm=kd_tree, leaf_size=333, n_neighbors=100;, score=0.344 total time=   0.5s\n",
      "[CV 3/5] END algorithm=kd_tree, leaf_size=333, n_neighbors=333;, score=0.348 total time=   0.4s\n",
      "[CV 2/5] END algorithm=ball_tree, leaf_size=10, n_neighbors=10;, score=0.356 total time=   0.4s\n",
      "[CV 1/5] END algorithm=ball_tree, leaf_size=10, n_neighbors=33;, score=0.352 total time=   0.4s\n",
      "[CV 4/5] END algorithm=ball_tree, leaf_size=10, n_neighbors=33;, score=0.346 total time=   0.4s\n",
      "[CV 3/5] END algorithm=ball_tree, leaf_size=10, n_neighbors=100;, score=0.346 total time=   0.4s\n",
      "[CV 2/5] END algorithm=ball_tree, leaf_size=10, n_neighbors=333;, score=0.342 total time=   0.4s\n",
      "[CV 1/5] END algorithm=ball_tree, leaf_size=33, n_neighbors=10;, score=0.331 total time=   0.3s\n",
      "[CV 5/5] END algorithm=ball_tree, leaf_size=33, n_neighbors=10;, score=0.345 total time=   0.4s\n",
      "[CV 4/5] END algorithm=ball_tree, leaf_size=33, n_neighbors=33;, score=0.346 total time=   0.3s\n",
      "[CV 3/5] END algorithm=ball_tree, leaf_size=33, n_neighbors=100;, score=0.346 total time=   0.4s\n",
      "[CV 2/5] END algorithm=ball_tree, leaf_size=33, n_neighbors=333;, score=0.342 total time=   0.4s\n",
      "[CV 1/5] END algorithm=ball_tree, leaf_size=100, n_neighbors=10;, score=0.331 total time=   0.3s\n",
      "[CV 5/5] END algorithm=ball_tree, leaf_size=100, n_neighbors=10;, score=0.345 total time=   0.4s\n",
      "[CV 4/5] END algorithm=ball_tree, leaf_size=100, n_neighbors=33;, score=0.346 total time=   0.3s\n",
      "[CV 3/5] END algorithm=ball_tree, leaf_size=100, n_neighbors=100;, score=0.346 total time=   0.4s\n",
      "[CV 2/5] END algorithm=ball_tree, leaf_size=100, n_neighbors=333;, score=0.342 total time=   0.4s\n",
      "[CV 1/5] END algorithm=ball_tree, leaf_size=333, n_neighbors=10;, score=0.331 total time=   0.4s\n",
      "[CV 5/5] END algorithm=ball_tree, leaf_size=333, n_neighbors=10;, score=0.345 total time=   0.5s\n",
      "[CV 4/5] END algorithm=ball_tree, leaf_size=333, n_neighbors=33;, score=0.346 total time=   0.4s\n",
      "[CV 3/5] END algorithm=ball_tree, leaf_size=333, n_neighbors=100;, score=0.346 total time=   0.4s\n",
      "[CV 2/5] END algorithm=ball_tree, leaf_size=333, n_neighbors=333;, score=0.342 total time=   0.4s\n",
      "[CV 1/5] END algorithm=kd_tree, leaf_size=10, n_neighbors=10;, score=0.331 total time=   0.3s\n",
      "[CV 4/5] END algorithm=kd_tree, leaf_size=10, n_neighbors=10;, score=0.341 total time=   0.4s\n",
      "[CV 3/5] END algorithm=kd_tree, leaf_size=10, n_neighbors=33;, score=0.346 total time=   0.4s\n",
      "[CV 2/5] END algorithm=kd_tree, leaf_size=10, n_neighbors=100;, score=0.357 total time=   0.3s\n",
      "[CV 1/5] END algorithm=kd_tree, leaf_size=10, n_neighbors=333;, score=0.344 total time=   0.4s\n",
      "[CV 5/5] END algorithm=kd_tree, leaf_size=10, n_neighbors=333;, score=0.344 total time=   0.5s\n",
      "[CV 5/5] END algorithm=kd_tree, leaf_size=33, n_neighbors=10;, score=0.345 total time=   0.4s\n",
      "[CV 4/5] END algorithm=kd_tree, leaf_size=33, n_neighbors=33;, score=0.346 total time=   0.4s\n",
      "[CV 3/5] END algorithm=kd_tree, leaf_size=33, n_neighbors=100;, score=0.346 total time=   0.5s\n",
      "[CV 2/5] END algorithm=kd_tree, leaf_size=33, n_neighbors=333;, score=0.342 total time=   0.4s\n",
      "[CV 1/5] END algorithm=kd_tree, leaf_size=100, n_neighbors=10;, score=0.331 total time=   0.4s\n",
      "[CV 4/5] END algorithm=kd_tree, leaf_size=100, n_neighbors=10;, score=0.341 total time=   0.4s\n",
      "[CV 3/5] END algorithm=kd_tree, leaf_size=100, n_neighbors=33;, score=0.346 total time=   0.4s\n",
      "[CV 2/5] END algorithm=kd_tree, leaf_size=100, n_neighbors=100;, score=0.357 total time=   0.4s\n",
      "[CV 1/5] END algorithm=kd_tree, leaf_size=100, n_neighbors=333;, score=0.344 total time=   0.4s\n",
      "[CV 5/5] END algorithm=kd_tree, leaf_size=100, n_neighbors=333;, score=0.344 total time=   0.5s\n",
      "[CV 5/5] END algorithm=kd_tree, leaf_size=333, n_neighbors=10;, score=0.345 total time=   0.4s\n",
      "[CV 5/5] END algorithm=kd_tree, leaf_size=333, n_neighbors=33;, score=0.342 total time=   0.4s\n",
      "[CV 4/5] END algorithm=kd_tree, leaf_size=333, n_neighbors=100;, score=0.344 total time=   0.4s\n",
      "[CV 3/5] END algorithm=kd_tree, leaf_size=333, n_neighbors=333;, score=0.346 total time=   0.4s\n",
      "[CV 4/5] END algorithm=ball_tree, leaf_size=10, n_neighbors=10;, score=0.353 total time=   0.4s\n",
      "[CV 3/5] END algorithm=ball_tree, leaf_size=10, n_neighbors=33;, score=0.358 total time=   0.4s\n",
      "[CV 2/5] END algorithm=ball_tree, leaf_size=10, n_neighbors=100;, score=0.353 total time=   0.3s\n",
      "[CV 1/5] END algorithm=ball_tree, leaf_size=10, n_neighbors=333;, score=0.326 total time=   0.3s\n",
      "[CV 5/5] END algorithm=ball_tree, leaf_size=10, n_neighbors=333;, score=0.341 total time=   0.5s\n",
      "[CV 3/5] END algorithm=ball_tree, leaf_size=33, n_neighbors=10;, score=0.331 total time=   0.4s\n",
      "[CV 2/5] END algorithm=ball_tree, leaf_size=33, n_neighbors=33;, score=0.358 total time=   0.3s\n",
      "[CV 1/5] END algorithm=ball_tree, leaf_size=33, n_neighbors=100;, score=0.349 total time=   0.3s\n",
      "[CV 4/5] END algorithm=ball_tree, leaf_size=33, n_neighbors=100;, score=0.344 total time=   0.5s\n",
      "[CV 5/5] END algorithm=ball_tree, leaf_size=33, n_neighbors=333;, score=0.341 total time=   0.5s\n",
      "[CV 4/5] END algorithm=ball_tree, leaf_size=100, n_neighbors=10;, score=0.353 total time=   0.4s\n",
      "[CV 4/5] END algorithm=ball_tree, leaf_size=100, n_neighbors=33;, score=0.354 total time=   0.4s\n",
      "[CV 4/5] END algorithm=ball_tree, leaf_size=100, n_neighbors=100;, score=0.344 total time=   0.4s\n",
      "[CV 3/5] END algorithm=ball_tree, leaf_size=100, n_neighbors=333;, score=0.348 total time=   0.4s\n",
      "[CV 2/5] END algorithm=ball_tree, leaf_size=333, n_neighbors=10;, score=0.329 total time=   0.3s\n",
      "[CV 1/5] END algorithm=ball_tree, leaf_size=333, n_neighbors=33;, score=0.360 total time=   0.3s\n",
      "[CV 3/5] END algorithm=ball_tree, leaf_size=333, n_neighbors=33;, score=0.358 total time=   0.4s\n",
      "[CV 2/5] END algorithm=ball_tree, leaf_size=333, n_neighbors=100;, score=0.353 total time=   0.4s\n",
      "[CV 1/5] END algorithm=ball_tree, leaf_size=333, n_neighbors=333;, score=0.326 total time=   0.4s\n",
      "[CV 1/5] END algorithm=kd_tree, leaf_size=10, n_neighbors=10;, score=0.332 total time=   0.3s\n",
      "[CV 4/5] END algorithm=kd_tree, leaf_size=10, n_neighbors=10;, score=0.353 total time=   0.4s\n",
      "[CV 3/5] END algorithm=kd_tree, leaf_size=10, n_neighbors=33;, score=0.358 total time=   0.4s\n",
      "[CV 2/5] END algorithm=kd_tree, leaf_size=10, n_neighbors=100;, score=0.353 total time=   0.4s\n",
      "[CV 1/5] END algorithm=kd_tree, leaf_size=10, n_neighbors=333;, score=0.326 total time=   0.4s\n",
      "[CV 5/5] END algorithm=kd_tree, leaf_size=10, n_neighbors=333;, score=0.341 total time=   0.4s\n",
      "[CV 5/5] END algorithm=kd_tree, leaf_size=33, n_neighbors=10;, score=0.321 total time=   0.4s\n",
      "[CV 4/5] END algorithm=kd_tree, leaf_size=33, n_neighbors=33;, score=0.354 total time=   0.5s\n",
      "[CV 3/5] END algorithm=kd_tree, leaf_size=33, n_neighbors=100;, score=0.348 total time=   0.4s\n",
      "[CV 2/5] END algorithm=kd_tree, leaf_size=33, n_neighbors=333;, score=0.343 total time=   0.4s\n",
      "[CV 1/5] END algorithm=kd_tree, leaf_size=100, n_neighbors=10;, score=0.332 total time=   0.4s\n",
      "[CV 4/5] END algorithm=kd_tree, leaf_size=100, n_neighbors=10;, score=0.353 total time=   0.5s\n",
      "[CV 3/5] END algorithm=kd_tree, leaf_size=100, n_neighbors=33;, score=0.358 total time=   0.4s\n",
      "[CV 2/5] END algorithm=kd_tree, leaf_size=100, n_neighbors=100;, score=0.353 total time=   0.3s\n",
      "[CV 1/5] END algorithm=kd_tree, leaf_size=100, n_neighbors=333;, score=0.326 total time=   0.4s\n",
      "[CV 5/5] END algorithm=kd_tree, leaf_size=100, n_neighbors=333;, score=0.341 total time=   0.4s\n",
      "[CV 3/5] END algorithm=kd_tree, leaf_size=333, n_neighbors=10;, score=0.331 total time=   0.4s\n",
      "[CV 2/5] END algorithm=kd_tree, leaf_size=333, n_neighbors=33;, score=0.358 total time=   0.4s\n",
      "[CV 2/5] END algorithm=kd_tree, leaf_size=333, n_neighbors=100;, score=0.353 total time=   0.5s\n",
      "[CV 1/5] END algorithm=kd_tree, leaf_size=333, n_neighbors=333;, score=0.326 total time=   0.4s\n",
      "[CV 1/5] END algorithm=ball_tree, leaf_size=10, n_neighbors=10;, score=0.331 total time=   0.5s\n",
      "[CV 5/5] END algorithm=ball_tree, leaf_size=10, n_neighbors=10;, score=0.345 total time=   0.5s\n",
      "[CV 1/5] END algorithm=ball_tree, leaf_size=10, n_neighbors=100;, score=0.344 total time=   0.4s\n",
      "[CV 4/5] END algorithm=ball_tree, leaf_size=10, n_neighbors=100;, score=0.344 total time=   0.4s\n",
      "[CV 3/5] END algorithm=ball_tree, leaf_size=10, n_neighbors=333;, score=0.346 total time=   0.4s\n",
      "[CV 2/5] END algorithm=ball_tree, leaf_size=33, n_neighbors=10;, score=0.356 total time=   0.3s\n",
      "[CV 1/5] END algorithm=ball_tree, leaf_size=33, n_neighbors=33;, score=0.352 total time=   0.3s\n",
      "[CV 5/5] END algorithm=ball_tree, leaf_size=33, n_neighbors=33;, score=0.342 total time=   0.4s\n",
      "[CV 4/5] END algorithm=ball_tree, leaf_size=33, n_neighbors=100;, score=0.344 total time=   0.4s\n",
      "[CV 3/5] END algorithm=ball_tree, leaf_size=33, n_neighbors=333;, score=0.346 total time=   0.4s\n",
      "[CV 2/5] END algorithm=ball_tree, leaf_size=100, n_neighbors=10;, score=0.356 total time=   0.3s\n",
      "[CV 1/5] END algorithm=ball_tree, leaf_size=100, n_neighbors=33;, score=0.352 total time=   0.3s\n",
      "[CV 5/5] END algorithm=ball_tree, leaf_size=100, n_neighbors=33;, score=0.342 total time=   0.4s\n",
      "[CV 4/5] END algorithm=ball_tree, leaf_size=100, n_neighbors=100;, score=0.344 total time=   0.4s\n",
      "[CV 3/5] END algorithm=ball_tree, leaf_size=100, n_neighbors=333;, score=0.346 total time=   0.5s\n",
      "[CV 2/5] END algorithm=ball_tree, leaf_size=333, n_neighbors=10;, score=0.356 total time=   0.4s\n",
      "[CV 1/5] END algorithm=ball_tree, leaf_size=333, n_neighbors=33;, score=0.352 total time=   0.4s\n",
      "[CV 5/5] END algorithm=ball_tree, leaf_size=333, n_neighbors=33;, score=0.342 total time=   0.4s\n",
      "[CV 4/5] END algorithm=ball_tree, leaf_size=333, n_neighbors=100;, score=0.344 total time=   0.4s\n",
      "[CV 3/5] END algorithm=ball_tree, leaf_size=333, n_neighbors=333;, score=0.346 total time=   0.4s\n",
      "[CV 2/5] END algorithm=kd_tree, leaf_size=10, n_neighbors=10;, score=0.356 total time=   0.3s\n",
      "[CV 1/5] END algorithm=kd_tree, leaf_size=10, n_neighbors=33;, score=0.352 total time=   0.3s\n",
      "[CV 5/5] END algorithm=kd_tree, leaf_size=10, n_neighbors=33;, score=0.342 total time=   0.4s\n",
      "[CV 4/5] END algorithm=kd_tree, leaf_size=10, n_neighbors=100;, score=0.344 total time=   0.4s\n",
      "[CV 3/5] END algorithm=kd_tree, leaf_size=10, n_neighbors=333;, score=0.346 total time=   0.5s\n",
      "[CV 2/5] END algorithm=kd_tree, leaf_size=33, n_neighbors=10;, score=0.356 total time=   0.4s\n",
      "[CV 1/5] END algorithm=kd_tree, leaf_size=33, n_neighbors=33;, score=0.352 total time=   0.4s\n",
      "[CV 5/5] END algorithm=kd_tree, leaf_size=33, n_neighbors=33;, score=0.342 total time=   0.5s\n",
      "[CV 5/5] END algorithm=kd_tree, leaf_size=33, n_neighbors=100;, score=0.348 total time=   0.5s\n",
      "[CV 4/5] END algorithm=kd_tree, leaf_size=33, n_neighbors=333;, score=0.346 total time=   0.5s\n",
      "[CV 3/5] END algorithm=kd_tree, leaf_size=100, n_neighbors=10;, score=0.333 total time=   0.4s\n",
      "[CV 2/5] END algorithm=kd_tree, leaf_size=100, n_neighbors=33;, score=0.355 total time=   0.3s\n",
      "[CV 1/5] END algorithm=kd_tree, leaf_size=100, n_neighbors=100;, score=0.344 total time=   0.3s\n",
      "[CV 5/5] END algorithm=kd_tree, leaf_size=100, n_neighbors=100;, score=0.348 total time=   0.4s\n",
      "[CV 4/5] END algorithm=kd_tree, leaf_size=100, n_neighbors=333;, score=0.346 total time=   0.5s\n",
      "[CV 3/5] END algorithm=kd_tree, leaf_size=333, n_neighbors=10;, score=0.333 total time=   0.4s\n",
      "[CV 2/5] END algorithm=kd_tree, leaf_size=333, n_neighbors=33;, score=0.355 total time=   0.3s\n",
      "[CV 1/5] END algorithm=kd_tree, leaf_size=333, n_neighbors=100;, score=0.344 total time=   0.3s\n",
      "[CV 5/5] END algorithm=kd_tree, leaf_size=333, n_neighbors=100;, score=0.348 total time=   0.5s\n",
      "[CV 4/5] END algorithm=kd_tree, leaf_size=333, n_neighbors=333;, score=0.346 total time=   0.4s\n",
      "[CV 2/5] END algorithm=ball_tree, leaf_size=10, n_neighbors=10;, score=0.329 total time=   0.3s\n",
      "[CV 5/5] END algorithm=ball_tree, leaf_size=10, n_neighbors=10;, score=0.321 total time=   0.4s\n",
      "[CV 4/5] END algorithm=ball_tree, leaf_size=10, n_neighbors=33;, score=0.354 total time=   0.4s\n",
      "[CV 5/5] END algorithm=ball_tree, leaf_size=10, n_neighbors=100;, score=0.348 total time=   0.4s\n",
      "[CV 2/5] END algorithm=ball_tree, leaf_size=10, n_neighbors=333;, score=0.343 total time=   0.5s\n",
      "[CV 1/5] END algorithm=ball_tree, leaf_size=33, n_neighbors=10;, score=0.332 total time=   0.3s\n",
      "[CV 5/5] END algorithm=ball_tree, leaf_size=33, n_neighbors=10;, score=0.321 total time=   0.4s\n",
      "[CV 5/5] END algorithm=ball_tree, leaf_size=33, n_neighbors=33;, score=0.312 total time=   0.4s\n",
      "[CV 3/5] END algorithm=ball_tree, leaf_size=33, n_neighbors=100;, score=0.348 total time=   0.4s\n",
      "[CV 2/5] END algorithm=ball_tree, leaf_size=33, n_neighbors=333;, score=0.343 total time=   0.4s\n",
      "[CV 1/5] END algorithm=ball_tree, leaf_size=100, n_neighbors=10;, score=0.332 total time=   0.3s\n",
      "[CV 5/5] END algorithm=ball_tree, leaf_size=100, n_neighbors=10;, score=0.321 total time=   0.4s\n",
      "[CV 3/5] END algorithm=ball_tree, leaf_size=100, n_neighbors=33;, score=0.358 total time=   0.4s\n",
      "[CV 2/5] END algorithm=ball_tree, leaf_size=100, n_neighbors=100;, score=0.353 total time=   0.3s\n",
      "[CV 1/5] END algorithm=ball_tree, leaf_size=100, n_neighbors=333;, score=0.326 total time=   0.4s\n",
      "[CV 5/5] END algorithm=ball_tree, leaf_size=100, n_neighbors=333;, score=0.341 total time=   0.4s\n",
      "[CV 5/5] END algorithm=ball_tree, leaf_size=333, n_neighbors=10;, score=0.321 total time=   0.4s\n",
      "[CV 4/5] END algorithm=ball_tree, leaf_size=333, n_neighbors=33;, score=0.354 total time=   0.4s\n",
      "[CV 3/5] END algorithm=ball_tree, leaf_size=333, n_neighbors=100;, score=0.348 total time=   0.4s\n",
      "[CV 2/5] END algorithm=ball_tree, leaf_size=333, n_neighbors=333;, score=0.343 total time=   0.4s\n",
      "[CV 5/5] END algorithm=ball_tree, leaf_size=333, n_neighbors=333;, score=0.341 total time=   0.4s\n",
      "[CV 1/5] END algorithm=kd_tree, leaf_size=10, n_neighbors=33;, score=0.360 total time=   0.3s\n",
      "[CV 4/5] END algorithm=kd_tree, leaf_size=10, n_neighbors=33;, score=0.354 total time=   0.5s\n",
      "[CV 5/5] END algorithm=kd_tree, leaf_size=10, n_neighbors=100;, score=0.348 total time=   0.4s\n",
      "[CV 4/5] END algorithm=kd_tree, leaf_size=10, n_neighbors=333;, score=0.351 total time=   0.5s\n",
      "[CV 3/5] END algorithm=kd_tree, leaf_size=33, n_neighbors=10;, score=0.331 total time=   0.4s\n",
      "[CV 2/5] END algorithm=kd_tree, leaf_size=33, n_neighbors=33;, score=0.358 total time=   0.4s\n",
      "[CV 1/5] END algorithm=kd_tree, leaf_size=33, n_neighbors=100;, score=0.349 total time=   0.3s\n",
      "[CV 5/5] END algorithm=kd_tree, leaf_size=33, n_neighbors=100;, score=0.348 total time=   0.5s\n",
      "[CV 3/5] END algorithm=kd_tree, leaf_size=33, n_neighbors=333;, score=0.348 total time=   0.5s\n",
      "[CV 2/5] END algorithm=kd_tree, leaf_size=100, n_neighbors=10;, score=0.329 total time=   0.3s\n",
      "[CV 1/5] END algorithm=kd_tree, leaf_size=100, n_neighbors=33;, score=0.360 total time=   0.4s\n",
      "[CV 4/5] END algorithm=kd_tree, leaf_size=100, n_neighbors=33;, score=0.354 total time=   0.5s\n",
      "[CV 5/5] END algorithm=kd_tree, leaf_size=100, n_neighbors=100;, score=0.348 total time=   0.4s\n",
      "[CV 3/5] END algorithm=kd_tree, leaf_size=100, n_neighbors=333;, score=0.348 total time=   0.4s\n",
      "[CV 2/5] END algorithm=kd_tree, leaf_size=333, n_neighbors=10;, score=0.329 total time=   0.3s\n",
      "[CV 1/5] END algorithm=kd_tree, leaf_size=333, n_neighbors=33;, score=0.360 total time=   0.3s\n",
      "[CV 3/5] END algorithm=kd_tree, leaf_size=333, n_neighbors=33;, score=0.358 total time=   0.4s\n",
      "[CV 1/5] END algorithm=kd_tree, leaf_size=333, n_neighbors=100;, score=0.349 total time=   0.4s\n",
      "[CV 5/5] END algorithm=kd_tree, leaf_size=333, n_neighbors=100;, score=0.348 total time=   0.4s\n",
      "[CV 4/5] END algorithm=kd_tree, leaf_size=333, n_neighbors=333;, score=0.351 total time=   0.5s\n",
      "[CV 3/5] END algorithm=ball_tree, leaf_size=10, n_neighbors=10;, score=0.333 total time=   0.5s\n",
      "[CV 3/5] END algorithm=ball_tree, leaf_size=10, n_neighbors=33;, score=0.346 total time=   0.5s\n",
      "[CV 2/5] END algorithm=ball_tree, leaf_size=10, n_neighbors=100;, score=0.357 total time=   0.4s\n",
      "[CV 1/5] END algorithm=ball_tree, leaf_size=10, n_neighbors=333;, score=0.344 total time=   0.4s\n",
      "[CV 5/5] END algorithm=ball_tree, leaf_size=10, n_neighbors=333;, score=0.344 total time=   0.5s\n",
      "[CV 4/5] END algorithm=ball_tree, leaf_size=33, n_neighbors=10;, score=0.341 total time=   0.3s\n",
      "[CV 3/5] END algorithm=ball_tree, leaf_size=33, n_neighbors=33;, score=0.346 total time=   0.3s\n",
      "[CV 2/5] END algorithm=ball_tree, leaf_size=33, n_neighbors=100;, score=0.357 total time=   0.3s\n",
      "[CV 1/5] END algorithm=ball_tree, leaf_size=33, n_neighbors=333;, score=0.344 total time=   0.4s\n",
      "[CV 5/5] END algorithm=ball_tree, leaf_size=33, n_neighbors=333;, score=0.344 total time=   0.4s\n",
      "[CV 4/5] END algorithm=ball_tree, leaf_size=100, n_neighbors=10;, score=0.341 total time=   0.3s\n",
      "[CV 3/5] END algorithm=ball_tree, leaf_size=100, n_neighbors=33;, score=0.346 total time=   0.4s\n",
      "[CV 2/5] END algorithm=ball_tree, leaf_size=100, n_neighbors=100;, score=0.357 total time=   0.3s\n",
      "[CV 1/5] END algorithm=ball_tree, leaf_size=100, n_neighbors=333;, score=0.344 total time=   0.4s\n",
      "[CV 5/5] END algorithm=ball_tree, leaf_size=100, n_neighbors=333;, score=0.344 total time=   0.5s\n",
      "[CV 4/5] END algorithm=ball_tree, leaf_size=333, n_neighbors=10;, score=0.341 total time=   0.4s\n",
      "[CV 3/5] END algorithm=ball_tree, leaf_size=333, n_neighbors=33;, score=0.346 total time=   0.4s\n",
      "[CV 2/5] END algorithm=ball_tree, leaf_size=333, n_neighbors=100;, score=0.357 total time=   0.3s\n",
      "[CV 1/5] END algorithm=ball_tree, leaf_size=333, n_neighbors=333;, score=0.344 total time=   0.4s\n",
      "[CV 4/5] END algorithm=ball_tree, leaf_size=333, n_neighbors=333;, score=0.346 total time=   0.4s\n",
      "[CV 3/5] END algorithm=kd_tree, leaf_size=10, n_neighbors=10;, score=0.333 total time=   0.4s\n",
      "[CV 2/5] END algorithm=kd_tree, leaf_size=10, n_neighbors=33;, score=0.355 total time=   0.3s\n",
      "[CV 1/5] END algorithm=kd_tree, leaf_size=10, n_neighbors=100;, score=0.344 total time=   0.3s\n",
      "[CV 5/5] END algorithm=kd_tree, leaf_size=10, n_neighbors=100;, score=0.348 total time=   0.4s\n",
      "[CV 4/5] END algorithm=kd_tree, leaf_size=10, n_neighbors=333;, score=0.346 total time=   0.4s\n",
      "[CV 3/5] END algorithm=kd_tree, leaf_size=33, n_neighbors=10;, score=0.333 total time=   0.4s\n",
      "[CV 2/5] END algorithm=kd_tree, leaf_size=33, n_neighbors=33;, score=0.355 total time=   0.4s\n",
      "[CV 1/5] END algorithm=kd_tree, leaf_size=33, n_neighbors=100;, score=0.344 total time=   0.4s\n",
      "[CV 4/5] END algorithm=kd_tree, leaf_size=33, n_neighbors=100;, score=0.344 total time=   0.4s\n",
      "[CV 3/5] END algorithm=kd_tree, leaf_size=33, n_neighbors=333;, score=0.346 total time=   0.5s\n",
      "[CV 2/5] END algorithm=kd_tree, leaf_size=100, n_neighbors=10;, score=0.356 total time=   0.4s\n",
      "[CV 1/5] END algorithm=kd_tree, leaf_size=100, n_neighbors=33;, score=0.352 total time=   0.3s\n",
      "[CV 4/5] END algorithm=kd_tree, leaf_size=100, n_neighbors=33;, score=0.346 total time=   0.4s\n",
      "[CV 3/5] END algorithm=kd_tree, leaf_size=100, n_neighbors=100;, score=0.346 total time=   0.4s\n",
      "[CV 2/5] END algorithm=kd_tree, leaf_size=100, n_neighbors=333;, score=0.342 total time=   0.4s\n",
      "[CV 1/5] END algorithm=kd_tree, leaf_size=333, n_neighbors=10;, score=0.331 total time=   0.3s\n",
      "[CV 4/5] END algorithm=kd_tree, leaf_size=333, n_neighbors=10;, score=0.341 total time=   0.4s\n",
      "[CV 3/5] END algorithm=kd_tree, leaf_size=333, n_neighbors=33;, score=0.346 total time=   0.4s\n",
      "[CV 2/5] END algorithm=kd_tree, leaf_size=333, n_neighbors=100;, score=0.357 total time=   0.4s\n",
      "[CV 1/5] END algorithm=kd_tree, leaf_size=333, n_neighbors=333;, score=0.344 total time=   0.5s\n",
      "[CV 5/5] END algorithm=kd_tree, leaf_size=333, n_neighbors=333;, score=0.344 total time=   0.4s\n",
      "Fitting 5 folds for each of 6 candidates, totalling 30 fits\n"
     ]
    },
    {
     "name": "stderr",
     "output_type": "stream",
     "text": [
      "/home/juan/.pyenv/versions/3.8.9/envs/universidad/lib/python3.8/site-packages/sklearn/neighbors/_base.py:501: UserWarning: cannot use tree with sparse input: using brute force\n",
      "  warnings.warn(\"cannot use tree with sparse input: using brute force\")\n",
      "/home/juan/.pyenv/versions/3.8.9/envs/universidad/lib/python3.8/site-packages/sklearn/neighbors/_base.py:501: UserWarning: cannot use tree with sparse input: using brute force\n",
      "  warnings.warn(\"cannot use tree with sparse input: using brute force\")\n",
      "/home/juan/.pyenv/versions/3.8.9/envs/universidad/lib/python3.8/site-packages/sklearn/neighbors/_base.py:501: UserWarning: cannot use tree with sparse input: using brute force\n",
      "  warnings.warn(\"cannot use tree with sparse input: using brute force\")\n",
      "/home/juan/.pyenv/versions/3.8.9/envs/universidad/lib/python3.8/site-packages/sklearn/neighbors/_base.py:501: UserWarning: cannot use tree with sparse input: using brute force\n",
      "  warnings.warn(\"cannot use tree with sparse input: using brute force\")\n",
      "/home/juan/.pyenv/versions/3.8.9/envs/universidad/lib/python3.8/site-packages/sklearn/neighbors/_base.py:501: UserWarning: cannot use tree with sparse input: using brute force\n",
      "  warnings.warn(\"cannot use tree with sparse input: using brute force\")\n",
      "/home/juan/.pyenv/versions/3.8.9/envs/universidad/lib/python3.8/site-packages/sklearn/neighbors/_base.py:501: UserWarning: cannot use tree with sparse input: using brute force\n",
      "  warnings.warn(\"cannot use tree with sparse input: using brute force\")\n",
      "/home/juan/.pyenv/versions/3.8.9/envs/universidad/lib/python3.8/site-packages/sklearn/neighbors/_base.py:501: UserWarning: cannot use tree with sparse input: using brute force\n",
      "  warnings.warn(\"cannot use tree with sparse input: using brute force\")\n",
      "/home/juan/.pyenv/versions/3.8.9/envs/universidad/lib/python3.8/site-packages/sklearn/neighbors/_base.py:501: UserWarning: cannot use tree with sparse input: using brute force\n",
      "  warnings.warn(\"cannot use tree with sparse input: using brute force\")\n",
      "/home/juan/.pyenv/versions/3.8.9/envs/universidad/lib/python3.8/site-packages/sklearn/neighbors/_base.py:501: UserWarning: cannot use tree with sparse input: using brute force\n",
      "  warnings.warn(\"cannot use tree with sparse input: using brute force\")\n",
      "/home/juan/.pyenv/versions/3.8.9/envs/universidad/lib/python3.8/site-packages/sklearn/neighbors/_base.py:501: UserWarning: cannot use tree with sparse input: using brute force\n",
      "  warnings.warn(\"cannot use tree with sparse input: using brute force\")\n",
      "/home/juan/.pyenv/versions/3.8.9/envs/universidad/lib/python3.8/site-packages/sklearn/neighbors/_base.py:501: UserWarning: cannot use tree with sparse input: using brute force\n",
      "  warnings.warn(\"cannot use tree with sparse input: using brute force\")\n",
      "/home/juan/.pyenv/versions/3.8.9/envs/universidad/lib/python3.8/site-packages/sklearn/neighbors/_base.py:501: UserWarning: cannot use tree with sparse input: using brute force\n",
      "  warnings.warn(\"cannot use tree with sparse input: using brute force\")\n",
      "/home/juan/.pyenv/versions/3.8.9/envs/universidad/lib/python3.8/site-packages/sklearn/neighbors/_base.py:501: UserWarning: cannot use tree with sparse input: using brute force\n",
      "  warnings.warn(\"cannot use tree with sparse input: using brute force\")\n",
      "/home/juan/.pyenv/versions/3.8.9/envs/universidad/lib/python3.8/site-packages/sklearn/neighbors/_base.py:501: UserWarning: cannot use tree with sparse input: using brute force\n",
      "  warnings.warn(\"cannot use tree with sparse input: using brute force\")\n",
      "/home/juan/.pyenv/versions/3.8.9/envs/universidad/lib/python3.8/site-packages/sklearn/neighbors/_base.py:501: UserWarning: cannot use tree with sparse input: using brute force\n",
      "  warnings.warn(\"cannot use tree with sparse input: using brute force\")\n",
      "/home/juan/.pyenv/versions/3.8.9/envs/universidad/lib/python3.8/site-packages/sklearn/neighbors/_base.py:501: UserWarning: cannot use tree with sparse input: using brute force\n",
      "  warnings.warn(\"cannot use tree with sparse input: using brute force\")\n",
      "/home/juan/.pyenv/versions/3.8.9/envs/universidad/lib/python3.8/site-packages/sklearn/neighbors/_base.py:501: UserWarning: cannot use tree with sparse input: using brute force\n",
      "  warnings.warn(\"cannot use tree with sparse input: using brute force\")\n",
      "/home/juan/.pyenv/versions/3.8.9/envs/universidad/lib/python3.8/site-packages/sklearn/neighbors/_base.py:501: UserWarning: cannot use tree with sparse input: using brute force\n",
      "  warnings.warn(\"cannot use tree with sparse input: using brute force\")\n",
      "/home/juan/.pyenv/versions/3.8.9/envs/universidad/lib/python3.8/site-packages/sklearn/neighbors/_base.py:501: UserWarning: cannot use tree with sparse input: using brute force\n",
      "  warnings.warn(\"cannot use tree with sparse input: using brute force\")\n",
      "/home/juan/.pyenv/versions/3.8.9/envs/universidad/lib/python3.8/site-packages/sklearn/neighbors/_base.py:501: UserWarning: cannot use tree with sparse input: using brute force\n",
      "  warnings.warn(\"cannot use tree with sparse input: using brute force\")\n",
      "/home/juan/.pyenv/versions/3.8.9/envs/universidad/lib/python3.8/site-packages/sklearn/neighbors/_base.py:501: UserWarning: cannot use tree with sparse input: using brute force\n",
      "  warnings.warn(\"cannot use tree with sparse input: using brute force\")\n",
      "/home/juan/.pyenv/versions/3.8.9/envs/universidad/lib/python3.8/site-packages/sklearn/neighbors/_base.py:501: UserWarning: cannot use tree with sparse input: using brute force\n",
      "  warnings.warn(\"cannot use tree with sparse input: using brute force\")\n",
      "/home/juan/.pyenv/versions/3.8.9/envs/universidad/lib/python3.8/site-packages/sklearn/neighbors/_base.py:501: UserWarning: cannot use tree with sparse input: using brute force\n",
      "  warnings.warn(\"cannot use tree with sparse input: using brute force\")\n",
      "/home/juan/.pyenv/versions/3.8.9/envs/universidad/lib/python3.8/site-packages/sklearn/neighbors/_base.py:501: UserWarning: cannot use tree with sparse input: using brute force\n",
      "  warnings.warn(\"cannot use tree with sparse input: using brute force\")\n",
      "/home/juan/.pyenv/versions/3.8.9/envs/universidad/lib/python3.8/site-packages/sklearn/neighbors/_base.py:501: UserWarning: cannot use tree with sparse input: using brute force\n",
      "  warnings.warn(\"cannot use tree with sparse input: using brute force\")\n",
      "/home/juan/.pyenv/versions/3.8.9/envs/universidad/lib/python3.8/site-packages/sklearn/neighbors/_base.py:501: UserWarning: cannot use tree with sparse input: using brute force\n",
      "  warnings.warn(\"cannot use tree with sparse input: using brute force\")\n",
      "/home/juan/.pyenv/versions/3.8.9/envs/universidad/lib/python3.8/site-packages/sklearn/neighbors/_base.py:501: UserWarning: cannot use tree with sparse input: using brute force\n",
      "  warnings.warn(\"cannot use tree with sparse input: using brute force\")\n",
      "/home/juan/.pyenv/versions/3.8.9/envs/universidad/lib/python3.8/site-packages/sklearn/neighbors/_base.py:501: UserWarning: cannot use tree with sparse input: using brute force\n",
      "  warnings.warn(\"cannot use tree with sparse input: using brute force\")\n",
      "/home/juan/.pyenv/versions/3.8.9/envs/universidad/lib/python3.8/site-packages/sklearn/neighbors/_base.py:501: UserWarning: cannot use tree with sparse input: using brute force\n",
      "  warnings.warn(\"cannot use tree with sparse input: using brute force\")\n",
      "/home/juan/.pyenv/versions/3.8.9/envs/universidad/lib/python3.8/site-packages/sklearn/neighbors/_base.py:501: UserWarning: cannot use tree with sparse input: using brute force\n",
      "  warnings.warn(\"cannot use tree with sparse input: using brute force\")\n",
      "/home/juan/.pyenv/versions/3.8.9/envs/universidad/lib/python3.8/site-packages/sklearn/neighbors/_base.py:501: UserWarning: cannot use tree with sparse input: using brute force\n",
      "  warnings.warn(\"cannot use tree with sparse input: using brute force\")\n",
      "/home/juan/.pyenv/versions/3.8.9/envs/universidad/lib/python3.8/site-packages/sklearn/neighbors/_base.py:501: UserWarning: cannot use tree with sparse input: using brute force\n",
      "  warnings.warn(\"cannot use tree with sparse input: using brute force\")\n",
      "/home/juan/.pyenv/versions/3.8.9/envs/universidad/lib/python3.8/site-packages/sklearn/neighbors/_base.py:501: UserWarning: cannot use tree with sparse input: using brute force\n",
      "  warnings.warn(\"cannot use tree with sparse input: using brute force\")\n",
      "/home/juan/.pyenv/versions/3.8.9/envs/universidad/lib/python3.8/site-packages/sklearn/neighbors/_base.py:501: UserWarning: cannot use tree with sparse input: using brute force\n",
      "  warnings.warn(\"cannot use tree with sparse input: using brute force\")\n",
      "/home/juan/.pyenv/versions/3.8.9/envs/universidad/lib/python3.8/site-packages/sklearn/neighbors/_base.py:501: UserWarning: cannot use tree with sparse input: using brute force\n",
      "  warnings.warn(\"cannot use tree with sparse input: using brute force\")\n",
      "/home/juan/.pyenv/versions/3.8.9/envs/universidad/lib/python3.8/site-packages/sklearn/neighbors/_base.py:501: UserWarning: cannot use tree with sparse input: using brute force\n",
      "  warnings.warn(\"cannot use tree with sparse input: using brute force\")\n",
      "/home/juan/.pyenv/versions/3.8.9/envs/universidad/lib/python3.8/site-packages/sklearn/neighbors/_base.py:501: UserWarning: cannot use tree with sparse input: using brute force\n",
      "  warnings.warn(\"cannot use tree with sparse input: using brute force\")\n",
      "/home/juan/.pyenv/versions/3.8.9/envs/universidad/lib/python3.8/site-packages/sklearn/neighbors/_base.py:501: UserWarning: cannot use tree with sparse input: using brute force\n",
      "  warnings.warn(\"cannot use tree with sparse input: using brute force\")\n",
      "/home/juan/.pyenv/versions/3.8.9/envs/universidad/lib/python3.8/site-packages/sklearn/neighbors/_base.py:501: UserWarning: cannot use tree with sparse input: using brute force\n",
      "  warnings.warn(\"cannot use tree with sparse input: using brute force\")\n",
      "/home/juan/.pyenv/versions/3.8.9/envs/universidad/lib/python3.8/site-packages/sklearn/neighbors/_base.py:501: UserWarning: cannot use tree with sparse input: using brute force\n",
      "  warnings.warn(\"cannot use tree with sparse input: using brute force\")\n",
      "/home/juan/.pyenv/versions/3.8.9/envs/universidad/lib/python3.8/site-packages/sklearn/neighbors/_base.py:501: UserWarning: cannot use tree with sparse input: using brute force\n",
      "  warnings.warn(\"cannot use tree with sparse input: using brute force\")\n",
      "/home/juan/.pyenv/versions/3.8.9/envs/universidad/lib/python3.8/site-packages/sklearn/neighbors/_base.py:501: UserWarning: cannot use tree with sparse input: using brute force\n",
      "  warnings.warn(\"cannot use tree with sparse input: using brute force\")\n",
      "/home/juan/.pyenv/versions/3.8.9/envs/universidad/lib/python3.8/site-packages/sklearn/neighbors/_base.py:501: UserWarning: cannot use tree with sparse input: using brute force\n",
      "  warnings.warn(\"cannot use tree with sparse input: using brute force\")\n",
      "/home/juan/.pyenv/versions/3.8.9/envs/universidad/lib/python3.8/site-packages/sklearn/neighbors/_base.py:501: UserWarning: cannot use tree with sparse input: using brute force\n",
      "  warnings.warn(\"cannot use tree with sparse input: using brute force\")\n",
      "/home/juan/.pyenv/versions/3.8.9/envs/universidad/lib/python3.8/site-packages/sklearn/neighbors/_base.py:501: UserWarning: cannot use tree with sparse input: using brute force\n",
      "  warnings.warn(\"cannot use tree with sparse input: using brute force\")\n",
      "/home/juan/.pyenv/versions/3.8.9/envs/universidad/lib/python3.8/site-packages/sklearn/neighbors/_base.py:501: UserWarning: cannot use tree with sparse input: using brute force\n",
      "  warnings.warn(\"cannot use tree with sparse input: using brute force\")\n",
      "/home/juan/.pyenv/versions/3.8.9/envs/universidad/lib/python3.8/site-packages/sklearn/neighbors/_base.py:501: UserWarning: cannot use tree with sparse input: using brute force\n",
      "  warnings.warn(\"cannot use tree with sparse input: using brute force\")\n",
      "/home/juan/.pyenv/versions/3.8.9/envs/universidad/lib/python3.8/site-packages/sklearn/neighbors/_base.py:501: UserWarning: cannot use tree with sparse input: using brute force\n",
      "  warnings.warn(\"cannot use tree with sparse input: using brute force\")\n",
      "/home/juan/.pyenv/versions/3.8.9/envs/universidad/lib/python3.8/site-packages/sklearn/neighbors/_base.py:501: UserWarning: cannot use tree with sparse input: using brute force\n",
      "  warnings.warn(\"cannot use tree with sparse input: using brute force\")\n",
      "/home/juan/.pyenv/versions/3.8.9/envs/universidad/lib/python3.8/site-packages/sklearn/neighbors/_base.py:501: UserWarning: cannot use tree with sparse input: using brute force\n",
      "  warnings.warn(\"cannot use tree with sparse input: using brute force\")\n",
      "/home/juan/.pyenv/versions/3.8.9/envs/universidad/lib/python3.8/site-packages/sklearn/neighbors/_base.py:501: UserWarning: cannot use tree with sparse input: using brute force\n",
      "  warnings.warn(\"cannot use tree with sparse input: using brute force\")\n",
      "/home/juan/.pyenv/versions/3.8.9/envs/universidad/lib/python3.8/site-packages/sklearn/neighbors/_base.py:501: UserWarning: cannot use tree with sparse input: using brute force\n",
      "  warnings.warn(\"cannot use tree with sparse input: using brute force\")\n",
      "/home/juan/.pyenv/versions/3.8.9/envs/universidad/lib/python3.8/site-packages/sklearn/neighbors/_base.py:501: UserWarning: cannot use tree with sparse input: using brute force\n",
      "  warnings.warn(\"cannot use tree with sparse input: using brute force\")\n",
      "/home/juan/.pyenv/versions/3.8.9/envs/universidad/lib/python3.8/site-packages/sklearn/neighbors/_base.py:501: UserWarning: cannot use tree with sparse input: using brute force\n",
      "  warnings.warn(\"cannot use tree with sparse input: using brute force\")\n",
      "/home/juan/.pyenv/versions/3.8.9/envs/universidad/lib/python3.8/site-packages/sklearn/neighbors/_base.py:501: UserWarning: cannot use tree with sparse input: using brute force\n",
      "  warnings.warn(\"cannot use tree with sparse input: using brute force\")\n",
      "/home/juan/.pyenv/versions/3.8.9/envs/universidad/lib/python3.8/site-packages/sklearn/neighbors/_base.py:501: UserWarning: cannot use tree with sparse input: using brute force\n",
      "  warnings.warn(\"cannot use tree with sparse input: using brute force\")\n"
     ]
    },
    {
     "name": "stdout",
     "output_type": "stream",
     "text": [
      "Fitting 5 folds for each of 6 candidates, totalling 30 fits\n"
     ]
    },
    {
     "data": {
      "text/plain": [
       "GridSearchCV(cv=5, estimator=LogisticRegression(), n_jobs=-1,\n",
       "             param_grid={'C': [1e-05, 0.001, 0.1, 1.0, 10.0, 100.0]},\n",
       "             verbose=5)"
      ]
     },
     "execution_count": 60,
     "metadata": {},
     "output_type": "execute_result"
    }
   ],
   "source": [
    "param_grid_ = {'C': [1e-5, 1e-3, 1e-1, 1e0, 1e1, 1e2]}\n",
    "\n",
    "bow_search = GridSearchCV(LogisticRegression(), cv=5, param_grid=param_grid_, n_jobs = -1, verbose = 5)\n",
    "tfidf_search = GridSearchCV(LogisticRegression(), cv=5, param_grid=param_grid_, n_jobs = -1, verbose = 5)\n",
    "bow_search.fit(X_tr_bow, y_tr)\n",
    "tfidf_search.fit(X_tr_tfidf, y_tr)"
   ]
  },
  {
   "cell_type": "code",
   "execution_count": 61,
   "metadata": {},
   "outputs": [
    {
     "data": {
      "text/plain": [
       "{'C': 0.1}"
      ]
     },
     "execution_count": 61,
     "metadata": {},
     "output_type": "execute_result"
    }
   ],
   "source": [
    "bow_search.best_params_"
   ]
  },
  {
   "cell_type": "code",
   "execution_count": 62,
   "metadata": {},
   "outputs": [
    {
     "data": {
      "text/plain": [
       "{'C': 0.001}"
      ]
     },
     "execution_count": 62,
     "metadata": {},
     "output_type": "execute_result"
    }
   ],
   "source": [
    "tfidf_search.best_params_"
   ]
  },
  {
   "cell_type": "code",
   "execution_count": 63,
   "metadata": {},
   "outputs": [
    {
     "name": "stdout",
     "output_type": "stream",
     "text": [
      "Test Score with bow features 0.37738853503184716\n",
      "Test Score with tfidf features 0.3580527752502275\n"
     ]
    }
   ],
   "source": [
    "logistic_model_bow = simple_logistic_classify(X_tr_bow, y_tr, X_te_bow, y_te, \"bow\", _C=0.1)\n",
    "logistic_model_tfidf =  simple_logistic_classify(X_tr_bow, y_tr, X_te_bow, y_te, \"tfidf\",_C=0.001)"
   ]
  },
  {
   "cell_type": "code",
   "execution_count": 64,
   "metadata": {},
   "outputs": [
    {
     "name": "stdout",
     "output_type": "stream",
     "text": [
      "---------------- BOW ----------------\n",
      "Exactitud sobre entrenamiento: 0.94\n",
      "Exactitud sobre test: 0.38\n",
      "              precision    recall  f1-score   support\n",
      "\n",
      "        -1.0       0.37      0.27      0.31      1489\n",
      "         0.0       0.47      0.22      0.30      1445\n",
      "         1.0       0.36      0.65      0.46      1462\n",
      "\n",
      "    accuracy                           0.38      4396\n",
      "   macro avg       0.40      0.38      0.36      4396\n",
      "weighted avg       0.40      0.38      0.36      4396\n",
      "\n",
      "---------------- TFIDF ----------------\n",
      "Exactitud sobre entrenamiento: 0.80\n",
      "Exactitud sobre test: 0.37\n",
      "              precision    recall  f1-score   support\n",
      "\n",
      "        -1.0       0.36      0.23      0.28      1489\n",
      "         0.0       0.45      0.20      0.28      1445\n",
      "         1.0       0.36      0.68      0.47      1462\n",
      "\n",
      "    accuracy                           0.37      4396\n",
      "   macro avg       0.39      0.37      0.34      4396\n",
      "weighted avg       0.39      0.37      0.34      4396\n",
      "\n"
     ]
    }
   ],
   "source": [
    "y_pred_train = logistic_model_bow.predict(X_tr_bow)\n",
    "y_pred_test = logistic_model_bow.predict(X_te_bow)\n",
    "\n",
    "print(\"---------------- BOW ----------------\")\n",
    "print('Exactitud sobre entrenamiento: %.2f' % accuracy_score(y_tr, y_pred_train))\n",
    "print('Exactitud sobre test: %.2f' % accuracy_score(y_te, y_pred_test))\n",
    "print(classification_report(y_te, y_pred_test))\n",
    "\n",
    "precision, recall, fscore, _ = score(y_te, y_pred_test)\n",
    "\n",
    "new_data = pd.DataFrame({'Modelo': ['logistic BOW'],\n",
    "                         'label':  ['Negativo'],\n",
    "                         'F1 score': [fscore[0]],\n",
    "                         'precision': [precision[0]],\n",
    "                         'recall': [recall[0]],\n",
    "                        })\n",
    "df_results = pd.concat([df_results, new_data], ignore_index = True, axis = 0)\n",
    "new_data = pd.DataFrame({'Modelo': ['logistic BOW'],\n",
    "                         'label':  ['Positivo'],\n",
    "                         'F1 score': [fscore[1]],\n",
    "                         'precision': [precision[1]],\n",
    "                         'recall': [recall[1]],\n",
    "                        })\n",
    "df_results = pd.concat([df_results, new_data], ignore_index = True, axis = 0)\n",
    "\n",
    "y_pred_train = logistic_model_tfidf.predict(X_tr_tfidf)\n",
    "y_pred_test = logistic_model_tfidf.predict(X_te_tfidf)\n",
    "\n",
    "print(\"---------------- TFIDF ----------------\")\n",
    "print('Exactitud sobre entrenamiento: %.2f' % accuracy_score(y_tr, y_pred_train))\n",
    "print('Exactitud sobre test: %.2f' % accuracy_score(y_te, y_pred_test))\n",
    "print(classification_report(y_te, y_pred_test))\n",
    "\n",
    "precision, recall, fscore, _ = score(y_te, y_pred_test)\n",
    "\n",
    "new_data = pd.DataFrame({'Modelo': ['logistic TFIDF'],\n",
    "                         'label':  ['Negativo'],\n",
    "                         'F1 score': [fscore[0]],\n",
    "                         'precision': [precision[0]],\n",
    "                         'recall': [recall[0]],\n",
    "                        })\n",
    "df_results = pd.concat([df_results, new_data], ignore_index = True, axis = 0)\n",
    "new_data = pd.DataFrame({'Modelo': ['logistic TFIDF'],\n",
    "                         'label':  ['Positivo'],\n",
    "                         'F1 score': [fscore[1]],\n",
    "                         'precision': [precision[1]],\n",
    "                         'recall': [recall[1]],\n",
    "                        })\n",
    "df_results = pd.concat([df_results, new_data], ignore_index = True, axis = 0)"
   ]
  },
  {
   "cell_type": "code",
   "execution_count": 65,
   "metadata": {},
   "outputs": [
    {
     "data": {
      "image/png": "[encoded data removed]",
      "text/plain": [
       "<Figure size 432x288 with 2 Axes>"
      ]
     },
     "metadata": {},
     "output_type": "display_data"
    }
   ],
   "source": [
    "# Se puede visualizar la matriz de confusión\n",
    "confusion_matrix(y_te, y_pred_test)\n",
    "plot_confusion_matrix(logistic_model_bow, X_te_bow, y_te)  \n",
    "plt.show()"
   ]
  },
  {
   "cell_type": "code",
   "execution_count": 66,
   "metadata": {},
   "outputs": [
    {
     "data": {
      "image/png": "[encoded data removed]",
      "text/plain": [
       "<Figure size 432x288 with 2 Axes>"
      ]
     },
     "metadata": {},
     "output_type": "display_data"
    }
   ],
   "source": [
    "# Se puede visualizar la matriz de confusión\n",
    "confusion_matrix(y_te, y_pred_test)\n",
    "plot_confusion_matrix(logistic_model_tfidf, X_te_tfidf, y_te)  \n",
    "plt.show()"
   ]
  },
  {
   "cell_type": "markdown",
   "metadata": {},
   "source": [
    "# Interpretación y analisis de resultados\n",
    "\n",
    "Se muestran graficas en las que se puede comparar el resultado obtenido para cada uno de los modelos implementados, asi se puede elegir el modelo con mayor desempeño"
   ]
  },
  {
   "cell_type": "code",
   "execution_count": 67,
   "metadata": {},
   "outputs": [
    {
     "data": {
      "text/html": [
       "<div>\n",
       "<style scoped>\n",
       "    .dataframe tbody tr th:only-of-type {\n",
       "        vertical-align: middle;\n",
       "    }\n",
       "\n",
       "    .dataframe tbody tr th {\n",
       "        vertical-align: top;\n",
       "    }\n",
       "\n",
       "    .dataframe thead th {\n",
       "        text-align: right;\n",
       "    }\n",
       "</style>\n",
       "<table border=\"1\" class=\"dataframe\">\n",
       "  <thead>\n",
       "    <tr style=\"text-align: right;\">\n",
       "      <th></th>\n",
       "      <th>Modelo</th>\n",
       "      <th>label</th>\n",
       "      <th>F1 score</th>\n",
       "      <th>precision</th>\n",
       "      <th>recall</th>\n",
       "    </tr>\n",
       "  </thead>\n",
       "  <tbody>\n",
       "    <tr>\n",
       "      <th>0</th>\n",
       "      <td>KNN BOW</td>\n",
       "      <td>Negativo</td>\n",
       "      <td>0.461638</td>\n",
       "      <td>0.339892</td>\n",
       "      <td>0.719275</td>\n",
       "    </tr>\n",
       "    <tr>\n",
       "      <th>1</th>\n",
       "      <td>KNN BOW</td>\n",
       "      <td>Positivo</td>\n",
       "      <td>0.175400</td>\n",
       "      <td>0.432065</td>\n",
       "      <td>0.110035</td>\n",
       "    </tr>\n",
       "    <tr>\n",
       "      <th>2</th>\n",
       "      <td>KNN TFIDF</td>\n",
       "      <td>Negativo</td>\n",
       "      <td>0.468365</td>\n",
       "      <td>0.342440</td>\n",
       "      <td>0.740766</td>\n",
       "    </tr>\n",
       "    <tr>\n",
       "      <th>3</th>\n",
       "      <td>KNN TFIDF</td>\n",
       "      <td>Positivo</td>\n",
       "      <td>0.187229</td>\n",
       "      <td>0.429280</td>\n",
       "      <td>0.119723</td>\n",
       "    </tr>\n",
       "    <tr>\n",
       "      <th>4</th>\n",
       "      <td>GNB BOW</td>\n",
       "      <td>Negativo</td>\n",
       "      <td>0.270683</td>\n",
       "      <td>0.409524</td>\n",
       "      <td>0.202149</td>\n",
       "    </tr>\n",
       "    <tr>\n",
       "      <th>5</th>\n",
       "      <td>GNB BOW</td>\n",
       "      <td>Positivo</td>\n",
       "      <td>0.470588</td>\n",
       "      <td>0.343402</td>\n",
       "      <td>0.747405</td>\n",
       "    </tr>\n",
       "    <tr>\n",
       "      <th>6</th>\n",
       "      <td>GNB TFIDF</td>\n",
       "      <td>Negativo</td>\n",
       "      <td>0.271020</td>\n",
       "      <td>0.405622</td>\n",
       "      <td>0.203492</td>\n",
       "    </tr>\n",
       "    <tr>\n",
       "      <th>7</th>\n",
       "      <td>GNB TFIDF</td>\n",
       "      <td>Positivo</td>\n",
       "      <td>0.468908</td>\n",
       "      <td>0.343529</td>\n",
       "      <td>0.738408</td>\n",
       "    </tr>\n",
       "    <tr>\n",
       "      <th>8</th>\n",
       "      <td>logistic BOW</td>\n",
       "      <td>Negativo</td>\n",
       "      <td>0.308709</td>\n",
       "      <td>0.366574</td>\n",
       "      <td>0.266622</td>\n",
       "    </tr>\n",
       "    <tr>\n",
       "      <th>9</th>\n",
       "      <td>logistic BOW</td>\n",
       "      <td>Positivo</td>\n",
       "      <td>0.296860</td>\n",
       "      <td>0.474886</td>\n",
       "      <td>0.215917</td>\n",
       "    </tr>\n",
       "    <tr>\n",
       "      <th>10</th>\n",
       "      <td>logistic TFIDF</td>\n",
       "      <td>Negativo</td>\n",
       "      <td>0.284430</td>\n",
       "      <td>0.363257</td>\n",
       "      <td>0.233714</td>\n",
       "    </tr>\n",
       "    <tr>\n",
       "      <th>11</th>\n",
       "      <td>logistic TFIDF</td>\n",
       "      <td>Positivo</td>\n",
       "      <td>0.278736</td>\n",
       "      <td>0.452566</td>\n",
       "      <td>0.201384</td>\n",
       "    </tr>\n",
       "  </tbody>\n",
       "</table>\n",
       "</div>"
      ],
      "text/plain": [
       "            Modelo     label  F1 score  precision    recall\n",
       "0          KNN BOW  Negativo  0.461638   0.339892  0.719275\n",
       "1          KNN BOW  Positivo  0.175400   0.432065  0.110035\n",
       "2        KNN TFIDF  Negativo  0.468365   0.342440  0.740766\n",
       "3        KNN TFIDF  Positivo  0.187229   0.429280  0.119723\n",
       "4          GNB BOW  Negativo  0.270683   0.409524  0.202149\n",
       "5          GNB BOW  Positivo  0.470588   0.343402  0.747405\n",
       "6        GNB TFIDF  Negativo  0.271020   0.405622  0.203492\n",
       "7        GNB TFIDF  Positivo  0.468908   0.343529  0.738408\n",
       "8     logistic BOW  Negativo  0.308709   0.366574  0.266622\n",
       "9     logistic BOW  Positivo  0.296860   0.474886  0.215917\n",
       "10  logistic TFIDF  Negativo  0.284430   0.363257  0.233714\n",
       "11  logistic TFIDF  Positivo  0.278736   0.452566  0.201384"
      ]
     },
     "execution_count": 67,
     "metadata": {},
     "output_type": "execute_result"
    }
   ],
   "source": [
    "df_results"
   ]
  },
  {
   "cell_type": "code",
   "execution_count": 68,
   "metadata": {},
   "outputs": [
    {
     "data": {
      "text/plain": [
       "<AxesSubplot:xlabel='Modelo', ylabel='recall'>"
      ]
     },
     "execution_count": 68,
     "metadata": {},
     "output_type": "execute_result"
    },
    {
     "data": {
      "image/png": "[encoded data removed]",
      "text/plain": [
       "<Figure size 1440x1152 with 3 Axes>"
      ]
     },
     "metadata": {},
     "output_type": "display_data"
    },
    {
     "name": "stdout",
     "output_type": "stream",
     "text": [
      "[CV 3/5] END ...........................C=0.001;, score=0.360 total time=   1.5s\n",
      "[CV 5/5] END .............................C=0.1;, score=0.370 total time=  12.9s\n",
      "[CV 3/5] END ............................C=10.0;, score=0.363 total time=  17.8s\n",
      "[CV 4/5] END ...........................C=100.0;, score=0.351 total time=  11.9s\n",
      "[CV 1/5] END ...........................C=0.001;, score=0.365 total time=   4.2s\n",
      "[CV 4/5] END .............................C=0.1;, score=0.355 total time=  18.4s\n",
      "[CV 2/5] END ............................C=10.0;, score=0.375 total time=  18.2s\n"
     ]
    },
    {
     "name": "stderr",
     "output_type": "stream",
     "text": [
      "/home/juan/.pyenv/versions/3.8.9/envs/universidad/lib/python3.8/site-packages/sklearn/linear_model/_logistic.py:814: ConvergenceWarning: lbfgs failed to converge (status=1):\n",
      "STOP: TOTAL NO. of ITERATIONS REACHED LIMIT.\n",
      "\n",
      "Increase the number of iterations (max_iter) or scale the data as shown in:\n",
      "    https://scikit-learn.org/stable/modules/preprocessing.html\n",
      "Please also refer to the documentation for alternative solver options:\n",
      "    https://scikit-learn.org/stable/modules/linear_model.html#logistic-regression\n",
      "  n_iter_i = _check_optimize_result(\n",
      "/home/juan/.pyenv/versions/3.8.9/envs/universidad/lib/python3.8/site-packages/sklearn/linear_model/_logistic.py:814: ConvergenceWarning: lbfgs failed to converge (status=1):\n",
      "STOP: TOTAL NO. of ITERATIONS REACHED LIMIT.\n",
      "\n",
      "Increase the number of iterations (max_iter) or scale the data as shown in:\n",
      "    https://scikit-learn.org/stable/modules/preprocessing.html\n",
      "Please also refer to the documentation for alternative solver options:\n",
      "    https://scikit-learn.org/stable/modules/linear_model.html#logistic-regression\n",
      "  n_iter_i = _check_optimize_result(\n",
      "/home/juan/.pyenv/versions/3.8.9/envs/universidad/lib/python3.8/site-packages/sklearn/linear_model/_logistic.py:814: ConvergenceWarning: lbfgs failed to converge (status=1):\n",
      "STOP: TOTAL NO. of ITERATIONS REACHED LIMIT.\n",
      "\n",
      "Increase the number of iterations (max_iter) or scale the data as shown in:\n",
      "    https://scikit-learn.org/stable/modules/preprocessing.html\n",
      "Please also refer to the documentation for alternative solver options:\n",
      "    https://scikit-learn.org/stable/modules/linear_model.html#logistic-regression\n",
      "  n_iter_i = _check_optimize_result(\n",
      "/home/juan/.pyenv/versions/3.8.9/envs/universidad/lib/python3.8/site-packages/sklearn/linear_model/_logistic.py:814: ConvergenceWarning: lbfgs failed to converge (status=1):\n",
      "STOP: TOTAL NO. of ITERATIONS REACHED LIMIT.\n",
      "\n",
      "Increase the number of iterations (max_iter) or scale the data as shown in:\n",
      "    https://scikit-learn.org/stable/modules/preprocessing.html\n",
      "Please also refer to the documentation for alternative solver options:\n",
      "    https://scikit-learn.org/stable/modules/linear_model.html#logistic-regression\n",
      "  n_iter_i = _check_optimize_result(\n"
     ]
    },
    {
     "name": "stdout",
     "output_type": "stream",
     "text": [
      "[CV 3/5] END ...........................C=1e-05;, score=0.340 total time=   1.7s\n",
      "[CV 3/5] END .............................C=0.1;, score=0.360 total time=  12.8s\n",
      "[CV 2/5] END ............................C=10.0;, score=0.373 total time=  18.7s\n",
      "[CV 1/5] END ...........................C=1e-05;, score=0.366 total time=   1.9s\n",
      "[CV 4/5] END ...........................C=0.001;, score=0.371 total time=   4.0s\n",
      "[CV 2/5] END .............................C=1.0;, score=0.373 total time=  17.3s\n",
      "[CV 5/5] END ............................C=10.0;, score=0.367 total time=  18.4s\n"
     ]
    },
    {
     "name": "stderr",
     "output_type": "stream",
     "text": [
      "/home/juan/.pyenv/versions/3.8.9/envs/universidad/lib/python3.8/site-packages/sklearn/linear_model/_logistic.py:814: ConvergenceWarning: lbfgs failed to converge (status=1):\n",
      "STOP: TOTAL NO. of ITERATIONS REACHED LIMIT.\n",
      "\n",
      "Increase the number of iterations (max_iter) or scale the data as shown in:\n",
      "    https://scikit-learn.org/stable/modules/preprocessing.html\n",
      "Please also refer to the documentation for alternative solver options:\n",
      "    https://scikit-learn.org/stable/modules/linear_model.html#logistic-regression\n",
      "  n_iter_i = _check_optimize_result(\n",
      "/home/juan/.pyenv/versions/3.8.9/envs/universidad/lib/python3.8/site-packages/sklearn/linear_model/_logistic.py:814: ConvergenceWarning: lbfgs failed to converge (status=1):\n",
      "STOP: TOTAL NO. of ITERATIONS REACHED LIMIT.\n",
      "\n",
      "Increase the number of iterations (max_iter) or scale the data as shown in:\n",
      "    https://scikit-learn.org/stable/modules/preprocessing.html\n",
      "Please also refer to the documentation for alternative solver options:\n",
      "    https://scikit-learn.org/stable/modules/linear_model.html#logistic-regression\n",
      "  n_iter_i = _check_optimize_result(\n",
      "/home/juan/.pyenv/versions/3.8.9/envs/universidad/lib/python3.8/site-packages/sklearn/linear_model/_logistic.py:814: ConvergenceWarning: lbfgs failed to converge (status=1):\n",
      "STOP: TOTAL NO. of ITERATIONS REACHED LIMIT.\n",
      "\n",
      "Increase the number of iterations (max_iter) or scale the data as shown in:\n",
      "    https://scikit-learn.org/stable/modules/preprocessing.html\n",
      "Please also refer to the documentation for alternative solver options:\n",
      "    https://scikit-learn.org/stable/modules/linear_model.html#logistic-regression\n",
      "  n_iter_i = _check_optimize_result(\n"
     ]
    },
    {
     "name": "stdout",
     "output_type": "stream",
     "text": [
      "[CV 5/5] END ...........................C=1e-05;, score=0.338 total time=   1.5s\n",
      "[CV 2/5] END .............................C=0.1;, score=0.365 total time=  11.8s\n",
      "[CV 4/5] END .............................C=1.0;, score=0.360 total time=  19.0s\n",
      "[CV 2/5] END ...........................C=100.0;, score=0.369 total time=  12.1s\n",
      "[CV 3/5] END ...........................C=0.001;, score=0.363 total time=   4.4s\n",
      "[CV 1/5] END .............................C=1.0;, score=0.363 total time=  18.6s\n",
      "[CV 4/5] END ............................C=10.0;, score=0.354 total time=  19.1s\n"
     ]
    },
    {
     "name": "stderr",
     "output_type": "stream",
     "text": [
      "/home/juan/.pyenv/versions/3.8.9/envs/universidad/lib/python3.8/site-packages/sklearn/linear_model/_logistic.py:814: ConvergenceWarning: lbfgs failed to converge (status=1):\n",
      "STOP: TOTAL NO. of ITERATIONS REACHED LIMIT.\n",
      "\n",
      "Increase the number of iterations (max_iter) or scale the data as shown in:\n",
      "    https://scikit-learn.org/stable/modules/preprocessing.html\n",
      "Please also refer to the documentation for alternative solver options:\n",
      "    https://scikit-learn.org/stable/modules/linear_model.html#logistic-regression\n",
      "  n_iter_i = _check_optimize_result(\n",
      "/home/juan/.pyenv/versions/3.8.9/envs/universidad/lib/python3.8/site-packages/sklearn/linear_model/_logistic.py:814: ConvergenceWarning: lbfgs failed to converge (status=1):\n",
      "STOP: TOTAL NO. of ITERATIONS REACHED LIMIT.\n",
      "\n",
      "Increase the number of iterations (max_iter) or scale the data as shown in:\n",
      "    https://scikit-learn.org/stable/modules/preprocessing.html\n",
      "Please also refer to the documentation for alternative solver options:\n",
      "    https://scikit-learn.org/stable/modules/linear_model.html#logistic-regression\n",
      "  n_iter_i = _check_optimize_result(\n",
      "/home/juan/.pyenv/versions/3.8.9/envs/universidad/lib/python3.8/site-packages/sklearn/linear_model/_logistic.py:814: ConvergenceWarning: lbfgs failed to converge (status=1):\n",
      "STOP: TOTAL NO. of ITERATIONS REACHED LIMIT.\n",
      "\n",
      "Increase the number of iterations (max_iter) or scale the data as shown in:\n",
      "    https://scikit-learn.org/stable/modules/preprocessing.html\n",
      "Please also refer to the documentation for alternative solver options:\n",
      "    https://scikit-learn.org/stable/modules/linear_model.html#logistic-regression\n",
      "  n_iter_i = _check_optimize_result(\n",
      "/home/juan/.pyenv/versions/3.8.9/envs/universidad/lib/python3.8/site-packages/sklearn/linear_model/_logistic.py:814: ConvergenceWarning: lbfgs failed to converge (status=1):\n",
      "STOP: TOTAL NO. of ITERATIONS REACHED LIMIT.\n",
      "\n",
      "Increase the number of iterations (max_iter) or scale the data as shown in:\n",
      "    https://scikit-learn.org/stable/modules/preprocessing.html\n",
      "Please also refer to the documentation for alternative solver options:\n",
      "    https://scikit-learn.org/stable/modules/linear_model.html#logistic-regression\n",
      "  n_iter_i = _check_optimize_result(\n"
     ]
    },
    {
     "name": "stdout",
     "output_type": "stream",
     "text": [
      "[CV 4/5] END ...........................C=1e-05;, score=0.340 total time=   1.5s\n",
      "[CV 5/5] END ...........................C=0.001;, score=0.353 total time=   1.5s\n",
      "[CV 3/5] END .............................C=1.0;, score=0.364 total time=  18.4s\n",
      "[CV 1/5] END ...........................C=100.0;, score=0.354 total time=  17.3s\n",
      "[CV 3/5] END ...........................C=1e-05;, score=0.354 total time=   2.0s\n",
      "[CV 5/5] END ...........................C=0.001;, score=0.374 total time=   4.7s\n",
      "[CV 3/5] END .............................C=1.0;, score=0.361 total time=  18.9s\n",
      "[CV 1/5] END ...........................C=100.0;, score=0.352 total time=  17.5s\n"
     ]
    },
    {
     "name": "stderr",
     "output_type": "stream",
     "text": [
      "/home/juan/.pyenv/versions/3.8.9/envs/universidad/lib/python3.8/site-packages/sklearn/linear_model/_logistic.py:814: ConvergenceWarning: lbfgs failed to converge (status=1):\n",
      "STOP: TOTAL NO. of ITERATIONS REACHED LIMIT.\n",
      "\n",
      "Increase the number of iterations (max_iter) or scale the data as shown in:\n",
      "    https://scikit-learn.org/stable/modules/preprocessing.html\n",
      "Please also refer to the documentation for alternative solver options:\n",
      "    https://scikit-learn.org/stable/modules/linear_model.html#logistic-regression\n",
      "  n_iter_i = _check_optimize_result(\n",
      "/home/juan/.pyenv/versions/3.8.9/envs/universidad/lib/python3.8/site-packages/sklearn/linear_model/_logistic.py:814: ConvergenceWarning: lbfgs failed to converge (status=1):\n",
      "STOP: TOTAL NO. of ITERATIONS REACHED LIMIT.\n",
      "\n",
      "Increase the number of iterations (max_iter) or scale the data as shown in:\n",
      "    https://scikit-learn.org/stable/modules/preprocessing.html\n",
      "Please also refer to the documentation for alternative solver options:\n",
      "    https://scikit-learn.org/stable/modules/linear_model.html#logistic-regression\n",
      "  n_iter_i = _check_optimize_result(\n",
      "/home/juan/.pyenv/versions/3.8.9/envs/universidad/lib/python3.8/site-packages/sklearn/linear_model/_logistic.py:814: ConvergenceWarning: lbfgs failed to converge (status=1):\n",
      "STOP: TOTAL NO. of ITERATIONS REACHED LIMIT.\n",
      "\n",
      "Increase the number of iterations (max_iter) or scale the data as shown in:\n",
      "    https://scikit-learn.org/stable/modules/preprocessing.html\n",
      "Please also refer to the documentation for alternative solver options:\n",
      "    https://scikit-learn.org/stable/modules/linear_model.html#logistic-regression\n",
      "  n_iter_i = _check_optimize_result(\n",
      "/home/juan/.pyenv/versions/3.8.9/envs/universidad/lib/python3.8/site-packages/sklearn/linear_model/_logistic.py:814: ConvergenceWarning: lbfgs failed to converge (status=1):\n",
      "STOP: TOTAL NO. of ITERATIONS REACHED LIMIT.\n",
      "\n",
      "Increase the number of iterations (max_iter) or scale the data as shown in:\n",
      "    https://scikit-learn.org/stable/modules/preprocessing.html\n",
      "Please also refer to the documentation for alternative solver options:\n",
      "    https://scikit-learn.org/stable/modules/linear_model.html#logistic-regression\n",
      "  n_iter_i = _check_optimize_result(\n"
     ]
    },
    {
     "name": "stdout",
     "output_type": "stream",
     "text": [
      "[CV 2/5] END ...........................C=1e-05;, score=0.335 total time=   1.5s\n",
      "[CV 1/5] END .............................C=0.1;, score=0.363 total time=  12.6s\n",
      "[CV 1/5] END ............................C=10.0;, score=0.367 total time=  18.5s\n",
      "[CV 5/5] END ...........................C=100.0;, score=0.366 total time=  11.8s\n",
      "[CV 5/5] END ...........................C=1e-05;, score=0.349 total time=   2.2s\n",
      "[CV 3/5] END .............................C=0.1;, score=0.361 total time=  17.9s\n",
      "[CV 4/5] END .............................C=1.0;, score=0.360 total time=  18.7s\n",
      "[CV 2/5] END ...........................C=100.0;, score=0.368 total time=  10.7s\n",
      "[CV 1/5] END ...........................C=1e-05;, score=0.341 total time=   1.5s\n",
      "[CV 4/5] END ...........................C=0.001;, score=0.361 total time=   1.2s\n",
      "[CV 2/5] END .............................C=1.0;, score=0.362 total time=  18.2s\n",
      "[CV 5/5] END ............................C=10.0;, score=0.370 total time=  18.1s\n",
      "[CV 4/5] END ...........................C=1e-05;, score=0.358 total time=   2.1s\n",
      "[CV 2/5] END .............................C=0.1;, score=0.367 total time=  18.4s\n",
      "[CV 1/5] END ............................C=10.0;, score=0.360 total time=  18.6s\n",
      "[CV 3/5] END ...........................C=100.0;, score=0.363 total time=  10.6s\n",
      "[CV 2/5] END ...........................C=0.001;, score=0.353 total time=   1.6s\n",
      "[CV 1/5] END .............................C=1.0;, score=0.364 total time=  18.7s\n",
      "[CV 4/5] END ............................C=10.0;, score=0.356 total time=  18.0s\n",
      "[CV 2/5] END ...........................C=1e-05;, score=0.352 total time=   2.1s\n",
      "[CV 1/5] END .............................C=0.1;, score=0.364 total time=  18.3s\n",
      "[CV 5/5] END .............................C=1.0;, score=0.367 total time=  18.8s\n",
      "[CV 4/5] END ...........................C=100.0;, score=0.352 total time=  10.7s\n"
     ]
    },
    {
     "name": "stderr",
     "output_type": "stream",
     "text": [
      "/home/juan/.pyenv/versions/3.8.9/envs/universidad/lib/python3.8/site-packages/sklearn/linear_model/_logistic.py:814: ConvergenceWarning: lbfgs failed to converge (status=1):\n",
      "STOP: TOTAL NO. of ITERATIONS REACHED LIMIT.\n",
      "\n",
      "Increase the number of iterations (max_iter) or scale the data as shown in:\n",
      "    https://scikit-learn.org/stable/modules/preprocessing.html\n",
      "Please also refer to the documentation for alternative solver options:\n",
      "    https://scikit-learn.org/stable/modules/linear_model.html#logistic-regression\n",
      "  n_iter_i = _check_optimize_result(\n",
      "/home/juan/.pyenv/versions/3.8.9/envs/universidad/lib/python3.8/site-packages/sklearn/linear_model/_logistic.py:814: ConvergenceWarning: lbfgs failed to converge (status=1):\n",
      "STOP: TOTAL NO. of ITERATIONS REACHED LIMIT.\n",
      "\n",
      "Increase the number of iterations (max_iter) or scale the data as shown in:\n",
      "    https://scikit-learn.org/stable/modules/preprocessing.html\n",
      "Please also refer to the documentation for alternative solver options:\n",
      "    https://scikit-learn.org/stable/modules/linear_model.html#logistic-regression\n",
      "  n_iter_i = _check_optimize_result(\n",
      "/home/juan/.pyenv/versions/3.8.9/envs/universidad/lib/python3.8/site-packages/sklearn/linear_model/_logistic.py:814: ConvergenceWarning: lbfgs failed to converge (status=1):\n",
      "STOP: TOTAL NO. of ITERATIONS REACHED LIMIT.\n",
      "\n",
      "Increase the number of iterations (max_iter) or scale the data as shown in:\n",
      "    https://scikit-learn.org/stable/modules/preprocessing.html\n",
      "Please also refer to the documentation for alternative solver options:\n",
      "    https://scikit-learn.org/stable/modules/linear_model.html#logistic-regression\n",
      "  n_iter_i = _check_optimize_result(\n",
      "/home/juan/.pyenv/versions/3.8.9/envs/universidad/lib/python3.8/site-packages/sklearn/linear_model/_logistic.py:814: ConvergenceWarning: lbfgs failed to converge (status=1):\n",
      "STOP: TOTAL NO. of ITERATIONS REACHED LIMIT.\n",
      "\n",
      "Increase the number of iterations (max_iter) or scale the data as shown in:\n",
      "    https://scikit-learn.org/stable/modules/preprocessing.html\n",
      "Please also refer to the documentation for alternative solver options:\n",
      "    https://scikit-learn.org/stable/modules/linear_model.html#logistic-regression\n",
      "  n_iter_i = _check_optimize_result(\n",
      "/home/juan/.pyenv/versions/3.8.9/envs/universidad/lib/python3.8/site-packages/sklearn/linear_model/_logistic.py:814: ConvergenceWarning: lbfgs failed to converge (status=1):\n",
      "STOP: TOTAL NO. of ITERATIONS REACHED LIMIT.\n",
      "\n",
      "Increase the number of iterations (max_iter) or scale the data as shown in:\n",
      "    https://scikit-learn.org/stable/modules/preprocessing.html\n",
      "Please also refer to the documentation for alternative solver options:\n",
      "    https://scikit-learn.org/stable/modules/linear_model.html#logistic-regression\n",
      "  n_iter_i = _check_optimize_result(\n",
      "/home/juan/.pyenv/versions/3.8.9/envs/universidad/lib/python3.8/site-packages/sklearn/linear_model/_logistic.py:814: ConvergenceWarning: lbfgs failed to converge (status=1):\n",
      "STOP: TOTAL NO. of ITERATIONS REACHED LIMIT.\n",
      "\n",
      "Increase the number of iterations (max_iter) or scale the data as shown in:\n",
      "    https://scikit-learn.org/stable/modules/preprocessing.html\n",
      "Please also refer to the documentation for alternative solver options:\n",
      "    https://scikit-learn.org/stable/modules/linear_model.html#logistic-regression\n",
      "  n_iter_i = _check_optimize_result(\n",
      "/home/juan/.pyenv/versions/3.8.9/envs/universidad/lib/python3.8/site-packages/sklearn/linear_model/_logistic.py:814: ConvergenceWarning: lbfgs failed to converge (status=1):\n",
      "STOP: TOTAL NO. of ITERATIONS REACHED LIMIT.\n",
      "\n",
      "Increase the number of iterations (max_iter) or scale the data as shown in:\n",
      "    https://scikit-learn.org/stable/modules/preprocessing.html\n",
      "Please also refer to the documentation for alternative solver options:\n",
      "    https://scikit-learn.org/stable/modules/linear_model.html#logistic-regression\n",
      "  n_iter_i = _check_optimize_result(\n",
      "/home/juan/.pyenv/versions/3.8.9/envs/universidad/lib/python3.8/site-packages/sklearn/linear_model/_logistic.py:814: ConvergenceWarning: lbfgs failed to converge (status=1):\n",
      "STOP: TOTAL NO. of ITERATIONS REACHED LIMIT.\n",
      "\n",
      "Increase the number of iterations (max_iter) or scale the data as shown in:\n",
      "    https://scikit-learn.org/stable/modules/preprocessing.html\n",
      "Please also refer to the documentation for alternative solver options:\n",
      "    https://scikit-learn.org/stable/modules/linear_model.html#logistic-regression\n",
      "  n_iter_i = _check_optimize_result(\n",
      "/home/juan/.pyenv/versions/3.8.9/envs/universidad/lib/python3.8/site-packages/sklearn/linear_model/_logistic.py:814: ConvergenceWarning: lbfgs failed to converge (status=1):\n",
      "STOP: TOTAL NO. of ITERATIONS REACHED LIMIT.\n",
      "\n",
      "Increase the number of iterations (max_iter) or scale the data as shown in:\n",
      "    https://scikit-learn.org/stable/modules/preprocessing.html\n",
      "Please also refer to the documentation for alternative solver options:\n",
      "    https://scikit-learn.org/stable/modules/linear_model.html#logistic-regression\n",
      "  n_iter_i = _check_optimize_result(\n",
      "/home/juan/.pyenv/versions/3.8.9/envs/universidad/lib/python3.8/site-packages/sklearn/linear_model/_logistic.py:814: ConvergenceWarning: lbfgs failed to converge (status=1):\n",
      "STOP: TOTAL NO. of ITERATIONS REACHED LIMIT.\n",
      "\n",
      "Increase the number of iterations (max_iter) or scale the data as shown in:\n",
      "    https://scikit-learn.org/stable/modules/preprocessing.html\n",
      "Please also refer to the documentation for alternative solver options:\n",
      "    https://scikit-learn.org/stable/modules/linear_model.html#logistic-regression\n",
      "  n_iter_i = _check_optimize_result(\n",
      "/home/juan/.pyenv/versions/3.8.9/envs/universidad/lib/python3.8/site-packages/sklearn/linear_model/_logistic.py:814: ConvergenceWarning: lbfgs failed to converge (status=1):\n",
      "STOP: TOTAL NO. of ITERATIONS REACHED LIMIT.\n",
      "\n",
      "Increase the number of iterations (max_iter) or scale the data as shown in:\n",
      "    https://scikit-learn.org/stable/modules/preprocessing.html\n",
      "Please also refer to the documentation for alternative solver options:\n",
      "    https://scikit-learn.org/stable/modules/linear_model.html#logistic-regression\n",
      "  n_iter_i = _check_optimize_result(\n",
      "/home/juan/.pyenv/versions/3.8.9/envs/universidad/lib/python3.8/site-packages/sklearn/linear_model/_logistic.py:814: ConvergenceWarning: lbfgs failed to converge (status=1):\n",
      "STOP: TOTAL NO. of ITERATIONS REACHED LIMIT.\n",
      "\n",
      "Increase the number of iterations (max_iter) or scale the data as shown in:\n",
      "    https://scikit-learn.org/stable/modules/preprocessing.html\n",
      "Please also refer to the documentation for alternative solver options:\n",
      "    https://scikit-learn.org/stable/modules/linear_model.html#logistic-regression\n",
      "  n_iter_i = _check_optimize_result(\n",
      "/home/juan/.pyenv/versions/3.8.9/envs/universidad/lib/python3.8/site-packages/sklearn/linear_model/_logistic.py:814: ConvergenceWarning: lbfgs failed to converge (status=1):\n",
      "STOP: TOTAL NO. of ITERATIONS REACHED LIMIT.\n",
      "\n",
      "Increase the number of iterations (max_iter) or scale the data as shown in:\n",
      "    https://scikit-learn.org/stable/modules/preprocessing.html\n",
      "Please also refer to the documentation for alternative solver options:\n",
      "    https://scikit-learn.org/stable/modules/linear_model.html#logistic-regression\n",
      "  n_iter_i = _check_optimize_result(\n",
      "/home/juan/.pyenv/versions/3.8.9/envs/universidad/lib/python3.8/site-packages/sklearn/linear_model/_logistic.py:814: ConvergenceWarning: lbfgs failed to converge (status=1):\n",
      "STOP: TOTAL NO. of ITERATIONS REACHED LIMIT.\n",
      "\n",
      "Increase the number of iterations (max_iter) or scale the data as shown in:\n",
      "    https://scikit-learn.org/stable/modules/preprocessing.html\n",
      "Please also refer to the documentation for alternative solver options:\n",
      "    https://scikit-learn.org/stable/modules/linear_model.html#logistic-regression\n",
      "  n_iter_i = _check_optimize_result(\n",
      "/home/juan/.pyenv/versions/3.8.9/envs/universidad/lib/python3.8/site-packages/sklearn/linear_model/_logistic.py:814: ConvergenceWarning: lbfgs failed to converge (status=1):\n",
      "STOP: TOTAL NO. of ITERATIONS REACHED LIMIT.\n",
      "\n",
      "Increase the number of iterations (max_iter) or scale the data as shown in:\n",
      "    https://scikit-learn.org/stable/modules/preprocessing.html\n",
      "Please also refer to the documentation for alternative solver options:\n",
      "    https://scikit-learn.org/stable/modules/linear_model.html#logistic-regression\n",
      "  n_iter_i = _check_optimize_result(\n",
      "/home/juan/.pyenv/versions/3.8.9/envs/universidad/lib/python3.8/site-packages/sklearn/linear_model/_logistic.py:814: ConvergenceWarning: lbfgs failed to converge (status=1):\n",
      "STOP: TOTAL NO. of ITERATIONS REACHED LIMIT.\n",
      "\n",
      "Increase the number of iterations (max_iter) or scale the data as shown in:\n",
      "    https://scikit-learn.org/stable/modules/preprocessing.html\n",
      "Please also refer to the documentation for alternative solver options:\n",
      "    https://scikit-learn.org/stable/modules/linear_model.html#logistic-regression\n",
      "  n_iter_i = _check_optimize_result(\n",
      "/home/juan/.pyenv/versions/3.8.9/envs/universidad/lib/python3.8/site-packages/sklearn/linear_model/_logistic.py:814: ConvergenceWarning: lbfgs failed to converge (status=1):\n",
      "STOP: TOTAL NO. of ITERATIONS REACHED LIMIT.\n",
      "\n",
      "Increase the number of iterations (max_iter) or scale the data as shown in:\n",
      "    https://scikit-learn.org/stable/modules/preprocessing.html\n",
      "Please also refer to the documentation for alternative solver options:\n",
      "    https://scikit-learn.org/stable/modules/linear_model.html#logistic-regression\n",
      "  n_iter_i = _check_optimize_result(\n",
      "/home/juan/.pyenv/versions/3.8.9/envs/universidad/lib/python3.8/site-packages/sklearn/linear_model/_logistic.py:814: ConvergenceWarning: lbfgs failed to converge (status=1):\n",
      "STOP: TOTAL NO. of ITERATIONS REACHED LIMIT.\n",
      "\n",
      "Increase the number of iterations (max_iter) or scale the data as shown in:\n",
      "    https://scikit-learn.org/stable/modules/preprocessing.html\n",
      "Please also refer to the documentation for alternative solver options:\n",
      "    https://scikit-learn.org/stable/modules/linear_model.html#logistic-regression\n",
      "  n_iter_i = _check_optimize_result(\n",
      "/home/juan/.pyenv/versions/3.8.9/envs/universidad/lib/python3.8/site-packages/sklearn/linear_model/_logistic.py:814: ConvergenceWarning: lbfgs failed to converge (status=1):\n",
      "STOP: TOTAL NO. of ITERATIONS REACHED LIMIT.\n",
      "\n",
      "Increase the number of iterations (max_iter) or scale the data as shown in:\n",
      "    https://scikit-learn.org/stable/modules/preprocessing.html\n",
      "Please also refer to the documentation for alternative solver options:\n",
      "    https://scikit-learn.org/stable/modules/linear_model.html#logistic-regression\n",
      "  n_iter_i = _check_optimize_result(\n",
      "/home/juan/.pyenv/versions/3.8.9/envs/universidad/lib/python3.8/site-packages/sklearn/linear_model/_logistic.py:814: ConvergenceWarning: lbfgs failed to converge (status=1):\n",
      "STOP: TOTAL NO. of ITERATIONS REACHED LIMIT.\n",
      "\n",
      "Increase the number of iterations (max_iter) or scale the data as shown in:\n",
      "    https://scikit-learn.org/stable/modules/preprocessing.html\n",
      "Please also refer to the documentation for alternative solver options:\n",
      "    https://scikit-learn.org/stable/modules/linear_model.html#logistic-regression\n",
      "  n_iter_i = _check_optimize_result(\n"
     ]
    },
    {
     "name": "stdout",
     "output_type": "stream",
     "text": [
      "[CV 1/5] END ...........................C=0.001;, score=0.367 total time=   1.5s\n",
      "[CV 4/5] END .............................C=0.1;, score=0.373 total time=  12.1s\n",
      "[CV 5/5] END .............................C=1.0;, score=0.368 total time=  18.6s\n",
      "[CV 3/5] END ...........................C=100.0;, score=0.362 total time=  12.0s\n",
      "[CV 2/5] END ...........................C=0.001;, score=0.367 total time=   4.4s\n",
      "[CV 5/5] END .............................C=0.1;, score=0.369 total time=  18.3s\n",
      "[CV 3/5] END ............................C=10.0;, score=0.362 total time=  18.1s\n",
      "[CV 5/5] END ...........................C=100.0;, score=0.366 total time=   9.4s\n"
     ]
    }
   ],
   "source": [
    "fig, axes = plt.subplots(3, 1, figsize=(20,16))\n",
    "sns.barplot(x=\"Modelo\", y=\"F1 score\", hue='label', data=df_results, ax=axes[0])\n",
    "sns.barplot(x=\"Modelo\", y=\"precision\", hue='label', data=df_results, ax=axes[1])\n",
    "sns.barplot(x=\"Modelo\", y=\"recall\", hue='label', data=df_results, ax=axes[2])"
   ]
  },
  {
   "cell_type": "markdown",
   "metadata": {},
   "source": [
    "# Modelo con 3 clases"
   ]
  },
  {
   "cell_type": "code",
   "execution_count": 31,
   "metadata": {},
   "outputs": [],
   "source": [
    "# se crea un dataframe en el que se guardan los resultados de los modelos\n",
    "df_results = pd.DataFrame()"
   ]
  },
  {
   "cell_type": "code",
   "execution_count": 32,
   "metadata": {},
   "outputs": [],
   "source": [
    "y_tr = training_data['Influencia2']\n",
    "y_te = test_data['Influencia2']"
   ]
  },
  {
   "cell_type": "markdown",
   "metadata": {},
   "source": [
    "## KNN"
   ]
  },
  {
   "cell_type": "code",
   "execution_count": 33,
   "metadata": {},
   "outputs": [
    {
     "data": {
      "text/plain": [
       "KNeighborsClassifier(algorithm='ball_tree', leaf_size=10, n_neighbors=33)"
      ]
     },
     "execution_count": 33,
     "metadata": {},
     "output_type": "execute_result"
    }
   ],
   "source": [
    "knn_model_bow = KNeighborsClassifier(algorithm='ball_tree',\n",
    "                                     leaf_size=10,\n",
    "                                     n_neighbors=33)\n",
    "knn_model_bow.fit(X_tr_bow, y_tr)\n",
    "knn_model_tfidf = KNeighborsClassifier(algorithm='ball_tree',\n",
    "                                     leaf_size=10,\n",
    "                                     n_neighbors=33)\n",
    "knn_model_tfidf.fit(X_tr_tfidf, y_tr)"
   ]
  },
  {
   "cell_type": "code",
   "execution_count": 34,
   "metadata": {},
   "outputs": [
    {
     "name": "stdout",
     "output_type": "stream",
     "text": [
      "---------------- BOW ----------------\n",
      "Exactitud sobre entrenamiento: 0.46\n",
      "Exactitud sobre test: 0.35\n",
      "              precision    recall  f1-score   support\n",
      "\n",
      "        -1.0       0.34      0.72      0.46      1489\n",
      "         0.0       0.43      0.11      0.18      1445\n",
      "         1.0       0.33      0.20      0.25      1462\n",
      "\n",
      "    accuracy                           0.35      4396\n",
      "   macro avg       0.37      0.34      0.29      4396\n",
      "weighted avg       0.37      0.35      0.30      4396\n",
      "\n",
      "---------------- TFIDF ----------------\n",
      "Exactitud sobre entrenamiento: 0.47\n",
      "Exactitud sobre test: 0.35\n",
      "              precision    recall  f1-score   support\n",
      "\n",
      "        -1.0       0.34      0.74      0.47      1489\n",
      "         0.0       0.43      0.12      0.19      1445\n",
      "         1.0       0.33      0.17      0.23      1462\n",
      "\n",
      "    accuracy                           0.35      4396\n",
      "   macro avg       0.37      0.34      0.29      4396\n",
      "weighted avg       0.37      0.35      0.30      4396\n",
      "\n"
     ]
    }
   ],
   "source": [
    "y_pred_train = knn_model_bow.predict(X_tr_bow)\n",
    "y_pred_test = knn_model_bow.predict(X_te_bow)\n",
    "\n",
    "print(\"---------------- BOW ----------------\")\n",
    "print('Exactitud sobre entrenamiento: %.2f' % accuracy_score(y_tr, y_pred_train))\n",
    "print('Exactitud sobre test: %.2f' % accuracy_score(y_te, y_pred_test))\n",
    "print(classification_report(y_te, y_pred_test))\n",
    "\n",
    "precision, recall, fscore, _ = score(y_te, y_pred_test)\n",
    "\n",
    "new_data = pd.DataFrame({'Modelo': ['KNN BOW'],\n",
    "                         'label':  ['Negativo'],\n",
    "                         'F1 score': [fscore[0]],\n",
    "                         'precision': [precision[0]],\n",
    "                         'recall': [recall[0]],\n",
    "                        })\n",
    "df_results = pd.concat([df_results, new_data], ignore_index = True, axis = 0)\n",
    "new_data = pd.DataFrame({'Modelo': ['KNN BOW'],\n",
    "                         'label':  ['Nulo'],\n",
    "                         'F1 score': [fscore[1]],\n",
    "                         'precision': [precision[1]],\n",
    "                         'recall': [recall[1]],\n",
    "                        })\n",
    "df_results = pd.concat([df_results, new_data], ignore_index = True, axis = 0)\n",
    "new_data = pd.DataFrame({'Modelo': ['KNN BOW'],\n",
    "                         'label':  ['Positivo'],\n",
    "                         'F1 score': [fscore[2]],\n",
    "                         'precision': [precision[2]],\n",
    "                         'recall': [recall[2]],\n",
    "                        })\n",
    "df_results = pd.concat([df_results, new_data], ignore_index = True, axis = 0)\n",
    "\n",
    "y_pred_train = knn_model_tfidf.predict(X_tr_tfidf)\n",
    "y_pred_test = knn_model_tfidf.predict(X_te_tfidf)\n",
    "\n",
    "print(\"---------------- TFIDF ----------------\")\n",
    "print('Exactitud sobre entrenamiento: %.2f' % accuracy_score(y_tr, y_pred_train))\n",
    "print('Exactitud sobre test: %.2f' % accuracy_score(y_te, y_pred_test))\n",
    "print(classification_report(y_te, y_pred_test))\n",
    "\n",
    "precision, recall, fscore, _ = score(y_te, y_pred_test)\n",
    "\n",
    "new_data = pd.DataFrame({'Modelo': ['KNN TFIDF'],\n",
    "                         'label':  ['Negativo'],\n",
    "                         'F1 score': [fscore[0]],\n",
    "                         'precision': [precision[0]],\n",
    "                         'recall': [recall[0]],\n",
    "                        })\n",
    "df_results = pd.concat([df_results, new_data], ignore_index = True, axis = 0)\n",
    "new_data = pd.DataFrame({'Modelo': ['KNN TFIDF'],\n",
    "                         'label':  ['Nulo'],\n",
    "                         'F1 score': [fscore[1]],\n",
    "                         'precision': [precision[1]],\n",
    "                         'recall': [recall[1]],\n",
    "                        })\n",
    "df_results = pd.concat([df_results, new_data], ignore_index = True, axis = 0)\n",
    "new_data = pd.DataFrame({'Modelo': ['KNN TFIDF'],\n",
    "                         'label':  ['Positivo'],\n",
    "                         'F1 score': [fscore[2]],\n",
    "                         'precision': [precision[2]],\n",
    "                         'recall': [recall[2]],\n",
    "                        })\n",
    "df_results = pd.concat([df_results, new_data], ignore_index = True, axis = 0)"
   ]
  },
  {
   "cell_type": "code",
   "execution_count": 35,
   "metadata": {},
   "outputs": [
    {
     "data": {
      "image/png": "[encoded data removed]",
      "text/plain": [
       "<Figure size 432x288 with 2 Axes>"
      ]
     },
     "metadata": {},
     "output_type": "display_data"
    }
   ],
   "source": [
    "# Se puede visualizar la matriz de confusión\n",
    "confusion_matrix(y_te, y_pred_test)\n",
    "plot_confusion_matrix(knn_model_bow, X_te_bow, y_te)  \n",
    "plt.show()"
   ]
  },
  {
   "cell_type": "code",
   "execution_count": 36,
   "metadata": {},
   "outputs": [
    {
     "data": {
      "image/png": "[encoded data removed]",
      "text/plain": [
       "<Figure size 432x288 with 2 Axes>"
      ]
     },
     "metadata": {},
     "output_type": "display_data"
    }
   ],
   "source": [
    "# Se puede visualizar la matriz de confusión\n",
    "confusion_matrix(y_te, y_pred_test)\n",
    "plot_confusion_matrix(knn_model_tfidf, X_te_bow, y_te)  \n",
    "plt.show()"
   ]
  },
  {
   "cell_type": "markdown",
   "metadata": {},
   "source": [
    "## Naive Bayes"
   ]
  },
  {
   "cell_type": "code",
   "execution_count": 37,
   "metadata": {},
   "outputs": [
    {
     "data": {
      "text/plain": [
       "GaussianNB()"
      ]
     },
     "execution_count": 37,
     "metadata": {},
     "output_type": "execute_result"
    }
   ],
   "source": [
    "gnb_model_bow = GaussianNB()\n",
    "gnb_model_tfidf = GaussianNB()\n",
    "\n",
    "gnb_model_bow.fit(X_tr_bow.toarray(), y_tr)\n",
    "gnb_model_tfidf.fit(X_tr_tfidf.toarray(), y_tr)"
   ]
  },
  {
   "cell_type": "code",
   "execution_count": 38,
   "metadata": {},
   "outputs": [
    {
     "name": "stdout",
     "output_type": "stream",
     "text": [
      "---------------- BOW ----------------\n",
      "Exactitud sobre entrenamiento: 0.95\n",
      "Exactitud sobre test: 0.36\n",
      "              precision    recall  f1-score   support\n",
      "\n",
      "        -1.0       0.41      0.20      0.27      1489\n",
      "         0.0       0.34      0.75      0.47      1445\n",
      "         1.0       0.40      0.14      0.21      1462\n",
      "\n",
      "    accuracy                           0.36      4396\n",
      "   macro avg       0.38      0.36      0.32      4396\n",
      "weighted avg       0.38      0.36      0.32      4396\n",
      "\n",
      "---------------- TFIDF ----------------\n",
      "Exactitud sobre entrenamiento: 0.95\n",
      "Exactitud sobre test: 0.36\n",
      "              precision    recall  f1-score   support\n",
      "\n",
      "        -1.0       0.41      0.20      0.27      1489\n",
      "         0.0       0.34      0.74      0.47      1445\n",
      "         1.0       0.39      0.15      0.21      1462\n",
      "\n",
      "    accuracy                           0.36      4396\n",
      "   macro avg       0.38      0.36      0.32      4396\n",
      "weighted avg       0.38      0.36      0.32      4396\n",
      "\n"
     ]
    }
   ],
   "source": [
    "y_pred_train = gnb_model_bow.predict(X_tr_bow.toarray())\n",
    "y_pred_test = gnb_model_bow.predict(X_te_bow.toarray())\n",
    "\n",
    "print(\"---------------- BOW ----------------\")\n",
    "print('Exactitud sobre entrenamiento: %.2f' % accuracy_score(y_tr, y_pred_train))\n",
    "print('Exactitud sobre test: %.2f' % accuracy_score(y_te, y_pred_test))\n",
    "print(classification_report(y_te, y_pred_test))\n",
    "\n",
    "precision, recall, fscore, _ = score(y_te, y_pred_test)\n",
    "\n",
    "new_data = pd.DataFrame({'Modelo': ['GNB BOW'],\n",
    "                         'label':  ['Negativo'],\n",
    "                         'F1 score': [fscore[0]],\n",
    "                         'precision': [precision[0]],\n",
    "                         'recall': [recall[0]],\n",
    "                        })\n",
    "df_results = pd.concat([df_results, new_data], ignore_index = True, axis = 0)\n",
    "new_data = pd.DataFrame({'Modelo': ['GNB BOW'],\n",
    "                         'label':  ['Nulo'],\n",
    "                         'F1 score': [fscore[1]],\n",
    "                         'precision': [precision[1]],\n",
    "                         'recall': [recall[1]],\n",
    "                        })\n",
    "df_results = pd.concat([df_results, new_data], ignore_index = True, axis = 0)\n",
    "new_data = pd.DataFrame({'Modelo': ['GNB BOW'],\n",
    "                         'label':  ['Positivo'],\n",
    "                         'F1 score': [fscore[2]],\n",
    "                         'precision': [precision[2]],\n",
    "                         'recall': [recall[2]],\n",
    "                        })\n",
    "df_results = pd.concat([df_results, new_data], ignore_index = True, axis = 0)\n",
    "\n",
    "y_pred_train = gnb_model_tfidf.predict(X_tr_tfidf.toarray())\n",
    "y_pred_test = gnb_model_tfidf.predict(X_te_tfidf.toarray())\n",
    "\n",
    "print(\"---------------- TFIDF ----------------\")\n",
    "print('Exactitud sobre entrenamiento: %.2f' % accuracy_score(y_tr, y_pred_train))\n",
    "print('Exactitud sobre test: %.2f' % accuracy_score(y_te, y_pred_test))\n",
    "print(classification_report(y_te, y_pred_test))\n",
    "\n",
    "precision, recall, fscore, _ = score(y_te, y_pred_test)\n",
    "\n",
    "new_data = pd.DataFrame({'Modelo': ['GNB TFIDF'],\n",
    "                         'label':  ['Negativo'],\n",
    "                         'F1 score': [fscore[0]],\n",
    "                         'precision': [precision[0]],\n",
    "                         'recall': [recall[0]],\n",
    "                        })\n",
    "df_results = pd.concat([df_results, new_data], ignore_index = True, axis = 0)\n",
    "new_data = pd.DataFrame({'Modelo': ['GNB TFIDF'],\n",
    "                         'label':  ['Nulo'],\n",
    "                         'F1 score': [fscore[1]],\n",
    "                         'precision': [precision[1]],\n",
    "                         'recall': [recall[1]],\n",
    "                        })\n",
    "df_results = pd.concat([df_results, new_data], ignore_index = True, axis = 0)\n",
    "new_data = pd.DataFrame({'Modelo': ['GNB TFIDF'],\n",
    "                         'label':  ['Positivo'],\n",
    "                         'F1 score': [fscore[2]],\n",
    "                         'precision': [precision[2]],\n",
    "                         'recall': [recall[2]],\n",
    "                        })\n",
    "df_results = pd.concat([df_results, new_data], ignore_index = True, axis = 0)"
   ]
  },
  {
   "cell_type": "code",
   "execution_count": 39,
   "metadata": {},
   "outputs": [
    {
     "data": {
      "image/png": "[encoded data removed]",
      "text/plain": [
       "<Figure size 432x288 with 2 Axes>"
      ]
     },
     "metadata": {},
     "output_type": "display_data"
    }
   ],
   "source": [
    "# Se puede visualizar la matriz de confusión\n",
    "confusion_matrix(y_te, y_pred_test)\n",
    "plot_confusion_matrix(gnb_model_bow, X_te_bow.toarray(), y_te)  \n",
    "plt.show()"
   ]
  },
  {
   "cell_type": "code",
   "execution_count": 40,
   "metadata": {},
   "outputs": [
    {
     "data": {
      "image/png": "[encoded data removed]",
      "text/plain": [
       "<Figure size 432x288 with 2 Axes>"
      ]
     },
     "metadata": {},
     "output_type": "display_data"
    }
   ],
   "source": [
    "# Se puede visualizar la matriz de confusión\n",
    "confusion_matrix(y_te, y_pred_test)\n",
    "plot_confusion_matrix(gnb_model_tfidf, X_te_tfidf.toarray(), y_te)\n",
    "plt.show()"
   ]
  },
  {
   "cell_type": "markdown",
   "metadata": {},
   "source": [
    "## SVM"
   ]
  },
  {
   "cell_type": "code",
   "execution_count": 41,
   "metadata": {
    "tags": []
   },
   "outputs": [
    {
     "data": {
      "text/plain": [
       "SVC()"
      ]
     },
     "execution_count": 41,
     "metadata": {},
     "output_type": "execute_result"
    }
   ],
   "source": [
    "svm_bow = SVC(kernel=\"rbf\")\n",
    "svm_tfidf = SVC(kernel=\"rbf\")\n",
    "\n",
    "svm_bow.fit(X_tr_bow, y_tr)\n",
    "svm_tfidf.fit(X_tr_tfidf, y_tr)"
   ]
  },
  {
   "cell_type": "code",
   "execution_count": 42,
   "metadata": {},
   "outputs": [
    {
     "name": "stdout",
     "output_type": "stream",
     "text": [
      "---------------- BOW ----------------\n",
      "Exactitud sobre entrenamiento: 0.90\n",
      "Exactitud sobre test: 0.37\n",
      "              precision    recall  f1-score   support\n",
      "\n",
      "        -1.0       0.35      0.69      0.47      1489\n",
      "         0.0       0.49      0.16      0.24      1445\n",
      "         1.0       0.37      0.26      0.30      1462\n",
      "\n",
      "    accuracy                           0.37      4396\n",
      "   macro avg       0.41      0.37      0.34      4396\n",
      "weighted avg       0.40      0.37      0.34      4396\n",
      "\n",
      "---------------- TFIDF ----------------\n",
      "Exactitud sobre entrenamiento: 0.91\n",
      "Exactitud sobre test: 0.37\n",
      "              precision    recall  f1-score   support\n",
      "\n",
      "        -1.0       0.36      0.68      0.47      1489\n",
      "         0.0       0.56      0.13      0.21      1445\n",
      "         1.0       0.36      0.30      0.33      1462\n",
      "\n",
      "    accuracy                           0.37      4396\n",
      "   macro avg       0.43      0.37      0.33      4396\n",
      "weighted avg       0.43      0.37      0.33      4396\n",
      "\n"
     ]
    }
   ],
   "source": [
    "y_pred_train = svm_bow.predict(X_tr_bow)\n",
    "y_pred_test = svm_bow.predict(X_te_bow)\n",
    "\n",
    "print(\"---------------- BOW ----------------\")\n",
    "print('Exactitud sobre entrenamiento: %.2f' % accuracy_score(y_tr, y_pred_train))\n",
    "print('Exactitud sobre test: %.2f' % accuracy_score(y_te, y_pred_test))\n",
    "print(classification_report(y_te, y_pred_test))\n",
    "\n",
    "precision, recall, fscore, _ = score(y_te, y_pred_test)\n",
    "\n",
    "new_data = pd.DataFrame({'Modelo': ['SVM BOW'],\n",
    "                         'label':  ['Negativo'],\n",
    "                         'F1 score': [fscore[0]],\n",
    "                         'precision': [precision[0]],\n",
    "                         'recall': [recall[0]],\n",
    "                        })\n",
    "df_results = pd.concat([df_results, new_data], ignore_index = True, axis = 0)\n",
    "new_data = pd.DataFrame({'Modelo': ['SVM BOW'],\n",
    "                         'label':  ['Nulo'],\n",
    "                         'F1 score': [fscore[1]],\n",
    "                         'precision': [precision[1]],\n",
    "                         'recall': [recall[1]],\n",
    "                        })\n",
    "df_results = pd.concat([df_results, new_data], ignore_index = True, axis = 0)\n",
    "new_data = pd.DataFrame({'Modelo': ['SVM BOW'],\n",
    "                         'label':  ['Positivo'],\n",
    "                         'F1 score': [fscore[2]],\n",
    "                         'precision': [precision[2]],\n",
    "                         'recall': [recall[2]],\n",
    "                        })\n",
    "df_results = pd.concat([df_results, new_data], ignore_index = True, axis = 0)\n",
    "\n",
    "y_pred_train = svm_tfidf.predict(X_tr_tfidf)\n",
    "y_pred_test = svm_tfidf.predict(X_te_tfidf)\n",
    "\n",
    "print(\"---------------- TFIDF ----------------\")\n",
    "print('Exactitud sobre entrenamiento: %.2f' % accuracy_score(y_tr, y_pred_train))\n",
    "print('Exactitud sobre test: %.2f' % accuracy_score(y_te, y_pred_test))\n",
    "print(classification_report(y_te, y_pred_test))\n",
    "\n",
    "precision, recall, fscore, _ = score(y_te, y_pred_test)\n",
    "\n",
    "new_data = pd.DataFrame({'Modelo': ['SVM TFIDF'],\n",
    "                         'label':  ['Negativo'],\n",
    "                         'F1 score': [fscore[0]],\n",
    "                         'precision': [precision[0]],\n",
    "                         'recall': [recall[0]],\n",
    "                        })\n",
    "df_results = pd.concat([df_results, new_data], ignore_index = True, axis = 0)\n",
    "new_data = pd.DataFrame({'Modelo': ['SVM TFIDF'],\n",
    "                         'label':  ['Nulo'],\n",
    "                         'F1 score': [fscore[1]],\n",
    "                         'precision': [precision[1]],\n",
    "                         'recall': [recall[1]],\n",
    "                        })\n",
    "df_results = pd.concat([df_results, new_data], ignore_index = True, axis = 0)\n",
    "new_data = pd.DataFrame({'Modelo': ['SVM TFIDF'],\n",
    "                         'label':  ['Positivo'],\n",
    "                         'F1 score': [fscore[2]],\n",
    "                         'precision': [precision[2]],\n",
    "                         'recall': [recall[2]],\n",
    "                        })\n",
    "df_results = pd.concat([df_results, new_data], ignore_index = True, axis = 0)"
   ]
  },
  {
   "cell_type": "code",
   "execution_count": 45,
   "metadata": {},
   "outputs": [
    {
     "data": {
      "image/png": "[encoded data removed]",
      "text/plain": [
       "<Figure size 432x288 with 2 Axes>"
      ]
     },
     "metadata": {},
     "output_type": "display_data"
    }
   ],
   "source": [
    "# Se puede visualizar la matriz de confusión\n",
    "confusion_matrix(y_te, y_pred_test)\n",
    "plot_confusion_matrix(svm_bow, X_te_bow.toarray(), y_te)  \n",
    "plt.show()"
   ]
  },
  {
   "cell_type": "code",
   "execution_count": 46,
   "metadata": {},
   "outputs": [
    {
     "data": {
      "image/png": "[encoded data removed]",
      "text/plain": [
       "<Figure size 432x288 with 2 Axes>"
      ]
     },
     "metadata": {},
     "output_type": "display_data"
    }
   ],
   "source": [
    "# Se puede visualizar la matriz de confusión\n",
    "confusion_matrix(y_te, y_pred_test)\n",
    "plot_confusion_matrix(svm_tfidf, X_te_tfidf.toarray(), y_te)\n",
    "plt.show()"
   ]
  },
  {
   "cell_type": "markdown",
   "metadata": {},
   "source": [
    "# Resultados de usar 3 clases"
   ]
  },
  {
   "cell_type": "code",
   "execution_count": 43,
   "metadata": {},
   "outputs": [
    {
     "data": {
      "text/html": [
       "<div>\n",
       "<style scoped>\n",
       "    .dataframe tbody tr th:only-of-type {\n",
       "        vertical-align: middle;\n",
       "    }\n",
       "\n",
       "    .dataframe tbody tr th {\n",
       "        vertical-align: top;\n",
       "    }\n",
       "\n",
       "    .dataframe thead th {\n",
       "        text-align: right;\n",
       "    }\n",
       "</style>\n",
       "<table border=\"1\" class=\"dataframe\">\n",
       "  <thead>\n",
       "    <tr style=\"text-align: right;\">\n",
       "      <th></th>\n",
       "      <th>Modelo</th>\n",
       "      <th>label</th>\n",
       "      <th>F1 score</th>\n",
       "      <th>precision</th>\n",
       "      <th>recall</th>\n",
       "    </tr>\n",
       "  </thead>\n",
       "  <tbody>\n",
       "    <tr>\n",
       "      <th>0</th>\n",
       "      <td>KNN BOW</td>\n",
       "      <td>Negativo</td>\n",
       "      <td>0.461638</td>\n",
       "      <td>0.339892</td>\n",
       "      <td>0.719275</td>\n",
       "    </tr>\n",
       "    <tr>\n",
       "      <th>1</th>\n",
       "      <td>KNN BOW</td>\n",
       "      <td>Nulo</td>\n",
       "      <td>0.175400</td>\n",
       "      <td>0.432065</td>\n",
       "      <td>0.110035</td>\n",
       "    </tr>\n",
       "    <tr>\n",
       "      <th>2</th>\n",
       "      <td>KNN BOW</td>\n",
       "      <td>Positivo</td>\n",
       "      <td>0.246259</td>\n",
       "      <td>0.328392</td>\n",
       "      <td>0.196990</td>\n",
       "    </tr>\n",
       "    <tr>\n",
       "      <th>3</th>\n",
       "      <td>KNN TFIDF</td>\n",
       "      <td>Negativo</td>\n",
       "      <td>0.468139</td>\n",
       "      <td>0.342342</td>\n",
       "      <td>0.740094</td>\n",
       "    </tr>\n",
       "    <tr>\n",
       "      <th>4</th>\n",
       "      <td>KNN TFIDF</td>\n",
       "      <td>Nulo</td>\n",
       "      <td>0.188210</td>\n",
       "      <td>0.430693</td>\n",
       "      <td>0.120415</td>\n",
       "    </tr>\n",
       "    <tr>\n",
       "      <th>5</th>\n",
       "      <td>KNN TFIDF</td>\n",
       "      <td>Positivo</td>\n",
       "      <td>0.226398</td>\n",
       "      <td>0.327296</td>\n",
       "      <td>0.173051</td>\n",
       "    </tr>\n",
       "    <tr>\n",
       "      <th>6</th>\n",
       "      <td>GNB BOW</td>\n",
       "      <td>Negativo</td>\n",
       "      <td>0.270683</td>\n",
       "      <td>0.409524</td>\n",
       "      <td>0.202149</td>\n",
       "    </tr>\n",
       "    <tr>\n",
       "      <th>7</th>\n",
       "      <td>GNB BOW</td>\n",
       "      <td>Nulo</td>\n",
       "      <td>0.470588</td>\n",
       "      <td>0.343402</td>\n",
       "      <td>0.747405</td>\n",
       "    </tr>\n",
       "    <tr>\n",
       "      <th>8</th>\n",
       "      <td>GNB BOW</td>\n",
       "      <td>Positivo</td>\n",
       "      <td>0.207280</td>\n",
       "      <td>0.397287</td>\n",
       "      <td>0.140219</td>\n",
       "    </tr>\n",
       "    <tr>\n",
       "      <th>9</th>\n",
       "      <td>GNB TFIDF</td>\n",
       "      <td>Negativo</td>\n",
       "      <td>0.271020</td>\n",
       "      <td>0.405622</td>\n",
       "      <td>0.203492</td>\n",
       "    </tr>\n",
       "    <tr>\n",
       "      <th>10</th>\n",
       "      <td>GNB TFIDF</td>\n",
       "      <td>Nulo</td>\n",
       "      <td>0.468908</td>\n",
       "      <td>0.343529</td>\n",
       "      <td>0.738408</td>\n",
       "    </tr>\n",
       "    <tr>\n",
       "      <th>11</th>\n",
       "      <td>GNB TFIDF</td>\n",
       "      <td>Positivo</td>\n",
       "      <td>0.211471</td>\n",
       "      <td>0.390424</td>\n",
       "      <td>0.145007</td>\n",
       "    </tr>\n",
       "    <tr>\n",
       "      <th>12</th>\n",
       "      <td>SVM BOW</td>\n",
       "      <td>Negativo</td>\n",
       "      <td>0.468403</td>\n",
       "      <td>0.353383</td>\n",
       "      <td>0.694426</td>\n",
       "    </tr>\n",
       "    <tr>\n",
       "      <th>13</th>\n",
       "      <td>SVM BOW</td>\n",
       "      <td>Nulo</td>\n",
       "      <td>0.236842</td>\n",
       "      <td>0.494505</td>\n",
       "      <td>0.155709</td>\n",
       "    </tr>\n",
       "    <tr>\n",
       "      <th>14</th>\n",
       "      <td>SVM BOW</td>\n",
       "      <td>Positivo</td>\n",
       "      <td>0.301171</td>\n",
       "      <td>0.367488</td>\n",
       "      <td>0.255130</td>\n",
       "    </tr>\n",
       "    <tr>\n",
       "      <th>15</th>\n",
       "      <td>SVM TFIDF</td>\n",
       "      <td>Negativo</td>\n",
       "      <td>0.467449</td>\n",
       "      <td>0.355493</td>\n",
       "      <td>0.682337</td>\n",
       "    </tr>\n",
       "    <tr>\n",
       "      <th>16</th>\n",
       "      <td>SVM TFIDF</td>\n",
       "      <td>Nulo</td>\n",
       "      <td>0.205882</td>\n",
       "      <td>0.563467</td>\n",
       "      <td>0.125952</td>\n",
       "    </tr>\n",
       "    <tr>\n",
       "      <th>17</th>\n",
       "      <td>SVM TFIDF</td>\n",
       "      <td>Positivo</td>\n",
       "      <td>0.326485</td>\n",
       "      <td>0.359671</td>\n",
       "      <td>0.298906</td>\n",
       "    </tr>\n",
       "  </tbody>\n",
       "</table>\n",
       "</div>"
      ],
      "text/plain": [
       "       Modelo     label  F1 score  precision    recall\n",
       "0     KNN BOW  Negativo  0.461638   0.339892  0.719275\n",
       "1     KNN BOW      Nulo  0.175400   0.432065  0.110035\n",
       "2     KNN BOW  Positivo  0.246259   0.328392  0.196990\n",
       "3   KNN TFIDF  Negativo  0.468139   0.342342  0.740094\n",
       "4   KNN TFIDF      Nulo  0.188210   0.430693  0.120415\n",
       "5   KNN TFIDF  Positivo  0.226398   0.327296  0.173051\n",
       "6     GNB BOW  Negativo  0.270683   0.409524  0.202149\n",
       "7     GNB BOW      Nulo  0.470588   0.343402  0.747405\n",
       "8     GNB BOW  Positivo  0.207280   0.397287  0.140219\n",
       "9   GNB TFIDF  Negativo  0.271020   0.405622  0.203492\n",
       "10  GNB TFIDF      Nulo  0.468908   0.343529  0.738408\n",
       "11  GNB TFIDF  Positivo  0.211471   0.390424  0.145007\n",
       "12    SVM BOW  Negativo  0.468403   0.353383  0.694426\n",
       "13    SVM BOW      Nulo  0.236842   0.494505  0.155709\n",
       "14    SVM BOW  Positivo  0.301171   0.367488  0.255130\n",
       "15  SVM TFIDF  Negativo  0.467449   0.355493  0.682337\n",
       "16  SVM TFIDF      Nulo  0.205882   0.563467  0.125952\n",
       "17  SVM TFIDF  Positivo  0.326485   0.359671  0.298906"
      ]
     },
     "execution_count": 43,
     "metadata": {},
     "output_type": "execute_result"
    }
   ],
   "source": [
    "df_results"
   ]
  },
  {
   "cell_type": "code",
   "execution_count": 44,
   "metadata": {},
   "outputs": [
    {
     "data": {
      "text/plain": [
       "<AxesSubplot:xlabel='Modelo', ylabel='recall'>"
      ]
     },
     "execution_count": 44,
     "metadata": {},
     "output_type": "execute_result"
    },
    {
     "data": {
      "image/png": "[encoded data removed]",
      "text/plain": [
       "<Figure size 1440x1152 with 3 Axes>"
      ]
     },
     "metadata": {},
     "output_type": "display_data"
    }
   ],
   "source": [
    "fig, axes = plt.subplots(3, 1, figsize=(20,16))\n",
    "sns.barplot(x=\"Modelo\", y=\"F1 score\", hue='label', data=df_results, ax=axes[0])\n",
    "sns.barplot(x=\"Modelo\", y=\"precision\", hue='label', data=df_results, ax=axes[1])\n",
    "sns.barplot(x=\"Modelo\", y=\"recall\", hue='label', data=df_results, ax=axes[2])"
   ]
  },
  {
   "cell_type": "markdown",
   "metadata": {},
   "source": [
    "# Conslusiones y recomendaciones\n",
    "\n",
    "Se recomienda utilizar otros criterios para esta tarea de clasificación solo la información de un tweet no influye en su precio, si se contara con información como quien tuitea el numero de seguidores qeu tiene, número de retweets, se podrían obtener resultados que puedan brindar información relevante al negocio"
   ]
  }
 ],
 "metadata": {
  "kernelspec": {
   "display_name": "Python 3",
   "language": "python",
   "name": "python3"
  },
  "language_info": {
   "codemirror_mode": {
    "name": "ipython",
    "version": 3
   },
   "file_extension": ".py",
   "mimetype": "text/x-python",
   "name": "python",
   "nbconvert_exporter": "python",
   "pygments_lexer": "ipython3",
   "version": "3.8.9"
  }
 },
 "nbformat": 4,
 "nbformat_minor": 4
}
