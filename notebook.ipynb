{
 "cells": [
  {
   "cell_type": "markdown",
   "metadata": {},
   "source": [
    "# Importación de librerías \n",
    "\n",
    "En las siguientes líneas de código se importan las librerías y herramientas necesarias para desarrollar el caso de uso."
   ]
  },
  {
   "cell_type": "code",
   "execution_count": null,
   "metadata": {},
   "outputs": [],
   "source": [
    "!pip install nltk"
   ]
  },
  {
   "cell_type": "code",
   "execution_count": 72,
   "metadata": {},
   "outputs": [],
   "source": [
    "# Librerías para manejo de datos\n",
    "import pandas as pd\n",
    "pd.set_option('display.max_columns', 25) # Número máximo de columnas a mostrar\n",
    "pd.set_option('display.max_rows', 50) # Numero máximo de filas a mostar\n",
    "import numpy as np\n",
    "np.random.seed(3301)\n",
    "import re\n",
    "\n",
    "# visualizacion de resultados\n",
    "import seaborn as sns   \n",
    "from matplotlib import pyplot as plt\n",
    "\n",
    "# NLP\n",
    "import nltk\n",
    "from nltk.corpus import stopwords\n",
    "from nltk.stem import WordNetLemmatizer\n",
    "\n",
    "# \n",
    "from sklearn.feature_extraction.text import CountVectorizer\n",
    "from sklearn.feature_extraction import text\n",
    "from sklearn.model_selection import GridSearchCV, train_test_split\n",
    "\n",
    "# modelos \n",
    "from sklearn.linear_model import LogisticRegression\n",
    "from sklearn.naive_bayes import GaussianNB\n",
    "from sklearn.neighbors import KNeighborsClassifier\n",
    "\n",
    "# Para evaluar el modelo\n",
    "from sklearn.metrics import precision_recall_fscore_support as score\n",
    "from sklearn.metrics import confusion_matrix, classification_report, precision_score, recall_score, f1_score, accuracy_score\n",
    "from sklearn.metrics import plot_confusion_matrix, recall_score \n",
    "\n",
    "import warnings\n",
    "warnings.filterwarnings(\"ignore\")"
   ]
  },
  {
   "cell_type": "code",
   "execution_count": 2,
   "metadata": {},
   "outputs": [
    {
     "name": "stderr",
     "output_type": "stream",
     "text": [
      "[nltk_data] Error loading stopwords: <urlopen error [Errno -3]\n",
      "[nltk_data]     Temporary failure in name resolution>\n",
      "[nltk_data] Error loading wordnet: <urlopen error [Errno -3] Temporary\n",
      "[nltk_data]     failure in name resolution>\n"
     ]
    },
    {
     "data": {
      "text/plain": [
       "False"
      ]
     },
     "execution_count": 2,
     "metadata": {},
     "output_type": "execute_result"
    }
   ],
   "source": [
    "nltk.download('stopwords')\n",
    "nltk.download('wordnet')"
   ]
  },
  {
   "cell_type": "markdown",
   "metadata": {},
   "source": [
    "# Carga de los datos\n",
    "A través de la librería **pandas** podemos realizar la carga de datos desde diferentes fuentes de información, en este caso se realizará la carga de un archivo plano csv, mque contiene la informacion de los sentimientos relacionados con un tweet"
   ]
  },
  {
   "cell_type": "markdown",
   "metadata": {},
   "source": [
    "## Dataset tweets"
   ]
  },
  {
   "cell_type": "code",
   "execution_count": 3,
   "metadata": {
    "tags": []
   },
   "outputs": [],
   "source": [
    "# Se cargan los datos. \n",
    "df_tweets=pd.read_csv('./data/mbsa.csv', sep=',', encoding = 'utf-8', header=0)"
   ]
  },
  {
   "cell_type": "code",
   "execution_count": 4,
   "metadata": {},
   "outputs": [
    {
     "data": {
      "text/plain": [
       "(19344048, 3)"
      ]
     },
     "execution_count": 4,
     "metadata": {},
     "output_type": "execute_result"
    }
   ],
   "source": [
    "# Cantidad de datos y número de variables\n",
    "df_tweets.shape"
   ]
  },
  {
   "cell_type": "code",
   "execution_count": 5,
   "metadata": {},
   "outputs": [
    {
     "data": {
      "text/html": [
       "<div>\n",
       "<style scoped>\n",
       "    .dataframe tbody tr th:only-of-type {\n",
       "        vertical-align: middle;\n",
       "    }\n",
       "\n",
       "    .dataframe tbody tr th {\n",
       "        vertical-align: top;\n",
       "    }\n",
       "\n",
       "    .dataframe thead th {\n",
       "        text-align: right;\n",
       "    }\n",
       "</style>\n",
       "<table border=\"1\" class=\"dataframe\">\n",
       "  <thead>\n",
       "    <tr style=\"text-align: right;\">\n",
       "      <th></th>\n",
       "      <th>Date</th>\n",
       "      <th>text</th>\n",
       "      <th>Sentiment</th>\n",
       "    </tr>\n",
       "  </thead>\n",
       "  <tbody>\n",
       "    <tr>\n",
       "      <th>0</th>\n",
       "      <td>2019-05-27</td>\n",
       "      <td>È appena uscito un nuovo video! LES CRYPTOMONN...</td>\n",
       "      <td>Positive</td>\n",
       "    </tr>\n",
       "    <tr>\n",
       "      <th>1</th>\n",
       "      <td>2019-05-27</td>\n",
       "      <td>Cardano: Digitize Currencies; EOS https://t.co...</td>\n",
       "      <td>Positive</td>\n",
       "    </tr>\n",
       "    <tr>\n",
       "      <th>2</th>\n",
       "      <td>2019-05-27</td>\n",
       "      <td>Another Test tweet that wasn't caught in the s...</td>\n",
       "      <td>Positive</td>\n",
       "    </tr>\n",
       "    <tr>\n",
       "      <th>3</th>\n",
       "      <td>2019-05-27</td>\n",
       "      <td>Current Crypto Prices! \\n\\nBTC: $8721.99 USD\\n...</td>\n",
       "      <td>Positive</td>\n",
       "    </tr>\n",
       "    <tr>\n",
       "      <th>4</th>\n",
       "      <td>2019-05-27</td>\n",
       "      <td>Spiv (Nosar Baz): BITCOIN Is An Asset &amp;amp; NO...</td>\n",
       "      <td>Positive</td>\n",
       "    </tr>\n",
       "  </tbody>\n",
       "</table>\n",
       "</div>"
      ],
      "text/plain": [
       "         Date                                               text Sentiment\n",
       "0  2019-05-27  È appena uscito un nuovo video! LES CRYPTOMONN...  Positive\n",
       "1  2019-05-27  Cardano: Digitize Currencies; EOS https://t.co...  Positive\n",
       "2  2019-05-27  Another Test tweet that wasn't caught in the s...  Positive\n",
       "3  2019-05-27  Current Crypto Prices! \\n\\nBTC: $8721.99 USD\\n...  Positive\n",
       "4  2019-05-27  Spiv (Nosar Baz): BITCOIN Is An Asset &amp; NO...  Positive"
      ]
     },
     "execution_count": 5,
     "metadata": {},
     "output_type": "execute_result"
    }
   ],
   "source": [
    "# Mostrar los datos\n",
    "df_tweets.head()"
   ]
  },
  {
   "cell_type": "code",
   "execution_count": 6,
   "metadata": {},
   "outputs": [
    {
     "data": {
      "text/plain": [
       "Date         object\n",
       "text         object\n",
       "Sentiment    object\n",
       "dtype: object"
      ]
     },
     "execution_count": 6,
     "metadata": {},
     "output_type": "execute_result"
    }
   ],
   "source": [
    "# Podemos ver los tipos de todas la variables.\n",
    "df_tweets.dtypes"
   ]
  },
  {
   "cell_type": "code",
   "execution_count": 7,
   "metadata": {},
   "outputs": [
    {
     "data": {
      "text/plain": [
       "Negative    9729297\n",
       "Positive    8723207\n",
       "Neutral         400\n",
       "Name: Sentiment, dtype: int64"
      ]
     },
     "execution_count": 7,
     "metadata": {},
     "output_type": "execute_result"
    }
   ],
   "source": [
    "df_tweets[\"Sentiment\"].value_counts()"
   ]
  },
  {
   "cell_type": "markdown",
   "metadata": {},
   "source": [
    "## Dataset Precios Bitcoin\n",
    "dado que hay muy pocas muestras nuetrales, decidimos usar el dataset de precios de bitcoin para poder definir cuando hay un cambio positivo, cuando negativo y cuando neutral"
   ]
  },
  {
   "cell_type": "code",
   "execution_count": 8,
   "metadata": {},
   "outputs": [],
   "source": [
    "# Se cargan los datos. \n",
    "df_precios=pd.read_csv('./data/coin_Bitcoin.csv', sep=',', encoding = 'utf-8', header=0)"
   ]
  },
  {
   "cell_type": "code",
   "execution_count": 9,
   "metadata": {},
   "outputs": [
    {
     "data": {
      "text/plain": [
       "(2991, 10)"
      ]
     },
     "execution_count": 9,
     "metadata": {},
     "output_type": "execute_result"
    }
   ],
   "source": [
    "# Cantidad de datos y número de variables\n",
    "df_precios.shape"
   ]
  },
  {
   "cell_type": "code",
   "execution_count": 10,
   "metadata": {},
   "outputs": [
    {
     "data": {
      "text/html": [
       "<div>\n",
       "<style scoped>\n",
       "    .dataframe tbody tr th:only-of-type {\n",
       "        vertical-align: middle;\n",
       "    }\n",
       "\n",
       "    .dataframe tbody tr th {\n",
       "        vertical-align: top;\n",
       "    }\n",
       "\n",
       "    .dataframe thead th {\n",
       "        text-align: right;\n",
       "    }\n",
       "</style>\n",
       "<table border=\"1\" class=\"dataframe\">\n",
       "  <thead>\n",
       "    <tr style=\"text-align: right;\">\n",
       "      <th></th>\n",
       "      <th>SNo</th>\n",
       "      <th>Name</th>\n",
       "      <th>Symbol</th>\n",
       "      <th>Date</th>\n",
       "      <th>High</th>\n",
       "      <th>Low</th>\n",
       "      <th>Open</th>\n",
       "      <th>Close</th>\n",
       "      <th>Volume</th>\n",
       "      <th>Marketcap</th>\n",
       "    </tr>\n",
       "  </thead>\n",
       "  <tbody>\n",
       "    <tr>\n",
       "      <th>0</th>\n",
       "      <td>1</td>\n",
       "      <td>Bitcoin</td>\n",
       "      <td>BTC</td>\n",
       "      <td>2013-04-29 23:59:59</td>\n",
       "      <td>147.488007</td>\n",
       "      <td>134.000000</td>\n",
       "      <td>134.444000</td>\n",
       "      <td>144.539993</td>\n",
       "      <td>0.0</td>\n",
       "      <td>1.603769e+09</td>\n",
       "    </tr>\n",
       "    <tr>\n",
       "      <th>1</th>\n",
       "      <td>2</td>\n",
       "      <td>Bitcoin</td>\n",
       "      <td>BTC</td>\n",
       "      <td>2013-04-30 23:59:59</td>\n",
       "      <td>146.929993</td>\n",
       "      <td>134.050003</td>\n",
       "      <td>144.000000</td>\n",
       "      <td>139.000000</td>\n",
       "      <td>0.0</td>\n",
       "      <td>1.542813e+09</td>\n",
       "    </tr>\n",
       "    <tr>\n",
       "      <th>2</th>\n",
       "      <td>3</td>\n",
       "      <td>Bitcoin</td>\n",
       "      <td>BTC</td>\n",
       "      <td>2013-05-01 23:59:59</td>\n",
       "      <td>139.889999</td>\n",
       "      <td>107.720001</td>\n",
       "      <td>139.000000</td>\n",
       "      <td>116.989998</td>\n",
       "      <td>0.0</td>\n",
       "      <td>1.298955e+09</td>\n",
       "    </tr>\n",
       "    <tr>\n",
       "      <th>3</th>\n",
       "      <td>4</td>\n",
       "      <td>Bitcoin</td>\n",
       "      <td>BTC</td>\n",
       "      <td>2013-05-02 23:59:59</td>\n",
       "      <td>125.599998</td>\n",
       "      <td>92.281898</td>\n",
       "      <td>116.379997</td>\n",
       "      <td>105.209999</td>\n",
       "      <td>0.0</td>\n",
       "      <td>1.168517e+09</td>\n",
       "    </tr>\n",
       "    <tr>\n",
       "      <th>4</th>\n",
       "      <td>5</td>\n",
       "      <td>Bitcoin</td>\n",
       "      <td>BTC</td>\n",
       "      <td>2013-05-03 23:59:59</td>\n",
       "      <td>108.127998</td>\n",
       "      <td>79.099998</td>\n",
       "      <td>106.250000</td>\n",
       "      <td>97.750000</td>\n",
       "      <td>0.0</td>\n",
       "      <td>1.085995e+09</td>\n",
       "    </tr>\n",
       "  </tbody>\n",
       "</table>\n",
       "</div>"
      ],
      "text/plain": [
       "   SNo     Name Symbol                 Date        High         Low  \\\n",
       "0    1  Bitcoin    BTC  2013-04-29 23:59:59  147.488007  134.000000   \n",
       "1    2  Bitcoin    BTC  2013-04-30 23:59:59  146.929993  134.050003   \n",
       "2    3  Bitcoin    BTC  2013-05-01 23:59:59  139.889999  107.720001   \n",
       "3    4  Bitcoin    BTC  2013-05-02 23:59:59  125.599998   92.281898   \n",
       "4    5  Bitcoin    BTC  2013-05-03 23:59:59  108.127998   79.099998   \n",
       "\n",
       "         Open       Close  Volume     Marketcap  \n",
       "0  134.444000  144.539993     0.0  1.603769e+09  \n",
       "1  144.000000  139.000000     0.0  1.542813e+09  \n",
       "2  139.000000  116.989998     0.0  1.298955e+09  \n",
       "3  116.379997  105.209999     0.0  1.168517e+09  \n",
       "4  106.250000   97.750000     0.0  1.085995e+09  "
      ]
     },
     "execution_count": 10,
     "metadata": {},
     "output_type": "execute_result"
    }
   ],
   "source": [
    "# Mostrar los datos\n",
    "df_precios.head()"
   ]
  },
  {
   "cell_type": "code",
   "execution_count": 11,
   "metadata": {},
   "outputs": [
    {
     "data": {
      "text/plain": [
       "SNo            int64\n",
       "Name          object\n",
       "Symbol        object\n",
       "Date          object\n",
       "High         float64\n",
       "Low          float64\n",
       "Open         float64\n",
       "Close        float64\n",
       "Volume       float64\n",
       "Marketcap    float64\n",
       "dtype: object"
      ]
     },
     "execution_count": 11,
     "metadata": {},
     "output_type": "execute_result"
    }
   ],
   "source": [
    "# Podemos ver los tipos de todas la variables.\n",
    "df_precios.dtypes"
   ]
  },
  {
   "cell_type": "markdown",
   "metadata": {},
   "source": [
    "# Limpieza y preparación de los datos\n",
    "\n",
    "Primero vamos a ejecutar los pasos de limpieza de los datos, relacionados el tratamiento de ausencias y registros duplicados."
   ]
  },
  {
   "cell_type": "markdown",
   "metadata": {},
   "source": [
    "## Tweets"
   ]
  },
  {
   "cell_type": "code",
   "execution_count": 12,
   "metadata": {},
   "outputs": [],
   "source": [
    "# Es recomendable que todos los pasos de limpieza y preparación se realicen sobre otro archivo.\n",
    "df_tweets_l = df_tweets"
   ]
  },
  {
   "cell_type": "code",
   "execution_count": 13,
   "metadata": {},
   "outputs": [
    {
     "data": {
      "text/plain": [
       "Date              0\n",
       "text             16\n",
       "Sentiment    891144\n",
       "dtype: int64"
      ]
     },
     "execution_count": 13,
     "metadata": {},
     "output_type": "execute_result"
    }
   ],
   "source": [
    "# Se observa la cantidad de ausencias en los datos\n",
    "df_tweets_l.isnull().sum()"
   ]
  },
  {
   "cell_type": "code",
   "execution_count": 14,
   "metadata": {},
   "outputs": [],
   "source": [
    "# Eliminación registros con ausencias\n",
    "df_tweets_l = df_tweets_l.dropna()\n",
    "# Eliminación de registros duplicados.\n",
    "df_tweets_l = df_tweets_l.drop_duplicates()"
   ]
  },
  {
   "cell_type": "code",
   "execution_count": 15,
   "metadata": {},
   "outputs": [
    {
     "data": {
      "text/plain": [
       "(15803216, 3)"
      ]
     },
     "execution_count": 15,
     "metadata": {},
     "output_type": "execute_result"
    }
   ],
   "source": [
    "# Cantidad de datos y número de variables\n",
    "df_tweets_l.shape"
   ]
  },
  {
   "cell_type": "code",
   "execution_count": 16,
   "metadata": {},
   "outputs": [
    {
     "data": {
      "text/plain": [
       "Negative    8013795\n",
       "Positive    7789126\n",
       "Neutral         295\n",
       "Name: Sentiment, dtype: int64"
      ]
     },
     "execution_count": 16,
     "metadata": {},
     "output_type": "execute_result"
    }
   ],
   "source": [
    "df_tweets_l[\"Sentiment\"].value_counts()"
   ]
  },
  {
   "cell_type": "code",
   "execution_count": 17,
   "metadata": {},
   "outputs": [],
   "source": [
    "# Se realiza un procesamiento sobre el campo de la fecha, para que esta se encuentre en el formato correcto\n",
    "df_tweets_l[\"Date\"]=pd.to_datetime(df_tweets_l[\"Date\"], format='%Y-%m-%d', errors='coerce')"
   ]
  },
  {
   "cell_type": "code",
   "execution_count": 18,
   "metadata": {},
   "outputs": [
    {
     "data": {
      "text/plain": [
       "count                15803216\n",
       "unique                   1893\n",
       "top       2019-07-26 00:00:00\n",
       "freq                   174149\n",
       "first     2014-09-18 00:00:00\n",
       "last      2019-11-23 00:00:00\n",
       "Name: Date, dtype: object"
      ]
     },
     "execution_count": 18,
     "metadata": {},
     "output_type": "execute_result"
    }
   ],
   "source": [
    "df_tweets_l[\"Date\"].describe()"
   ]
  },
  {
   "cell_type": "markdown",
   "metadata": {},
   "source": [
    "## Precios"
   ]
  },
  {
   "cell_type": "code",
   "execution_count": 19,
   "metadata": {},
   "outputs": [],
   "source": [
    "# Es recomendable que todos los pasos de limpieza y preparación se realicen sobre otro archivo.\n",
    "df_precios_l = df_precios"
   ]
  },
  {
   "cell_type": "code",
   "execution_count": 20,
   "metadata": {},
   "outputs": [
    {
     "data": {
      "text/plain": [
       "SNo          0\n",
       "Name         0\n",
       "Symbol       0\n",
       "Date         0\n",
       "High         0\n",
       "Low          0\n",
       "Open         0\n",
       "Close        0\n",
       "Volume       0\n",
       "Marketcap    0\n",
       "dtype: int64"
      ]
     },
     "execution_count": 20,
     "metadata": {},
     "output_type": "execute_result"
    }
   ],
   "source": [
    "# Se observa la cantidad de ausencias en los datos\n",
    "df_precios_l.isnull().sum()"
   ]
  },
  {
   "cell_type": "code",
   "execution_count": 21,
   "metadata": {},
   "outputs": [],
   "source": [
    "# Se realiza un procesamiento sobre el campo de la fecha, para que esta se encuentre en el formato correcto\n",
    "df_precios_l[\"Date\"]=pd.to_datetime(df_precios_l[\"Date\"], format='%Y-%m-%d', errors='coerce').dt.date\n",
    "df_precios_l[\"Date\"]=pd.to_datetime(df_precios_l[\"Date\"], format='%Y-%m-%d', errors='coerce')"
   ]
  },
  {
   "cell_type": "code",
   "execution_count": 22,
   "metadata": {},
   "outputs": [
    {
     "data": {
      "text/plain": [
       "count                    2991\n",
       "unique                   2991\n",
       "top       2013-04-29 00:00:00\n",
       "freq                        1\n",
       "first     2013-04-29 00:00:00\n",
       "last      2021-07-06 00:00:00\n",
       "Name: Date, dtype: object"
      ]
     },
     "execution_count": 22,
     "metadata": {},
     "output_type": "execute_result"
    }
   ],
   "source": [
    "df_precios_l[\"Date\"].describe()"
   ]
  },
  {
   "cell_type": "code",
   "execution_count": 23,
   "metadata": {},
   "outputs": [],
   "source": [
    "# Se calcula la variación del día\n",
    "df_precios_l[\"Variacion\"]= df_precios_l[\"Close\"]-df_precios_l[\"Open\"]"
   ]
  },
  {
   "cell_type": "code",
   "execution_count": 24,
   "metadata": {},
   "outputs": [],
   "source": [
    "# Se eliminan las columnas que no son de interes para el modelo\n",
    "df_precios_l.drop([\"SNo\", \"Name\", \"Symbol\", \"High\", \"Low\", \"Open\", \"Close\", \"Volume\", \"Marketcap\"], axis=1,inplace=True)"
   ]
  },
  {
   "cell_type": "code",
   "execution_count": 25,
   "metadata": {},
   "outputs": [
    {
     "data": {
      "text/plain": [
       "Date         datetime64[ns]\n",
       "Variacion           float64\n",
       "dtype: object"
      ]
     },
     "execution_count": 25,
     "metadata": {},
     "output_type": "execute_result"
    }
   ],
   "source": [
    "df_precios_l.dtypes"
   ]
  },
  {
   "cell_type": "markdown",
   "metadata": {},
   "source": [
    "## Union de datasets\n",
    "\n",
    "Ahora para la construcción de los datos de entrada se unen los 2 dataset utilizados con el objetivo de tener 3 muestras una para los tweets con efecto positivo otro con los tweets de efecto negativo, y finalmente una categoria con los tweets que no tuvieron influencia"
   ]
  },
  {
   "cell_type": "code",
   "execution_count": 26,
   "metadata": {},
   "outputs": [],
   "source": [
    "df_datos=df_tweets_l.merge(df_precios_l, left_on='Date', right_on='Date', how=\"left\")"
   ]
  },
  {
   "cell_type": "code",
   "execution_count": 27,
   "metadata": {},
   "outputs": [
    {
     "data": {
      "text/html": [
       "<div>\n",
       "<style scoped>\n",
       "    .dataframe tbody tr th:only-of-type {\n",
       "        vertical-align: middle;\n",
       "    }\n",
       "\n",
       "    .dataframe tbody tr th {\n",
       "        vertical-align: top;\n",
       "    }\n",
       "\n",
       "    .dataframe thead th {\n",
       "        text-align: right;\n",
       "    }\n",
       "</style>\n",
       "<table border=\"1\" class=\"dataframe\">\n",
       "  <thead>\n",
       "    <tr style=\"text-align: right;\">\n",
       "      <th></th>\n",
       "      <th>Date</th>\n",
       "      <th>text</th>\n",
       "      <th>Sentiment</th>\n",
       "      <th>Variacion</th>\n",
       "    </tr>\n",
       "  </thead>\n",
       "  <tbody>\n",
       "    <tr>\n",
       "      <th>0</th>\n",
       "      <td>2019-05-27</td>\n",
       "      <td>È appena uscito un nuovo video! LES CRYPTOMONN...</td>\n",
       "      <td>Positive</td>\n",
       "      <td>131.705973</td>\n",
       "    </tr>\n",
       "    <tr>\n",
       "      <th>1</th>\n",
       "      <td>2019-05-27</td>\n",
       "      <td>Cardano: Digitize Currencies; EOS https://t.co...</td>\n",
       "      <td>Positive</td>\n",
       "      <td>131.705973</td>\n",
       "    </tr>\n",
       "    <tr>\n",
       "      <th>2</th>\n",
       "      <td>2019-05-27</td>\n",
       "      <td>Another Test tweet that wasn't caught in the s...</td>\n",
       "      <td>Positive</td>\n",
       "      <td>131.705973</td>\n",
       "    </tr>\n",
       "    <tr>\n",
       "      <th>3</th>\n",
       "      <td>2019-05-27</td>\n",
       "      <td>Current Crypto Prices! \\n\\nBTC: $8721.99 USD\\n...</td>\n",
       "      <td>Positive</td>\n",
       "      <td>131.705973</td>\n",
       "    </tr>\n",
       "    <tr>\n",
       "      <th>4</th>\n",
       "      <td>2019-05-27</td>\n",
       "      <td>Spiv (Nosar Baz): BITCOIN Is An Asset &amp;amp; NO...</td>\n",
       "      <td>Positive</td>\n",
       "      <td>131.705973</td>\n",
       "    </tr>\n",
       "  </tbody>\n",
       "</table>\n",
       "</div>"
      ],
      "text/plain": [
       "        Date                                               text Sentiment  \\\n",
       "0 2019-05-27  È appena uscito un nuovo video! LES CRYPTOMONN...  Positive   \n",
       "1 2019-05-27  Cardano: Digitize Currencies; EOS https://t.co...  Positive   \n",
       "2 2019-05-27  Another Test tweet that wasn't caught in the s...  Positive   \n",
       "3 2019-05-27  Current Crypto Prices! \\n\\nBTC: $8721.99 USD\\n...  Positive   \n",
       "4 2019-05-27  Spiv (Nosar Baz): BITCOIN Is An Asset &amp; NO...  Positive   \n",
       "\n",
       "    Variacion  \n",
       "0  131.705973  \n",
       "1  131.705973  \n",
       "2  131.705973  \n",
       "3  131.705973  \n",
       "4  131.705973  "
      ]
     },
     "execution_count": 27,
     "metadata": {},
     "output_type": "execute_result"
    }
   ],
   "source": [
    "df_datos.head()"
   ]
  },
  {
   "cell_type": "code",
   "execution_count": 28,
   "metadata": {},
   "outputs": [
    {
     "data": {
      "text/html": [
       "<div>\n",
       "<style scoped>\n",
       "    .dataframe tbody tr th:only-of-type {\n",
       "        vertical-align: middle;\n",
       "    }\n",
       "\n",
       "    .dataframe tbody tr th {\n",
       "        vertical-align: top;\n",
       "    }\n",
       "\n",
       "    .dataframe thead th {\n",
       "        text-align: right;\n",
       "    }\n",
       "</style>\n",
       "<table border=\"1\" class=\"dataframe\">\n",
       "  <thead>\n",
       "    <tr style=\"text-align: right;\">\n",
       "      <th></th>\n",
       "      <th>Variacion</th>\n",
       "    </tr>\n",
       "  </thead>\n",
       "  <tbody>\n",
       "    <tr>\n",
       "      <th>count</th>\n",
       "      <td>1.580322e+07</td>\n",
       "    </tr>\n",
       "    <tr>\n",
       "      <th>mean</th>\n",
       "      <td>2.291744e+00</td>\n",
       "    </tr>\n",
       "    <tr>\n",
       "      <th>std</th>\n",
       "      <td>4.522762e+02</td>\n",
       "    </tr>\n",
       "    <tr>\n",
       "      <th>min</th>\n",
       "      <td>-2.345600e+03</td>\n",
       "    </tr>\n",
       "    <tr>\n",
       "      <th>25%</th>\n",
       "      <td>-1.763449e+02</td>\n",
       "    </tr>\n",
       "    <tr>\n",
       "      <th>50%</th>\n",
       "      <td>9.329834e-01</td>\n",
       "    </tr>\n",
       "    <tr>\n",
       "      <th>75%</th>\n",
       "      <td>1.896414e+02</td>\n",
       "    </tr>\n",
       "    <tr>\n",
       "      <th>max</th>\n",
       "      <td>3.633600e+03</td>\n",
       "    </tr>\n",
       "  </tbody>\n",
       "</table>\n",
       "</div>"
      ],
      "text/plain": [
       "          Variacion\n",
       "count  1.580322e+07\n",
       "mean   2.291744e+00\n",
       "std    4.522762e+02\n",
       "min   -2.345600e+03\n",
       "25%   -1.763449e+02\n",
       "50%    9.329834e-01\n",
       "75%    1.896414e+02\n",
       "max    3.633600e+03"
      ]
     },
     "execution_count": 28,
     "metadata": {},
     "output_type": "execute_result"
    }
   ],
   "source": [
    "df_datos.describe()"
   ]
  },
  {
   "cell_type": "code",
   "execution_count": 29,
   "metadata": {},
   "outputs": [],
   "source": [
    "percentile_positive=df_datos[\"Variacion\"].quantile(0.66)\n",
    "percentile_negative=df_datos[\"Variacion\"].quantile(0.33)"
   ]
  },
  {
   "cell_type": "code",
   "execution_count": 30,
   "metadata": {},
   "outputs": [],
   "source": [
    "df_datos.loc[df_datos[\"Variacion\"]>0, \"Influencia\"]= 1\n",
    "df_datos.loc[df_datos[\"Variacion\"]<=0, \"Influencia\"]= 0"
   ]
  },
  {
   "cell_type": "code",
   "execution_count": 31,
   "metadata": {},
   "outputs": [
    {
     "data": {
      "text/plain": [
       "1.0    7934355\n",
       "0.0    7868861\n",
       "Name: Influencia, dtype: int64"
      ]
     },
     "execution_count": 31,
     "metadata": {},
     "output_type": "execute_result"
    }
   ],
   "source": [
    "df_datos[\"Influencia\"].value_counts()"
   ]
  },
  {
   "cell_type": "code",
   "execution_count": 32,
   "metadata": {},
   "outputs": [],
   "source": [
    "df_datos.drop( [\"Date\",\"Sentiment\", \"Variacion\"],axis=1,inplace=True)"
   ]
  },
  {
   "cell_type": "code",
   "execution_count": 33,
   "metadata": {},
   "outputs": [
    {
     "data": {
      "text/html": [
       "<div>\n",
       "<style scoped>\n",
       "    .dataframe tbody tr th:only-of-type {\n",
       "        vertical-align: middle;\n",
       "    }\n",
       "\n",
       "    .dataframe tbody tr th {\n",
       "        vertical-align: top;\n",
       "    }\n",
       "\n",
       "    .dataframe thead th {\n",
       "        text-align: right;\n",
       "    }\n",
       "</style>\n",
       "<table border=\"1\" class=\"dataframe\">\n",
       "  <thead>\n",
       "    <tr style=\"text-align: right;\">\n",
       "      <th></th>\n",
       "      <th>text</th>\n",
       "      <th>Influencia</th>\n",
       "    </tr>\n",
       "  </thead>\n",
       "  <tbody>\n",
       "    <tr>\n",
       "      <th>0</th>\n",
       "      <td>È appena uscito un nuovo video! LES CRYPTOMONN...</td>\n",
       "      <td>1.0</td>\n",
       "    </tr>\n",
       "    <tr>\n",
       "      <th>1</th>\n",
       "      <td>Cardano: Digitize Currencies; EOS https://t.co...</td>\n",
       "      <td>1.0</td>\n",
       "    </tr>\n",
       "    <tr>\n",
       "      <th>2</th>\n",
       "      <td>Another Test tweet that wasn't caught in the s...</td>\n",
       "      <td>1.0</td>\n",
       "    </tr>\n",
       "    <tr>\n",
       "      <th>3</th>\n",
       "      <td>Current Crypto Prices! \\n\\nBTC: $8721.99 USD\\n...</td>\n",
       "      <td>1.0</td>\n",
       "    </tr>\n",
       "    <tr>\n",
       "      <th>4</th>\n",
       "      <td>Spiv (Nosar Baz): BITCOIN Is An Asset &amp;amp; NO...</td>\n",
       "      <td>1.0</td>\n",
       "    </tr>\n",
       "  </tbody>\n",
       "</table>\n",
       "</div>"
      ],
      "text/plain": [
       "                                                text  Influencia\n",
       "0  È appena uscito un nuovo video! LES CRYPTOMONN...         1.0\n",
       "1  Cardano: Digitize Currencies; EOS https://t.co...         1.0\n",
       "2  Another Test tweet that wasn't caught in the s...         1.0\n",
       "3  Current Crypto Prices! \\n\\nBTC: $8721.99 USD\\n...         1.0\n",
       "4  Spiv (Nosar Baz): BITCOIN Is An Asset &amp; NO...         1.0"
      ]
     },
     "execution_count": 33,
     "metadata": {},
     "output_type": "execute_result"
    }
   ],
   "source": [
    "df_datos.head()"
   ]
  },
  {
   "cell_type": "markdown",
   "metadata": {},
   "source": [
    "## preparación de los datos\n",
    "\n",
    "Dado que se tiene un modelo de NLP y que se está trabajando con tweets es una buena practica realizar un buen preparamiento de los datos que va a usar el modelo, primero se  se selecciona una muestra del conjunto de datos, esto dada la gran cantidad de datos con los que se cuenta en el dataset, es importante separar una muestra para realizar el entrenamiento dadas las capacidades fisicas de la maquina (Memoria RAM). Para un modelo de producción se tomarian todos los datos y se entrenarian en un entorno cloud."
   ]
  },
  {
   "cell_type": "code",
   "execution_count": 34,
   "metadata": {},
   "outputs": [],
   "source": [
    "# debido a la gran cantidad de datos para reducir tiempos de entrenamiento se toma una muestra significativa del total de datos\n",
    "df_datos = df_datos.sample(15000)"
   ]
  },
  {
   "cell_type": "code",
   "execution_count": 35,
   "metadata": {},
   "outputs": [],
   "source": [
    "df_datos[\"text\"]=df_datos['text'].str.normalize('NFKD').str.encode('ascii', errors='ignore').str.decode('utf-8')"
   ]
  },
  {
   "cell_type": "code",
   "execution_count": 36,
   "metadata": {},
   "outputs": [],
   "source": [
    "# Se borran todos los dataframes creados anteriormente\n",
    "del df_tweets\n",
    "del df_tweets_l\n",
    "del df_precios\n",
    "del df_precios_l"
   ]
  },
  {
   "cell_type": "code",
   "execution_count": 37,
   "metadata": {},
   "outputs": [
    {
     "data": {
      "text/plain": [
       "1.0    7625\n",
       "0.0    7375\n",
       "Name: Influencia, dtype: int64"
      ]
     },
     "execution_count": 37,
     "metadata": {},
     "output_type": "execute_result"
    }
   ],
   "source": [
    "df_datos[\"Influencia\"].value_counts()"
   ]
  },
  {
   "cell_type": "code",
   "execution_count": 38,
   "metadata": {},
   "outputs": [
    {
     "data": {
      "text/plain": [
       "(15000, 2)"
      ]
     },
     "execution_count": 38,
     "metadata": {},
     "output_type": "execute_result"
    }
   ],
   "source": [
    "df_datos.shape"
   ]
  },
  {
   "cell_type": "code",
   "execution_count": 39,
   "metadata": {},
   "outputs": [],
   "source": [
    "# A list of contractions from http://stackoverflow.com/questions/19790188/expanding-english-language-contractions-in-python\n",
    "contractions = { \n",
    "\"ain't\": \"am not\",\n",
    "\"aren't\": \"are not\",\n",
    "\"can't\": \"cannot\",\n",
    "\"can't've\": \"cannot have\",\n",
    "\"'cause\": \"because\",\n",
    "\"could've\": \"could have\",\n",
    "\"couldn't\": \"could not\",\n",
    "\"couldn't've\": \"could not have\",\n",
    "\"didn't\": \"did not\",\n",
    "\"doesn't\": \"does not\",\n",
    "\"don't\": \"do not\",\n",
    "\"hadn't\": \"had not\",\n",
    "\"hadn't've\": \"had not have\",\n",
    "\"hasn't\": \"has not\",\n",
    "\"haven't\": \"have not\",\n",
    "\"he'd\": \"he would\",\n",
    "\"he'd've\": \"he would have\",\n",
    "\"he'll\": \"he will\",\n",
    "\"he's\": \"he is\",\n",
    "\"how'd\": \"how did\",\n",
    "\"how'll\": \"how will\",\n",
    "\"how's\": \"how is\",\n",
    "\"i'd\": \"i would\",\n",
    "\"i'll\": \"i will\",\n",
    "\"i'm\": \"i am\",\n",
    "\"i've\": \"i have\",\n",
    "\"isn't\": \"is not\",\n",
    "\"it'd\": \"it would\",\n",
    "\"it'll\": \"it will\",\n",
    "\"it's\": \"it is\",\n",
    "\"let's\": \"let us\",\n",
    "\"ma'am\": \"madam\",\n",
    "\"mayn't\": \"may not\",\n",
    "\"might've\": \"might have\",\n",
    "\"mightn't\": \"might not\",\n",
    "\"must've\": \"must have\",\n",
    "\"mustn't\": \"must not\",\n",
    "\"needn't\": \"need not\",\n",
    "\"oughtn't\": \"ought not\",\n",
    "\"shan't\": \"shall not\",\n",
    "\"sha'n't\": \"shall not\",\n",
    "\"she'd\": \"she would\",\n",
    "\"she'll\": \"she will\",\n",
    "\"she's\": \"she is\",\n",
    "\"should've\": \"should have\",\n",
    "\"shouldn't\": \"should not\",\n",
    "\"that'd\": \"that would\",\n",
    "\"that's\": \"that is\",\n",
    "\"there'd\": \"there had\",\n",
    "\"there's\": \"there is\",\n",
    "\"they'd\": \"they would\",\n",
    "\"they'll\": \"they will\",\n",
    "\"they're\": \"they are\",\n",
    "\"they've\": \"they have\",\n",
    "\"wasn't\": \"was not\",\n",
    "\"we'd\": \"we would\",\n",
    "\"we'll\": \"we will\",\n",
    "\"we're\": \"we are\",\n",
    "\"we've\": \"we have\",\n",
    "\"weren't\": \"were not\",\n",
    "\"what'll\": \"what will\",\n",
    "\"what're\": \"what are\",\n",
    "\"what's\": \"what is\",\n",
    "\"what've\": \"what have\",\n",
    "\"where'd\": \"where did\",\n",
    "\"where's\": \"where is\",\n",
    "\"who'll\": \"who will\",\n",
    "\"who's\": \"who is\",\n",
    "\"won't\": \"will not\",\n",
    "\"wouldn't\": \"would not\",\n",
    "\"you'd\": \"you would\",\n",
    "\"you'll\": \"you will\",\n",
    "\"you're\": \"you are\"\n",
    "}"
   ]
  },
  {
   "cell_type": "markdown",
   "metadata": {},
   "source": [
    "### Limpieza de texto\n",
    "\n",
    "Luego de tener seleccionada la muestra de los datos se pasa a realizar una limpieza de los textos, en esta limpieza se eliminan caracteres no deseados y se formatea el texto para crear menos word embeddings, luego el texto limpio se pasa a tokenizar."
   ]
  },
  {
   "cell_type": "code",
   "execution_count": 40,
   "metadata": {},
   "outputs": [],
   "source": [
    "def clean_text(text_p, remove_stopwords = True):\n",
    "    \"\"\"\n",
    "    Remove unwanted characters, stopwords, and format the text to create fewer nulls word embeddings\n",
    "    \"\"\"\n",
    "    \n",
    "    # Convert words to lower case\n",
    "    cleaned_t = text_p.lower()\n",
    "    \n",
    "    # Replace contractions with their longer forms \n",
    "    if True:\n",
    "        cleaned_t = cleaned_t.split()\n",
    "        new_text = []\n",
    "        for word in cleaned_t:\n",
    "            if word in contractions:\n",
    "                new_text.append(contractions[word])\n",
    "            else:\n",
    "                new_text.append(word)\n",
    "        cleaned_t = \" \".join(new_text)\n",
    "    \n",
    "    # Format words and remove unwanted characters\n",
    "    cleaned_t = re.sub(r'https?:\\/\\/.*[\\r\\n]*', '', cleaned_t, flags=re.MULTILINE)\n",
    "    cleaned_t = re.sub(r'\\<a href', ' ', cleaned_t)\n",
    "    cleaned_t = re.sub(r'&amp;', '', cleaned_t) \n",
    "    cleaned_t = re.sub(r'[_\"\\-;%()|+&=*%.,!?:#$@\\[\\]/]', ' ', cleaned_t)\n",
    "    cleaned_t = re.sub(r'<br />', ' ', cleaned_t)\n",
    "    cleaned_t = re.sub(r'\\'', ' ', cleaned_t)\n",
    "    \n",
    "    # remove stop words\n",
    "    if remove_stopwords:\n",
    "        cleaned_t = cleaned_t.split()\n",
    "        stops = set(stopwords.words(\"english\"))\n",
    "        cleaned_t = [w for w in cleaned_t if not w in stops]\n",
    "        cleaned_t = \" \".join(cleaned_t)\n",
    "\n",
    "    # Tokenize each word\n",
    "    cleaned_t =  nltk.WordPunctTokenizer().tokenize(cleaned_t)\n",
    "        \n",
    "    return cleaned_t"
   ]
  },
  {
   "cell_type": "code",
   "execution_count": 41,
   "metadata": {},
   "outputs": [],
   "source": [
    "df_datos['text_cleaned'] = list(map(clean_text, df_datos.text))"
   ]
  },
  {
   "cell_type": "code",
   "execution_count": 42,
   "metadata": {},
   "outputs": [
    {
     "data": {
      "text/html": [
       "<div>\n",
       "<style scoped>\n",
       "    .dataframe tbody tr th:only-of-type {\n",
       "        vertical-align: middle;\n",
       "    }\n",
       "\n",
       "    .dataframe tbody tr th {\n",
       "        vertical-align: top;\n",
       "    }\n",
       "\n",
       "    .dataframe thead th {\n",
       "        text-align: right;\n",
       "    }\n",
       "</style>\n",
       "<table border=\"1\" class=\"dataframe\">\n",
       "  <thead>\n",
       "    <tr style=\"text-align: right;\">\n",
       "      <th></th>\n",
       "      <th>text</th>\n",
       "      <th>Influencia</th>\n",
       "      <th>text_cleaned</th>\n",
       "    </tr>\n",
       "  </thead>\n",
       "  <tbody>\n",
       "    <tr>\n",
       "      <th>4607441</th>\n",
       "      <td>Market Cap: $275,590,312,910\\n BTC Dominance: 55.95%\\n BTC: $8693.21652482\\n ETH: 0.03088785 BTC\\n XRP: 0.00005115 BTC\\n BCH: 0.05124371 BTC\\n LTC: 0.0131628 BTC\\n 03.06.2019 05:12:31\\ni Powered by #Robostopia</td>\n",
       "      <td>0.0</td>\n",
       "      <td>[market, cap, 275, 590, 312, 910, btc, dominance, 55, 95, btc, 8693, 21652482, eth, 0, 03088785, btc, xrp, 0, 00005115, btc, bch, 0, 05124371, btc, ltc, 0, 0131628, btc, 03, 06, 2019, 05, 12, 31, powered, robostopia]</td>\n",
       "    </tr>\n",
       "    <tr>\n",
       "      <th>11111175</th>\n",
       "      <td>Now an Amazon Top Ten book! Confused by cryptocurrency? Baffled by #Bitcoin? Dont be! Get this book today to truly understand @ https://t.co/uXTQcc9bID \\n\\n#crypto #cryptocurrencynews #bitcoinnews #RetirementPlanning #siliconvalley</td>\n",
       "      <td>0.0</td>\n",
       "      <td>[amazon, top, ten, book, confused, cryptocurrency, baffled, bitcoin, dont, get, book, today, truly, understand]</td>\n",
       "    </tr>\n",
       "    <tr>\n",
       "      <th>7923163</th>\n",
       "      <td>For those who think @BitTorrent is a dead cat. Save this tweet till next Thursday 15 sat or more  $btt $fet $ren $link $eth $btc $trx $ltc $xrp</td>\n",
       "      <td>1.0</td>\n",
       "      <td>[think, bittorrent, dead, cat, save, tweet, till, next, thursday, 15, sat, btt, fet, ren, link, eth, btc, trx, ltc, xrp]</td>\n",
       "    </tr>\n",
       "  </tbody>\n",
       "</table>\n",
       "</div>"
      ],
      "text/plain": [
       "                                                                                                                                                                                                                                             text  \\\n",
       "4607441                         Market Cap: $275,590,312,910\\n BTC Dominance: 55.95%\\n BTC: $8693.21652482\\n ETH: 0.03088785 BTC\\n XRP: 0.00005115 BTC\\n BCH: 0.05124371 BTC\\n LTC: 0.0131628 BTC\\n 03.06.2019 05:12:31\\ni Powered by #Robostopia   \n",
       "11111175  Now an Amazon Top Ten book! Confused by cryptocurrency? Baffled by #Bitcoin? Dont be! Get this book today to truly understand @ https://t.co/uXTQcc9bID \\n\\n#crypto #cryptocurrencynews #bitcoinnews #RetirementPlanning #siliconvalley   \n",
       "7923163                                                                                           For those who think @BitTorrent is a dead cat. Save this tweet till next Thursday 15 sat or more  $btt $fet $ren $link $eth $btc $trx $ltc $xrp   \n",
       "\n",
       "          Influencia  \\\n",
       "4607441          0.0   \n",
       "11111175         0.0   \n",
       "7923163          1.0   \n",
       "\n",
       "                                                                                                                                                                                                                      text_cleaned  \n",
       "4607441   [market, cap, 275, 590, 312, 910, btc, dominance, 55, 95, btc, 8693, 21652482, eth, 0, 03088785, btc, xrp, 0, 00005115, btc, bch, 0, 05124371, btc, ltc, 0, 0131628, btc, 03, 06, 2019, 05, 12, 31, powered, robostopia]  \n",
       "11111175                                                                                                           [amazon, top, ten, book, confused, cryptocurrency, baffled, bitcoin, dont, get, book, today, truly, understand]  \n",
       "7923163                                                                                                   [think, bittorrent, dead, cat, save, tweet, till, next, thursday, 15, sat, btt, fet, ren, link, eth, btc, trx, ltc, xrp]  "
      ]
     },
     "execution_count": 42,
     "metadata": {},
     "output_type": "execute_result"
    }
   ],
   "source": [
    "pd.set_option('max_colwidth', 500)\n",
    "df_datos.sample(3)"
   ]
  },
  {
   "cell_type": "markdown",
   "metadata": {},
   "source": [
    "### Feature encoding \n",
    "\n",
    "Finalmente como paso final de la preparación de los datos es necesario transformar los textos a numeros para que estos textos puedan ser interpretados por nuestro modelo."
   ]
  },
  {
   "cell_type": "code",
   "execution_count": 43,
   "metadata": {},
   "outputs": [],
   "source": [
    "training_data, test_data = train_test_split(df_datos, train_size = 0.7, random_state=42)"
   ]
  },
  {
   "cell_type": "code",
   "execution_count": 44,
   "metadata": {},
   "outputs": [],
   "source": [
    "y_tr = training_data['Influencia']\n",
    "y_te = test_data['Influencia']"
   ]
  },
  {
   "cell_type": "code",
   "execution_count": 45,
   "metadata": {},
   "outputs": [
    {
     "name": "stdout",
     "output_type": "stream",
     "text": [
      "(10500, 3)\n",
      "(4500, 3)\n"
     ]
    }
   ],
   "source": [
    "print(training_data.shape)\n",
    "print(test_data.shape)"
   ]
  },
  {
   "cell_type": "markdown",
   "metadata": {},
   "source": [
    "#### Bag of words\n",
    "\n",
    "Es una tecnica usada para representar las palabras, esta tecnica esta basada en las estadisticas relacionadas con la ocurrencia de cada palabra, dado que solo representa la palabra, la representación no tendra en cuenta el contexto. Para solucionar esto se usa una tecnica conocida como Bag of n-Grams que permite representar una secuencia de n tokens, logrando asi capturar parte del contexto en el que se encuentra la palabra "
   ]
  },
  {
   "cell_type": "code",
   "execution_count": 46,
   "metadata": {},
   "outputs": [],
   "source": [
    "bow_converter = CountVectorizer(tokenizer=lambda doc: doc, lowercase=False)\n",
    "x = bow_converter.fit_transform(df_datos['text_cleaned'])\n",
    "words = bow_converter.get_feature_names()"
   ]
  },
  {
   "cell_type": "code",
   "execution_count": 47,
   "metadata": {},
   "outputs": [],
   "source": [
    "bigram_converter = CountVectorizer(tokenizer=lambda doc: doc, ngram_range=[2,2], lowercase=False) \n",
    "x2 = bigram_converter.fit_transform(df_datos['text_cleaned'])\n",
    "bigrams = bigram_converter.get_feature_names()"
   ]
  },
  {
   "cell_type": "code",
   "execution_count": 48,
   "metadata": {},
   "outputs": [],
   "source": [
    "trigram_converter = CountVectorizer(tokenizer=lambda doc: doc, ngram_range=[3,3], lowercase=False) \n",
    "x3 = trigram_converter.fit_transform(df_datos['text_cleaned'])\n",
    "trigrams = trigram_converter.get_feature_names()"
   ]
  },
  {
   "cell_type": "code",
   "execution_count": 49,
   "metadata": {},
   "outputs": [
    {
     "data": {
      "image/png": "[encoded data removed]",
      "text/plain": [
       "<Figure size 432x288 with 1 Axes>"
      ]
     },
     "metadata": {},
     "output_type": "display_data"
    }
   ],
   "source": [
    "sns.set_style(\"white\")\n",
    "counts = [len(words), len(bigrams), len(trigrams)]\n",
    "plt.plot(counts, color='blue')\n",
    "plt.plot(counts, 'bo')\n",
    "#plt.margins(0.1)\n",
    "plt.ticklabel_format(style = 'plain')\n",
    "plt.xticks(range(3), ['unigram', 'bigram', 'trigram'])\n",
    "plt.tick_params(labelsize=14)\n",
    "plt.title('Number of ngrams ', {'fontsize':16})\n",
    "plt.show()"
   ]
  },
  {
   "cell_type": "code",
   "execution_count": 50,
   "metadata": {},
   "outputs": [],
   "source": [
    "bow_transform = CountVectorizer(tokenizer=lambda doc: doc, ngram_range=[3,3], lowercase=False)"
   ]
  },
  {
   "cell_type": "code",
   "execution_count": 51,
   "metadata": {},
   "outputs": [],
   "source": [
    "X_tr_bow = bow_transform.fit_transform(training_data['text_cleaned'])"
   ]
  },
  {
   "cell_type": "code",
   "execution_count": 52,
   "metadata": {},
   "outputs": [
    {
     "data": {
      "text/plain": [
       "104334"
      ]
     },
     "execution_count": 52,
     "metadata": {},
     "output_type": "execute_result"
    }
   ],
   "source": [
    "len(bow_transform.vocabulary_)"
   ]
  },
  {
   "cell_type": "code",
   "execution_count": 53,
   "metadata": {},
   "outputs": [
    {
     "data": {
      "text/plain": [
       "(10500, 104334)"
      ]
     },
     "execution_count": 53,
     "metadata": {},
     "output_type": "execute_result"
    }
   ],
   "source": [
    "X_tr_bow.shape"
   ]
  },
  {
   "cell_type": "code",
   "execution_count": 54,
   "metadata": {},
   "outputs": [],
   "source": [
    "X_te_bow = bow_transform.transform(test_data['text_cleaned'])"
   ]
  },
  {
   "cell_type": "markdown",
   "metadata": {
    "tags": []
   },
   "source": [
    "#### Tf-Idf"
   ]
  },
  {
   "cell_type": "code",
   "execution_count": 55,
   "metadata": {},
   "outputs": [],
   "source": [
    "tfidf_transform = text.TfidfTransformer(norm=None)\n",
    "X_tr_tfidf = tfidf_transform.fit_transform(X_tr_bow)"
   ]
  },
  {
   "cell_type": "code",
   "execution_count": 56,
   "metadata": {},
   "outputs": [],
   "source": [
    "X_te_tfidf = tfidf_transform.transform(X_te_bow)"
   ]
  },
  {
   "cell_type": "markdown",
   "metadata": {},
   "source": [
    "# Modelo"
   ]
  },
  {
   "cell_type": "code",
   "execution_count": 57,
   "metadata": {},
   "outputs": [],
   "source": [
    "# se crea un dataframe en el que se guardan los resultados de los modelos\n",
    "df_results = pd.DataFrame()"
   ]
  },
  {
   "cell_type": "markdown",
   "metadata": {},
   "source": [
    "## knn"
   ]
  },
  {
   "cell_type": "code",
   "execution_count": 58,
   "metadata": {
    "tags": []
   },
   "outputs": [
    {
     "name": "stdout",
     "output_type": "stream",
     "text": [
      "Fitting 5 folds for each of 16 candidates, totalling 80 fits\n",
      "Fitting 5 folds for each of 16 candidates, totalling 80 fits\n"
     ]
    },
    {
     "name": "stderr",
     "output_type": "stream",
     "text": [
      "/home/juan/.pyenv/versions/3.8.9/envs/universidad/lib/python3.8/site-packages/sklearn/neighbors/_base.py:501: UserWarning: cannot use tree with sparse input: using brute force\n",
      "  warnings.warn(\"cannot use tree with sparse input: using brute force\")\n",
      "/home/juan/.pyenv/versions/3.8.9/envs/universidad/lib/python3.8/site-packages/sklearn/neighbors/_base.py:501: UserWarning: cannot use tree with sparse input: using brute force\n",
      "  warnings.warn(\"cannot use tree with sparse input: using brute force\")\n",
      "/home/juan/.pyenv/versions/3.8.9/envs/universidad/lib/python3.8/site-packages/sklearn/neighbors/_base.py:501: UserWarning: cannot use tree with sparse input: using brute force\n",
      "  warnings.warn(\"cannot use tree with sparse input: using brute force\")\n",
      "/home/juan/.pyenv/versions/3.8.9/envs/universidad/lib/python3.8/site-packages/sklearn/neighbors/_base.py:501: UserWarning: cannot use tree with sparse input: using brute force\n",
      "  warnings.warn(\"cannot use tree with sparse input: using brute force\")\n",
      "/home/juan/.pyenv/versions/3.8.9/envs/universidad/lib/python3.8/site-packages/sklearn/neighbors/_base.py:501: UserWarning: cannot use tree with sparse input: using brute force\n",
      "  warnings.warn(\"cannot use tree with sparse input: using brute force\")\n",
      "/home/juan/.pyenv/versions/3.8.9/envs/universidad/lib/python3.8/site-packages/sklearn/neighbors/_base.py:501: UserWarning: cannot use tree with sparse input: using brute force\n",
      "  warnings.warn(\"cannot use tree with sparse input: using brute force\")\n",
      "/home/juan/.pyenv/versions/3.8.9/envs/universidad/lib/python3.8/site-packages/sklearn/neighbors/_base.py:501: UserWarning: cannot use tree with sparse input: using brute force\n",
      "  warnings.warn(\"cannot use tree with sparse input: using brute force\")\n",
      "/home/juan/.pyenv/versions/3.8.9/envs/universidad/lib/python3.8/site-packages/sklearn/neighbors/_base.py:501: UserWarning: cannot use tree with sparse input: using brute force\n",
      "  warnings.warn(\"cannot use tree with sparse input: using brute force\")\n",
      "/home/juan/.pyenv/versions/3.8.9/envs/universidad/lib/python3.8/site-packages/sklearn/neighbors/_base.py:501: UserWarning: cannot use tree with sparse input: using brute force\n",
      "  warnings.warn(\"cannot use tree with sparse input: using brute force\")\n",
      "/home/juan/.pyenv/versions/3.8.9/envs/universidad/lib/python3.8/site-packages/sklearn/neighbors/_base.py:501: UserWarning: cannot use tree with sparse input: using brute force\n",
      "  warnings.warn(\"cannot use tree with sparse input: using brute force\")\n",
      "/home/juan/.pyenv/versions/3.8.9/envs/universidad/lib/python3.8/site-packages/sklearn/neighbors/_base.py:501: UserWarning: cannot use tree with sparse input: using brute force\n",
      "  warnings.warn(\"cannot use tree with sparse input: using brute force\")\n",
      "/home/juan/.pyenv/versions/3.8.9/envs/universidad/lib/python3.8/site-packages/sklearn/neighbors/_base.py:501: UserWarning: cannot use tree with sparse input: using brute force\n",
      "  warnings.warn(\"cannot use tree with sparse input: using brute force\")\n",
      "/home/juan/.pyenv/versions/3.8.9/envs/universidad/lib/python3.8/site-packages/sklearn/neighbors/_base.py:501: UserWarning: cannot use tree with sparse input: using brute force\n",
      "  warnings.warn(\"cannot use tree with sparse input: using brute force\")\n",
      "/home/juan/.pyenv/versions/3.8.9/envs/universidad/lib/python3.8/site-packages/sklearn/neighbors/_base.py:501: UserWarning: cannot use tree with sparse input: using brute force\n",
      "  warnings.warn(\"cannot use tree with sparse input: using brute force\")\n",
      "/home/juan/.pyenv/versions/3.8.9/envs/universidad/lib/python3.8/site-packages/sklearn/neighbors/_base.py:501: UserWarning: cannot use tree with sparse input: using brute force\n",
      "  warnings.warn(\"cannot use tree with sparse input: using brute force\")\n",
      "/home/juan/.pyenv/versions/3.8.9/envs/universidad/lib/python3.8/site-packages/sklearn/neighbors/_base.py:501: UserWarning: cannot use tree with sparse input: using brute force\n",
      "  warnings.warn(\"cannot use tree with sparse input: using brute force\")\n",
      "/home/juan/.pyenv/versions/3.8.9/envs/universidad/lib/python3.8/site-packages/sklearn/neighbors/_base.py:501: UserWarning: cannot use tree with sparse input: using brute force\n",
      "  warnings.warn(\"cannot use tree with sparse input: using brute force\")\n",
      "/home/juan/.pyenv/versions/3.8.9/envs/universidad/lib/python3.8/site-packages/sklearn/neighbors/_base.py:501: UserWarning: cannot use tree with sparse input: using brute force\n",
      "  warnings.warn(\"cannot use tree with sparse input: using brute force\")\n",
      "/home/juan/.pyenv/versions/3.8.9/envs/universidad/lib/python3.8/site-packages/sklearn/neighbors/_base.py:501: UserWarning: cannot use tree with sparse input: using brute force\n",
      "  warnings.warn(\"cannot use tree with sparse input: using brute force\")\n",
      "/home/juan/.pyenv/versions/3.8.9/envs/universidad/lib/python3.8/site-packages/sklearn/neighbors/_base.py:501: UserWarning: cannot use tree with sparse input: using brute force\n",
      "  warnings.warn(\"cannot use tree with sparse input: using brute force\")\n",
      "/home/juan/.pyenv/versions/3.8.9/envs/universidad/lib/python3.8/site-packages/sklearn/neighbors/_base.py:501: UserWarning: cannot use tree with sparse input: using brute force\n",
      "  warnings.warn(\"cannot use tree with sparse input: using brute force\")\n",
      "/home/juan/.pyenv/versions/3.8.9/envs/universidad/lib/python3.8/site-packages/sklearn/neighbors/_base.py:501: UserWarning: cannot use tree with sparse input: using brute force\n",
      "  warnings.warn(\"cannot use tree with sparse input: using brute force\")\n",
      "/home/juan/.pyenv/versions/3.8.9/envs/universidad/lib/python3.8/site-packages/sklearn/neighbors/_base.py:501: UserWarning: cannot use tree with sparse input: using brute force\n",
      "  warnings.warn(\"cannot use tree with sparse input: using brute force\")\n",
      "/home/juan/.pyenv/versions/3.8.9/envs/universidad/lib/python3.8/site-packages/sklearn/neighbors/_base.py:501: UserWarning: cannot use tree with sparse input: using brute force\n",
      "  warnings.warn(\"cannot use tree with sparse input: using brute force\")\n",
      "/home/juan/.pyenv/versions/3.8.9/envs/universidad/lib/python3.8/site-packages/sklearn/neighbors/_base.py:501: UserWarning: cannot use tree with sparse input: using brute force\n",
      "  warnings.warn(\"cannot use tree with sparse input: using brute force\")\n",
      "/home/juan/.pyenv/versions/3.8.9/envs/universidad/lib/python3.8/site-packages/sklearn/neighbors/_base.py:501: UserWarning: cannot use tree with sparse input: using brute force\n",
      "  warnings.warn(\"cannot use tree with sparse input: using brute force\")\n",
      "/home/juan/.pyenv/versions/3.8.9/envs/universidad/lib/python3.8/site-packages/sklearn/neighbors/_base.py:501: UserWarning: cannot use tree with sparse input: using brute force\n",
      "  warnings.warn(\"cannot use tree with sparse input: using brute force\")\n",
      "/home/juan/.pyenv/versions/3.8.9/envs/universidad/lib/python3.8/site-packages/sklearn/neighbors/_base.py:501: UserWarning: cannot use tree with sparse input: using brute force\n",
      "  warnings.warn(\"cannot use tree with sparse input: using brute force\")\n",
      "/home/juan/.pyenv/versions/3.8.9/envs/universidad/lib/python3.8/site-packages/sklearn/neighbors/_base.py:501: UserWarning: cannot use tree with sparse input: using brute force\n",
      "  warnings.warn(\"cannot use tree with sparse input: using brute force\")\n",
      "/home/juan/.pyenv/versions/3.8.9/envs/universidad/lib/python3.8/site-packages/sklearn/neighbors/_base.py:501: UserWarning: cannot use tree with sparse input: using brute force\n",
      "  warnings.warn(\"cannot use tree with sparse input: using brute force\")\n",
      "/home/juan/.pyenv/versions/3.8.9/envs/universidad/lib/python3.8/site-packages/sklearn/neighbors/_base.py:501: UserWarning: cannot use tree with sparse input: using brute force\n",
      "  warnings.warn(\"cannot use tree with sparse input: using brute force\")\n",
      "/home/juan/.pyenv/versions/3.8.9/envs/universidad/lib/python3.8/site-packages/sklearn/neighbors/_base.py:501: UserWarning: cannot use tree with sparse input: using brute force\n",
      "  warnings.warn(\"cannot use tree with sparse input: using brute force\")\n",
      "/home/juan/.pyenv/versions/3.8.9/envs/universidad/lib/python3.8/site-packages/sklearn/neighbors/_base.py:501: UserWarning: cannot use tree with sparse input: using brute force\n",
      "  warnings.warn(\"cannot use tree with sparse input: using brute force\")\n",
      "/home/juan/.pyenv/versions/3.8.9/envs/universidad/lib/python3.8/site-packages/sklearn/neighbors/_base.py:501: UserWarning: cannot use tree with sparse input: using brute force\n",
      "  warnings.warn(\"cannot use tree with sparse input: using brute force\")\n",
      "/home/juan/.pyenv/versions/3.8.9/envs/universidad/lib/python3.8/site-packages/sklearn/neighbors/_base.py:501: UserWarning: cannot use tree with sparse input: using brute force\n",
      "  warnings.warn(\"cannot use tree with sparse input: using brute force\")\n",
      "/home/juan/.pyenv/versions/3.8.9/envs/universidad/lib/python3.8/site-packages/sklearn/neighbors/_base.py:501: UserWarning: cannot use tree with sparse input: using brute force\n",
      "  warnings.warn(\"cannot use tree with sparse input: using brute force\")\n",
      "/home/juan/.pyenv/versions/3.8.9/envs/universidad/lib/python3.8/site-packages/sklearn/neighbors/_base.py:501: UserWarning: cannot use tree with sparse input: using brute force\n",
      "  warnings.warn(\"cannot use tree with sparse input: using brute force\")\n",
      "/home/juan/.pyenv/versions/3.8.9/envs/universidad/lib/python3.8/site-packages/sklearn/neighbors/_base.py:501: UserWarning: cannot use tree with sparse input: using brute force\n",
      "  warnings.warn(\"cannot use tree with sparse input: using brute force\")\n",
      "/home/juan/.pyenv/versions/3.8.9/envs/universidad/lib/python3.8/site-packages/sklearn/neighbors/_base.py:501: UserWarning: cannot use tree with sparse input: using brute force\n",
      "  warnings.warn(\"cannot use tree with sparse input: using brute force\")\n",
      "/home/juan/.pyenv/versions/3.8.9/envs/universidad/lib/python3.8/site-packages/sklearn/neighbors/_base.py:501: UserWarning: cannot use tree with sparse input: using brute force\n",
      "  warnings.warn(\"cannot use tree with sparse input: using brute force\")\n",
      "/home/juan/.pyenv/versions/3.8.9/envs/universidad/lib/python3.8/site-packages/sklearn/neighbors/_base.py:501: UserWarning: cannot use tree with sparse input: using brute force\n",
      "  warnings.warn(\"cannot use tree with sparse input: using brute force\")\n",
      "/home/juan/.pyenv/versions/3.8.9/envs/universidad/lib/python3.8/site-packages/sklearn/neighbors/_base.py:501: UserWarning: cannot use tree with sparse input: using brute force\n",
      "  warnings.warn(\"cannot use tree with sparse input: using brute force\")\n",
      "/home/juan/.pyenv/versions/3.8.9/envs/universidad/lib/python3.8/site-packages/sklearn/neighbors/_base.py:501: UserWarning: cannot use tree with sparse input: using brute force\n",
      "  warnings.warn(\"cannot use tree with sparse input: using brute force\")\n",
      "/home/juan/.pyenv/versions/3.8.9/envs/universidad/lib/python3.8/site-packages/sklearn/neighbors/_base.py:501: UserWarning: cannot use tree with sparse input: using brute force\n",
      "  warnings.warn(\"cannot use tree with sparse input: using brute force\")\n",
      "/home/juan/.pyenv/versions/3.8.9/envs/universidad/lib/python3.8/site-packages/sklearn/neighbors/_base.py:501: UserWarning: cannot use tree with sparse input: using brute force\n",
      "  warnings.warn(\"cannot use tree with sparse input: using brute force\")\n",
      "/home/juan/.pyenv/versions/3.8.9/envs/universidad/lib/python3.8/site-packages/sklearn/neighbors/_base.py:501: UserWarning: cannot use tree with sparse input: using brute force\n",
      "  warnings.warn(\"cannot use tree with sparse input: using brute force\")\n",
      "/home/juan/.pyenv/versions/3.8.9/envs/universidad/lib/python3.8/site-packages/sklearn/neighbors/_base.py:501: UserWarning: cannot use tree with sparse input: using brute force\n",
      "  warnings.warn(\"cannot use tree with sparse input: using brute force\")\n",
      "/home/juan/.pyenv/versions/3.8.9/envs/universidad/lib/python3.8/site-packages/sklearn/neighbors/_base.py:501: UserWarning: cannot use tree with sparse input: using brute force\n",
      "  warnings.warn(\"cannot use tree with sparse input: using brute force\")\n",
      "/home/juan/.pyenv/versions/3.8.9/envs/universidad/lib/python3.8/site-packages/sklearn/neighbors/_base.py:501: UserWarning: cannot use tree with sparse input: using brute force\n",
      "  warnings.warn(\"cannot use tree with sparse input: using brute force\")\n",
      "/home/juan/.pyenv/versions/3.8.9/envs/universidad/lib/python3.8/site-packages/sklearn/neighbors/_base.py:501: UserWarning: cannot use tree with sparse input: using brute force\n",
      "  warnings.warn(\"cannot use tree with sparse input: using brute force\")\n",
      "/home/juan/.pyenv/versions/3.8.9/envs/universidad/lib/python3.8/site-packages/sklearn/neighbors/_base.py:501: UserWarning: cannot use tree with sparse input: using brute force\n",
      "  warnings.warn(\"cannot use tree with sparse input: using brute force\")\n",
      "/home/juan/.pyenv/versions/3.8.9/envs/universidad/lib/python3.8/site-packages/sklearn/neighbors/_base.py:501: UserWarning: cannot use tree with sparse input: using brute force\n",
      "  warnings.warn(\"cannot use tree with sparse input: using brute force\")\n",
      "/home/juan/.pyenv/versions/3.8.9/envs/universidad/lib/python3.8/site-packages/sklearn/neighbors/_base.py:501: UserWarning: cannot use tree with sparse input: using brute force\n",
      "  warnings.warn(\"cannot use tree with sparse input: using brute force\")\n",
      "/home/juan/.pyenv/versions/3.8.9/envs/universidad/lib/python3.8/site-packages/sklearn/neighbors/_base.py:501: UserWarning: cannot use tree with sparse input: using brute force\n",
      "  warnings.warn(\"cannot use tree with sparse input: using brute force\")\n",
      "/home/juan/.pyenv/versions/3.8.9/envs/universidad/lib/python3.8/site-packages/sklearn/neighbors/_base.py:501: UserWarning: cannot use tree with sparse input: using brute force\n",
      "  warnings.warn(\"cannot use tree with sparse input: using brute force\")\n",
      "/home/juan/.pyenv/versions/3.8.9/envs/universidad/lib/python3.8/site-packages/sklearn/neighbors/_base.py:501: UserWarning: cannot use tree with sparse input: using brute force\n",
      "  warnings.warn(\"cannot use tree with sparse input: using brute force\")\n",
      "/home/juan/.pyenv/versions/3.8.9/envs/universidad/lib/python3.8/site-packages/sklearn/neighbors/_base.py:501: UserWarning: cannot use tree with sparse input: using brute force\n",
      "  warnings.warn(\"cannot use tree with sparse input: using brute force\")\n",
      "/home/juan/.pyenv/versions/3.8.9/envs/universidad/lib/python3.8/site-packages/sklearn/neighbors/_base.py:501: UserWarning: cannot use tree with sparse input: using brute force\n",
      "  warnings.warn(\"cannot use tree with sparse input: using brute force\")\n",
      "/home/juan/.pyenv/versions/3.8.9/envs/universidad/lib/python3.8/site-packages/sklearn/neighbors/_base.py:501: UserWarning: cannot use tree with sparse input: using brute force\n",
      "  warnings.warn(\"cannot use tree with sparse input: using brute force\")\n",
      "/home/juan/.pyenv/versions/3.8.9/envs/universidad/lib/python3.8/site-packages/sklearn/neighbors/_base.py:501: UserWarning: cannot use tree with sparse input: using brute force\n",
      "  warnings.warn(\"cannot use tree with sparse input: using brute force\")\n",
      "/home/juan/.pyenv/versions/3.8.9/envs/universidad/lib/python3.8/site-packages/sklearn/neighbors/_base.py:501: UserWarning: cannot use tree with sparse input: using brute force\n",
      "  warnings.warn(\"cannot use tree with sparse input: using brute force\")\n",
      "/home/juan/.pyenv/versions/3.8.9/envs/universidad/lib/python3.8/site-packages/sklearn/neighbors/_base.py:501: UserWarning: cannot use tree with sparse input: using brute force\n",
      "  warnings.warn(\"cannot use tree with sparse input: using brute force\")\n",
      "/home/juan/.pyenv/versions/3.8.9/envs/universidad/lib/python3.8/site-packages/sklearn/neighbors/_base.py:501: UserWarning: cannot use tree with sparse input: using brute force\n",
      "  warnings.warn(\"cannot use tree with sparse input: using brute force\")\n",
      "/home/juan/.pyenv/versions/3.8.9/envs/universidad/lib/python3.8/site-packages/sklearn/neighbors/_base.py:501: UserWarning: cannot use tree with sparse input: using brute force\n",
      "  warnings.warn(\"cannot use tree with sparse input: using brute force\")\n",
      "/home/juan/.pyenv/versions/3.8.9/envs/universidad/lib/python3.8/site-packages/sklearn/neighbors/_base.py:501: UserWarning: cannot use tree with sparse input: using brute force\n",
      "  warnings.warn(\"cannot use tree with sparse input: using brute force\")\n",
      "/home/juan/.pyenv/versions/3.8.9/envs/universidad/lib/python3.8/site-packages/sklearn/neighbors/_base.py:501: UserWarning: cannot use tree with sparse input: using brute force\n",
      "  warnings.warn(\"cannot use tree with sparse input: using brute force\")\n",
      "/home/juan/.pyenv/versions/3.8.9/envs/universidad/lib/python3.8/site-packages/sklearn/neighbors/_base.py:501: UserWarning: cannot use tree with sparse input: using brute force\n",
      "  warnings.warn(\"cannot use tree with sparse input: using brute force\")\n",
      "/home/juan/.pyenv/versions/3.8.9/envs/universidad/lib/python3.8/site-packages/sklearn/neighbors/_base.py:501: UserWarning: cannot use tree with sparse input: using brute force\n",
      "  warnings.warn(\"cannot use tree with sparse input: using brute force\")\n",
      "/home/juan/.pyenv/versions/3.8.9/envs/universidad/lib/python3.8/site-packages/sklearn/neighbors/_base.py:501: UserWarning: cannot use tree with sparse input: using brute force\n",
      "  warnings.warn(\"cannot use tree with sparse input: using brute force\")\n",
      "/home/juan/.pyenv/versions/3.8.9/envs/universidad/lib/python3.8/site-packages/sklearn/neighbors/_base.py:501: UserWarning: cannot use tree with sparse input: using brute force\n",
      "  warnings.warn(\"cannot use tree with sparse input: using brute force\")\n",
      "/home/juan/.pyenv/versions/3.8.9/envs/universidad/lib/python3.8/site-packages/sklearn/neighbors/_base.py:501: UserWarning: cannot use tree with sparse input: using brute force\n",
      "  warnings.warn(\"cannot use tree with sparse input: using brute force\")\n",
      "/home/juan/.pyenv/versions/3.8.9/envs/universidad/lib/python3.8/site-packages/sklearn/neighbors/_base.py:501: UserWarning: cannot use tree with sparse input: using brute force\n",
      "  warnings.warn(\"cannot use tree with sparse input: using brute force\")\n",
      "/home/juan/.pyenv/versions/3.8.9/envs/universidad/lib/python3.8/site-packages/sklearn/neighbors/_base.py:501: UserWarning: cannot use tree with sparse input: using brute force\n",
      "  warnings.warn(\"cannot use tree with sparse input: using brute force\")\n",
      "/home/juan/.pyenv/versions/3.8.9/envs/universidad/lib/python3.8/site-packages/sklearn/neighbors/_base.py:501: UserWarning: cannot use tree with sparse input: using brute force\n",
      "  warnings.warn(\"cannot use tree with sparse input: using brute force\")\n",
      "/home/juan/.pyenv/versions/3.8.9/envs/universidad/lib/python3.8/site-packages/sklearn/neighbors/_base.py:501: UserWarning: cannot use tree with sparse input: using brute force\n",
      "  warnings.warn(\"cannot use tree with sparse input: using brute force\")\n",
      "/home/juan/.pyenv/versions/3.8.9/envs/universidad/lib/python3.8/site-packages/sklearn/neighbors/_base.py:501: UserWarning: cannot use tree with sparse input: using brute force\n",
      "  warnings.warn(\"cannot use tree with sparse input: using brute force\")\n",
      "/home/juan/.pyenv/versions/3.8.9/envs/universidad/lib/python3.8/site-packages/sklearn/neighbors/_base.py:501: UserWarning: cannot use tree with sparse input: using brute force\n",
      "  warnings.warn(\"cannot use tree with sparse input: using brute force\")\n",
      "/home/juan/.pyenv/versions/3.8.9/envs/universidad/lib/python3.8/site-packages/sklearn/neighbors/_base.py:501: UserWarning: cannot use tree with sparse input: using brute force\n",
      "  warnings.warn(\"cannot use tree with sparse input: using brute force\")\n",
      "/home/juan/.pyenv/versions/3.8.9/envs/universidad/lib/python3.8/site-packages/sklearn/neighbors/_base.py:501: UserWarning: cannot use tree with sparse input: using brute force\n",
      "  warnings.warn(\"cannot use tree with sparse input: using brute force\")\n",
      "/home/juan/.pyenv/versions/3.8.9/envs/universidad/lib/python3.8/site-packages/sklearn/neighbors/_base.py:501: UserWarning: cannot use tree with sparse input: using brute force\n",
      "  warnings.warn(\"cannot use tree with sparse input: using brute force\")\n",
      "/home/juan/.pyenv/versions/3.8.9/envs/universidad/lib/python3.8/site-packages/sklearn/neighbors/_base.py:501: UserWarning: cannot use tree with sparse input: using brute force\n",
      "  warnings.warn(\"cannot use tree with sparse input: using brute force\")\n",
      "/home/juan/.pyenv/versions/3.8.9/envs/universidad/lib/python3.8/site-packages/sklearn/neighbors/_base.py:501: UserWarning: cannot use tree with sparse input: using brute force\n",
      "  warnings.warn(\"cannot use tree with sparse input: using brute force\")\n",
      "/home/juan/.pyenv/versions/3.8.9/envs/universidad/lib/python3.8/site-packages/sklearn/neighbors/_base.py:501: UserWarning: cannot use tree with sparse input: using brute force\n",
      "  warnings.warn(\"cannot use tree with sparse input: using brute force\")\n",
      "/home/juan/.pyenv/versions/3.8.9/envs/universidad/lib/python3.8/site-packages/sklearn/neighbors/_base.py:501: UserWarning: cannot use tree with sparse input: using brute force\n",
      "  warnings.warn(\"cannot use tree with sparse input: using brute force\")\n",
      "/home/juan/.pyenv/versions/3.8.9/envs/universidad/lib/python3.8/site-packages/sklearn/neighbors/_base.py:501: UserWarning: cannot use tree with sparse input: using brute force\n",
      "  warnings.warn(\"cannot use tree with sparse input: using brute force\")\n",
      "/home/juan/.pyenv/versions/3.8.9/envs/universidad/lib/python3.8/site-packages/sklearn/neighbors/_base.py:501: UserWarning: cannot use tree with sparse input: using brute force\n",
      "  warnings.warn(\"cannot use tree with sparse input: using brute force\")\n",
      "/home/juan/.pyenv/versions/3.8.9/envs/universidad/lib/python3.8/site-packages/sklearn/neighbors/_base.py:501: UserWarning: cannot use tree with sparse input: using brute force\n",
      "  warnings.warn(\"cannot use tree with sparse input: using brute force\")\n",
      "/home/juan/.pyenv/versions/3.8.9/envs/universidad/lib/python3.8/site-packages/sklearn/neighbors/_base.py:501: UserWarning: cannot use tree with sparse input: using brute force\n",
      "  warnings.warn(\"cannot use tree with sparse input: using brute force\")\n",
      "/home/juan/.pyenv/versions/3.8.9/envs/universidad/lib/python3.8/site-packages/sklearn/neighbors/_base.py:501: UserWarning: cannot use tree with sparse input: using brute force\n",
      "  warnings.warn(\"cannot use tree with sparse input: using brute force\")\n",
      "/home/juan/.pyenv/versions/3.8.9/envs/universidad/lib/python3.8/site-packages/sklearn/neighbors/_base.py:501: UserWarning: cannot use tree with sparse input: using brute force\n",
      "  warnings.warn(\"cannot use tree with sparse input: using brute force\")\n",
      "/home/juan/.pyenv/versions/3.8.9/envs/universidad/lib/python3.8/site-packages/sklearn/neighbors/_base.py:501: UserWarning: cannot use tree with sparse input: using brute force\n",
      "  warnings.warn(\"cannot use tree with sparse input: using brute force\")\n",
      "/home/juan/.pyenv/versions/3.8.9/envs/universidad/lib/python3.8/site-packages/sklearn/neighbors/_base.py:501: UserWarning: cannot use tree with sparse input: using brute force\n",
      "  warnings.warn(\"cannot use tree with sparse input: using brute force\")\n",
      "/home/juan/.pyenv/versions/3.8.9/envs/universidad/lib/python3.8/site-packages/sklearn/neighbors/_base.py:501: UserWarning: cannot use tree with sparse input: using brute force\n",
      "  warnings.warn(\"cannot use tree with sparse input: using brute force\")\n",
      "/home/juan/.pyenv/versions/3.8.9/envs/universidad/lib/python3.8/site-packages/sklearn/neighbors/_base.py:501: UserWarning: cannot use tree with sparse input: using brute force\n",
      "  warnings.warn(\"cannot use tree with sparse input: using brute force\")\n",
      "/home/juan/.pyenv/versions/3.8.9/envs/universidad/lib/python3.8/site-packages/sklearn/neighbors/_base.py:501: UserWarning: cannot use tree with sparse input: using brute force\n",
      "  warnings.warn(\"cannot use tree with sparse input: using brute force\")\n",
      "/home/juan/.pyenv/versions/3.8.9/envs/universidad/lib/python3.8/site-packages/sklearn/neighbors/_base.py:501: UserWarning: cannot use tree with sparse input: using brute force\n",
      "  warnings.warn(\"cannot use tree with sparse input: using brute force\")\n",
      "/home/juan/.pyenv/versions/3.8.9/envs/universidad/lib/python3.8/site-packages/sklearn/neighbors/_base.py:501: UserWarning: cannot use tree with sparse input: using brute force\n",
      "  warnings.warn(\"cannot use tree with sparse input: using brute force\")\n",
      "/home/juan/.pyenv/versions/3.8.9/envs/universidad/lib/python3.8/site-packages/sklearn/neighbors/_base.py:501: UserWarning: cannot use tree with sparse input: using brute force\n",
      "  warnings.warn(\"cannot use tree with sparse input: using brute force\")\n",
      "/home/juan/.pyenv/versions/3.8.9/envs/universidad/lib/python3.8/site-packages/sklearn/neighbors/_base.py:501: UserWarning: cannot use tree with sparse input: using brute force\n",
      "  warnings.warn(\"cannot use tree with sparse input: using brute force\")\n",
      "/home/juan/.pyenv/versions/3.8.9/envs/universidad/lib/python3.8/site-packages/sklearn/neighbors/_base.py:501: UserWarning: cannot use tree with sparse input: using brute force\n",
      "  warnings.warn(\"cannot use tree with sparse input: using brute force\")\n",
      "/home/juan/.pyenv/versions/3.8.9/envs/universidad/lib/python3.8/site-packages/sklearn/neighbors/_base.py:501: UserWarning: cannot use tree with sparse input: using brute force\n",
      "  warnings.warn(\"cannot use tree with sparse input: using brute force\")\n",
      "/home/juan/.pyenv/versions/3.8.9/envs/universidad/lib/python3.8/site-packages/sklearn/neighbors/_base.py:501: UserWarning: cannot use tree with sparse input: using brute force\n",
      "  warnings.warn(\"cannot use tree with sparse input: using brute force\")\n",
      "/home/juan/.pyenv/versions/3.8.9/envs/universidad/lib/python3.8/site-packages/sklearn/neighbors/_base.py:501: UserWarning: cannot use tree with sparse input: using brute force\n",
      "  warnings.warn(\"cannot use tree with sparse input: using brute force\")\n",
      "/home/juan/.pyenv/versions/3.8.9/envs/universidad/lib/python3.8/site-packages/sklearn/neighbors/_base.py:501: UserWarning: cannot use tree with sparse input: using brute force\n",
      "  warnings.warn(\"cannot use tree with sparse input: using brute force\")\n",
      "/home/juan/.pyenv/versions/3.8.9/envs/universidad/lib/python3.8/site-packages/sklearn/neighbors/_base.py:501: UserWarning: cannot use tree with sparse input: using brute force\n",
      "  warnings.warn(\"cannot use tree with sparse input: using brute force\")\n",
      "/home/juan/.pyenv/versions/3.8.9/envs/universidad/lib/python3.8/site-packages/sklearn/neighbors/_base.py:501: UserWarning: cannot use tree with sparse input: using brute force\n",
      "  warnings.warn(\"cannot use tree with sparse input: using brute force\")\n",
      "/home/juan/.pyenv/versions/3.8.9/envs/universidad/lib/python3.8/site-packages/sklearn/neighbors/_base.py:501: UserWarning: cannot use tree with sparse input: using brute force\n",
      "  warnings.warn(\"cannot use tree with sparse input: using brute force\")\n",
      "/home/juan/.pyenv/versions/3.8.9/envs/universidad/lib/python3.8/site-packages/sklearn/neighbors/_base.py:501: UserWarning: cannot use tree with sparse input: using brute force\n",
      "  warnings.warn(\"cannot use tree with sparse input: using brute force\")\n",
      "/home/juan/.pyenv/versions/3.8.9/envs/universidad/lib/python3.8/site-packages/sklearn/neighbors/_base.py:501: UserWarning: cannot use tree with sparse input: using brute force\n",
      "  warnings.warn(\"cannot use tree with sparse input: using brute force\")\n",
      "/home/juan/.pyenv/versions/3.8.9/envs/universidad/lib/python3.8/site-packages/sklearn/neighbors/_base.py:501: UserWarning: cannot use tree with sparse input: using brute force\n",
      "  warnings.warn(\"cannot use tree with sparse input: using brute force\")\n",
      "/home/juan/.pyenv/versions/3.8.9/envs/universidad/lib/python3.8/site-packages/sklearn/neighbors/_base.py:501: UserWarning: cannot use tree with sparse input: using brute force\n",
      "  warnings.warn(\"cannot use tree with sparse input: using brute force\")\n",
      "/home/juan/.pyenv/versions/3.8.9/envs/universidad/lib/python3.8/site-packages/sklearn/neighbors/_base.py:501: UserWarning: cannot use tree with sparse input: using brute force\n",
      "  warnings.warn(\"cannot use tree with sparse input: using brute force\")\n",
      "/home/juan/.pyenv/versions/3.8.9/envs/universidad/lib/python3.8/site-packages/sklearn/neighbors/_base.py:501: UserWarning: cannot use tree with sparse input: using brute force\n",
      "  warnings.warn(\"cannot use tree with sparse input: using brute force\")\n",
      "/home/juan/.pyenv/versions/3.8.9/envs/universidad/lib/python3.8/site-packages/sklearn/neighbors/_base.py:501: UserWarning: cannot use tree with sparse input: using brute force\n",
      "  warnings.warn(\"cannot use tree with sparse input: using brute force\")\n",
      "/home/juan/.pyenv/versions/3.8.9/envs/universidad/lib/python3.8/site-packages/sklearn/neighbors/_base.py:501: UserWarning: cannot use tree with sparse input: using brute force\n",
      "  warnings.warn(\"cannot use tree with sparse input: using brute force\")\n",
      "/home/juan/.pyenv/versions/3.8.9/envs/universidad/lib/python3.8/site-packages/sklearn/neighbors/_base.py:501: UserWarning: cannot use tree with sparse input: using brute force\n",
      "  warnings.warn(\"cannot use tree with sparse input: using brute force\")\n",
      "/home/juan/.pyenv/versions/3.8.9/envs/universidad/lib/python3.8/site-packages/sklearn/neighbors/_base.py:501: UserWarning: cannot use tree with sparse input: using brute force\n",
      "  warnings.warn(\"cannot use tree with sparse input: using brute force\")\n",
      "/home/juan/.pyenv/versions/3.8.9/envs/universidad/lib/python3.8/site-packages/sklearn/neighbors/_base.py:501: UserWarning: cannot use tree with sparse input: using brute force\n",
      "  warnings.warn(\"cannot use tree with sparse input: using brute force\")\n",
      "/home/juan/.pyenv/versions/3.8.9/envs/universidad/lib/python3.8/site-packages/sklearn/neighbors/_base.py:501: UserWarning: cannot use tree with sparse input: using brute force\n",
      "  warnings.warn(\"cannot use tree with sparse input: using brute force\")\n",
      "/home/juan/.pyenv/versions/3.8.9/envs/universidad/lib/python3.8/site-packages/sklearn/neighbors/_base.py:501: UserWarning: cannot use tree with sparse input: using brute force\n",
      "  warnings.warn(\"cannot use tree with sparse input: using brute force\")\n",
      "/home/juan/.pyenv/versions/3.8.9/envs/universidad/lib/python3.8/site-packages/sklearn/neighbors/_base.py:501: UserWarning: cannot use tree with sparse input: using brute force\n",
      "  warnings.warn(\"cannot use tree with sparse input: using brute force\")\n",
      "/home/juan/.pyenv/versions/3.8.9/envs/universidad/lib/python3.8/site-packages/sklearn/neighbors/_base.py:501: UserWarning: cannot use tree with sparse input: using brute force\n",
      "  warnings.warn(\"cannot use tree with sparse input: using brute force\")\n",
      "/home/juan/.pyenv/versions/3.8.9/envs/universidad/lib/python3.8/site-packages/sklearn/neighbors/_base.py:501: UserWarning: cannot use tree with sparse input: using brute force\n",
      "  warnings.warn(\"cannot use tree with sparse input: using brute force\")\n",
      "/home/juan/.pyenv/versions/3.8.9/envs/universidad/lib/python3.8/site-packages/sklearn/neighbors/_base.py:501: UserWarning: cannot use tree with sparse input: using brute force\n",
      "  warnings.warn(\"cannot use tree with sparse input: using brute force\")\n",
      "/home/juan/.pyenv/versions/3.8.9/envs/universidad/lib/python3.8/site-packages/sklearn/neighbors/_base.py:501: UserWarning: cannot use tree with sparse input: using brute force\n",
      "  warnings.warn(\"cannot use tree with sparse input: using brute force\")\n",
      "/home/juan/.pyenv/versions/3.8.9/envs/universidad/lib/python3.8/site-packages/sklearn/neighbors/_base.py:501: UserWarning: cannot use tree with sparse input: using brute force\n",
      "  warnings.warn(\"cannot use tree with sparse input: using brute force\")\n",
      "/home/juan/.pyenv/versions/3.8.9/envs/universidad/lib/python3.8/site-packages/sklearn/neighbors/_base.py:501: UserWarning: cannot use tree with sparse input: using brute force\n",
      "  warnings.warn(\"cannot use tree with sparse input: using brute force\")\n",
      "/home/juan/.pyenv/versions/3.8.9/envs/universidad/lib/python3.8/site-packages/sklearn/neighbors/_base.py:501: UserWarning: cannot use tree with sparse input: using brute force\n",
      "  warnings.warn(\"cannot use tree with sparse input: using brute force\")\n",
      "/home/juan/.pyenv/versions/3.8.9/envs/universidad/lib/python3.8/site-packages/sklearn/neighbors/_base.py:501: UserWarning: cannot use tree with sparse input: using brute force\n",
      "  warnings.warn(\"cannot use tree with sparse input: using brute force\")\n",
      "/home/juan/.pyenv/versions/3.8.9/envs/universidad/lib/python3.8/site-packages/sklearn/neighbors/_base.py:501: UserWarning: cannot use tree with sparse input: using brute force\n",
      "  warnings.warn(\"cannot use tree with sparse input: using brute force\")\n",
      "/home/juan/.pyenv/versions/3.8.9/envs/universidad/lib/python3.8/site-packages/sklearn/neighbors/_base.py:501: UserWarning: cannot use tree with sparse input: using brute force\n",
      "  warnings.warn(\"cannot use tree with sparse input: using brute force\")\n",
      "/home/juan/.pyenv/versions/3.8.9/envs/universidad/lib/python3.8/site-packages/sklearn/neighbors/_base.py:501: UserWarning: cannot use tree with sparse input: using brute force\n",
      "  warnings.warn(\"cannot use tree with sparse input: using brute force\")\n"
     ]
    },
    {
     "data": {
      "text/plain": [
       "GridSearchCV(cv=5, estimator=KNeighborsClassifier(), n_jobs=4,\n",
       "             param_grid={'algorithm': ['ball_tree'],\n",
       "                         'leaf_size': [10, 33, 100, 333],\n",
       "                         'n_neighbors': [10, 33, 100, 333]},\n",
       "             verbose=5)"
      ]
     },
     "execution_count": 58,
     "metadata": {},
     "output_type": "execute_result"
    }
   ],
   "source": [
    "param_grid_ = {\"algorithm\":[\"ball_tree\"], \"leaf_size\":[10, 33, 100, 333], \"n_neighbors\":[10, 33, 100, 333]}\n",
    "neigh = KNeighborsClassifier()\n",
    "\n",
    "bow_search = GridSearchCV(neigh, cv=5, param_grid=param_grid_,  n_jobs = 4, verbose=5)\n",
    "tfidf_search = GridSearchCV(neigh, cv=5, param_grid=param_grid_,  n_jobs = 4, verbose=5)\n",
    "bow_search.fit(X_tr_bow, y_tr)\n",
    "tfidf_search.fit(X_tr_tfidf, y_tr)"
   ]
  },
  {
   "cell_type": "code",
   "execution_count": 59,
   "metadata": {},
   "outputs": [
    {
     "data": {
      "text/plain": [
       "{'algorithm': 'ball_tree', 'leaf_size': 10, 'n_neighbors': 33}"
      ]
     },
     "execution_count": 59,
     "metadata": {},
     "output_type": "execute_result"
    }
   ],
   "source": [
    "bow_search.best_params_"
   ]
  },
  {
   "cell_type": "code",
   "execution_count": 60,
   "metadata": {},
   "outputs": [
    {
     "data": {
      "text/plain": [
       "{'algorithm': 'ball_tree', 'leaf_size': 10, 'n_neighbors': 33}"
      ]
     },
     "execution_count": 60,
     "metadata": {},
     "output_type": "execute_result"
    }
   ],
   "source": [
    "tfidf_search.best_params_"
   ]
  },
  {
   "cell_type": "code",
   "execution_count": 61,
   "metadata": {},
   "outputs": [
    {
     "data": {
      "text/plain": [
       "KNeighborsClassifier(algorithm='ball_tree', leaf_size=10, n_neighbors=33)"
      ]
     },
     "execution_count": 61,
     "metadata": {},
     "output_type": "execute_result"
    }
   ],
   "source": [
    "knn_model_bow = KNeighborsClassifier(algorithm='ball_tree',\n",
    "                                     leaf_size=10,\n",
    "                                     n_neighbors=10)\n",
    "knn_model_bow.fit(X_tr_bow, y_tr)\n",
    "knn_model_tfidf = KNeighborsClassifier(algorithm='ball_tree',\n",
    "                                     leaf_size=10,\n",
    "                                     n_neighbors=33)\n",
    "knn_model_tfidf.fit(X_tr_tfidf, y_tr)"
   ]
  },
  {
   "cell_type": "code",
   "execution_count": 62,
   "metadata": {},
   "outputs": [
    {
     "name": "stdout",
     "output_type": "stream",
     "text": [
      "---------------- BOW ----------------\n",
      "Exactitud sobre entrenamiento: 0.74\n",
      "Exactitud sobre test: 0.52\n",
      "              precision    recall  f1-score   support\n",
      "\n",
      "         0.0       0.53      0.13      0.21      2200\n",
      "         1.0       0.52      0.89      0.65      2300\n",
      "\n",
      "    accuracy                           0.52      4500\n",
      "   macro avg       0.52      0.51      0.43      4500\n",
      "weighted avg       0.52      0.52      0.43      4500\n",
      "\n",
      "---------------- TFIDF ----------------\n",
      "Exactitud sobre entrenamiento: 0.53\n",
      "Exactitud sobre test: 0.49\n",
      "              precision    recall  f1-score   support\n",
      "\n",
      "         0.0       0.49      0.92      0.64      2200\n",
      "         1.0       0.53      0.08      0.14      2300\n",
      "\n",
      "    accuracy                           0.49      4500\n",
      "   macro avg       0.51      0.50      0.39      4500\n",
      "weighted avg       0.51      0.49      0.38      4500\n",
      "\n"
     ]
    }
   ],
   "source": [
    "y_pred_train = knn_model_bow.predict(X_tr_bow)\n",
    "y_pred_test = knn_model_bow.predict(X_te_bow)\n",
    "\n",
    "print(\"---------------- BOW ----------------\")\n",
    "print('Exactitud sobre entrenamiento: %.2f' % accuracy_score(y_tr, y_pred_train))\n",
    "print('Exactitud sobre test: %.2f' % accuracy_score(y_te, y_pred_test))\n",
    "print(classification_report(y_te, y_pred_test))\n",
    "\n",
    "precision, recall, fscore, _ = score(y_te, y_pred_test)\n",
    "\n",
    "new_data = pd.DataFrame({'Modelo': ['KNN BOW'],\n",
    "                         'label':  ['Negativo'],\n",
    "                         'F1 score': [fscore[0]],\n",
    "                         'precision': [precision[0]],\n",
    "                         'recall': [recall[0]],\n",
    "                        })\n",
    "df_results = pd.concat([df_results, new_data], ignore_index = True, axis = 0)\n",
    "new_data = pd.DataFrame({'Modelo': ['KNN BOW'],\n",
    "                         'label':  ['Nulo'],\n",
    "                         'F1 score': [fscore[1]],\n",
    "                         'precision': [precision[1]],\n",
    "                         'recall': [recall[1]],\n",
    "                        })\n",
    "df_results = pd.concat([df_results, new_data], ignore_index = True, axis = 0)\n",
    "\n",
    "y_pred_train = knn_model_tfidf.predict(X_tr_tfidf)\n",
    "y_pred_test = knn_model_tfidf.predict(X_te_tfidf)\n",
    "\n",
    "print(\"---------------- TFIDF ----------------\")\n",
    "print('Exactitud sobre entrenamiento: %.2f' % accuracy_score(y_tr, y_pred_train))\n",
    "print('Exactitud sobre test: %.2f' % accuracy_score(y_te, y_pred_test))\n",
    "print(classification_report(y_te, y_pred_test))\n",
    "\n",
    "precision, recall, fscore, _ = score(y_te, y_pred_test)\n",
    "\n",
    "new_data = pd.DataFrame({'Modelo': ['KNN TFIDF'],\n",
    "                         'label':  ['Negativo'],\n",
    "                         'F1 score': [fscore[0]],\n",
    "                         'precision': [precision[0]],\n",
    "                         'recall': [recall[0]],\n",
    "                        })\n",
    "df_results = pd.concat([df_results, new_data], ignore_index = True, axis = 0)\n",
    "new_data = pd.DataFrame({'Modelo': ['KNN TFIDF'],\n",
    "                         'label':  ['Nulo'],\n",
    "                         'F1 score': [fscore[1]],\n",
    "                         'precision': [precision[1]],\n",
    "                         'recall': [recall[1]],\n",
    "                        })\n",
    "df_results = pd.concat([df_results, new_data], ignore_index = True, axis = 0)"
   ]
  },
  {
   "cell_type": "code",
   "execution_count": 63,
   "metadata": {},
   "outputs": [
    {
     "data": {
      "image/png": "[encoded data removed]",
      "text/plain": [
       "<Figure size 432x288 with 2 Axes>"
      ]
     },
     "metadata": {},
     "output_type": "display_data"
    }
   ],
   "source": [
    "# Se puede visualizar la matriz de confusión\n",
    "confusion_matrix(y_te, y_pred_test)\n",
    "plot_confusion_matrix(knn_model_bow, X_te_bow, y_te)  \n",
    "plt.show()"
   ]
  },
  {
   "cell_type": "code",
   "execution_count": 64,
   "metadata": {},
   "outputs": [
    {
     "data": {
      "image/png": "[encoded data removed]",
      "text/plain": [
       "<Figure size 432x288 with 2 Axes>"
      ]
     },
     "metadata": {},
     "output_type": "display_data"
    }
   ],
   "source": [
    "# Se puede visualizar la matriz de confusión\n",
    "confusion_matrix(y_te, y_pred_test)\n",
    "plot_confusion_matrix(knn_model_tfidf, X_te_bow, y_te)  \n",
    "plt.show()"
   ]
  },
  {
   "cell_type": "markdown",
   "metadata": {
    "tags": []
   },
   "source": [
    "## Naive Bayes"
   ]
  },
  {
   "cell_type": "code",
   "execution_count": 65,
   "metadata": {
    "tags": []
   },
   "outputs": [
    {
     "data": {
      "text/plain": [
       "GaussianNB()"
      ]
     },
     "execution_count": 65,
     "metadata": {},
     "output_type": "execute_result"
    }
   ],
   "source": [
    "gnb_model_bow = GaussianNB()\n",
    "gnb_model_tfidf = GaussianNB()\n",
    "\n",
    "gnb_model_bow.fit(X_tr_bow.toarray(), y_tr)\n",
    "gnb_model_tfidf.fit(X_tr_tfidf.toarray(), y_tr)"
   ]
  },
  {
   "cell_type": "code",
   "execution_count": 66,
   "metadata": {},
   "outputs": [
    {
     "name": "stdout",
     "output_type": "stream",
     "text": [
      "---------------- BOW ----------------\n",
      "Exactitud sobre entrenamiento: 0.93\n",
      "Exactitud sobre test: 0.50\n",
      "              precision    recall  f1-score   support\n",
      "\n",
      "         0.0       0.49      0.88      0.63      2200\n",
      "         1.0       0.55      0.14      0.23      2300\n",
      "\n",
      "    accuracy                           0.50      4500\n",
      "   macro avg       0.52      0.51      0.43      4500\n",
      "weighted avg       0.52      0.50      0.43      4500\n",
      "\n",
      "---------------- TFIDF ----------------\n",
      "Exactitud sobre entrenamiento: 0.93\n",
      "Exactitud sobre test: 0.50\n",
      "              precision    recall  f1-score   support\n",
      "\n",
      "         0.0       0.49      0.87      0.63      2200\n",
      "         1.0       0.55      0.15      0.23      2300\n",
      "\n",
      "    accuracy                           0.50      4500\n",
      "   macro avg       0.52      0.51      0.43      4500\n",
      "weighted avg       0.52      0.50      0.43      4500\n",
      "\n"
     ]
    }
   ],
   "source": [
    "y_pred_train = gnb_model_bow.predict(X_tr_bow.toarray())\n",
    "y_pred_test = gnb_model_bow.predict(X_te_bow.toarray())\n",
    "\n",
    "print(\"---------------- BOW ----------------\")\n",
    "print('Exactitud sobre entrenamiento: %.2f' % accuracy_score(y_tr, y_pred_train))\n",
    "print('Exactitud sobre test: %.2f' % accuracy_score(y_te, y_pred_test))\n",
    "print(classification_report(y_te, y_pred_test))\n",
    "\n",
    "precision, recall, fscore, _ = score(y_te, y_pred_test)\n",
    "\n",
    "new_data = pd.DataFrame({'Modelo': ['GNB BOW'],\n",
    "                         'label':  ['Negativo'],\n",
    "                         'F1 score': [fscore[0]],\n",
    "                         'precision': [precision[0]],\n",
    "                         'recall': [recall[0]],\n",
    "                        })\n",
    "df_results = pd.concat([df_results, new_data], ignore_index = True, axis = 0)\n",
    "new_data = pd.DataFrame({'Modelo': ['GNB BOW'],\n",
    "                         'label':  ['Nulo'],\n",
    "                         'F1 score': [fscore[1]],\n",
    "                         'precision': [precision[1]],\n",
    "                         'recall': [recall[1]],\n",
    "                        })\n",
    "df_results = pd.concat([df_results, new_data], ignore_index = True, axis = 0)\n",
    "\n",
    "y_pred_train = gnb_model_tfidf.predict(X_tr_tfidf.toarray())\n",
    "y_pred_test = gnb_model_tfidf.predict(X_te_tfidf.toarray())\n",
    "\n",
    "print(\"---------------- TFIDF ----------------\")\n",
    "print('Exactitud sobre entrenamiento: %.2f' % accuracy_score(y_tr, y_pred_train))\n",
    "print('Exactitud sobre test: %.2f' % accuracy_score(y_te, y_pred_test))\n",
    "print(classification_report(y_te, y_pred_test))\n",
    "\n",
    "precision, recall, fscore, _ = score(y_te, y_pred_test)\n",
    "\n",
    "new_data = pd.DataFrame({'Modelo': ['GNB TFIDF'],\n",
    "                         'label':  ['Negativo'],\n",
    "                         'F1 score': [fscore[0]],\n",
    "                         'precision': [precision[0]],\n",
    "                         'recall': [recall[0]],\n",
    "                        })\n",
    "df_results = pd.concat([df_results, new_data], ignore_index = True, axis = 0)\n",
    "new_data = pd.DataFrame({'Modelo': ['GNB TFIDF'],\n",
    "                         'label':  ['Nulo'],\n",
    "                         'F1 score': [fscore[1]],\n",
    "                         'precision': [precision[1]],\n",
    "                         'recall': [recall[1]],\n",
    "                        })\n",
    "df_results = pd.concat([df_results, new_data], ignore_index = True, axis = 0)"
   ]
  },
  {
   "cell_type": "code",
   "execution_count": 67,
   "metadata": {},
   "outputs": [
    {
     "data": {
      "image/png": "[encoded data removed]",
      "text/plain": [
       "<Figure size 432x288 with 2 Axes>"
      ]
     },
     "metadata": {},
     "output_type": "display_data"
    }
   ],
   "source": [
    "# Se puede visualizar la matriz de confusión\n",
    "confusion_matrix(y_te, y_pred_test)\n",
    "plot_confusion_matrix(gnb_model_bow, X_te_bow.toarray(), y_te)  \n",
    "plt.show()"
   ]
  },
  {
   "cell_type": "code",
   "execution_count": 68,
   "metadata": {},
   "outputs": [
    {
     "data": {
      "image/png": "[encoded data removed]",
      "text/plain": [
       "<Figure size 432x288 with 2 Axes>"
      ]
     },
     "metadata": {},
     "output_type": "display_data"
    }
   ],
   "source": [
    "# Se puede visualizar la matriz de confusión\n",
    "confusion_matrix(y_te, y_pred_test)\n",
    "plot_confusion_matrix(gnb_model_tfidf, X_te_tfidf.toarray(), y_te)\n",
    "plt.show()"
   ]
  },
  {
   "cell_type": "markdown",
   "metadata": {},
   "source": [
    "## Regresión logistica"
   ]
  },
  {
   "cell_type": "code",
   "execution_count": 69,
   "metadata": {},
   "outputs": [],
   "source": [
    "def simple_logistic_classify(X_tr, y_tr, X_test, y_test, description, _C=1.0):\n",
    "    model = LogisticRegression(C=_C).fit(X_tr, y_tr)\n",
    "    score = model.score(X_test, y_test)\n",
    "    print('Test Score with', description, 'features', score)\n",
    "    return model"
   ]
  },
  {
   "cell_type": "code",
   "execution_count": 73,
   "metadata": {
    "tags": []
   },
   "outputs": [
    {
     "name": "stdout",
     "output_type": "stream",
     "text": [
      "Fitting 5 folds for each of 6 candidates, totalling 30 fits\n",
      "Fitting 5 folds for each of 6 candidates, totalling 30 fits\n"
     ]
    },
    {
     "data": {
      "text/plain": [
       "GridSearchCV(cv=5, estimator=LogisticRegression(), n_jobs=-1,\n",
       "             param_grid={'C': [1e-05, 0.001, 0.1, 1.0, 10.0, 100.0]},\n",
       "             verbose=5)"
      ]
     },
     "execution_count": 73,
     "metadata": {},
     "output_type": "execute_result"
    }
   ],
   "source": [
    "param_grid_ = {'C': [1e-5, 1e-3, 1e-1, 1e0, 1e1, 1e2]}\n",
    "\n",
    "bow_search = GridSearchCV(LogisticRegression(), cv=5, param_grid=param_grid_, n_jobs = -1, verbose = 5)\n",
    "tfidf_search = GridSearchCV(LogisticRegression(), cv=5, param_grid=param_grid_, n_jobs = -1, verbose = 5)\n",
    "bow_search.fit(X_tr_bow, y_tr)\n",
    "tfidf_search.fit(X_tr_tfidf, y_tr)"
   ]
  },
  {
   "cell_type": "code",
   "execution_count": 74,
   "metadata": {},
   "outputs": [
    {
     "data": {
      "text/plain": [
       "{'C': 0.1}"
      ]
     },
     "execution_count": 74,
     "metadata": {},
     "output_type": "execute_result"
    }
   ],
   "source": [
    "bow_search.best_params_"
   ]
  },
  {
   "cell_type": "code",
   "execution_count": 75,
   "metadata": {},
   "outputs": [
    {
     "data": {
      "text/plain": [
       "{'C': 0.001}"
      ]
     },
     "execution_count": 75,
     "metadata": {},
     "output_type": "execute_result"
    }
   ],
   "source": [
    "tfidf_search.best_params_"
   ]
  },
  {
   "cell_type": "code",
   "execution_count": 77,
   "metadata": {},
   "outputs": [
    {
     "name": "stdout",
     "output_type": "stream",
     "text": [
      "Test Score with bow features 0.51\n",
      "Test Score with tfidf features 0.5131111111111111\n"
     ]
    }
   ],
   "source": [
    "logistic_model_bow = simple_logistic_classify(X_tr_bow, y_tr, X_te_bow, y_te, \"bow\", _C=0.1)\n",
    "logistic_model_tfidf =  simple_logistic_classify(X_tr_bow, y_tr, X_te_bow, y_te, \"tfidf\",_C=0.001)"
   ]
  },
  {
   "cell_type": "code",
   "execution_count": 79,
   "metadata": {},
   "outputs": [
    {
     "name": "stdout",
     "output_type": "stream",
     "text": [
      "---------------- BOW ----------------\n",
      "Exactitud sobre entrenamiento: 0.92\n",
      "Exactitud sobre test: 0.51\n",
      "              precision    recall  f1-score   support\n",
      "\n",
      "         0.0       0.50      0.18      0.27      2200\n",
      "         1.0       0.51      0.82      0.63      2300\n",
      "\n",
      "    accuracy                           0.51      4500\n",
      "   macro avg       0.50      0.50      0.45      4500\n",
      "weighted avg       0.51      0.51      0.45      4500\n",
      "\n",
      "---------------- TFIDF ----------------\n",
      "Exactitud sobre entrenamiento: 0.80\n",
      "Exactitud sobre test: 0.51\n",
      "              precision    recall  f1-score   support\n",
      "\n",
      "         0.0       0.49      0.06      0.11      2200\n",
      "         1.0       0.51      0.94      0.66      2300\n",
      "\n",
      "    accuracy                           0.51      4500\n",
      "   macro avg       0.50      0.50      0.39      4500\n",
      "weighted avg       0.50      0.51      0.39      4500\n",
      "\n"
     ]
    }
   ],
   "source": [
    "y_pred_train = logistic_model_bow.predict(X_tr_bow)\n",
    "y_pred_test = logistic_model_bow.predict(X_te_bow)\n",
    "\n",
    "print(\"---------------- BOW ----------------\")\n",
    "print('Exactitud sobre entrenamiento: %.2f' % accuracy_score(y_tr, y_pred_train))\n",
    "print('Exactitud sobre test: %.2f' % accuracy_score(y_te, y_pred_test))\n",
    "print(classification_report(y_te, y_pred_test))\n",
    "\n",
    "precision, recall, fscore, _ = score(y_te, y_pred_test)\n",
    "\n",
    "new_data = pd.DataFrame({'Modelo': ['logistic BOW'],\n",
    "                         'label':  ['Negativo'],\n",
    "                         'F1 score': [fscore[0]],\n",
    "                         'precision': [precision[0]],\n",
    "                         'recall': [recall[0]],\n",
    "                        })\n",
    "df_results = pd.concat([df_results, new_data], ignore_index = True, axis = 0)\n",
    "new_data = pd.DataFrame({'Modelo': ['logistic BOW'],\n",
    "                         'label':  ['Nulo'],\n",
    "                         'F1 score': [fscore[1]],\n",
    "                         'precision': [precision[1]],\n",
    "                         'recall': [recall[1]],\n",
    "                        })\n",
    "df_results = pd.concat([df_results, new_data], ignore_index = True, axis = 0)\n",
    "\n",
    "y_pred_train = logistic_model_tfidf.predict(X_tr_tfidf)\n",
    "y_pred_test = logistic_model_tfidf.predict(X_te_tfidf)\n",
    "\n",
    "print(\"---------------- TFIDF ----------------\")\n",
    "print('Exactitud sobre entrenamiento: %.2f' % accuracy_score(y_tr, y_pred_train))\n",
    "print('Exactitud sobre test: %.2f' % accuracy_score(y_te, y_pred_test))\n",
    "print(classification_report(y_te, y_pred_test))\n",
    "\n",
    "precision, recall, fscore, _ = score(y_te, y_pred_test)\n",
    "\n",
    "new_data = pd.DataFrame({'Modelo': ['logistic TFIDF'],\n",
    "                         'label':  ['Negativo'],\n",
    "                         'F1 score': [fscore[0]],\n",
    "                         'precision': [precision[0]],\n",
    "                         'recall': [recall[0]],\n",
    "                        })\n",
    "df_results = pd.concat([df_results, new_data], ignore_index = True, axis = 0)\n",
    "new_data = pd.DataFrame({'Modelo': ['logistic TFIDF'],\n",
    "                         'label':  ['Nulo'],\n",
    "                         'F1 score': [fscore[1]],\n",
    "                         'precision': [precision[1]],\n",
    "                         'recall': [recall[1]],\n",
    "                        })\n",
    "df_results = pd.concat([df_results, new_data], ignore_index = True, axis = 0)"
   ]
  },
  {
   "cell_type": "code",
   "execution_count": 80,
   "metadata": {},
   "outputs": [
    {
     "data": {
      "image/png": "[encoded data removed]",
      "text/plain": [
       "<Figure size 432x288 with 2 Axes>"
      ]
     },
     "metadata": {},
     "output_type": "display_data"
    }
   ],
   "source": [
    "# Se puede visualizar la matriz de confusión\n",
    "confusion_matrix(y_te, y_pred_test)\n",
    "plot_confusion_matrix(logistic_model_bow, X_te_bow, y_te)  \n",
    "plt.show()"
   ]
  },
  {
   "cell_type": "code",
   "execution_count": 81,
   "metadata": {},
   "outputs": [
    {
     "data": {
      "image/png": "[encoded data removed]",
      "text/plain": [
       "<Figure size 432x288 with 2 Axes>"
      ]
     },
     "metadata": {},
     "output_type": "display_data"
    }
   ],
   "source": [
    "# Se puede visualizar la matriz de confusión\n",
    "confusion_matrix(y_te, y_pred_test)\n",
    "plot_confusion_matrix(logistic_model_tfidf, X_te_tfidf, y_te)  \n",
    "plt.show()"
   ]
  },
  {
   "cell_type": "markdown",
   "metadata": {},
   "source": [
    "# Interpretación y analisis de resultados\n",
    "\n",
    "Se muestran graficas en las que se puede comparar el resultado obtenido para cada uno de los modelos implementados, asi se puede elegir el modelo con mayor desempeño"
   ]
  },
  {
   "cell_type": "code",
   "execution_count": 82,
   "metadata": {},
   "outputs": [
    {
     "data": {
      "text/html": [
       "<div>\n",
       "<style scoped>\n",
       "    .dataframe tbody tr th:only-of-type {\n",
       "        vertical-align: middle;\n",
       "    }\n",
       "\n",
       "    .dataframe tbody tr th {\n",
       "        vertical-align: top;\n",
       "    }\n",
       "\n",
       "    .dataframe thead th {\n",
       "        text-align: right;\n",
       "    }\n",
       "</style>\n",
       "<table border=\"1\" class=\"dataframe\">\n",
       "  <thead>\n",
       "    <tr style=\"text-align: right;\">\n",
       "      <th></th>\n",
       "      <th>Modelo</th>\n",
       "      <th>label</th>\n",
       "      <th>F1 score</th>\n",
       "      <th>precision</th>\n",
       "      <th>recall</th>\n",
       "    </tr>\n",
       "  </thead>\n",
       "  <tbody>\n",
       "    <tr>\n",
       "      <th>0</th>\n",
       "      <td>KNN BOW</td>\n",
       "      <td>Negativo</td>\n",
       "      <td>0.205128</td>\n",
       "      <td>0.528302</td>\n",
       "      <td>0.127273</td>\n",
       "    </tr>\n",
       "    <tr>\n",
       "      <th>1</th>\n",
       "      <td>KNN BOW</td>\n",
       "      <td>Nulo</td>\n",
       "      <td>0.653907</td>\n",
       "      <td>0.516373</td>\n",
       "      <td>0.891304</td>\n",
       "    </tr>\n",
       "    <tr>\n",
       "      <th>2</th>\n",
       "      <td>KNN TFIDF</td>\n",
       "      <td>Negativo</td>\n",
       "      <td>0.640403</td>\n",
       "      <td>0.490111</td>\n",
       "      <td>0.923636</td>\n",
       "    </tr>\n",
       "    <tr>\n",
       "      <th>3</th>\n",
       "      <td>KNN TFIDF</td>\n",
       "      <td>Nulo</td>\n",
       "      <td>0.140166</td>\n",
       "      <td>0.525424</td>\n",
       "      <td>0.080870</td>\n",
       "    </tr>\n",
       "    <tr>\n",
       "      <th>4</th>\n",
       "      <td>GNB BOW</td>\n",
       "      <td>Negativo</td>\n",
       "      <td>0.631890</td>\n",
       "      <td>0.494353</td>\n",
       "      <td>0.875455</td>\n",
       "    </tr>\n",
       "    <tr>\n",
       "      <th>5</th>\n",
       "      <td>GNB BOW</td>\n",
       "      <td>Nulo</td>\n",
       "      <td>0.227273</td>\n",
       "      <td>0.546358</td>\n",
       "      <td>0.143478</td>\n",
       "    </tr>\n",
       "    <tr>\n",
       "      <th>6</th>\n",
       "      <td>GNB TFIDF</td>\n",
       "      <td>Negativo</td>\n",
       "      <td>0.631614</td>\n",
       "      <td>0.494596</td>\n",
       "      <td>0.873636</td>\n",
       "    </tr>\n",
       "    <tr>\n",
       "      <th>7</th>\n",
       "      <td>GNB TFIDF</td>\n",
       "      <td>Nulo</td>\n",
       "      <td>0.230611</td>\n",
       "      <td>0.547231</td>\n",
       "      <td>0.146087</td>\n",
       "    </tr>\n",
       "    <tr>\n",
       "      <th>8</th>\n",
       "      <td>logistic BOW</td>\n",
       "      <td>Negativo</td>\n",
       "      <td>0.265734</td>\n",
       "      <td>0.496887</td>\n",
       "      <td>0.181364</td>\n",
       "    </tr>\n",
       "    <tr>\n",
       "      <th>9</th>\n",
       "      <td>logistic BOW</td>\n",
       "      <td>Nulo</td>\n",
       "      <td>0.632316</td>\n",
       "      <td>0.512848</td>\n",
       "      <td>0.824348</td>\n",
       "    </tr>\n",
       "    <tr>\n",
       "      <th>10</th>\n",
       "      <td>logistic TFIDF</td>\n",
       "      <td>Negativo</td>\n",
       "      <td>0.113481</td>\n",
       "      <td>0.494737</td>\n",
       "      <td>0.064091</td>\n",
       "    </tr>\n",
       "    <tr>\n",
       "      <th>11</th>\n",
       "      <td>logistic TFIDF</td>\n",
       "      <td>Nulo</td>\n",
       "      <td>0.661857</td>\n",
       "      <td>0.511507</td>\n",
       "      <td>0.937391</td>\n",
       "    </tr>\n",
       "  </tbody>\n",
       "</table>\n",
       "</div>"
      ],
      "text/plain": [
       "            Modelo     label  F1 score  precision    recall\n",
       "0          KNN BOW  Negativo  0.205128   0.528302  0.127273\n",
       "1          KNN BOW      Nulo  0.653907   0.516373  0.891304\n",
       "2        KNN TFIDF  Negativo  0.640403   0.490111  0.923636\n",
       "3        KNN TFIDF      Nulo  0.140166   0.525424  0.080870\n",
       "4          GNB BOW  Negativo  0.631890   0.494353  0.875455\n",
       "5          GNB BOW      Nulo  0.227273   0.546358  0.143478\n",
       "6        GNB TFIDF  Negativo  0.631614   0.494596  0.873636\n",
       "7        GNB TFIDF      Nulo  0.230611   0.547231  0.146087\n",
       "8     logistic BOW  Negativo  0.265734   0.496887  0.181364\n",
       "9     logistic BOW      Nulo  0.632316   0.512848  0.824348\n",
       "10  logistic TFIDF  Negativo  0.113481   0.494737  0.064091\n",
       "11  logistic TFIDF      Nulo  0.661857   0.511507  0.937391"
      ]
     },
     "execution_count": 82,
     "metadata": {},
     "output_type": "execute_result"
    }
   ],
   "source": [
    "df_results"
   ]
  },
  {
   "cell_type": "code",
   "execution_count": 83,
   "metadata": {},
   "outputs": [
    {
     "data": {
      "text/plain": [
       "<AxesSubplot:xlabel='Modelo', ylabel='recall'>"
      ]
     },
     "execution_count": 83,
     "metadata": {},
     "output_type": "execute_result"
    },
    {
     "data": {
      "image/png": "[encoded data removed]",
      "text/plain": [
       "<Figure size 1440x1152 with 3 Axes>"
      ]
     },
     "metadata": {},
     "output_type": "display_data"
    }
   ],
   "source": [
    "fig, axes = plt.subplots(3, 1, figsize=(20,16))\n",
    "sns.barplot(x=\"Modelo\", y=\"F1 score\", hue='label', data=df_results, ax=axes[0])\n",
    "sns.barplot(x=\"Modelo\", y=\"precision\", hue='label', data=df_results, ax=axes[1])\n",
    "sns.barplot(x=\"Modelo\", y=\"recall\", hue='label', data=df_results, ax=axes[2])"
   ]
  },
  {
   "cell_type": "markdown",
   "metadata": {},
   "source": [
    "# Modelo final"
   ]
  },
  {
   "cell_type": "markdown",
   "metadata": {},
   "source": [
    "# Conslusiones y recomendaciones"
   ]
  }
 ],
 "metadata": {
  "kernelspec": {
   "display_name": "Python 3",
   "language": "python",
   "name": "python3"
  },
  "language_info": {
   "codemirror_mode": {
    "name": "ipython",
    "version": 3
   },
   "file_extension": ".py",
   "mimetype": "text/x-python",
   "name": "python",
   "nbconvert_exporter": "python",
   "pygments_lexer": "ipython3",
   "version": "3.8.9"
  }
 },
 "nbformat": 4,
 "nbformat_minor": 4
}
